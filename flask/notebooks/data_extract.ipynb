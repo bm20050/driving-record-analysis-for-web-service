{
 "cells": [
  {
   "cell_type": "code",
   "execution_count": 1,
   "metadata": {
    "collapsed": true,
    "ExecuteTime": {
     "end_time": "2023-05-09T10:22:30.150649500Z",
     "start_time": "2023-05-09T10:22:29.874305200Z"
    }
   },
   "outputs": [],
   "source": [
    "import pandas as pd\n",
    "import numpy as np\n",
    "\n",
    "df = pd.read_csv('../data/slice_data_1854.csv')"
   ]
  },
  {
   "cell_type": "code",
   "execution_count": 2,
   "outputs": [],
   "source": [
    "lst1 = []\n",
    "year = []\n",
    "month = []\n",
    "day = []\n",
    "hour = []\n",
    "minute = []\n",
    "lst2 = []\n",
    "lst3 = []\n",
    "lst4 = []\n",
    "for i in df.index:\n",
    "    s = df['정보발생일시'][i]\n",
    "    s = str(s)\n",
    "    if s[-4:] == '0000':\n",
    "        lst1.append(s)\n",
    "        year.append(s[:2])\n",
    "        month.append(s[2:4])\n",
    "        day.append(s[4:6])\n",
    "        hour.append(s[6:8])\n",
    "        minute.append(s[8:10])\n",
    "        lst2.append(df['차량속도'][i])\n",
    "        lst3.append(df['GPS_X'][i])\n",
    "        lst4.append(df['GPS_Y'][i])\n",
    "\n",
    "temp_df = pd.DataFrame({'정보발생일시': lst1, '년': year, '월': month, '일': day, '시': hour, '분': minute, '차량속도': lst2, 'GPS_X': lst3, 'GPS_Y': lst4})\n",
    "temp_df.to_csv('../data/extract_minute.csv', index=False)"
   ],
   "metadata": {
    "collapsed": false,
    "ExecuteTime": {
     "end_time": "2023-05-09T10:22:31.202663300Z",
     "start_time": "2023-05-09T10:22:31.091799900Z"
    }
   }
  },
  {
   "cell_type": "code",
   "execution_count": 3,
   "outputs": [],
   "source": [
    "df = pd.read_csv('../data/extract_minute.csv')"
   ],
   "metadata": {
    "collapsed": false,
    "ExecuteTime": {
     "end_time": "2023-05-09T10:22:32.266332800Z",
     "start_time": "2023-05-09T10:22:32.250624600Z"
    }
   }
  },
  {
   "cell_type": "code",
   "execution_count": 4,
   "outputs": [
    {
     "data": {
      "text/plain": "             정보발생일시   년   월  일   시   분  차량속도      GPS_X     GPS_Y\n0    22120105080000  22  12  1   5   8     0  129158670  35236021\n1    22120105090000  22  12  1   5   9     0  129158670  35236021\n2    22120105100000  22  12  1   5  10     0  129158625  35235989\n3    22120105110000  22  12  1   5  11     0  129158625  35235989\n4    22120105120000  22  12  1   5  12     0  129158625  35235989\n..              ...  ..  .. ..  ..  ..   ...        ...       ...\n393  22120117300000  22  12  1  17  30     0  129158511  35236275\n394  22120117310000  22  12  1  17  31     0  129158511  35236275\n395  22120117320000  22  12  1  17  32     0  129158511  35236275\n396  22120117330000  22  12  1  17  33     1  129158408  35236046\n397  22120117510000  22  12  1  17  51     0  129158370  35235965\n\n[398 rows x 9 columns]",
      "text/html": "<div>\n<style scoped>\n    .dataframe tbody tr th:only-of-type {\n        vertical-align: middle;\n    }\n\n    .dataframe tbody tr th {\n        vertical-align: top;\n    }\n\n    .dataframe thead th {\n        text-align: right;\n    }\n</style>\n<table border=\"1\" class=\"dataframe\">\n  <thead>\n    <tr style=\"text-align: right;\">\n      <th></th>\n      <th>정보발생일시</th>\n      <th>년</th>\n      <th>월</th>\n      <th>일</th>\n      <th>시</th>\n      <th>분</th>\n      <th>차량속도</th>\n      <th>GPS_X</th>\n      <th>GPS_Y</th>\n    </tr>\n  </thead>\n  <tbody>\n    <tr>\n      <th>0</th>\n      <td>22120105080000</td>\n      <td>22</td>\n      <td>12</td>\n      <td>1</td>\n      <td>5</td>\n      <td>8</td>\n      <td>0</td>\n      <td>129158670</td>\n      <td>35236021</td>\n    </tr>\n    <tr>\n      <th>1</th>\n      <td>22120105090000</td>\n      <td>22</td>\n      <td>12</td>\n      <td>1</td>\n      <td>5</td>\n      <td>9</td>\n      <td>0</td>\n      <td>129158670</td>\n      <td>35236021</td>\n    </tr>\n    <tr>\n      <th>2</th>\n      <td>22120105100000</td>\n      <td>22</td>\n      <td>12</td>\n      <td>1</td>\n      <td>5</td>\n      <td>10</td>\n      <td>0</td>\n      <td>129158625</td>\n      <td>35235989</td>\n    </tr>\n    <tr>\n      <th>3</th>\n      <td>22120105110000</td>\n      <td>22</td>\n      <td>12</td>\n      <td>1</td>\n      <td>5</td>\n      <td>11</td>\n      <td>0</td>\n      <td>129158625</td>\n      <td>35235989</td>\n    </tr>\n    <tr>\n      <th>4</th>\n      <td>22120105120000</td>\n      <td>22</td>\n      <td>12</td>\n      <td>1</td>\n      <td>5</td>\n      <td>12</td>\n      <td>0</td>\n      <td>129158625</td>\n      <td>35235989</td>\n    </tr>\n    <tr>\n      <th>...</th>\n      <td>...</td>\n      <td>...</td>\n      <td>...</td>\n      <td>...</td>\n      <td>...</td>\n      <td>...</td>\n      <td>...</td>\n      <td>...</td>\n      <td>...</td>\n    </tr>\n    <tr>\n      <th>393</th>\n      <td>22120117300000</td>\n      <td>22</td>\n      <td>12</td>\n      <td>1</td>\n      <td>17</td>\n      <td>30</td>\n      <td>0</td>\n      <td>129158511</td>\n      <td>35236275</td>\n    </tr>\n    <tr>\n      <th>394</th>\n      <td>22120117310000</td>\n      <td>22</td>\n      <td>12</td>\n      <td>1</td>\n      <td>17</td>\n      <td>31</td>\n      <td>0</td>\n      <td>129158511</td>\n      <td>35236275</td>\n    </tr>\n    <tr>\n      <th>395</th>\n      <td>22120117320000</td>\n      <td>22</td>\n      <td>12</td>\n      <td>1</td>\n      <td>17</td>\n      <td>32</td>\n      <td>0</td>\n      <td>129158511</td>\n      <td>35236275</td>\n    </tr>\n    <tr>\n      <th>396</th>\n      <td>22120117330000</td>\n      <td>22</td>\n      <td>12</td>\n      <td>1</td>\n      <td>17</td>\n      <td>33</td>\n      <td>1</td>\n      <td>129158408</td>\n      <td>35236046</td>\n    </tr>\n    <tr>\n      <th>397</th>\n      <td>22120117510000</td>\n      <td>22</td>\n      <td>12</td>\n      <td>1</td>\n      <td>17</td>\n      <td>51</td>\n      <td>0</td>\n      <td>129158370</td>\n      <td>35235965</td>\n    </tr>\n  </tbody>\n</table>\n<p>398 rows × 9 columns</p>\n</div>"
     },
     "execution_count": 4,
     "metadata": {},
     "output_type": "execute_result"
    }
   ],
   "source": [
    "df"
   ],
   "metadata": {
    "collapsed": false,
    "ExecuteTime": {
     "end_time": "2023-05-09T10:22:33.278376500Z",
     "start_time": "2023-05-09T10:22:33.232169800Z"
    }
   }
  },
  {
   "cell_type": "code",
   "execution_count": 5,
   "outputs": [],
   "source": [
    "gps_x = np.array(df['GPS_X']) / 1000000\n",
    "gps_y = np.array(df['GPS_Y']) / 1000000\n",
    "gps_x = gps_x.tolist()\n",
    "gps_y = gps_y.tolist()\n",
    "df['gps_x'] = gps_x\n",
    "df['gps_y'] = gps_y\n",
    "del df['GPS_X']\n",
    "del df['GPS_Y']"
   ],
   "metadata": {
    "collapsed": false,
    "ExecuteTime": {
     "end_time": "2023-05-09T10:22:35.858647600Z",
     "start_time": "2023-05-09T10:22:35.848614100Z"
    }
   }
  },
  {
   "cell_type": "code",
   "execution_count": 6,
   "outputs": [
    {
     "data": {
      "text/plain": "<pandas.core.groupby.generic.DataFrameGroupBy object at 0x0000020A0D1927A0>"
     },
     "execution_count": 6,
     "metadata": {},
     "output_type": "execute_result"
    }
   ],
   "source": [
    "group_hour = df.groupby('시')\n",
    "group_hour"
   ],
   "metadata": {
    "collapsed": false,
    "ExecuteTime": {
     "end_time": "2023-05-09T10:22:39.305993100Z",
     "start_time": "2023-05-09T10:22:39.274701500Z"
    }
   }
  },
  {
   "cell_type": "code",
   "execution_count": 8,
   "outputs": [
    {
     "data": {
      "text/plain": "          정보발생일시     년     월    일          분       차량속도       gps_x      gps_y\n시                                                                             \n5   2.212011e+13  22.0  12.0  1.0  33.500000  14.019231  129.138909  35.199676\n6   2.212011e+13  22.0  12.0  1.0  29.500000  12.600000  129.171295  35.168278\n7   2.212011e+13  22.0  12.0  1.0  28.000000  12.666667  129.138117  35.206066\n8   2.212011e+13  22.0  12.0  1.0   5.000000   9.000000  129.158473  35.236166\n9   2.212011e+13  22.0  12.0  1.0  58.000000   0.000000  129.158528  35.236211\n10  2.212011e+13  22.0  12.0  1.0  14.000000  25.827586  129.184779  35.244849\n11  2.212011e+13  22.0  12.0  1.0  52.500000   3.500000  129.158681  35.236114\n12  2.212011e+13  22.0  12.0  1.0  31.000000  10.877193  129.138147  35.204770\n13  2.212011e+13  22.0  12.0  1.0  29.500000  12.550000  129.169633  35.167089\n14  2.212011e+13  22.0  12.0  1.0  29.500000  14.766667  129.145950  35.182955\n15  2.212012e+13  22.0  12.0  1.0   5.000000   9.636364  129.149672  35.228324\n17  2.212012e+13  22.0  12.0  1.0  34.333333   0.166667  129.158470  35.236185",
      "text/html": "<div>\n<style scoped>\n    .dataframe tbody tr th:only-of-type {\n        vertical-align: middle;\n    }\n\n    .dataframe tbody tr th {\n        vertical-align: top;\n    }\n\n    .dataframe thead th {\n        text-align: right;\n    }\n</style>\n<table border=\"1\" class=\"dataframe\">\n  <thead>\n    <tr style=\"text-align: right;\">\n      <th></th>\n      <th>정보발생일시</th>\n      <th>년</th>\n      <th>월</th>\n      <th>일</th>\n      <th>분</th>\n      <th>차량속도</th>\n      <th>gps_x</th>\n      <th>gps_y</th>\n    </tr>\n    <tr>\n      <th>시</th>\n      <th></th>\n      <th></th>\n      <th></th>\n      <th></th>\n      <th></th>\n      <th></th>\n      <th></th>\n      <th></th>\n    </tr>\n  </thead>\n  <tbody>\n    <tr>\n      <th>5</th>\n      <td>2.212011e+13</td>\n      <td>22.0</td>\n      <td>12.0</td>\n      <td>1.0</td>\n      <td>33.500000</td>\n      <td>14.019231</td>\n      <td>129.138909</td>\n      <td>35.199676</td>\n    </tr>\n    <tr>\n      <th>6</th>\n      <td>2.212011e+13</td>\n      <td>22.0</td>\n      <td>12.0</td>\n      <td>1.0</td>\n      <td>29.500000</td>\n      <td>12.600000</td>\n      <td>129.171295</td>\n      <td>35.168278</td>\n    </tr>\n    <tr>\n      <th>7</th>\n      <td>2.212011e+13</td>\n      <td>22.0</td>\n      <td>12.0</td>\n      <td>1.0</td>\n      <td>28.000000</td>\n      <td>12.666667</td>\n      <td>129.138117</td>\n      <td>35.206066</td>\n    </tr>\n    <tr>\n      <th>8</th>\n      <td>2.212011e+13</td>\n      <td>22.0</td>\n      <td>12.0</td>\n      <td>1.0</td>\n      <td>5.000000</td>\n      <td>9.000000</td>\n      <td>129.158473</td>\n      <td>35.236166</td>\n    </tr>\n    <tr>\n      <th>9</th>\n      <td>2.212011e+13</td>\n      <td>22.0</td>\n      <td>12.0</td>\n      <td>1.0</td>\n      <td>58.000000</td>\n      <td>0.000000</td>\n      <td>129.158528</td>\n      <td>35.236211</td>\n    </tr>\n    <tr>\n      <th>10</th>\n      <td>2.212011e+13</td>\n      <td>22.0</td>\n      <td>12.0</td>\n      <td>1.0</td>\n      <td>14.000000</td>\n      <td>25.827586</td>\n      <td>129.184779</td>\n      <td>35.244849</td>\n    </tr>\n    <tr>\n      <th>11</th>\n      <td>2.212011e+13</td>\n      <td>22.0</td>\n      <td>12.0</td>\n      <td>1.0</td>\n      <td>52.500000</td>\n      <td>3.500000</td>\n      <td>129.158681</td>\n      <td>35.236114</td>\n    </tr>\n    <tr>\n      <th>12</th>\n      <td>2.212011e+13</td>\n      <td>22.0</td>\n      <td>12.0</td>\n      <td>1.0</td>\n      <td>31.000000</td>\n      <td>10.877193</td>\n      <td>129.138147</td>\n      <td>35.204770</td>\n    </tr>\n    <tr>\n      <th>13</th>\n      <td>2.212011e+13</td>\n      <td>22.0</td>\n      <td>12.0</td>\n      <td>1.0</td>\n      <td>29.500000</td>\n      <td>12.550000</td>\n      <td>129.169633</td>\n      <td>35.167089</td>\n    </tr>\n    <tr>\n      <th>14</th>\n      <td>2.212011e+13</td>\n      <td>22.0</td>\n      <td>12.0</td>\n      <td>1.0</td>\n      <td>29.500000</td>\n      <td>14.766667</td>\n      <td>129.145950</td>\n      <td>35.182955</td>\n    </tr>\n    <tr>\n      <th>15</th>\n      <td>2.212012e+13</td>\n      <td>22.0</td>\n      <td>12.0</td>\n      <td>1.0</td>\n      <td>5.000000</td>\n      <td>9.636364</td>\n      <td>129.149672</td>\n      <td>35.228324</td>\n    </tr>\n    <tr>\n      <th>17</th>\n      <td>2.212012e+13</td>\n      <td>22.0</td>\n      <td>12.0</td>\n      <td>1.0</td>\n      <td>34.333333</td>\n      <td>0.166667</td>\n      <td>129.158470</td>\n      <td>35.236185</td>\n    </tr>\n  </tbody>\n</table>\n</div>"
     },
     "execution_count": 8,
     "metadata": {},
     "output_type": "execute_result"
    }
   ],
   "source": [
    "group_hour.mean()"
   ],
   "metadata": {
    "collapsed": false,
    "ExecuteTime": {
     "end_time": "2023-05-09T10:22:41.045236800Z",
     "start_time": "2023-05-09T10:22:40.998282300Z"
    }
   }
  },
  {
   "cell_type": "code",
   "execution_count": 19,
   "outputs": [],
   "source": [
    "velocity = df.groupby('시', as_index=False).agg({\"시\": \"first\", \"년\": \"first\", \"월\": \"first\", \"일\": \"first\", \"차량속도\": \"mean\"})"
   ],
   "metadata": {
    "collapsed": false,
    "ExecuteTime": {
     "end_time": "2023-05-09T10:32:50.952607800Z",
     "start_time": "2023-05-09T10:32:50.936892600Z"
    }
   }
  },
  {
   "cell_type": "code",
   "execution_count": 20,
   "outputs": [],
   "source": [
    "velocity.to_csv('../data/hour_mean_velocity.csv', index=False)"
   ],
   "metadata": {
    "collapsed": false,
    "ExecuteTime": {
     "end_time": "2023-05-09T10:32:52.021499700Z",
     "start_time": "2023-05-09T10:32:52.005536100Z"
    }
   }
  },
  {
   "cell_type": "code",
   "execution_count": null,
   "outputs": [],
   "source": [],
   "metadata": {
    "collapsed": false
   }
  }
 ],
 "metadata": {
  "kernelspec": {
   "display_name": "Python 3",
   "language": "python",
   "name": "python3"
  },
  "language_info": {
   "codemirror_mode": {
    "name": "ipython",
    "version": 2
   },
   "file_extension": ".py",
   "mimetype": "text/x-python",
   "name": "python",
   "nbconvert_exporter": "python",
   "pygments_lexer": "ipython2",
   "version": "2.7.6"
  }
 },
 "nbformat": 4,
 "nbformat_minor": 0
}
