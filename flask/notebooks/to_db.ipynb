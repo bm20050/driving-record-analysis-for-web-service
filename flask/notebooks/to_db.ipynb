{
 "cells": [
  {
   "cell_type": "code",
   "execution_count": 1,
   "metadata": {
    "collapsed": true,
    "ExecuteTime": {
     "end_time": "2023-05-23T07:50:16.932112600Z",
     "start_time": "2023-05-23T07:50:16.496005200Z"
    }
   },
   "outputs": [],
   "source": [
    "import pandas as pd"
   ]
  },
  {
   "cell_type": "code",
   "execution_count": 2,
   "outputs": [],
   "source": [
    "df = pd.read_csv('../data/to_db.csv')"
   ],
   "metadata": {
    "collapsed": false,
    "ExecuteTime": {
     "end_time": "2023-05-23T07:50:36.156838400Z",
     "start_time": "2023-05-23T07:50:27.431908700Z"
    }
   }
  },
  {
   "cell_type": "code",
   "execution_count": 3,
   "outputs": [
    {
     "data": {
      "text/plain": "               날짜        번호판  일일주행거리   누적주행거리          정보발생일시  차량속도  RPM   \n0        20221201  부산70자1854       0    66443  22120105071500     0  193  \\\n1        20221201  부산70자1854       0    66443  22120105071600     0  388   \n2        20221201  부산70자1854       0    66443  22120105071700     0  777   \n3        20221201  부산70자1854       0    66443  22120105071800     0  638   \n4        20221201  부산70자1854       0    66443  22120105071900     0  461   \n...           ...        ...     ...      ...             ...   ...  ...   \n5948207  20221231  부산70자1894     176  3095705  22123121033800     0  331   \n5948208  20221231  부산70자1894     176  3095705  22123121033900     0   59   \n5948209  20221231  부산70자1894     176  3095705  22123121034000     0    0   \n5948210  20221231  부산70자1894     176  3095705  22123121034100     0    0   \n5948211  20221231  부산70자1894     176  3095705  22123121034200     0    0   \n\n         브레이크       GPS_X      GPS_Y  ...  가속도_Y  급가속  급출발  급감속  급정지  seq   년   \n0           0  129.158670  35.236021  ...    0.7    0    0    0    0   -1  22  \\\n1           0  129.158670  35.236021  ...    1.6    0    0    0    0   -1  22   \n2           0  129.158670  35.236021  ...    2.2    0    0    0    0   -1  22   \n3           0  129.158670  35.236021  ...    0.8    0    0    0    0   -1  22   \n4           0  129.158670  35.236021  ...    0.8    0    0    0    0   -1  22   \n...       ...         ...        ...  ...    ...  ...  ...  ...  ...  ...  ..   \n5948207     0  129.158597  35.235956  ...   -1.2    0    0    0    0   -1  22   \n5948208     0  129.158597  35.235956  ...   -1.4    0    0    0    0   -1  22   \n5948209     0  129.158597  35.235956  ...   -1.0    0    0    0    0   -1  22   \n5948210     0  129.158597  35.235956  ...   -0.9    0    0    0    0   -1  22   \n5948211     0  129.158597  35.235956  ...   -0.9    0    0    0    0   -1  22   \n\n          월   일   시  \n0        12   1   5  \n1        12   1   5  \n2        12   1   5  \n3        12   1   5  \n4        12   1   5  \n...      ..  ..  ..  \n5948207  12  31  21  \n5948208  12  31  21  \n5948209  12  31  21  \n5948210  12  31  21  \n5948211  12  31  21  \n\n[5948212 rows x 22 columns]",
      "text/html": "<div>\n<style scoped>\n    .dataframe tbody tr th:only-of-type {\n        vertical-align: middle;\n    }\n\n    .dataframe tbody tr th {\n        vertical-align: top;\n    }\n\n    .dataframe thead th {\n        text-align: right;\n    }\n</style>\n<table border=\"1\" class=\"dataframe\">\n  <thead>\n    <tr style=\"text-align: right;\">\n      <th></th>\n      <th>날짜</th>\n      <th>번호판</th>\n      <th>일일주행거리</th>\n      <th>누적주행거리</th>\n      <th>정보발생일시</th>\n      <th>차량속도</th>\n      <th>RPM</th>\n      <th>브레이크</th>\n      <th>GPS_X</th>\n      <th>GPS_Y</th>\n      <th>...</th>\n      <th>가속도_Y</th>\n      <th>급가속</th>\n      <th>급출발</th>\n      <th>급감속</th>\n      <th>급정지</th>\n      <th>seq</th>\n      <th>년</th>\n      <th>월</th>\n      <th>일</th>\n      <th>시</th>\n    </tr>\n  </thead>\n  <tbody>\n    <tr>\n      <th>0</th>\n      <td>20221201</td>\n      <td>부산70자1854</td>\n      <td>0</td>\n      <td>66443</td>\n      <td>22120105071500</td>\n      <td>0</td>\n      <td>193</td>\n      <td>0</td>\n      <td>129.158670</td>\n      <td>35.236021</td>\n      <td>...</td>\n      <td>0.7</td>\n      <td>0</td>\n      <td>0</td>\n      <td>0</td>\n      <td>0</td>\n      <td>-1</td>\n      <td>22</td>\n      <td>12</td>\n      <td>1</td>\n      <td>5</td>\n    </tr>\n    <tr>\n      <th>1</th>\n      <td>20221201</td>\n      <td>부산70자1854</td>\n      <td>0</td>\n      <td>66443</td>\n      <td>22120105071600</td>\n      <td>0</td>\n      <td>388</td>\n      <td>0</td>\n      <td>129.158670</td>\n      <td>35.236021</td>\n      <td>...</td>\n      <td>1.6</td>\n      <td>0</td>\n      <td>0</td>\n      <td>0</td>\n      <td>0</td>\n      <td>-1</td>\n      <td>22</td>\n      <td>12</td>\n      <td>1</td>\n      <td>5</td>\n    </tr>\n    <tr>\n      <th>2</th>\n      <td>20221201</td>\n      <td>부산70자1854</td>\n      <td>0</td>\n      <td>66443</td>\n      <td>22120105071700</td>\n      <td>0</td>\n      <td>777</td>\n      <td>0</td>\n      <td>129.158670</td>\n      <td>35.236021</td>\n      <td>...</td>\n      <td>2.2</td>\n      <td>0</td>\n      <td>0</td>\n      <td>0</td>\n      <td>0</td>\n      <td>-1</td>\n      <td>22</td>\n      <td>12</td>\n      <td>1</td>\n      <td>5</td>\n    </tr>\n    <tr>\n      <th>3</th>\n      <td>20221201</td>\n      <td>부산70자1854</td>\n      <td>0</td>\n      <td>66443</td>\n      <td>22120105071800</td>\n      <td>0</td>\n      <td>638</td>\n      <td>0</td>\n      <td>129.158670</td>\n      <td>35.236021</td>\n      <td>...</td>\n      <td>0.8</td>\n      <td>0</td>\n      <td>0</td>\n      <td>0</td>\n      <td>0</td>\n      <td>-1</td>\n      <td>22</td>\n      <td>12</td>\n      <td>1</td>\n      <td>5</td>\n    </tr>\n    <tr>\n      <th>4</th>\n      <td>20221201</td>\n      <td>부산70자1854</td>\n      <td>0</td>\n      <td>66443</td>\n      <td>22120105071900</td>\n      <td>0</td>\n      <td>461</td>\n      <td>0</td>\n      <td>129.158670</td>\n      <td>35.236021</td>\n      <td>...</td>\n      <td>0.8</td>\n      <td>0</td>\n      <td>0</td>\n      <td>0</td>\n      <td>0</td>\n      <td>-1</td>\n      <td>22</td>\n      <td>12</td>\n      <td>1</td>\n      <td>5</td>\n    </tr>\n    <tr>\n      <th>...</th>\n      <td>...</td>\n      <td>...</td>\n      <td>...</td>\n      <td>...</td>\n      <td>...</td>\n      <td>...</td>\n      <td>...</td>\n      <td>...</td>\n      <td>...</td>\n      <td>...</td>\n      <td>...</td>\n      <td>...</td>\n      <td>...</td>\n      <td>...</td>\n      <td>...</td>\n      <td>...</td>\n      <td>...</td>\n      <td>...</td>\n      <td>...</td>\n      <td>...</td>\n      <td>...</td>\n    </tr>\n    <tr>\n      <th>5948207</th>\n      <td>20221231</td>\n      <td>부산70자1894</td>\n      <td>176</td>\n      <td>3095705</td>\n      <td>22123121033800</td>\n      <td>0</td>\n      <td>331</td>\n      <td>0</td>\n      <td>129.158597</td>\n      <td>35.235956</td>\n      <td>...</td>\n      <td>-1.2</td>\n      <td>0</td>\n      <td>0</td>\n      <td>0</td>\n      <td>0</td>\n      <td>-1</td>\n      <td>22</td>\n      <td>12</td>\n      <td>31</td>\n      <td>21</td>\n    </tr>\n    <tr>\n      <th>5948208</th>\n      <td>20221231</td>\n      <td>부산70자1894</td>\n      <td>176</td>\n      <td>3095705</td>\n      <td>22123121033900</td>\n      <td>0</td>\n      <td>59</td>\n      <td>0</td>\n      <td>129.158597</td>\n      <td>35.235956</td>\n      <td>...</td>\n      <td>-1.4</td>\n      <td>0</td>\n      <td>0</td>\n      <td>0</td>\n      <td>0</td>\n      <td>-1</td>\n      <td>22</td>\n      <td>12</td>\n      <td>31</td>\n      <td>21</td>\n    </tr>\n    <tr>\n      <th>5948209</th>\n      <td>20221231</td>\n      <td>부산70자1894</td>\n      <td>176</td>\n      <td>3095705</td>\n      <td>22123121034000</td>\n      <td>0</td>\n      <td>0</td>\n      <td>0</td>\n      <td>129.158597</td>\n      <td>35.235956</td>\n      <td>...</td>\n      <td>-1.0</td>\n      <td>0</td>\n      <td>0</td>\n      <td>0</td>\n      <td>0</td>\n      <td>-1</td>\n      <td>22</td>\n      <td>12</td>\n      <td>31</td>\n      <td>21</td>\n    </tr>\n    <tr>\n      <th>5948210</th>\n      <td>20221231</td>\n      <td>부산70자1894</td>\n      <td>176</td>\n      <td>3095705</td>\n      <td>22123121034100</td>\n      <td>0</td>\n      <td>0</td>\n      <td>0</td>\n      <td>129.158597</td>\n      <td>35.235956</td>\n      <td>...</td>\n      <td>-0.9</td>\n      <td>0</td>\n      <td>0</td>\n      <td>0</td>\n      <td>0</td>\n      <td>-1</td>\n      <td>22</td>\n      <td>12</td>\n      <td>31</td>\n      <td>21</td>\n    </tr>\n    <tr>\n      <th>5948211</th>\n      <td>20221231</td>\n      <td>부산70자1894</td>\n      <td>176</td>\n      <td>3095705</td>\n      <td>22123121034200</td>\n      <td>0</td>\n      <td>0</td>\n      <td>0</td>\n      <td>129.158597</td>\n      <td>35.235956</td>\n      <td>...</td>\n      <td>-0.9</td>\n      <td>0</td>\n      <td>0</td>\n      <td>0</td>\n      <td>0</td>\n      <td>-1</td>\n      <td>22</td>\n      <td>12</td>\n      <td>31</td>\n      <td>21</td>\n    </tr>\n  </tbody>\n</table>\n<p>5948212 rows × 22 columns</p>\n</div>"
     },
     "execution_count": 3,
     "metadata": {},
     "output_type": "execute_result"
    }
   ],
   "source": [
    "df"
   ],
   "metadata": {
    "collapsed": false,
    "ExecuteTime": {
     "end_time": "2023-05-23T07:50:37.506641300Z",
     "start_time": "2023-05-23T07:50:36.156838400Z"
    }
   }
  },
  {
   "cell_type": "code",
   "execution_count": 4,
   "outputs": [
    {
     "data": {
      "text/plain": "               날짜        번호판  일일주행거리   누적주행거리          정보발생일시  차량속도   RPM   \n3700000  20221219  부산70자1893      13  2022765  22121905210800    45  1476  \\\n3700001  20221219  부산70자1893      13  2022765  22121905210900    45  1615   \n3700002  20221219  부산70자1893      13  2022765  22121905211000    45  1684   \n3700003  20221219  부산70자1893      13  2022765  22121905211100    45  1639   \n3700004  20221219  부산70자1893      13  2022765  22121905211200    45  1607   \n...           ...        ...     ...      ...             ...   ...   ...   \n3700996  20221219  부산70자1893      18  2022770  22121905375500    29   733   \n3700997  20221219  부산70자1893      18  2022770  22121905375600    29   626   \n3700998  20221219  부산70자1893      18  2022770  22121905375700    29   587   \n3700999  20221219  부산70자1893      18  2022770  22121905375800    29   570   \n3701000  20221219  부산70자1893      18  2022770  22121905375900    29   560   \n\n         브레이크       GPS_X      GPS_Y  ...  가속도_Y  급가속  급출발  급감속  급정지  seq   년   \n3700000     0  129.148862  35.160889  ...  -17.6    0    0    0    0   -1  22  \\\n3700001     0  129.148986  35.160830  ...  -17.6    0    0    0    0   -1  22   \n3700002     0  129.149113  35.160770  ...  -17.6    0    0    0    0   -1  22   \n3700003     0  129.149384  35.160640  ...  -17.6    0    0    0    0   -1  22   \n3700004     0  129.149384  35.160640  ...  -17.6    0    0    0    0   -1  22   \n...       ...         ...        ...  ...    ...  ...  ...  ...  ...  ...  ..   \n3700996     0  129.182469  35.167495  ...  -17.6    0    0    0    0   -1  22   \n3700997     0  129.182453  35.167454  ...  -17.6    0    0    0    0   -1  22   \n3700998     0  129.182441  35.167419  ...  -17.6    0    0    0    0   -1  22   \n3700999     0  129.182435  35.167395  ...   13.2    0    0    0    0   -1  22   \n3701000     0  129.182434  35.167386  ...   13.2    0    0    0    0   -1  22   \n\n          월   일  시  \n3700000  12  19  5  \n3700001  12  19  5  \n3700002  12  19  5  \n3700003  12  19  5  \n3700004  12  19  5  \n...      ..  .. ..  \n3700996  12  19  5  \n3700997  12  19  5  \n3700998  12  19  5  \n3700999  12  19  5  \n3701000  12  19  5  \n\n[1001 rows x 22 columns]",
      "text/html": "<div>\n<style scoped>\n    .dataframe tbody tr th:only-of-type {\n        vertical-align: middle;\n    }\n\n    .dataframe tbody tr th {\n        vertical-align: top;\n    }\n\n    .dataframe thead th {\n        text-align: right;\n    }\n</style>\n<table border=\"1\" class=\"dataframe\">\n  <thead>\n    <tr style=\"text-align: right;\">\n      <th></th>\n      <th>날짜</th>\n      <th>번호판</th>\n      <th>일일주행거리</th>\n      <th>누적주행거리</th>\n      <th>정보발생일시</th>\n      <th>차량속도</th>\n      <th>RPM</th>\n      <th>브레이크</th>\n      <th>GPS_X</th>\n      <th>GPS_Y</th>\n      <th>...</th>\n      <th>가속도_Y</th>\n      <th>급가속</th>\n      <th>급출발</th>\n      <th>급감속</th>\n      <th>급정지</th>\n      <th>seq</th>\n      <th>년</th>\n      <th>월</th>\n      <th>일</th>\n      <th>시</th>\n    </tr>\n  </thead>\n  <tbody>\n    <tr>\n      <th>3700000</th>\n      <td>20221219</td>\n      <td>부산70자1893</td>\n      <td>13</td>\n      <td>2022765</td>\n      <td>22121905210800</td>\n      <td>45</td>\n      <td>1476</td>\n      <td>0</td>\n      <td>129.148862</td>\n      <td>35.160889</td>\n      <td>...</td>\n      <td>-17.6</td>\n      <td>0</td>\n      <td>0</td>\n      <td>0</td>\n      <td>0</td>\n      <td>-1</td>\n      <td>22</td>\n      <td>12</td>\n      <td>19</td>\n      <td>5</td>\n    </tr>\n    <tr>\n      <th>3700001</th>\n      <td>20221219</td>\n      <td>부산70자1893</td>\n      <td>13</td>\n      <td>2022765</td>\n      <td>22121905210900</td>\n      <td>45</td>\n      <td>1615</td>\n      <td>0</td>\n      <td>129.148986</td>\n      <td>35.160830</td>\n      <td>...</td>\n      <td>-17.6</td>\n      <td>0</td>\n      <td>0</td>\n      <td>0</td>\n      <td>0</td>\n      <td>-1</td>\n      <td>22</td>\n      <td>12</td>\n      <td>19</td>\n      <td>5</td>\n    </tr>\n    <tr>\n      <th>3700002</th>\n      <td>20221219</td>\n      <td>부산70자1893</td>\n      <td>13</td>\n      <td>2022765</td>\n      <td>22121905211000</td>\n      <td>45</td>\n      <td>1684</td>\n      <td>0</td>\n      <td>129.149113</td>\n      <td>35.160770</td>\n      <td>...</td>\n      <td>-17.6</td>\n      <td>0</td>\n      <td>0</td>\n      <td>0</td>\n      <td>0</td>\n      <td>-1</td>\n      <td>22</td>\n      <td>12</td>\n      <td>19</td>\n      <td>5</td>\n    </tr>\n    <tr>\n      <th>3700003</th>\n      <td>20221219</td>\n      <td>부산70자1893</td>\n      <td>13</td>\n      <td>2022765</td>\n      <td>22121905211100</td>\n      <td>45</td>\n      <td>1639</td>\n      <td>0</td>\n      <td>129.149384</td>\n      <td>35.160640</td>\n      <td>...</td>\n      <td>-17.6</td>\n      <td>0</td>\n      <td>0</td>\n      <td>0</td>\n      <td>0</td>\n      <td>-1</td>\n      <td>22</td>\n      <td>12</td>\n      <td>19</td>\n      <td>5</td>\n    </tr>\n    <tr>\n      <th>3700004</th>\n      <td>20221219</td>\n      <td>부산70자1893</td>\n      <td>13</td>\n      <td>2022765</td>\n      <td>22121905211200</td>\n      <td>45</td>\n      <td>1607</td>\n      <td>0</td>\n      <td>129.149384</td>\n      <td>35.160640</td>\n      <td>...</td>\n      <td>-17.6</td>\n      <td>0</td>\n      <td>0</td>\n      <td>0</td>\n      <td>0</td>\n      <td>-1</td>\n      <td>22</td>\n      <td>12</td>\n      <td>19</td>\n      <td>5</td>\n    </tr>\n    <tr>\n      <th>...</th>\n      <td>...</td>\n      <td>...</td>\n      <td>...</td>\n      <td>...</td>\n      <td>...</td>\n      <td>...</td>\n      <td>...</td>\n      <td>...</td>\n      <td>...</td>\n      <td>...</td>\n      <td>...</td>\n      <td>...</td>\n      <td>...</td>\n      <td>...</td>\n      <td>...</td>\n      <td>...</td>\n      <td>...</td>\n      <td>...</td>\n      <td>...</td>\n      <td>...</td>\n      <td>...</td>\n    </tr>\n    <tr>\n      <th>3700996</th>\n      <td>20221219</td>\n      <td>부산70자1893</td>\n      <td>18</td>\n      <td>2022770</td>\n      <td>22121905375500</td>\n      <td>29</td>\n      <td>733</td>\n      <td>0</td>\n      <td>129.182469</td>\n      <td>35.167495</td>\n      <td>...</td>\n      <td>-17.6</td>\n      <td>0</td>\n      <td>0</td>\n      <td>0</td>\n      <td>0</td>\n      <td>-1</td>\n      <td>22</td>\n      <td>12</td>\n      <td>19</td>\n      <td>5</td>\n    </tr>\n    <tr>\n      <th>3700997</th>\n      <td>20221219</td>\n      <td>부산70자1893</td>\n      <td>18</td>\n      <td>2022770</td>\n      <td>22121905375600</td>\n      <td>29</td>\n      <td>626</td>\n      <td>0</td>\n      <td>129.182453</td>\n      <td>35.167454</td>\n      <td>...</td>\n      <td>-17.6</td>\n      <td>0</td>\n      <td>0</td>\n      <td>0</td>\n      <td>0</td>\n      <td>-1</td>\n      <td>22</td>\n      <td>12</td>\n      <td>19</td>\n      <td>5</td>\n    </tr>\n    <tr>\n      <th>3700998</th>\n      <td>20221219</td>\n      <td>부산70자1893</td>\n      <td>18</td>\n      <td>2022770</td>\n      <td>22121905375700</td>\n      <td>29</td>\n      <td>587</td>\n      <td>0</td>\n      <td>129.182441</td>\n      <td>35.167419</td>\n      <td>...</td>\n      <td>-17.6</td>\n      <td>0</td>\n      <td>0</td>\n      <td>0</td>\n      <td>0</td>\n      <td>-1</td>\n      <td>22</td>\n      <td>12</td>\n      <td>19</td>\n      <td>5</td>\n    </tr>\n    <tr>\n      <th>3700999</th>\n      <td>20221219</td>\n      <td>부산70자1893</td>\n      <td>18</td>\n      <td>2022770</td>\n      <td>22121905375800</td>\n      <td>29</td>\n      <td>570</td>\n      <td>0</td>\n      <td>129.182435</td>\n      <td>35.167395</td>\n      <td>...</td>\n      <td>13.2</td>\n      <td>0</td>\n      <td>0</td>\n      <td>0</td>\n      <td>0</td>\n      <td>-1</td>\n      <td>22</td>\n      <td>12</td>\n      <td>19</td>\n      <td>5</td>\n    </tr>\n    <tr>\n      <th>3701000</th>\n      <td>20221219</td>\n      <td>부산70자1893</td>\n      <td>18</td>\n      <td>2022770</td>\n      <td>22121905375900</td>\n      <td>29</td>\n      <td>560</td>\n      <td>0</td>\n      <td>129.182434</td>\n      <td>35.167386</td>\n      <td>...</td>\n      <td>13.2</td>\n      <td>0</td>\n      <td>0</td>\n      <td>0</td>\n      <td>0</td>\n      <td>-1</td>\n      <td>22</td>\n      <td>12</td>\n      <td>19</td>\n      <td>5</td>\n    </tr>\n  </tbody>\n</table>\n<p>1001 rows × 22 columns</p>\n</div>"
     },
     "execution_count": 4,
     "metadata": {},
     "output_type": "execute_result"
    }
   ],
   "source": [
    "_df = df.iloc[3700000:3701001]\n",
    "_df"
   ],
   "metadata": {
    "collapsed": false,
    "ExecuteTime": {
     "end_time": "2023-05-23T07:51:33.633222600Z",
     "start_time": "2023-05-23T07:51:33.601893100Z"
    }
   }
  },
  {
   "cell_type": "code",
   "execution_count": 5,
   "outputs": [],
   "source": [
    "_df.to_csv('../data/1차배포용.csv', index=False)"
   ],
   "metadata": {
    "collapsed": false,
    "ExecuteTime": {
     "end_time": "2023-05-23T07:52:30.547025Z",
     "start_time": "2023-05-23T07:52:30.515699300Z"
    }
   }
  },
  {
   "cell_type": "code",
   "execution_count": null,
   "outputs": [],
   "source": [],
   "metadata": {
    "collapsed": false
   }
  }
 ],
 "metadata": {
  "kernelspec": {
   "display_name": "Python 3",
   "language": "python",
   "name": "python3"
  },
  "language_info": {
   "codemirror_mode": {
    "name": "ipython",
    "version": 2
   },
   "file_extension": ".py",
   "mimetype": "text/x-python",
   "name": "python",
   "nbconvert_exporter": "python",
   "pygments_lexer": "ipython2",
   "version": "2.7.6"
  }
 },
 "nbformat": 4,
 "nbformat_minor": 0
}
