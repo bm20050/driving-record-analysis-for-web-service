{
 "cells": [
  {
   "cell_type": "code",
   "execution_count": 2,
   "metadata": {
    "collapsed": true,
    "ExecuteTime": {
     "end_time": "2023-06-09T00:55:26.210496500Z",
     "start_time": "2023-06-09T00:55:26.074577200Z"
    }
   },
   "outputs": [],
   "source": [
    "import pandas as pd\n",
    "import warnings\n",
    "warnings.filterwarnings(\"ignore\")\n",
    "from sklearn.model_selection import train_test_split\n",
    "from sklearn.metrics import accuracy_score\n",
    "from xgboost import XGBClassifier\n",
    "from sklearn.metrics import f1_score\n",
    "from sklearn.neighbors import KNeighborsClassifier"
   ]
  },
  {
   "cell_type": "code",
   "execution_count": 3,
   "outputs": [
    {
     "data": {
      "text/plain": "               날짜        번호판  일일주행거리   누적주행거리          정보발생일시  차량속도  RPM   \n0        20221201  부산70자1854       0    66443  22120105071500     0  193  \\\n1        20221201  부산70자1854       0    66443  22120105071600     0  388   \n2        20221201  부산70자1854       0    66443  22120105071700     0  777   \n3        20221201  부산70자1854       0    66443  22120105071800     0  638   \n4        20221201  부산70자1854       0    66443  22120105071900     0  461   \n...           ...        ...     ...      ...             ...   ...  ...   \n4462382  20221231  부산70자1894     176  3095705  22123121033800     0  331   \n4462383  20221231  부산70자1894     176  3095705  22123121033900     0   59   \n4462384  20221231  부산70자1894     176  3095705  22123121034000     0    0   \n4462385  20221231  부산70자1894     176  3095705  22123121034100     0    0   \n4462386  20221231  부산70자1894     176  3095705  22123121034200     0    0   \n\n         브레이크       GPS_X      GPS_Y  ...   월   일   시  분   초    가속도max   \n0           0  129.158670  35.236021  ...  12   1   5  7  15  9.212774  \\\n1           0  129.158670  35.236021  ...  12   1   5  7  16  9.212774   \n2           0  129.158670  35.236021  ...  12   1   5  7  17  9.212774   \n3           0  129.158670  35.236021  ...  12   1   5  7  18  9.212774   \n4           0  129.158670  35.236021  ...  12   1   5  7  19  9.212774   \n...       ...         ...        ...  ...  ..  ..  .. ..  ..       ...   \n4462382     0  129.158597  35.235956  ...  12  31  21  3  38  9.212774   \n4462383     0  129.158597  35.235956  ...  12  31  21  3  39  9.212774   \n4462384     0  129.158597  35.235956  ...  12  31  21  3  40  9.212774   \n4462385     0  129.158597  35.235956  ...  12  31  21  3  41  9.212774   \n4462386     0  129.158597  35.235956  ...  12  31  21  3  42  9.212774   \n\n           가속도min    가속도max2  가속도  위험운전가속  \n0        6.010222  12.415327    0       0  \n1        6.010222  12.415327    0       0  \n2        6.010222  12.415327    0       0  \n3        6.010222  12.415327    0       0  \n4        6.010222  12.415327    0       0  \n...           ...        ...  ...     ...  \n4462382  6.010222  12.415327    0       0  \n4462383  6.010222  12.415327    0       0  \n4462384  6.010222  12.415327    0       0  \n4462385  6.010222  12.415327    0       0  \n4462386  6.010222  12.415327    0       0  \n\n[4462387 rows x 24 columns]",
      "text/html": "<div>\n<style scoped>\n    .dataframe tbody tr th:only-of-type {\n        vertical-align: middle;\n    }\n\n    .dataframe tbody tr th {\n        vertical-align: top;\n    }\n\n    .dataframe thead th {\n        text-align: right;\n    }\n</style>\n<table border=\"1\" class=\"dataframe\">\n  <thead>\n    <tr style=\"text-align: right;\">\n      <th></th>\n      <th>날짜</th>\n      <th>번호판</th>\n      <th>일일주행거리</th>\n      <th>누적주행거리</th>\n      <th>정보발생일시</th>\n      <th>차량속도</th>\n      <th>RPM</th>\n      <th>브레이크</th>\n      <th>GPS_X</th>\n      <th>GPS_Y</th>\n      <th>...</th>\n      <th>월</th>\n      <th>일</th>\n      <th>시</th>\n      <th>분</th>\n      <th>초</th>\n      <th>가속도max</th>\n      <th>가속도min</th>\n      <th>가속도max2</th>\n      <th>가속도</th>\n      <th>위험운전가속</th>\n    </tr>\n  </thead>\n  <tbody>\n    <tr>\n      <th>0</th>\n      <td>20221201</td>\n      <td>부산70자1854</td>\n      <td>0</td>\n      <td>66443</td>\n      <td>22120105071500</td>\n      <td>0</td>\n      <td>193</td>\n      <td>0</td>\n      <td>129.158670</td>\n      <td>35.236021</td>\n      <td>...</td>\n      <td>12</td>\n      <td>1</td>\n      <td>5</td>\n      <td>7</td>\n      <td>15</td>\n      <td>9.212774</td>\n      <td>6.010222</td>\n      <td>12.415327</td>\n      <td>0</td>\n      <td>0</td>\n    </tr>\n    <tr>\n      <th>1</th>\n      <td>20221201</td>\n      <td>부산70자1854</td>\n      <td>0</td>\n      <td>66443</td>\n      <td>22120105071600</td>\n      <td>0</td>\n      <td>388</td>\n      <td>0</td>\n      <td>129.158670</td>\n      <td>35.236021</td>\n      <td>...</td>\n      <td>12</td>\n      <td>1</td>\n      <td>5</td>\n      <td>7</td>\n      <td>16</td>\n      <td>9.212774</td>\n      <td>6.010222</td>\n      <td>12.415327</td>\n      <td>0</td>\n      <td>0</td>\n    </tr>\n    <tr>\n      <th>2</th>\n      <td>20221201</td>\n      <td>부산70자1854</td>\n      <td>0</td>\n      <td>66443</td>\n      <td>22120105071700</td>\n      <td>0</td>\n      <td>777</td>\n      <td>0</td>\n      <td>129.158670</td>\n      <td>35.236021</td>\n      <td>...</td>\n      <td>12</td>\n      <td>1</td>\n      <td>5</td>\n      <td>7</td>\n      <td>17</td>\n      <td>9.212774</td>\n      <td>6.010222</td>\n      <td>12.415327</td>\n      <td>0</td>\n      <td>0</td>\n    </tr>\n    <tr>\n      <th>3</th>\n      <td>20221201</td>\n      <td>부산70자1854</td>\n      <td>0</td>\n      <td>66443</td>\n      <td>22120105071800</td>\n      <td>0</td>\n      <td>638</td>\n      <td>0</td>\n      <td>129.158670</td>\n      <td>35.236021</td>\n      <td>...</td>\n      <td>12</td>\n      <td>1</td>\n      <td>5</td>\n      <td>7</td>\n      <td>18</td>\n      <td>9.212774</td>\n      <td>6.010222</td>\n      <td>12.415327</td>\n      <td>0</td>\n      <td>0</td>\n    </tr>\n    <tr>\n      <th>4</th>\n      <td>20221201</td>\n      <td>부산70자1854</td>\n      <td>0</td>\n      <td>66443</td>\n      <td>22120105071900</td>\n      <td>0</td>\n      <td>461</td>\n      <td>0</td>\n      <td>129.158670</td>\n      <td>35.236021</td>\n      <td>...</td>\n      <td>12</td>\n      <td>1</td>\n      <td>5</td>\n      <td>7</td>\n      <td>19</td>\n      <td>9.212774</td>\n      <td>6.010222</td>\n      <td>12.415327</td>\n      <td>0</td>\n      <td>0</td>\n    </tr>\n    <tr>\n      <th>...</th>\n      <td>...</td>\n      <td>...</td>\n      <td>...</td>\n      <td>...</td>\n      <td>...</td>\n      <td>...</td>\n      <td>...</td>\n      <td>...</td>\n      <td>...</td>\n      <td>...</td>\n      <td>...</td>\n      <td>...</td>\n      <td>...</td>\n      <td>...</td>\n      <td>...</td>\n      <td>...</td>\n      <td>...</td>\n      <td>...</td>\n      <td>...</td>\n      <td>...</td>\n      <td>...</td>\n    </tr>\n    <tr>\n      <th>4462382</th>\n      <td>20221231</td>\n      <td>부산70자1894</td>\n      <td>176</td>\n      <td>3095705</td>\n      <td>22123121033800</td>\n      <td>0</td>\n      <td>331</td>\n      <td>0</td>\n      <td>129.158597</td>\n      <td>35.235956</td>\n      <td>...</td>\n      <td>12</td>\n      <td>31</td>\n      <td>21</td>\n      <td>3</td>\n      <td>38</td>\n      <td>9.212774</td>\n      <td>6.010222</td>\n      <td>12.415327</td>\n      <td>0</td>\n      <td>0</td>\n    </tr>\n    <tr>\n      <th>4462383</th>\n      <td>20221231</td>\n      <td>부산70자1894</td>\n      <td>176</td>\n      <td>3095705</td>\n      <td>22123121033900</td>\n      <td>0</td>\n      <td>59</td>\n      <td>0</td>\n      <td>129.158597</td>\n      <td>35.235956</td>\n      <td>...</td>\n      <td>12</td>\n      <td>31</td>\n      <td>21</td>\n      <td>3</td>\n      <td>39</td>\n      <td>9.212774</td>\n      <td>6.010222</td>\n      <td>12.415327</td>\n      <td>0</td>\n      <td>0</td>\n    </tr>\n    <tr>\n      <th>4462384</th>\n      <td>20221231</td>\n      <td>부산70자1894</td>\n      <td>176</td>\n      <td>3095705</td>\n      <td>22123121034000</td>\n      <td>0</td>\n      <td>0</td>\n      <td>0</td>\n      <td>129.158597</td>\n      <td>35.235956</td>\n      <td>...</td>\n      <td>12</td>\n      <td>31</td>\n      <td>21</td>\n      <td>3</td>\n      <td>40</td>\n      <td>9.212774</td>\n      <td>6.010222</td>\n      <td>12.415327</td>\n      <td>0</td>\n      <td>0</td>\n    </tr>\n    <tr>\n      <th>4462385</th>\n      <td>20221231</td>\n      <td>부산70자1894</td>\n      <td>176</td>\n      <td>3095705</td>\n      <td>22123121034100</td>\n      <td>0</td>\n      <td>0</td>\n      <td>0</td>\n      <td>129.158597</td>\n      <td>35.235956</td>\n      <td>...</td>\n      <td>12</td>\n      <td>31</td>\n      <td>21</td>\n      <td>3</td>\n      <td>41</td>\n      <td>9.212774</td>\n      <td>6.010222</td>\n      <td>12.415327</td>\n      <td>0</td>\n      <td>0</td>\n    </tr>\n    <tr>\n      <th>4462386</th>\n      <td>20221231</td>\n      <td>부산70자1894</td>\n      <td>176</td>\n      <td>3095705</td>\n      <td>22123121034200</td>\n      <td>0</td>\n      <td>0</td>\n      <td>0</td>\n      <td>129.158597</td>\n      <td>35.235956</td>\n      <td>...</td>\n      <td>12</td>\n      <td>31</td>\n      <td>21</td>\n      <td>3</td>\n      <td>42</td>\n      <td>9.212774</td>\n      <td>6.010222</td>\n      <td>12.415327</td>\n      <td>0</td>\n      <td>0</td>\n    </tr>\n  </tbody>\n</table>\n<p>4462387 rows × 24 columns</p>\n</div>"
     },
     "execution_count": 3,
     "metadata": {},
     "output_type": "execute_result"
    }
   ],
   "source": [
    "df = pd.read_csv('../data/06.05위험운전가속.csv')\n",
    "df"
   ],
   "metadata": {
    "collapsed": false,
    "ExecuteTime": {
     "end_time": "2023-06-09T00:55:42.188494Z",
     "start_time": "2023-06-09T00:55:31.771395Z"
    }
   }
  },
  {
   "cell_type": "code",
   "execution_count": 4,
   "outputs": [],
   "source": [
    "acc0 = df.query('위험운전가속 == 0')"
   ],
   "metadata": {
    "collapsed": false,
    "ExecuteTime": {
     "end_time": "2023-06-09T00:55:42.593786500Z",
     "start_time": "2023-06-09T00:55:42.188494Z"
    }
   }
  },
  {
   "cell_type": "code",
   "execution_count": 5,
   "outputs": [],
   "source": [
    "X_train, X_test, y_train, y_test = train_test_split(acc0, acc0, random_state=42, shuffle=True, test_size=0.0056)"
   ],
   "metadata": {
    "collapsed": false,
    "ExecuteTime": {
     "end_time": "2023-06-09T00:55:45.578964900Z",
     "start_time": "2023-06-09T00:55:42.593786500Z"
    }
   }
  },
  {
   "cell_type": "code",
   "execution_count": 6,
   "outputs": [],
   "source": [
    "df = df.query('위험운전가속 != 0')"
   ],
   "metadata": {
    "collapsed": false,
    "ExecuteTime": {
     "end_time": "2023-06-09T00:55:48.033560700Z",
     "start_time": "2023-06-09T00:55:47.990211200Z"
    }
   }
  },
  {
   "cell_type": "code",
   "execution_count": 7,
   "outputs": [
    {
     "data": {
      "text/plain": "               날짜        번호판  일일주행거리   누적주행거리          정보발생일시  차량속도   RPM   \n709      20221201  부산70자1854       1    66445  22120105190400    11  1137  \\\n829      20221201  부산70자1854       2    66446  22120105210400    13  1322   \n833      20221201  부산70자1854       2    66446  22120105210800    26  1460   \n1026     20221201  부산70자1854       4    66448  22120105242100     9   991   \n1083     20221201  부산70자1854       4    66448  22120105251800     8   812   \n...           ...        ...     ...      ...             ...   ...   ...   \n1384279  20221230  부산70자1854      21    72162  22123009190600    24   562   \n3490280  20221213  부산70자1894      19  3091803  22121309051800     1   578   \n1003278  20221222  부산70자1854     165    70543  22122220094000    44   915   \n4394920  20221230  부산70자1894     120  3095428  22123016350300    31  1736   \n217268   20221206  부산70자1854     117    67323  22120616481500    24  1362   \n\n         브레이크       GPS_X      GPS_Y  ...   월   일   시   분   초    가속도max   \n709         0  129.147649  35.225609  ...  12   1   5  19   4  7.959340  \\\n829         0  129.138040  35.219831  ...  12   1   5  21   4  7.758123   \n833         0  129.137892  35.219834  ...  12   1   5  21   8  6.601077   \n1026        0  129.125022  35.219140  ...  12   1   5  24  21  8.167955   \n1083        0  129.124679  35.217222  ...  12   1   5  25  18  8.275195   \n...       ...         ...        ...  ...  ..  ..  ..  ..  ..       ...   \n1384279     1  129.166023  35.162066  ...  12  30   9  19   6  6.764248   \n3490280     1  129.174542  35.168420  ...  12  13   9   5  18  9.087118   \n1003278     0  129.132879  35.172475  ...  12  22  20   9  40  5.317101   \n4394920     0  129.140638  35.167250  ...  12  30  16  35   3  6.212917   \n217268      0  129.162597  35.165801  ...  12   6  16  48  15  6.764248   \n\n           가속도min    가속도max2  가속도  위험운전가속  \n709      5.401764  10.516915    6       1  \n829      5.290563  10.225683    6       1  \n833      4.589684   8.612471    5       1  \n1026     5.513215  10.822696    6       1  \n1083     5.568950  10.981439    6       1  \n...           ...        ...  ...     ...  \n1384279  4.693844   8.834652   -1       0  \n3490280  5.955880  12.218356   -2       0  \n1003278  3.745206   6.888995    0       0  \n4394920  4.337265   8.088569    2       0  \n217268   4.693844   8.834652    0       0  \n\n[82459 rows x 24 columns]",
      "text/html": "<div>\n<style scoped>\n    .dataframe tbody tr th:only-of-type {\n        vertical-align: middle;\n    }\n\n    .dataframe tbody tr th {\n        vertical-align: top;\n    }\n\n    .dataframe thead th {\n        text-align: right;\n    }\n</style>\n<table border=\"1\" class=\"dataframe\">\n  <thead>\n    <tr style=\"text-align: right;\">\n      <th></th>\n      <th>날짜</th>\n      <th>번호판</th>\n      <th>일일주행거리</th>\n      <th>누적주행거리</th>\n      <th>정보발생일시</th>\n      <th>차량속도</th>\n      <th>RPM</th>\n      <th>브레이크</th>\n      <th>GPS_X</th>\n      <th>GPS_Y</th>\n      <th>...</th>\n      <th>월</th>\n      <th>일</th>\n      <th>시</th>\n      <th>분</th>\n      <th>초</th>\n      <th>가속도max</th>\n      <th>가속도min</th>\n      <th>가속도max2</th>\n      <th>가속도</th>\n      <th>위험운전가속</th>\n    </tr>\n  </thead>\n  <tbody>\n    <tr>\n      <th>709</th>\n      <td>20221201</td>\n      <td>부산70자1854</td>\n      <td>1</td>\n      <td>66445</td>\n      <td>22120105190400</td>\n      <td>11</td>\n      <td>1137</td>\n      <td>0</td>\n      <td>129.147649</td>\n      <td>35.225609</td>\n      <td>...</td>\n      <td>12</td>\n      <td>1</td>\n      <td>5</td>\n      <td>19</td>\n      <td>4</td>\n      <td>7.959340</td>\n      <td>5.401764</td>\n      <td>10.516915</td>\n      <td>6</td>\n      <td>1</td>\n    </tr>\n    <tr>\n      <th>829</th>\n      <td>20221201</td>\n      <td>부산70자1854</td>\n      <td>2</td>\n      <td>66446</td>\n      <td>22120105210400</td>\n      <td>13</td>\n      <td>1322</td>\n      <td>0</td>\n      <td>129.138040</td>\n      <td>35.219831</td>\n      <td>...</td>\n      <td>12</td>\n      <td>1</td>\n      <td>5</td>\n      <td>21</td>\n      <td>4</td>\n      <td>7.758123</td>\n      <td>5.290563</td>\n      <td>10.225683</td>\n      <td>6</td>\n      <td>1</td>\n    </tr>\n    <tr>\n      <th>833</th>\n      <td>20221201</td>\n      <td>부산70자1854</td>\n      <td>2</td>\n      <td>66446</td>\n      <td>22120105210800</td>\n      <td>26</td>\n      <td>1460</td>\n      <td>0</td>\n      <td>129.137892</td>\n      <td>35.219834</td>\n      <td>...</td>\n      <td>12</td>\n      <td>1</td>\n      <td>5</td>\n      <td>21</td>\n      <td>8</td>\n      <td>6.601077</td>\n      <td>4.589684</td>\n      <td>8.612471</td>\n      <td>5</td>\n      <td>1</td>\n    </tr>\n    <tr>\n      <th>1026</th>\n      <td>20221201</td>\n      <td>부산70자1854</td>\n      <td>4</td>\n      <td>66448</td>\n      <td>22120105242100</td>\n      <td>9</td>\n      <td>991</td>\n      <td>0</td>\n      <td>129.125022</td>\n      <td>35.219140</td>\n      <td>...</td>\n      <td>12</td>\n      <td>1</td>\n      <td>5</td>\n      <td>24</td>\n      <td>21</td>\n      <td>8.167955</td>\n      <td>5.513215</td>\n      <td>10.822696</td>\n      <td>6</td>\n      <td>1</td>\n    </tr>\n    <tr>\n      <th>1083</th>\n      <td>20221201</td>\n      <td>부산70자1854</td>\n      <td>4</td>\n      <td>66448</td>\n      <td>22120105251800</td>\n      <td>8</td>\n      <td>812</td>\n      <td>0</td>\n      <td>129.124679</td>\n      <td>35.217222</td>\n      <td>...</td>\n      <td>12</td>\n      <td>1</td>\n      <td>5</td>\n      <td>25</td>\n      <td>18</td>\n      <td>8.275195</td>\n      <td>5.568950</td>\n      <td>10.981439</td>\n      <td>6</td>\n      <td>1</td>\n    </tr>\n    <tr>\n      <th>...</th>\n      <td>...</td>\n      <td>...</td>\n      <td>...</td>\n      <td>...</td>\n      <td>...</td>\n      <td>...</td>\n      <td>...</td>\n      <td>...</td>\n      <td>...</td>\n      <td>...</td>\n      <td>...</td>\n      <td>...</td>\n      <td>...</td>\n      <td>...</td>\n      <td>...</td>\n      <td>...</td>\n      <td>...</td>\n      <td>...</td>\n      <td>...</td>\n      <td>...</td>\n      <td>...</td>\n    </tr>\n    <tr>\n      <th>1384279</th>\n      <td>20221230</td>\n      <td>부산70자1854</td>\n      <td>21</td>\n      <td>72162</td>\n      <td>22123009190600</td>\n      <td>24</td>\n      <td>562</td>\n      <td>1</td>\n      <td>129.166023</td>\n      <td>35.162066</td>\n      <td>...</td>\n      <td>12</td>\n      <td>30</td>\n      <td>9</td>\n      <td>19</td>\n      <td>6</td>\n      <td>6.764248</td>\n      <td>4.693844</td>\n      <td>8.834652</td>\n      <td>-1</td>\n      <td>0</td>\n    </tr>\n    <tr>\n      <th>3490280</th>\n      <td>20221213</td>\n      <td>부산70자1894</td>\n      <td>19</td>\n      <td>3091803</td>\n      <td>22121309051800</td>\n      <td>1</td>\n      <td>578</td>\n      <td>1</td>\n      <td>129.174542</td>\n      <td>35.168420</td>\n      <td>...</td>\n      <td>12</td>\n      <td>13</td>\n      <td>9</td>\n      <td>5</td>\n      <td>18</td>\n      <td>9.087118</td>\n      <td>5.955880</td>\n      <td>12.218356</td>\n      <td>-2</td>\n      <td>0</td>\n    </tr>\n    <tr>\n      <th>1003278</th>\n      <td>20221222</td>\n      <td>부산70자1854</td>\n      <td>165</td>\n      <td>70543</td>\n      <td>22122220094000</td>\n      <td>44</td>\n      <td>915</td>\n      <td>0</td>\n      <td>129.132879</td>\n      <td>35.172475</td>\n      <td>...</td>\n      <td>12</td>\n      <td>22</td>\n      <td>20</td>\n      <td>9</td>\n      <td>40</td>\n      <td>5.317101</td>\n      <td>3.745206</td>\n      <td>6.888995</td>\n      <td>0</td>\n      <td>0</td>\n    </tr>\n    <tr>\n      <th>4394920</th>\n      <td>20221230</td>\n      <td>부산70자1894</td>\n      <td>120</td>\n      <td>3095428</td>\n      <td>22123016350300</td>\n      <td>31</td>\n      <td>1736</td>\n      <td>0</td>\n      <td>129.140638</td>\n      <td>35.167250</td>\n      <td>...</td>\n      <td>12</td>\n      <td>30</td>\n      <td>16</td>\n      <td>35</td>\n      <td>3</td>\n      <td>6.212917</td>\n      <td>4.337265</td>\n      <td>8.088569</td>\n      <td>2</td>\n      <td>0</td>\n    </tr>\n    <tr>\n      <th>217268</th>\n      <td>20221206</td>\n      <td>부산70자1854</td>\n      <td>117</td>\n      <td>67323</td>\n      <td>22120616481500</td>\n      <td>24</td>\n      <td>1362</td>\n      <td>0</td>\n      <td>129.162597</td>\n      <td>35.165801</td>\n      <td>...</td>\n      <td>12</td>\n      <td>6</td>\n      <td>16</td>\n      <td>48</td>\n      <td>15</td>\n      <td>6.764248</td>\n      <td>4.693844</td>\n      <td>8.834652</td>\n      <td>0</td>\n      <td>0</td>\n    </tr>\n  </tbody>\n</table>\n<p>82459 rows × 24 columns</p>\n</div>"
     },
     "execution_count": 7,
     "metadata": {},
     "output_type": "execute_result"
    }
   ],
   "source": [
    "df = pd.concat([df, X_test], axis=0)\n",
    "df"
   ],
   "metadata": {
    "collapsed": false,
    "ExecuteTime": {
     "end_time": "2023-06-09T00:55:51.875463200Z",
     "start_time": "2023-06-09T00:55:51.764533400Z"
    }
   }
  },
  {
   "cell_type": "code",
   "execution_count": 8,
   "outputs": [],
   "source": [
    "X = df[['시', '분', 'GPS_X', 'GPS_Y']]\n",
    "y = df['위험운전가속']"
   ],
   "metadata": {
    "collapsed": false,
    "ExecuteTime": {
     "end_time": "2023-06-09T00:56:25.035793600Z",
     "start_time": "2023-06-09T00:56:25.019579500Z"
    }
   }
  },
  {
   "cell_type": "code",
   "execution_count": 9,
   "outputs": [],
   "source": [
    "X_train, X_test, y_train, y_test = train_test_split(X, y, random_state=42, shuffle=True, test_size=0.3)"
   ],
   "metadata": {
    "collapsed": false,
    "ExecuteTime": {
     "end_time": "2023-06-09T00:56:31.122339300Z",
     "start_time": "2023-06-09T00:56:31.011845700Z"
    }
   }
  },
  {
   "cell_type": "code",
   "execution_count": 10,
   "outputs": [],
   "source": [
    "model = KNeighborsClassifier(weights='distance', n_neighbors=4)"
   ],
   "metadata": {
    "collapsed": false,
    "ExecuteTime": {
     "end_time": "2023-06-09T00:57:01.345540200Z",
     "start_time": "2023-06-09T00:57:01.342713700Z"
    }
   }
  },
  {
   "cell_type": "code",
   "execution_count": 11,
   "outputs": [
    {
     "data": {
      "text/plain": "KNeighborsClassifier(n_neighbors=4, weights='distance')",
      "text/html": "<style>#sk-container-id-1 {color: black;background-color: white;}#sk-container-id-1 pre{padding: 0;}#sk-container-id-1 div.sk-toggleable {background-color: white;}#sk-container-id-1 label.sk-toggleable__label {cursor: pointer;display: block;width: 100%;margin-bottom: 0;padding: 0.3em;box-sizing: border-box;text-align: center;}#sk-container-id-1 label.sk-toggleable__label-arrow:before {content: \"▸\";float: left;margin-right: 0.25em;color: #696969;}#sk-container-id-1 label.sk-toggleable__label-arrow:hover:before {color: black;}#sk-container-id-1 div.sk-estimator:hover label.sk-toggleable__label-arrow:before {color: black;}#sk-container-id-1 div.sk-toggleable__content {max-height: 0;max-width: 0;overflow: hidden;text-align: left;background-color: #f0f8ff;}#sk-container-id-1 div.sk-toggleable__content pre {margin: 0.2em;color: black;border-radius: 0.25em;background-color: #f0f8ff;}#sk-container-id-1 input.sk-toggleable__control:checked~div.sk-toggleable__content {max-height: 200px;max-width: 100%;overflow: auto;}#sk-container-id-1 input.sk-toggleable__control:checked~label.sk-toggleable__label-arrow:before {content: \"▾\";}#sk-container-id-1 div.sk-estimator input.sk-toggleable__control:checked~label.sk-toggleable__label {background-color: #d4ebff;}#sk-container-id-1 div.sk-label input.sk-toggleable__control:checked~label.sk-toggleable__label {background-color: #d4ebff;}#sk-container-id-1 input.sk-hidden--visually {border: 0;clip: rect(1px 1px 1px 1px);clip: rect(1px, 1px, 1px, 1px);height: 1px;margin: -1px;overflow: hidden;padding: 0;position: absolute;width: 1px;}#sk-container-id-1 div.sk-estimator {font-family: monospace;background-color: #f0f8ff;border: 1px dotted black;border-radius: 0.25em;box-sizing: border-box;margin-bottom: 0.5em;}#sk-container-id-1 div.sk-estimator:hover {background-color: #d4ebff;}#sk-container-id-1 div.sk-parallel-item::after {content: \"\";width: 100%;border-bottom: 1px solid gray;flex-grow: 1;}#sk-container-id-1 div.sk-label:hover label.sk-toggleable__label {background-color: #d4ebff;}#sk-container-id-1 div.sk-serial::before {content: \"\";position: absolute;border-left: 1px solid gray;box-sizing: border-box;top: 0;bottom: 0;left: 50%;z-index: 0;}#sk-container-id-1 div.sk-serial {display: flex;flex-direction: column;align-items: center;background-color: white;padding-right: 0.2em;padding-left: 0.2em;position: relative;}#sk-container-id-1 div.sk-item {position: relative;z-index: 1;}#sk-container-id-1 div.sk-parallel {display: flex;align-items: stretch;justify-content: center;background-color: white;position: relative;}#sk-container-id-1 div.sk-item::before, #sk-container-id-1 div.sk-parallel-item::before {content: \"\";position: absolute;border-left: 1px solid gray;box-sizing: border-box;top: 0;bottom: 0;left: 50%;z-index: -1;}#sk-container-id-1 div.sk-parallel-item {display: flex;flex-direction: column;z-index: 1;position: relative;background-color: white;}#sk-container-id-1 div.sk-parallel-item:first-child::after {align-self: flex-end;width: 50%;}#sk-container-id-1 div.sk-parallel-item:last-child::after {align-self: flex-start;width: 50%;}#sk-container-id-1 div.sk-parallel-item:only-child::after {width: 0;}#sk-container-id-1 div.sk-dashed-wrapped {border: 1px dashed gray;margin: 0 0.4em 0.5em 0.4em;box-sizing: border-box;padding-bottom: 0.4em;background-color: white;}#sk-container-id-1 div.sk-label label {font-family: monospace;font-weight: bold;display: inline-block;line-height: 1.2em;}#sk-container-id-1 div.sk-label-container {text-align: center;}#sk-container-id-1 div.sk-container {/* jupyter's `normalize.less` sets `[hidden] { display: none; }` but bootstrap.min.css set `[hidden] { display: none !important; }` so we also need the `!important` here to be able to override the default hidden behavior on the sphinx rendered scikit-learn.org. See: https://github.com/scikit-learn/scikit-learn/issues/21755 */display: inline-block !important;position: relative;}#sk-container-id-1 div.sk-text-repr-fallback {display: none;}</style><div id=\"sk-container-id-1\" class=\"sk-top-container\"><div class=\"sk-text-repr-fallback\"><pre>KNeighborsClassifier(n_neighbors=4, weights=&#x27;distance&#x27;)</pre><b>In a Jupyter environment, please rerun this cell to show the HTML representation or trust the notebook. <br />On GitHub, the HTML representation is unable to render, please try loading this page with nbviewer.org.</b></div><div class=\"sk-container\" hidden><div class=\"sk-item\"><div class=\"sk-estimator sk-toggleable\"><input class=\"sk-toggleable__control sk-hidden--visually\" id=\"sk-estimator-id-1\" type=\"checkbox\" checked><label for=\"sk-estimator-id-1\" class=\"sk-toggleable__label sk-toggleable__label-arrow\">KNeighborsClassifier</label><div class=\"sk-toggleable__content\"><pre>KNeighborsClassifier(n_neighbors=4, weights=&#x27;distance&#x27;)</pre></div></div></div></div></div>"
     },
     "execution_count": 11,
     "metadata": {},
     "output_type": "execute_result"
    }
   ],
   "source": [
    "model.fit(X_train, y_train)"
   ],
   "metadata": {
    "collapsed": false,
    "ExecuteTime": {
     "end_time": "2023-06-09T00:57:06.559229900Z",
     "start_time": "2023-06-09T00:57:06.503473900Z"
    }
   }
  },
  {
   "cell_type": "code",
   "execution_count": 12,
   "outputs": [],
   "source": [
    "y_pred = model.predict(X_test)"
   ],
   "metadata": {
    "collapsed": false,
    "ExecuteTime": {
     "end_time": "2023-06-09T00:57:12.824800600Z",
     "start_time": "2023-06-09T00:57:12.624756300Z"
    }
   }
  },
  {
   "cell_type": "code",
   "execution_count": 13,
   "outputs": [
    {
     "data": {
      "text/plain": "0.6734174145040019"
     },
     "execution_count": 13,
     "metadata": {},
     "output_type": "execute_result"
    }
   ],
   "source": [
    "accuracy_score(y_pred, y_test)"
   ],
   "metadata": {
    "collapsed": false,
    "ExecuteTime": {
     "end_time": "2023-06-09T00:57:17.351933300Z",
     "start_time": "2023-06-09T00:57:17.336264600Z"
    }
   }
  },
  {
   "cell_type": "code",
   "execution_count": 14,
   "outputs": [
    {
     "data": {
      "text/plain": "0.6880972007073437"
     },
     "execution_count": 14,
     "metadata": {},
     "output_type": "execute_result"
    }
   ],
   "source": [
    "f1_score(y_pred, y_test, average='weighted')"
   ],
   "metadata": {
    "collapsed": false,
    "ExecuteTime": {
     "end_time": "2023-06-09T00:57:22.366055600Z",
     "start_time": "2023-06-09T00:57:22.348493Z"
    }
   }
  },
  {
   "cell_type": "code",
   "execution_count": null,
   "outputs": [],
   "source": [],
   "metadata": {
    "collapsed": false
   }
  }
 ],
 "metadata": {
  "kernelspec": {
   "display_name": "Python 3",
   "language": "python",
   "name": "python3"
  },
  "language_info": {
   "codemirror_mode": {
    "name": "ipython",
    "version": 2
   },
   "file_extension": ".py",
   "mimetype": "text/x-python",
   "name": "python",
   "nbconvert_exporter": "python",
   "pygments_lexer": "ipython2",
   "version": "2.7.6"
  }
 },
 "nbformat": 4,
 "nbformat_minor": 0
}
