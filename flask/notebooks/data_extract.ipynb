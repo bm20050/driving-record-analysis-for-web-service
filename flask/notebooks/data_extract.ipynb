{
 "cells": [
  {
   "cell_type": "code",
   "execution_count": 5,
   "metadata": {
    "collapsed": true,
    "ExecuteTime": {
     "end_time": "2023-05-09T07:09:19.581466700Z",
     "start_time": "2023-05-09T07:09:19.530455300Z"
    }
   },
   "outputs": [],
   "source": [
    "import pandas as pd\n",
    "import numpy as np\n",
    "\n",
    "df = pd.read_csv('../data/slice_data_1854.csv')"
   ]
  },
  {
   "cell_type": "code",
   "execution_count": 14,
   "outputs": [],
   "source": [
    "lst1 = []\n",
    "year = []\n",
    "month = []\n",
    "day = []\n",
    "hour = []\n",
    "minute = []\n",
    "lst2 = []\n",
    "lst3 = []\n",
    "lst4 = []\n",
    "for i in df.index:\n",
    "    s = df['정보발생일시'][i]\n",
    "    s = str(s)\n",
    "    if s[-4:] == '0000':\n",
    "        lst1.append(s)\n",
    "        year.append(s[:2])\n",
    "        month.append(s[2:4])\n",
    "        day.append(s[4:6])\n",
    "        hour.append(s[6:8])\n",
    "        minute.append(s[8:10])\n",
    "        lst2.append(df['차량속도'][i])\n",
    "        lst3.append(df['GPS_X'][i])\n",
    "        lst4.append(df['GPS_Y'][i])\n",
    "\n",
    "temp_df = pd.DataFrame({'정보발생일시': lst1, '년': year, '월': month, '일': day, '시': hour, '분': minute, '차량속도': lst2, 'GPS_X': lst3, 'GPS_Y': lst4})\n",
    "temp_df.to_csv('../data/extract_minute.csv', index=False)"
   ],
   "metadata": {
    "collapsed": false,
    "ExecuteTime": {
     "end_time": "2023-05-09T07:30:34.449539100Z",
     "start_time": "2023-05-09T07:30:34.321786600Z"
    }
   }
  },
  {
   "cell_type": "code",
   "execution_count": 76,
   "outputs": [],
   "source": [
    "df = pd.read_csv('../data/extract_minute.csv')"
   ],
   "metadata": {
    "collapsed": false,
    "ExecuteTime": {
     "end_time": "2023-05-09T08:26:56.461905600Z",
     "start_time": "2023-05-09T08:26:56.446905700Z"
    }
   }
  },
  {
   "cell_type": "code",
   "execution_count": 77,
   "outputs": [
    {
     "data": {
      "text/plain": "             정보발생일시   년   월  일   시   분  차량속도      GPS_X     GPS_Y\n0    22120105080000  22  12  1   5   8     0  129158670  35236021\n1    22120105090000  22  12  1   5   9     0  129158670  35236021\n2    22120105100000  22  12  1   5  10     0  129158625  35235989\n3    22120105110000  22  12  1   5  11     0  129158625  35235989\n4    22120105120000  22  12  1   5  12     0  129158625  35235989\n..              ...  ..  .. ..  ..  ..   ...        ...       ...\n393  22120117300000  22  12  1  17  30     0  129158511  35236275\n394  22120117310000  22  12  1  17  31     0  129158511  35236275\n395  22120117320000  22  12  1  17  32     0  129158511  35236275\n396  22120117330000  22  12  1  17  33     1  129158408  35236046\n397  22120117510000  22  12  1  17  51     0  129158370  35235965\n\n[398 rows x 9 columns]",
      "text/html": "<div>\n<style scoped>\n    .dataframe tbody tr th:only-of-type {\n        vertical-align: middle;\n    }\n\n    .dataframe tbody tr th {\n        vertical-align: top;\n    }\n\n    .dataframe thead th {\n        text-align: right;\n    }\n</style>\n<table border=\"1\" class=\"dataframe\">\n  <thead>\n    <tr style=\"text-align: right;\">\n      <th></th>\n      <th>정보발생일시</th>\n      <th>년</th>\n      <th>월</th>\n      <th>일</th>\n      <th>시</th>\n      <th>분</th>\n      <th>차량속도</th>\n      <th>GPS_X</th>\n      <th>GPS_Y</th>\n    </tr>\n  </thead>\n  <tbody>\n    <tr>\n      <th>0</th>\n      <td>22120105080000</td>\n      <td>22</td>\n      <td>12</td>\n      <td>1</td>\n      <td>5</td>\n      <td>8</td>\n      <td>0</td>\n      <td>129158670</td>\n      <td>35236021</td>\n    </tr>\n    <tr>\n      <th>1</th>\n      <td>22120105090000</td>\n      <td>22</td>\n      <td>12</td>\n      <td>1</td>\n      <td>5</td>\n      <td>9</td>\n      <td>0</td>\n      <td>129158670</td>\n      <td>35236021</td>\n    </tr>\n    <tr>\n      <th>2</th>\n      <td>22120105100000</td>\n      <td>22</td>\n      <td>12</td>\n      <td>1</td>\n      <td>5</td>\n      <td>10</td>\n      <td>0</td>\n      <td>129158625</td>\n      <td>35235989</td>\n    </tr>\n    <tr>\n      <th>3</th>\n      <td>22120105110000</td>\n      <td>22</td>\n      <td>12</td>\n      <td>1</td>\n      <td>5</td>\n      <td>11</td>\n      <td>0</td>\n      <td>129158625</td>\n      <td>35235989</td>\n    </tr>\n    <tr>\n      <th>4</th>\n      <td>22120105120000</td>\n      <td>22</td>\n      <td>12</td>\n      <td>1</td>\n      <td>5</td>\n      <td>12</td>\n      <td>0</td>\n      <td>129158625</td>\n      <td>35235989</td>\n    </tr>\n    <tr>\n      <th>...</th>\n      <td>...</td>\n      <td>...</td>\n      <td>...</td>\n      <td>...</td>\n      <td>...</td>\n      <td>...</td>\n      <td>...</td>\n      <td>...</td>\n      <td>...</td>\n    </tr>\n    <tr>\n      <th>393</th>\n      <td>22120117300000</td>\n      <td>22</td>\n      <td>12</td>\n      <td>1</td>\n      <td>17</td>\n      <td>30</td>\n      <td>0</td>\n      <td>129158511</td>\n      <td>35236275</td>\n    </tr>\n    <tr>\n      <th>394</th>\n      <td>22120117310000</td>\n      <td>22</td>\n      <td>12</td>\n      <td>1</td>\n      <td>17</td>\n      <td>31</td>\n      <td>0</td>\n      <td>129158511</td>\n      <td>35236275</td>\n    </tr>\n    <tr>\n      <th>395</th>\n      <td>22120117320000</td>\n      <td>22</td>\n      <td>12</td>\n      <td>1</td>\n      <td>17</td>\n      <td>32</td>\n      <td>0</td>\n      <td>129158511</td>\n      <td>35236275</td>\n    </tr>\n    <tr>\n      <th>396</th>\n      <td>22120117330000</td>\n      <td>22</td>\n      <td>12</td>\n      <td>1</td>\n      <td>17</td>\n      <td>33</td>\n      <td>1</td>\n      <td>129158408</td>\n      <td>35236046</td>\n    </tr>\n    <tr>\n      <th>397</th>\n      <td>22120117510000</td>\n      <td>22</td>\n      <td>12</td>\n      <td>1</td>\n      <td>17</td>\n      <td>51</td>\n      <td>0</td>\n      <td>129158370</td>\n      <td>35235965</td>\n    </tr>\n  </tbody>\n</table>\n<p>398 rows × 9 columns</p>\n</div>"
     },
     "execution_count": 77,
     "metadata": {},
     "output_type": "execute_result"
    }
   ],
   "source": [
    "df"
   ],
   "metadata": {
    "collapsed": false,
    "ExecuteTime": {
     "end_time": "2023-05-09T08:26:57.077818800Z",
     "start_time": "2023-05-09T08:26:56.973818800Z"
    }
   }
  },
  {
   "cell_type": "code",
   "execution_count": 79,
   "outputs": [],
   "source": [
    "gps_x = np.array(df['GPS_X']) / 1000000\n",
    "gps_y = np.array(df['GPS_Y']) / 1000000\n",
    "gps_x = gps_x.tolist()\n",
    "gps_y = gps_y.tolist()\n",
    "df['gps_x'] = gps_x\n",
    "df['gps_y'] = gps_y\n",
    "del df['GPS_X']\n",
    "del df['GPS_Y']"
   ],
   "metadata": {
    "collapsed": false,
    "ExecuteTime": {
     "end_time": "2023-05-09T08:27:04.593026100Z",
     "start_time": "2023-05-09T08:27:04.573233Z"
    }
   }
  },
  {
   "cell_type": "code",
   "execution_count": 80,
   "outputs": [
    {
     "data": {
      "text/plain": "<pandas.core.groupby.generic.DataFrameGroupBy object at 0x000001A0187E5180>"
     },
     "execution_count": 80,
     "metadata": {},
     "output_type": "execute_result"
    }
   ],
   "source": [
    "group_hour = df.groupby('시')\n",
    "group_hour"
   ],
   "metadata": {
    "collapsed": false,
    "ExecuteTime": {
     "end_time": "2023-05-09T08:27:06.406802600Z",
     "start_time": "2023-05-09T08:27:06.388802400Z"
    }
   }
  },
  {
   "cell_type": "code",
   "execution_count": 81,
   "outputs": [
    {
     "data": {
      "text/plain": "<pandas.core.groupby.generic.DataFrameGroupBy object at 0x000001A0187E5180>"
     },
     "execution_count": 81,
     "metadata": {},
     "output_type": "execute_result"
    }
   ],
   "source": [
    "group_hour"
   ],
   "metadata": {
    "collapsed": false,
    "ExecuteTime": {
     "end_time": "2023-05-09T08:27:06.981376500Z",
     "start_time": "2023-05-09T08:27:06.962892100Z"
    }
   }
  },
  {
   "cell_type": "code",
   "execution_count": 82,
   "outputs": [
    {
     "data": {
      "text/plain": "          정보발생일시     년     월    일          분       차량속도       gps_x      gps_y\n시                                                                             \n5   2.212011e+13  22.0  12.0  1.0  33.500000  14.019231  129.138909  35.199676\n6   2.212011e+13  22.0  12.0  1.0  29.500000  12.600000  129.171295  35.168278\n7   2.212011e+13  22.0  12.0  1.0  28.000000  12.666667  129.138117  35.206066\n8   2.212011e+13  22.0  12.0  1.0   5.000000   9.000000  129.158473  35.236166\n9   2.212011e+13  22.0  12.0  1.0  58.000000   0.000000  129.158528  35.236211\n10  2.212011e+13  22.0  12.0  1.0  14.000000  25.827586  129.184779  35.244849\n11  2.212011e+13  22.0  12.0  1.0  52.500000   3.500000  129.158681  35.236114\n12  2.212011e+13  22.0  12.0  1.0  31.000000  10.877193  129.138147  35.204770\n13  2.212011e+13  22.0  12.0  1.0  29.500000  12.550000  129.169633  35.167089\n14  2.212011e+13  22.0  12.0  1.0  29.500000  14.766667  129.145950  35.182955\n15  2.212012e+13  22.0  12.0  1.0   5.000000   9.636364  129.149672  35.228324\n17  2.212012e+13  22.0  12.0  1.0  34.333333   0.166667  129.158470  35.236185",
      "text/html": "<div>\n<style scoped>\n    .dataframe tbody tr th:only-of-type {\n        vertical-align: middle;\n    }\n\n    .dataframe tbody tr th {\n        vertical-align: top;\n    }\n\n    .dataframe thead th {\n        text-align: right;\n    }\n</style>\n<table border=\"1\" class=\"dataframe\">\n  <thead>\n    <tr style=\"text-align: right;\">\n      <th></th>\n      <th>정보발생일시</th>\n      <th>년</th>\n      <th>월</th>\n      <th>일</th>\n      <th>분</th>\n      <th>차량속도</th>\n      <th>gps_x</th>\n      <th>gps_y</th>\n    </tr>\n    <tr>\n      <th>시</th>\n      <th></th>\n      <th></th>\n      <th></th>\n      <th></th>\n      <th></th>\n      <th></th>\n      <th></th>\n      <th></th>\n    </tr>\n  </thead>\n  <tbody>\n    <tr>\n      <th>5</th>\n      <td>2.212011e+13</td>\n      <td>22.0</td>\n      <td>12.0</td>\n      <td>1.0</td>\n      <td>33.500000</td>\n      <td>14.019231</td>\n      <td>129.138909</td>\n      <td>35.199676</td>\n    </tr>\n    <tr>\n      <th>6</th>\n      <td>2.212011e+13</td>\n      <td>22.0</td>\n      <td>12.0</td>\n      <td>1.0</td>\n      <td>29.500000</td>\n      <td>12.600000</td>\n      <td>129.171295</td>\n      <td>35.168278</td>\n    </tr>\n    <tr>\n      <th>7</th>\n      <td>2.212011e+13</td>\n      <td>22.0</td>\n      <td>12.0</td>\n      <td>1.0</td>\n      <td>28.000000</td>\n      <td>12.666667</td>\n      <td>129.138117</td>\n      <td>35.206066</td>\n    </tr>\n    <tr>\n      <th>8</th>\n      <td>2.212011e+13</td>\n      <td>22.0</td>\n      <td>12.0</td>\n      <td>1.0</td>\n      <td>5.000000</td>\n      <td>9.000000</td>\n      <td>129.158473</td>\n      <td>35.236166</td>\n    </tr>\n    <tr>\n      <th>9</th>\n      <td>2.212011e+13</td>\n      <td>22.0</td>\n      <td>12.0</td>\n      <td>1.0</td>\n      <td>58.000000</td>\n      <td>0.000000</td>\n      <td>129.158528</td>\n      <td>35.236211</td>\n    </tr>\n    <tr>\n      <th>10</th>\n      <td>2.212011e+13</td>\n      <td>22.0</td>\n      <td>12.0</td>\n      <td>1.0</td>\n      <td>14.000000</td>\n      <td>25.827586</td>\n      <td>129.184779</td>\n      <td>35.244849</td>\n    </tr>\n    <tr>\n      <th>11</th>\n      <td>2.212011e+13</td>\n      <td>22.0</td>\n      <td>12.0</td>\n      <td>1.0</td>\n      <td>52.500000</td>\n      <td>3.500000</td>\n      <td>129.158681</td>\n      <td>35.236114</td>\n    </tr>\n    <tr>\n      <th>12</th>\n      <td>2.212011e+13</td>\n      <td>22.0</td>\n      <td>12.0</td>\n      <td>1.0</td>\n      <td>31.000000</td>\n      <td>10.877193</td>\n      <td>129.138147</td>\n      <td>35.204770</td>\n    </tr>\n    <tr>\n      <th>13</th>\n      <td>2.212011e+13</td>\n      <td>22.0</td>\n      <td>12.0</td>\n      <td>1.0</td>\n      <td>29.500000</td>\n      <td>12.550000</td>\n      <td>129.169633</td>\n      <td>35.167089</td>\n    </tr>\n    <tr>\n      <th>14</th>\n      <td>2.212011e+13</td>\n      <td>22.0</td>\n      <td>12.0</td>\n      <td>1.0</td>\n      <td>29.500000</td>\n      <td>14.766667</td>\n      <td>129.145950</td>\n      <td>35.182955</td>\n    </tr>\n    <tr>\n      <th>15</th>\n      <td>2.212012e+13</td>\n      <td>22.0</td>\n      <td>12.0</td>\n      <td>1.0</td>\n      <td>5.000000</td>\n      <td>9.636364</td>\n      <td>129.149672</td>\n      <td>35.228324</td>\n    </tr>\n    <tr>\n      <th>17</th>\n      <td>2.212012e+13</td>\n      <td>22.0</td>\n      <td>12.0</td>\n      <td>1.0</td>\n      <td>34.333333</td>\n      <td>0.166667</td>\n      <td>129.158470</td>\n      <td>35.236185</td>\n    </tr>\n  </tbody>\n</table>\n</div>"
     },
     "execution_count": 82,
     "metadata": {},
     "output_type": "execute_result"
    }
   ],
   "source": [
    "group_hour.mean()"
   ],
   "metadata": {
    "collapsed": false,
    "ExecuteTime": {
     "end_time": "2023-05-09T08:27:08.004688Z",
     "start_time": "2023-05-09T08:27:07.978606500Z"
    }
   }
  },
  {
   "cell_type": "code",
   "execution_count": 87,
   "outputs": [
    {
     "ename": "KeyError",
     "evalue": "'년'",
     "output_type": "error",
     "traceback": [
      "\u001B[1;31m---------------------------------------------------------------------------\u001B[0m",
      "\u001B[1;31mKeyError\u001B[0m                                  Traceback (most recent call last)",
      "Cell \u001B[1;32mIn[87], line 2\u001B[0m\n\u001B[0;32m      1\u001B[0m velocity \u001B[38;5;241m=\u001B[39m df\u001B[38;5;241m.\u001B[39mgroupby(\u001B[38;5;124m'\u001B[39m\u001B[38;5;124m시\u001B[39m\u001B[38;5;124m'\u001B[39m, as_index\u001B[38;5;241m=\u001B[39m\u001B[38;5;28;01mFalse\u001B[39;00m)\u001B[38;5;241m.\u001B[39magg({\u001B[38;5;124m\"\u001B[39m\u001B[38;5;124m시\u001B[39m\u001B[38;5;124m\"\u001B[39m: \u001B[38;5;124m\"\u001B[39m\u001B[38;5;124mfirst\u001B[39m\u001B[38;5;124m\"\u001B[39m, \u001B[38;5;124m\"\u001B[39m\u001B[38;5;124m차량속도\u001B[39m\u001B[38;5;124m\"\u001B[39m: \u001B[38;5;124m\"\u001B[39m\u001B[38;5;124mmean\u001B[39m\u001B[38;5;124m\"\u001B[39m})\n\u001B[1;32m----> 2\u001B[0m temp \u001B[38;5;241m=\u001B[39m \u001B[43mdf\u001B[49m\u001B[38;5;241;43m.\u001B[39;49m\u001B[43mloc\u001B[49m\u001B[43m[\u001B[49m\u001B[38;5;124;43m'\u001B[39;49m\u001B[38;5;124;43m년\u001B[39;49m\u001B[38;5;124;43m'\u001B[39;49m\u001B[43m]\u001B[49m\n\u001B[0;32m      3\u001B[0m \u001B[38;5;28mprint\u001B[39m(temp)\n\u001B[0;32m      4\u001B[0m temp2 \u001B[38;5;241m=\u001B[39m df\u001B[38;5;241m.\u001B[39mloc[\u001B[38;5;124m'\u001B[39m\u001B[38;5;124mgps_x\u001B[39m\u001B[38;5;124m'\u001B[39m, \u001B[38;5;124m'\u001B[39m\u001B[38;5;124mgps_y\u001B[39m\u001B[38;5;124m'\u001B[39m]\n",
      "File \u001B[1;32m~\\Desktop\\project\\driving-record-analysis-for-web-service\\flask\\venv\\lib\\site-packages\\pandas\\core\\indexing.py:1103\u001B[0m, in \u001B[0;36m_LocationIndexer.__getitem__\u001B[1;34m(self, key)\u001B[0m\n\u001B[0;32m   1100\u001B[0m axis \u001B[38;5;241m=\u001B[39m \u001B[38;5;28mself\u001B[39m\u001B[38;5;241m.\u001B[39maxis \u001B[38;5;129;01mor\u001B[39;00m \u001B[38;5;241m0\u001B[39m\n\u001B[0;32m   1102\u001B[0m maybe_callable \u001B[38;5;241m=\u001B[39m com\u001B[38;5;241m.\u001B[39mapply_if_callable(key, \u001B[38;5;28mself\u001B[39m\u001B[38;5;241m.\u001B[39mobj)\n\u001B[1;32m-> 1103\u001B[0m \u001B[38;5;28;01mreturn\u001B[39;00m \u001B[38;5;28;43mself\u001B[39;49m\u001B[38;5;241;43m.\u001B[39;49m\u001B[43m_getitem_axis\u001B[49m\u001B[43m(\u001B[49m\u001B[43mmaybe_callable\u001B[49m\u001B[43m,\u001B[49m\u001B[43m \u001B[49m\u001B[43maxis\u001B[49m\u001B[38;5;241;43m=\u001B[39;49m\u001B[43maxis\u001B[49m\u001B[43m)\u001B[49m\n",
      "File \u001B[1;32m~\\Desktop\\project\\driving-record-analysis-for-web-service\\flask\\venv\\lib\\site-packages\\pandas\\core\\indexing.py:1343\u001B[0m, in \u001B[0;36m_LocIndexer._getitem_axis\u001B[1;34m(self, key, axis)\u001B[0m\n\u001B[0;32m   1341\u001B[0m \u001B[38;5;66;03m# fall thru to straight lookup\u001B[39;00m\n\u001B[0;32m   1342\u001B[0m \u001B[38;5;28mself\u001B[39m\u001B[38;5;241m.\u001B[39m_validate_key(key, axis)\n\u001B[1;32m-> 1343\u001B[0m \u001B[38;5;28;01mreturn\u001B[39;00m \u001B[38;5;28;43mself\u001B[39;49m\u001B[38;5;241;43m.\u001B[39;49m\u001B[43m_get_label\u001B[49m\u001B[43m(\u001B[49m\u001B[43mkey\u001B[49m\u001B[43m,\u001B[49m\u001B[43m \u001B[49m\u001B[43maxis\u001B[49m\u001B[38;5;241;43m=\u001B[39;49m\u001B[43maxis\u001B[49m\u001B[43m)\u001B[49m\n",
      "File \u001B[1;32m~\\Desktop\\project\\driving-record-analysis-for-web-service\\flask\\venv\\lib\\site-packages\\pandas\\core\\indexing.py:1293\u001B[0m, in \u001B[0;36m_LocIndexer._get_label\u001B[1;34m(self, label, axis)\u001B[0m\n\u001B[0;32m   1291\u001B[0m \u001B[38;5;28;01mdef\u001B[39;00m \u001B[38;5;21m_get_label\u001B[39m(\u001B[38;5;28mself\u001B[39m, label, axis: AxisInt):\n\u001B[0;32m   1292\u001B[0m     \u001B[38;5;66;03m# GH#5567 this will fail if the label is not present in the axis.\u001B[39;00m\n\u001B[1;32m-> 1293\u001B[0m     \u001B[38;5;28;01mreturn\u001B[39;00m \u001B[38;5;28;43mself\u001B[39;49m\u001B[38;5;241;43m.\u001B[39;49m\u001B[43mobj\u001B[49m\u001B[38;5;241;43m.\u001B[39;49m\u001B[43mxs\u001B[49m\u001B[43m(\u001B[49m\u001B[43mlabel\u001B[49m\u001B[43m,\u001B[49m\u001B[43m \u001B[49m\u001B[43maxis\u001B[49m\u001B[38;5;241;43m=\u001B[39;49m\u001B[43maxis\u001B[49m\u001B[43m)\u001B[49m\n",
      "File \u001B[1;32m~\\Desktop\\project\\driving-record-analysis-for-web-service\\flask\\venv\\lib\\site-packages\\pandas\\core\\generic.py:4095\u001B[0m, in \u001B[0;36mNDFrame.xs\u001B[1;34m(self, key, axis, level, drop_level)\u001B[0m\n\u001B[0;32m   4093\u001B[0m             new_index \u001B[38;5;241m=\u001B[39m index[loc]\n\u001B[0;32m   4094\u001B[0m \u001B[38;5;28;01melse\u001B[39;00m:\n\u001B[1;32m-> 4095\u001B[0m     loc \u001B[38;5;241m=\u001B[39m \u001B[43mindex\u001B[49m\u001B[38;5;241;43m.\u001B[39;49m\u001B[43mget_loc\u001B[49m\u001B[43m(\u001B[49m\u001B[43mkey\u001B[49m\u001B[43m)\u001B[49m\n\u001B[0;32m   4097\u001B[0m     \u001B[38;5;28;01mif\u001B[39;00m \u001B[38;5;28misinstance\u001B[39m(loc, np\u001B[38;5;241m.\u001B[39mndarray):\n\u001B[0;32m   4098\u001B[0m         \u001B[38;5;28;01mif\u001B[39;00m loc\u001B[38;5;241m.\u001B[39mdtype \u001B[38;5;241m==\u001B[39m np\u001B[38;5;241m.\u001B[39mbool_:\n",
      "File \u001B[1;32m~\\Desktop\\project\\driving-record-analysis-for-web-service\\flask\\venv\\lib\\site-packages\\pandas\\core\\indexes\\range.py:349\u001B[0m, in \u001B[0;36mRangeIndex.get_loc\u001B[1;34m(self, key)\u001B[0m\n\u001B[0;32m    347\u001B[0m         \u001B[38;5;28;01mraise\u001B[39;00m \u001B[38;5;167;01mKeyError\u001B[39;00m(key) \u001B[38;5;28;01mfrom\u001B[39;00m \u001B[38;5;21;01merr\u001B[39;00m\n\u001B[0;32m    348\u001B[0m \u001B[38;5;28;01mif\u001B[39;00m \u001B[38;5;28misinstance\u001B[39m(key, Hashable):\n\u001B[1;32m--> 349\u001B[0m     \u001B[38;5;28;01mraise\u001B[39;00m \u001B[38;5;167;01mKeyError\u001B[39;00m(key)\n\u001B[0;32m    350\u001B[0m \u001B[38;5;28mself\u001B[39m\u001B[38;5;241m.\u001B[39m_check_indexing_error(key)\n\u001B[0;32m    351\u001B[0m \u001B[38;5;28;01mraise\u001B[39;00m \u001B[38;5;167;01mKeyError\u001B[39;00m(key)\n",
      "\u001B[1;31mKeyError\u001B[0m: '년'"
     ]
    }
   ],
   "source": [
    "velocity = df.groupby('시', as_index=False).agg({\"시\": \"first\", \"차량속도\": \"mean\"})\n",
    "temp = loc.df['년']\n",
    "print(temp)\n",
    "temp2 = df.loc['gps_x', 'gps_y']\n",
    "hour_mean_velocity = temp + velocity + temp2"
   ],
   "metadata": {
    "collapsed": false,
    "ExecuteTime": {
     "end_time": "2023-05-09T08:32:16.713078200Z",
     "start_time": "2023-05-09T08:32:16.572164700Z"
    }
   }
  },
  {
   "cell_type": "code",
   "execution_count": null,
   "outputs": [],
   "source": [
    "hour_mean_velocity.to_csv('../data/hour_mean_velocity.csv', index=False)"
   ],
   "metadata": {
    "collapsed": false
   }
  }
 ],
 "metadata": {
  "kernelspec": {
   "display_name": "Python 3",
   "language": "python",
   "name": "python3"
  },
  "language_info": {
   "codemirror_mode": {
    "name": "ipython",
    "version": 2
   },
   "file_extension": ".py",
   "mimetype": "text/x-python",
   "name": "python",
   "nbconvert_exporter": "python",
   "pygments_lexer": "ipython2",
   "version": "2.7.6"
  }
 },
 "nbformat": 4,
 "nbformat_minor": 0
}
