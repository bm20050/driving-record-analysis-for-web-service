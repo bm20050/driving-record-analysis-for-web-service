{
 "cells": [
  {
   "cell_type": "code",
   "execution_count": 1,
   "metadata": {
    "collapsed": true,
    "ExecuteTime": {
     "end_time": "2023-05-24T06:51:31.777708400Z",
     "start_time": "2023-05-24T06:51:31.762084900Z"
    }
   },
   "outputs": [],
   "source": [
    "import pandas as pd"
   ]
  },
  {
   "cell_type": "code",
   "execution_count": 2,
   "outputs": [
    {
     "data": {
      "text/plain": "               날짜        번호판  일일주행거리   누적주행거리          정보발생일시  차량속도  RPM   \n0        20221201  부산70자1854       0    66443  22120105071500     0  193  \\\n1        20221201  부산70자1854       0    66443  22120105071600     0  388   \n2        20221201  부산70자1854       0    66443  22120105071700     0  777   \n3        20221201  부산70자1854       0    66443  22120105071800     0  638   \n4        20221201  부산70자1854       0    66443  22120105071900     0  461   \n...           ...        ...     ...      ...             ...   ...  ...   \n5948207  20221231  부산70자1894     176  3095705  22123121033800     0  331   \n5948208  20221231  부산70자1894     176  3095705  22123121033900     0   59   \n5948209  20221231  부산70자1894     176  3095705  22123121034000     0    0   \n5948210  20221231  부산70자1894     176  3095705  22123121034100     0    0   \n5948211  20221231  부산70자1894     176  3095705  22123121034200     0    0   \n\n         브레이크       GPS_X      GPS_Y  방위각  가속도_X  가속도_Y  \n0           0  129.158670  35.236021    0   -6.3    0.7  \n1           0  129.158670  35.236021    0   -7.9    1.6  \n2           0  129.158670  35.236021    0   -8.9    2.2  \n3           0  129.158670  35.236021    0   -6.6    0.8  \n4           0  129.158670  35.236021    0   -7.1    0.8  \n...       ...         ...        ...  ...    ...    ...  \n5948207     0  129.158597  35.235956   66   -5.7   -1.2  \n5948208     0  129.158597  35.235956   66   -5.8   -1.4  \n5948209     0  129.158597  35.235956   66   -5.4   -1.0  \n5948210     0  129.158597  35.235956   66   -5.4   -0.9  \n5948211     0  129.158597  35.235956   66   -5.3   -0.9  \n\n[5948212 rows x 13 columns]",
      "text/html": "<div>\n<style scoped>\n    .dataframe tbody tr th:only-of-type {\n        vertical-align: middle;\n    }\n\n    .dataframe tbody tr th {\n        vertical-align: top;\n    }\n\n    .dataframe thead th {\n        text-align: right;\n    }\n</style>\n<table border=\"1\" class=\"dataframe\">\n  <thead>\n    <tr style=\"text-align: right;\">\n      <th></th>\n      <th>날짜</th>\n      <th>번호판</th>\n      <th>일일주행거리</th>\n      <th>누적주행거리</th>\n      <th>정보발생일시</th>\n      <th>차량속도</th>\n      <th>RPM</th>\n      <th>브레이크</th>\n      <th>GPS_X</th>\n      <th>GPS_Y</th>\n      <th>방위각</th>\n      <th>가속도_X</th>\n      <th>가속도_Y</th>\n    </tr>\n  </thead>\n  <tbody>\n    <tr>\n      <th>0</th>\n      <td>20221201</td>\n      <td>부산70자1854</td>\n      <td>0</td>\n      <td>66443</td>\n      <td>22120105071500</td>\n      <td>0</td>\n      <td>193</td>\n      <td>0</td>\n      <td>129.158670</td>\n      <td>35.236021</td>\n      <td>0</td>\n      <td>-6.3</td>\n      <td>0.7</td>\n    </tr>\n    <tr>\n      <th>1</th>\n      <td>20221201</td>\n      <td>부산70자1854</td>\n      <td>0</td>\n      <td>66443</td>\n      <td>22120105071600</td>\n      <td>0</td>\n      <td>388</td>\n      <td>0</td>\n      <td>129.158670</td>\n      <td>35.236021</td>\n      <td>0</td>\n      <td>-7.9</td>\n      <td>1.6</td>\n    </tr>\n    <tr>\n      <th>2</th>\n      <td>20221201</td>\n      <td>부산70자1854</td>\n      <td>0</td>\n      <td>66443</td>\n      <td>22120105071700</td>\n      <td>0</td>\n      <td>777</td>\n      <td>0</td>\n      <td>129.158670</td>\n      <td>35.236021</td>\n      <td>0</td>\n      <td>-8.9</td>\n      <td>2.2</td>\n    </tr>\n    <tr>\n      <th>3</th>\n      <td>20221201</td>\n      <td>부산70자1854</td>\n      <td>0</td>\n      <td>66443</td>\n      <td>22120105071800</td>\n      <td>0</td>\n      <td>638</td>\n      <td>0</td>\n      <td>129.158670</td>\n      <td>35.236021</td>\n      <td>0</td>\n      <td>-6.6</td>\n      <td>0.8</td>\n    </tr>\n    <tr>\n      <th>4</th>\n      <td>20221201</td>\n      <td>부산70자1854</td>\n      <td>0</td>\n      <td>66443</td>\n      <td>22120105071900</td>\n      <td>0</td>\n      <td>461</td>\n      <td>0</td>\n      <td>129.158670</td>\n      <td>35.236021</td>\n      <td>0</td>\n      <td>-7.1</td>\n      <td>0.8</td>\n    </tr>\n    <tr>\n      <th>...</th>\n      <td>...</td>\n      <td>...</td>\n      <td>...</td>\n      <td>...</td>\n      <td>...</td>\n      <td>...</td>\n      <td>...</td>\n      <td>...</td>\n      <td>...</td>\n      <td>...</td>\n      <td>...</td>\n      <td>...</td>\n      <td>...</td>\n    </tr>\n    <tr>\n      <th>5948207</th>\n      <td>20221231</td>\n      <td>부산70자1894</td>\n      <td>176</td>\n      <td>3095705</td>\n      <td>22123121033800</td>\n      <td>0</td>\n      <td>331</td>\n      <td>0</td>\n      <td>129.158597</td>\n      <td>35.235956</td>\n      <td>66</td>\n      <td>-5.7</td>\n      <td>-1.2</td>\n    </tr>\n    <tr>\n      <th>5948208</th>\n      <td>20221231</td>\n      <td>부산70자1894</td>\n      <td>176</td>\n      <td>3095705</td>\n      <td>22123121033900</td>\n      <td>0</td>\n      <td>59</td>\n      <td>0</td>\n      <td>129.158597</td>\n      <td>35.235956</td>\n      <td>66</td>\n      <td>-5.8</td>\n      <td>-1.4</td>\n    </tr>\n    <tr>\n      <th>5948209</th>\n      <td>20221231</td>\n      <td>부산70자1894</td>\n      <td>176</td>\n      <td>3095705</td>\n      <td>22123121034000</td>\n      <td>0</td>\n      <td>0</td>\n      <td>0</td>\n      <td>129.158597</td>\n      <td>35.235956</td>\n      <td>66</td>\n      <td>-5.4</td>\n      <td>-1.0</td>\n    </tr>\n    <tr>\n      <th>5948210</th>\n      <td>20221231</td>\n      <td>부산70자1894</td>\n      <td>176</td>\n      <td>3095705</td>\n      <td>22123121034100</td>\n      <td>0</td>\n      <td>0</td>\n      <td>0</td>\n      <td>129.158597</td>\n      <td>35.235956</td>\n      <td>66</td>\n      <td>-5.4</td>\n      <td>-0.9</td>\n    </tr>\n    <tr>\n      <th>5948211</th>\n      <td>20221231</td>\n      <td>부산70자1894</td>\n      <td>176</td>\n      <td>3095705</td>\n      <td>22123121034200</td>\n      <td>0</td>\n      <td>0</td>\n      <td>0</td>\n      <td>129.158597</td>\n      <td>35.235956</td>\n      <td>66</td>\n      <td>-5.3</td>\n      <td>-0.9</td>\n    </tr>\n  </tbody>\n</table>\n<p>5948212 rows × 13 columns</p>\n</div>"
     },
     "execution_count": 2,
     "metadata": {},
     "output_type": "execute_result"
    }
   ],
   "source": [
    "df = pd.read_csv('../data/slice_data.csv')\n",
    "df"
   ],
   "metadata": {
    "collapsed": false,
    "ExecuteTime": {
     "end_time": "2023-05-24T06:51:53.295038700Z",
     "start_time": "2023-05-24T06:51:47.793025700Z"
    }
   }
  },
  {
   "cell_type": "code",
   "execution_count": 3,
   "outputs": [],
   "source": [
    "df['년'] = df['정보발생일시'].apply(lambda x: str(x)[0:2])\n",
    "df['월'] = df['정보발생일시'].apply(lambda x: str(x)[2:4])\n",
    "df['일'] = df['정보발생일시'].apply(lambda x: str(x)[4:6])\n",
    "df['시'] = df['정보발생일시'].apply(lambda x: str(x)[6:8])"
   ],
   "metadata": {
    "collapsed": false,
    "ExecuteTime": {
     "end_time": "2023-05-24T06:56:51.497385200Z",
     "start_time": "2023-05-24T06:56:45.242187200Z"
    }
   }
  },
  {
   "cell_type": "code",
   "execution_count": 5,
   "outputs": [],
   "source": [
    "df['시분초'] = df['정보발생일시'].apply(lambda x: str(x)[6:8] + ':' + str(x)[8:10] + ':' + str(x)[10:12])"
   ],
   "metadata": {
    "collapsed": false,
    "ExecuteTime": {
     "end_time": "2023-05-24T06:57:06.735874800Z",
     "start_time": "2023-05-24T06:57:02.483032400Z"
    }
   }
  },
  {
   "cell_type": "code",
   "execution_count": 7,
   "outputs": [],
   "source": [
    "l1 = []\n",
    "\n",
    "for i in df.index:\n",
    "    if i == 0:\n",
    "        l1.append(0)\n",
    "        continue\n",
    "\n",
    "    l1.append(df['차량속도'][i] - df['차량속도'][i - 1])"
   ],
   "metadata": {
    "collapsed": false,
    "ExecuteTime": {
     "end_time": "2023-05-24T06:58:41.118830600Z",
     "start_time": "2023-05-24T06:57:57.392856100Z"
    }
   }
  },
  {
   "cell_type": "code",
   "execution_count": 8,
   "outputs": [
    {
     "data": {
      "text/plain": "               날짜        번호판  일일주행거리   누적주행거리          정보발생일시  차량속도  RPM   \n0        20221201  부산70자1854       0    66443  22120105071500     0  193  \\\n1        20221201  부산70자1854       0    66443  22120105071600     0  388   \n2        20221201  부산70자1854       0    66443  22120105071700     0  777   \n3        20221201  부산70자1854       0    66443  22120105071800     0  638   \n4        20221201  부산70자1854       0    66443  22120105071900     0  461   \n...           ...        ...     ...      ...             ...   ...  ...   \n5948207  20221231  부산70자1894     176  3095705  22123121033800     0  331   \n5948208  20221231  부산70자1894     176  3095705  22123121033900     0   59   \n5948209  20221231  부산70자1894     176  3095705  22123121034000     0    0   \n5948210  20221231  부산70자1894     176  3095705  22123121034100     0    0   \n5948211  20221231  부산70자1894     176  3095705  22123121034200     0    0   \n\n         브레이크       GPS_X      GPS_Y  방위각  가속도_X  가속도_Y   년   월   일   시   \n0           0  129.158670  35.236021    0   -6.3    0.7  22  12  01  05  \\\n1           0  129.158670  35.236021    0   -7.9    1.6  22  12  01  05   \n2           0  129.158670  35.236021    0   -8.9    2.2  22  12  01  05   \n3           0  129.158670  35.236021    0   -6.6    0.8  22  12  01  05   \n4           0  129.158670  35.236021    0   -7.1    0.8  22  12  01  05   \n...       ...         ...        ...  ...    ...    ...  ..  ..  ..  ..   \n5948207     0  129.158597  35.235956   66   -5.7   -1.2  22  12  31  21   \n5948208     0  129.158597  35.235956   66   -5.8   -1.4  22  12  31  21   \n5948209     0  129.158597  35.235956   66   -5.4   -1.0  22  12  31  21   \n5948210     0  129.158597  35.235956   66   -5.4   -0.9  22  12  31  21   \n5948211     0  129.158597  35.235956   66   -5.3   -0.9  22  12  31  21   \n\n              시분초  가속도  \n0        05:07:15    0  \n1        05:07:16    0  \n2        05:07:17    0  \n3        05:07:18    0  \n4        05:07:19    0  \n...           ...  ...  \n5948207  21:03:38    0  \n5948208  21:03:39    0  \n5948209  21:03:40    0  \n5948210  21:03:41    0  \n5948211  21:03:42    0  \n\n[5948212 rows x 19 columns]",
      "text/html": "<div>\n<style scoped>\n    .dataframe tbody tr th:only-of-type {\n        vertical-align: middle;\n    }\n\n    .dataframe tbody tr th {\n        vertical-align: top;\n    }\n\n    .dataframe thead th {\n        text-align: right;\n    }\n</style>\n<table border=\"1\" class=\"dataframe\">\n  <thead>\n    <tr style=\"text-align: right;\">\n      <th></th>\n      <th>날짜</th>\n      <th>번호판</th>\n      <th>일일주행거리</th>\n      <th>누적주행거리</th>\n      <th>정보발생일시</th>\n      <th>차량속도</th>\n      <th>RPM</th>\n      <th>브레이크</th>\n      <th>GPS_X</th>\n      <th>GPS_Y</th>\n      <th>방위각</th>\n      <th>가속도_X</th>\n      <th>가속도_Y</th>\n      <th>년</th>\n      <th>월</th>\n      <th>일</th>\n      <th>시</th>\n      <th>시분초</th>\n      <th>가속도</th>\n    </tr>\n  </thead>\n  <tbody>\n    <tr>\n      <th>0</th>\n      <td>20221201</td>\n      <td>부산70자1854</td>\n      <td>0</td>\n      <td>66443</td>\n      <td>22120105071500</td>\n      <td>0</td>\n      <td>193</td>\n      <td>0</td>\n      <td>129.158670</td>\n      <td>35.236021</td>\n      <td>0</td>\n      <td>-6.3</td>\n      <td>0.7</td>\n      <td>22</td>\n      <td>12</td>\n      <td>01</td>\n      <td>05</td>\n      <td>05:07:15</td>\n      <td>0</td>\n    </tr>\n    <tr>\n      <th>1</th>\n      <td>20221201</td>\n      <td>부산70자1854</td>\n      <td>0</td>\n      <td>66443</td>\n      <td>22120105071600</td>\n      <td>0</td>\n      <td>388</td>\n      <td>0</td>\n      <td>129.158670</td>\n      <td>35.236021</td>\n      <td>0</td>\n      <td>-7.9</td>\n      <td>1.6</td>\n      <td>22</td>\n      <td>12</td>\n      <td>01</td>\n      <td>05</td>\n      <td>05:07:16</td>\n      <td>0</td>\n    </tr>\n    <tr>\n      <th>2</th>\n      <td>20221201</td>\n      <td>부산70자1854</td>\n      <td>0</td>\n      <td>66443</td>\n      <td>22120105071700</td>\n      <td>0</td>\n      <td>777</td>\n      <td>0</td>\n      <td>129.158670</td>\n      <td>35.236021</td>\n      <td>0</td>\n      <td>-8.9</td>\n      <td>2.2</td>\n      <td>22</td>\n      <td>12</td>\n      <td>01</td>\n      <td>05</td>\n      <td>05:07:17</td>\n      <td>0</td>\n    </tr>\n    <tr>\n      <th>3</th>\n      <td>20221201</td>\n      <td>부산70자1854</td>\n      <td>0</td>\n      <td>66443</td>\n      <td>22120105071800</td>\n      <td>0</td>\n      <td>638</td>\n      <td>0</td>\n      <td>129.158670</td>\n      <td>35.236021</td>\n      <td>0</td>\n      <td>-6.6</td>\n      <td>0.8</td>\n      <td>22</td>\n      <td>12</td>\n      <td>01</td>\n      <td>05</td>\n      <td>05:07:18</td>\n      <td>0</td>\n    </tr>\n    <tr>\n      <th>4</th>\n      <td>20221201</td>\n      <td>부산70자1854</td>\n      <td>0</td>\n      <td>66443</td>\n      <td>22120105071900</td>\n      <td>0</td>\n      <td>461</td>\n      <td>0</td>\n      <td>129.158670</td>\n      <td>35.236021</td>\n      <td>0</td>\n      <td>-7.1</td>\n      <td>0.8</td>\n      <td>22</td>\n      <td>12</td>\n      <td>01</td>\n      <td>05</td>\n      <td>05:07:19</td>\n      <td>0</td>\n    </tr>\n    <tr>\n      <th>...</th>\n      <td>...</td>\n      <td>...</td>\n      <td>...</td>\n      <td>...</td>\n      <td>...</td>\n      <td>...</td>\n      <td>...</td>\n      <td>...</td>\n      <td>...</td>\n      <td>...</td>\n      <td>...</td>\n      <td>...</td>\n      <td>...</td>\n      <td>...</td>\n      <td>...</td>\n      <td>...</td>\n      <td>...</td>\n      <td>...</td>\n      <td>...</td>\n    </tr>\n    <tr>\n      <th>5948207</th>\n      <td>20221231</td>\n      <td>부산70자1894</td>\n      <td>176</td>\n      <td>3095705</td>\n      <td>22123121033800</td>\n      <td>0</td>\n      <td>331</td>\n      <td>0</td>\n      <td>129.158597</td>\n      <td>35.235956</td>\n      <td>66</td>\n      <td>-5.7</td>\n      <td>-1.2</td>\n      <td>22</td>\n      <td>12</td>\n      <td>31</td>\n      <td>21</td>\n      <td>21:03:38</td>\n      <td>0</td>\n    </tr>\n    <tr>\n      <th>5948208</th>\n      <td>20221231</td>\n      <td>부산70자1894</td>\n      <td>176</td>\n      <td>3095705</td>\n      <td>22123121033900</td>\n      <td>0</td>\n      <td>59</td>\n      <td>0</td>\n      <td>129.158597</td>\n      <td>35.235956</td>\n      <td>66</td>\n      <td>-5.8</td>\n      <td>-1.4</td>\n      <td>22</td>\n      <td>12</td>\n      <td>31</td>\n      <td>21</td>\n      <td>21:03:39</td>\n      <td>0</td>\n    </tr>\n    <tr>\n      <th>5948209</th>\n      <td>20221231</td>\n      <td>부산70자1894</td>\n      <td>176</td>\n      <td>3095705</td>\n      <td>22123121034000</td>\n      <td>0</td>\n      <td>0</td>\n      <td>0</td>\n      <td>129.158597</td>\n      <td>35.235956</td>\n      <td>66</td>\n      <td>-5.4</td>\n      <td>-1.0</td>\n      <td>22</td>\n      <td>12</td>\n      <td>31</td>\n      <td>21</td>\n      <td>21:03:40</td>\n      <td>0</td>\n    </tr>\n    <tr>\n      <th>5948210</th>\n      <td>20221231</td>\n      <td>부산70자1894</td>\n      <td>176</td>\n      <td>3095705</td>\n      <td>22123121034100</td>\n      <td>0</td>\n      <td>0</td>\n      <td>0</td>\n      <td>129.158597</td>\n      <td>35.235956</td>\n      <td>66</td>\n      <td>-5.4</td>\n      <td>-0.9</td>\n      <td>22</td>\n      <td>12</td>\n      <td>31</td>\n      <td>21</td>\n      <td>21:03:41</td>\n      <td>0</td>\n    </tr>\n    <tr>\n      <th>5948211</th>\n      <td>20221231</td>\n      <td>부산70자1894</td>\n      <td>176</td>\n      <td>3095705</td>\n      <td>22123121034200</td>\n      <td>0</td>\n      <td>0</td>\n      <td>0</td>\n      <td>129.158597</td>\n      <td>35.235956</td>\n      <td>66</td>\n      <td>-5.3</td>\n      <td>-0.9</td>\n      <td>22</td>\n      <td>12</td>\n      <td>31</td>\n      <td>21</td>\n      <td>21:03:42</td>\n      <td>0</td>\n    </tr>\n  </tbody>\n</table>\n<p>5948212 rows × 19 columns</p>\n</div>"
     },
     "execution_count": 8,
     "metadata": {},
     "output_type": "execute_result"
    }
   ],
   "source": [
    "df['가속도'] = l1\n",
    "df"
   ],
   "metadata": {
    "collapsed": false,
    "ExecuteTime": {
     "end_time": "2023-05-24T06:59:29.792117700Z",
     "start_time": "2023-05-24T06:59:07.323148200Z"
    }
   }
  },
  {
   "cell_type": "code",
   "execution_count": 11,
   "outputs": [],
   "source": [
    "l1 = []\n",
    "l2 = []\n",
    "l3 = []\n",
    "l4 = []\n",
    "\n",
    "for i in df.index:\n",
    "    if i == 0:\n",
    "        l1.append(0)\n",
    "        l2.append(0)\n",
    "        l3.append(0)\n",
    "        l4.append(0)\n",
    "        continue\n",
    "\n",
    "\n",
    "    # 급출발\n",
    "    if 5 >= df['차량속도'][i - 1] and df['차량속도'][i] - df['차량속도'][i - 1] >= 8:\n",
    "        l2.append(1)\n",
    "        l1.append(0)\n",
    "        l3.append(0)\n",
    "        l4.append(0)\n",
    "\n",
    "    # 급가속\n",
    "    elif 6 <= df['차량속도'][i] <= 10 and df['차량속도'][i] - df['차량속도'][i - 1] >= 8:\n",
    "        l1.append(1)\n",
    "        l2.append(0)\n",
    "        l3.append(0)\n",
    "        l4.append(0)\n",
    "    elif 10 < df['차량속도'][i] <= 20 and df['차량속도'][i] - df['차량속도'][i - 1] >= 7:\n",
    "        l1.append(1)\n",
    "        l2.append(0)\n",
    "        l3.append(0)\n",
    "        l4.append(0)\n",
    "    elif 20 < df['차량속도'][i] and df['차량속도'][i] - df['차량속도'][i - 1] >= 6:\n",
    "        l1.append(1)\n",
    "        l2.append(0)\n",
    "        l3.append(0)\n",
    "        l4.append(0)\n",
    "\n",
    "     # 급정지\n",
    "    elif df['차량속도'][i - 1] - df['차량속도'][i] >= 9 and df['차량속도'][i] <= 5 and df['브레이크'][i] == 1:\n",
    "        l4.append(1)\n",
    "        l1.append(0)\n",
    "        l2.append(0)\n",
    "        l3.append(0)\n",
    "\n",
    "    # 급감속\n",
    "    elif 30 >= df['차량속도'][i] and df['차량속도'][i - 1] - df['차량속도'][i] >= 9 and df['차량속도'][i] >= 6 and df['브레이크'][i] == 1:\n",
    "        l3.append(1)\n",
    "        l1.append(0)\n",
    "        l2.append(0)\n",
    "        l4.append(0)\n",
    "    elif 50 >= df['차량속도'][i] and df['차량속도'][i - 1] - df['차량속도'][i] >= 10 and df['차량속도'][i] >= 6 and df['브레이크'][i] == 1:\n",
    "        l3.append(1)\n",
    "        l1.append(0)\n",
    "        l2.append(0)\n",
    "        l4.append(0)\n",
    "    elif 50 < df['차량속도'][i] and df['차량속도'][i - 1] - df['차량속도'][i] >= 12 and df['차량속도'][i] >= 6 and df['브레이크'][i] == 1:\n",
    "        l3.append(1)\n",
    "        l1.append(0)\n",
    "        l2.append(0)\n",
    "        l4.append(0)\n",
    "\n",
    "    # 정상주행\n",
    "    else:\n",
    "        l1.append(0)\n",
    "        l2.append(0)\n",
    "        l3.append(0)\n",
    "        l4.append(0)"
   ],
   "metadata": {
    "collapsed": false,
    "ExecuteTime": {
     "end_time": "2023-05-24T07:09:33.539377100Z",
     "start_time": "2023-05-24T07:03:51.354206400Z"
    }
   }
  },
  {
   "cell_type": "code",
   "execution_count": 12,
   "outputs": [
    {
     "data": {
      "text/plain": "               날짜        번호판  일일주행거리   누적주행거리          정보발생일시  차량속도  RPM   \n0        20221201  부산70자1854       0    66443  22120105071500     0  193  \\\n1        20221201  부산70자1854       0    66443  22120105071600     0  388   \n2        20221201  부산70자1854       0    66443  22120105071700     0  777   \n3        20221201  부산70자1854       0    66443  22120105071800     0  638   \n4        20221201  부산70자1854       0    66443  22120105071900     0  461   \n...           ...        ...     ...      ...             ...   ...  ...   \n5948207  20221231  부산70자1894     176  3095705  22123121033800     0  331   \n5948208  20221231  부산70자1894     176  3095705  22123121033900     0   59   \n5948209  20221231  부산70자1894     176  3095705  22123121034000     0    0   \n5948210  20221231  부산70자1894     176  3095705  22123121034100     0    0   \n5948211  20221231  부산70자1894     176  3095705  22123121034200     0    0   \n\n         브레이크       GPS_X      GPS_Y  ...   년   월   일   시       시분초 가속도 급가속   \n0           0  129.158670  35.236021  ...  22  12  01  05  05:07:15   0   0  \\\n1           0  129.158670  35.236021  ...  22  12  01  05  05:07:16   0   0   \n2           0  129.158670  35.236021  ...  22  12  01  05  05:07:17   0   0   \n3           0  129.158670  35.236021  ...  22  12  01  05  05:07:18   0   0   \n4           0  129.158670  35.236021  ...  22  12  01  05  05:07:19   0   0   \n...       ...         ...        ...  ...  ..  ..  ..  ..       ...  ..  ..   \n5948207     0  129.158597  35.235956  ...  22  12  31  21  21:03:38   0   0   \n5948208     0  129.158597  35.235956  ...  22  12  31  21  21:03:39   0   0   \n5948209     0  129.158597  35.235956  ...  22  12  31  21  21:03:40   0   0   \n5948210     0  129.158597  35.235956  ...  22  12  31  21  21:03:41   0   0   \n5948211     0  129.158597  35.235956  ...  22  12  31  21  21:03:42   0   0   \n\n        급출발  급감속  급정지  \n0         0    0    0  \n1         0    0    0  \n2         0    0    0  \n3         0    0    0  \n4         0    0    0  \n...      ..  ...  ...  \n5948207   0    0    0  \n5948208   0    0    0  \n5948209   0    0    0  \n5948210   0    0    0  \n5948211   0    0    0  \n\n[5948212 rows x 23 columns]",
      "text/html": "<div>\n<style scoped>\n    .dataframe tbody tr th:only-of-type {\n        vertical-align: middle;\n    }\n\n    .dataframe tbody tr th {\n        vertical-align: top;\n    }\n\n    .dataframe thead th {\n        text-align: right;\n    }\n</style>\n<table border=\"1\" class=\"dataframe\">\n  <thead>\n    <tr style=\"text-align: right;\">\n      <th></th>\n      <th>날짜</th>\n      <th>번호판</th>\n      <th>일일주행거리</th>\n      <th>누적주행거리</th>\n      <th>정보발생일시</th>\n      <th>차량속도</th>\n      <th>RPM</th>\n      <th>브레이크</th>\n      <th>GPS_X</th>\n      <th>GPS_Y</th>\n      <th>...</th>\n      <th>년</th>\n      <th>월</th>\n      <th>일</th>\n      <th>시</th>\n      <th>시분초</th>\n      <th>가속도</th>\n      <th>급가속</th>\n      <th>급출발</th>\n      <th>급감속</th>\n      <th>급정지</th>\n    </tr>\n  </thead>\n  <tbody>\n    <tr>\n      <th>0</th>\n      <td>20221201</td>\n      <td>부산70자1854</td>\n      <td>0</td>\n      <td>66443</td>\n      <td>22120105071500</td>\n      <td>0</td>\n      <td>193</td>\n      <td>0</td>\n      <td>129.158670</td>\n      <td>35.236021</td>\n      <td>...</td>\n      <td>22</td>\n      <td>12</td>\n      <td>01</td>\n      <td>05</td>\n      <td>05:07:15</td>\n      <td>0</td>\n      <td>0</td>\n      <td>0</td>\n      <td>0</td>\n      <td>0</td>\n    </tr>\n    <tr>\n      <th>1</th>\n      <td>20221201</td>\n      <td>부산70자1854</td>\n      <td>0</td>\n      <td>66443</td>\n      <td>22120105071600</td>\n      <td>0</td>\n      <td>388</td>\n      <td>0</td>\n      <td>129.158670</td>\n      <td>35.236021</td>\n      <td>...</td>\n      <td>22</td>\n      <td>12</td>\n      <td>01</td>\n      <td>05</td>\n      <td>05:07:16</td>\n      <td>0</td>\n      <td>0</td>\n      <td>0</td>\n      <td>0</td>\n      <td>0</td>\n    </tr>\n    <tr>\n      <th>2</th>\n      <td>20221201</td>\n      <td>부산70자1854</td>\n      <td>0</td>\n      <td>66443</td>\n      <td>22120105071700</td>\n      <td>0</td>\n      <td>777</td>\n      <td>0</td>\n      <td>129.158670</td>\n      <td>35.236021</td>\n      <td>...</td>\n      <td>22</td>\n      <td>12</td>\n      <td>01</td>\n      <td>05</td>\n      <td>05:07:17</td>\n      <td>0</td>\n      <td>0</td>\n      <td>0</td>\n      <td>0</td>\n      <td>0</td>\n    </tr>\n    <tr>\n      <th>3</th>\n      <td>20221201</td>\n      <td>부산70자1854</td>\n      <td>0</td>\n      <td>66443</td>\n      <td>22120105071800</td>\n      <td>0</td>\n      <td>638</td>\n      <td>0</td>\n      <td>129.158670</td>\n      <td>35.236021</td>\n      <td>...</td>\n      <td>22</td>\n      <td>12</td>\n      <td>01</td>\n      <td>05</td>\n      <td>05:07:18</td>\n      <td>0</td>\n      <td>0</td>\n      <td>0</td>\n      <td>0</td>\n      <td>0</td>\n    </tr>\n    <tr>\n      <th>4</th>\n      <td>20221201</td>\n      <td>부산70자1854</td>\n      <td>0</td>\n      <td>66443</td>\n      <td>22120105071900</td>\n      <td>0</td>\n      <td>461</td>\n      <td>0</td>\n      <td>129.158670</td>\n      <td>35.236021</td>\n      <td>...</td>\n      <td>22</td>\n      <td>12</td>\n      <td>01</td>\n      <td>05</td>\n      <td>05:07:19</td>\n      <td>0</td>\n      <td>0</td>\n      <td>0</td>\n      <td>0</td>\n      <td>0</td>\n    </tr>\n    <tr>\n      <th>...</th>\n      <td>...</td>\n      <td>...</td>\n      <td>...</td>\n      <td>...</td>\n      <td>...</td>\n      <td>...</td>\n      <td>...</td>\n      <td>...</td>\n      <td>...</td>\n      <td>...</td>\n      <td>...</td>\n      <td>...</td>\n      <td>...</td>\n      <td>...</td>\n      <td>...</td>\n      <td>...</td>\n      <td>...</td>\n      <td>...</td>\n      <td>...</td>\n      <td>...</td>\n      <td>...</td>\n    </tr>\n    <tr>\n      <th>5948207</th>\n      <td>20221231</td>\n      <td>부산70자1894</td>\n      <td>176</td>\n      <td>3095705</td>\n      <td>22123121033800</td>\n      <td>0</td>\n      <td>331</td>\n      <td>0</td>\n      <td>129.158597</td>\n      <td>35.235956</td>\n      <td>...</td>\n      <td>22</td>\n      <td>12</td>\n      <td>31</td>\n      <td>21</td>\n      <td>21:03:38</td>\n      <td>0</td>\n      <td>0</td>\n      <td>0</td>\n      <td>0</td>\n      <td>0</td>\n    </tr>\n    <tr>\n      <th>5948208</th>\n      <td>20221231</td>\n      <td>부산70자1894</td>\n      <td>176</td>\n      <td>3095705</td>\n      <td>22123121033900</td>\n      <td>0</td>\n      <td>59</td>\n      <td>0</td>\n      <td>129.158597</td>\n      <td>35.235956</td>\n      <td>...</td>\n      <td>22</td>\n      <td>12</td>\n      <td>31</td>\n      <td>21</td>\n      <td>21:03:39</td>\n      <td>0</td>\n      <td>0</td>\n      <td>0</td>\n      <td>0</td>\n      <td>0</td>\n    </tr>\n    <tr>\n      <th>5948209</th>\n      <td>20221231</td>\n      <td>부산70자1894</td>\n      <td>176</td>\n      <td>3095705</td>\n      <td>22123121034000</td>\n      <td>0</td>\n      <td>0</td>\n      <td>0</td>\n      <td>129.158597</td>\n      <td>35.235956</td>\n      <td>...</td>\n      <td>22</td>\n      <td>12</td>\n      <td>31</td>\n      <td>21</td>\n      <td>21:03:40</td>\n      <td>0</td>\n      <td>0</td>\n      <td>0</td>\n      <td>0</td>\n      <td>0</td>\n    </tr>\n    <tr>\n      <th>5948210</th>\n      <td>20221231</td>\n      <td>부산70자1894</td>\n      <td>176</td>\n      <td>3095705</td>\n      <td>22123121034100</td>\n      <td>0</td>\n      <td>0</td>\n      <td>0</td>\n      <td>129.158597</td>\n      <td>35.235956</td>\n      <td>...</td>\n      <td>22</td>\n      <td>12</td>\n      <td>31</td>\n      <td>21</td>\n      <td>21:03:41</td>\n      <td>0</td>\n      <td>0</td>\n      <td>0</td>\n      <td>0</td>\n      <td>0</td>\n    </tr>\n    <tr>\n      <th>5948211</th>\n      <td>20221231</td>\n      <td>부산70자1894</td>\n      <td>176</td>\n      <td>3095705</td>\n      <td>22123121034200</td>\n      <td>0</td>\n      <td>0</td>\n      <td>0</td>\n      <td>129.158597</td>\n      <td>35.235956</td>\n      <td>...</td>\n      <td>22</td>\n      <td>12</td>\n      <td>31</td>\n      <td>21</td>\n      <td>21:03:42</td>\n      <td>0</td>\n      <td>0</td>\n      <td>0</td>\n      <td>0</td>\n      <td>0</td>\n    </tr>\n  </tbody>\n</table>\n<p>5948212 rows × 23 columns</p>\n</div>"
     },
     "execution_count": 12,
     "metadata": {},
     "output_type": "execute_result"
    }
   ],
   "source": [
    "df['급가속'] = l1\n",
    "df['급출발'] = l2\n",
    "df['급감속'] = l3\n",
    "df['급정지'] = l4\n",
    "df"
   ],
   "metadata": {
    "collapsed": false,
    "ExecuteTime": {
     "end_time": "2023-05-24T07:29:57.998550800Z",
     "start_time": "2023-05-24T07:29:51.627794400Z"
    }
   }
  },
  {
   "cell_type": "markdown",
   "source": [],
   "metadata": {
    "collapsed": false
   }
  },
  {
   "cell_type": "code",
   "execution_count": 13,
   "outputs": [],
   "source": [
    "df.to_csv('../data/0524_to_db.csv', index=False)"
   ],
   "metadata": {
    "collapsed": false,
    "ExecuteTime": {
     "end_time": "2023-05-24T07:34:49.466447900Z",
     "start_time": "2023-05-24T07:34:17.908810500Z"
    }
   }
  },
  {
   "cell_type": "code",
   "execution_count": 14,
   "outputs": [
    {
     "data": {
      "text/plain": "               날짜        번호판  일일주행거리   누적주행거리          정보발생일시  차량속도  RPM   \n0        20221201  부산70자1854       0    66443  22120105071500     0  193  \\\n1        20221201  부산70자1854       0    66443  22120105071600     0  388   \n2        20221201  부산70자1854       0    66443  22120105071700     0  777   \n3        20221201  부산70자1854       0    66443  22120105071800     0  638   \n4        20221201  부산70자1854       0    66443  22120105071900     0  461   \n...           ...        ...     ...      ...             ...   ...  ...   \n5948207  20221231  부산70자1894     176  3095705  22123121033800     0  331   \n5948208  20221231  부산70자1894     176  3095705  22123121033900     0   59   \n5948209  20221231  부산70자1894     176  3095705  22123121034000     0    0   \n5948210  20221231  부산70자1894     176  3095705  22123121034100     0    0   \n5948211  20221231  부산70자1894     176  3095705  22123121034200     0    0   \n\n         브레이크       GPS_X      GPS_Y  ...   년   월   일   시       시분초 가속도 급가속   \n0           0  129.158670  35.236021  ...  22  12  01  05  05:07:15   0   0  \\\n1           0  129.158670  35.236021  ...  22  12  01  05  05:07:16   0   0   \n2           0  129.158670  35.236021  ...  22  12  01  05  05:07:17   0   0   \n3           0  129.158670  35.236021  ...  22  12  01  05  05:07:18   0   0   \n4           0  129.158670  35.236021  ...  22  12  01  05  05:07:19   0   0   \n...       ...         ...        ...  ...  ..  ..  ..  ..       ...  ..  ..   \n5948207     0  129.158597  35.235956  ...  22  12  31  21  21:03:38   0   0   \n5948208     0  129.158597  35.235956  ...  22  12  31  21  21:03:39   0   0   \n5948209     0  129.158597  35.235956  ...  22  12  31  21  21:03:40   0   0   \n5948210     0  129.158597  35.235956  ...  22  12  31  21  21:03:41   0   0   \n5948211     0  129.158597  35.235956  ...  22  12  31  21  21:03:42   0   0   \n\n        급출발  급감속  급정지  \n0         0    0    0  \n1         0    0    0  \n2         0    0    0  \n3         0    0    0  \n4         0    0    0  \n...      ..  ...  ...  \n5948207   0    0    0  \n5948208   0    0    0  \n5948209   0    0    0  \n5948210   0    0    0  \n5948211   0    0    0  \n\n[5948212 rows x 23 columns]",
      "text/html": "<div>\n<style scoped>\n    .dataframe tbody tr th:only-of-type {\n        vertical-align: middle;\n    }\n\n    .dataframe tbody tr th {\n        vertical-align: top;\n    }\n\n    .dataframe thead th {\n        text-align: right;\n    }\n</style>\n<table border=\"1\" class=\"dataframe\">\n  <thead>\n    <tr style=\"text-align: right;\">\n      <th></th>\n      <th>날짜</th>\n      <th>번호판</th>\n      <th>일일주행거리</th>\n      <th>누적주행거리</th>\n      <th>정보발생일시</th>\n      <th>차량속도</th>\n      <th>RPM</th>\n      <th>브레이크</th>\n      <th>GPS_X</th>\n      <th>GPS_Y</th>\n      <th>...</th>\n      <th>년</th>\n      <th>월</th>\n      <th>일</th>\n      <th>시</th>\n      <th>시분초</th>\n      <th>가속도</th>\n      <th>급가속</th>\n      <th>급출발</th>\n      <th>급감속</th>\n      <th>급정지</th>\n    </tr>\n  </thead>\n  <tbody>\n    <tr>\n      <th>0</th>\n      <td>20221201</td>\n      <td>부산70자1854</td>\n      <td>0</td>\n      <td>66443</td>\n      <td>22120105071500</td>\n      <td>0</td>\n      <td>193</td>\n      <td>0</td>\n      <td>129.158670</td>\n      <td>35.236021</td>\n      <td>...</td>\n      <td>22</td>\n      <td>12</td>\n      <td>01</td>\n      <td>05</td>\n      <td>05:07:15</td>\n      <td>0</td>\n      <td>0</td>\n      <td>0</td>\n      <td>0</td>\n      <td>0</td>\n    </tr>\n    <tr>\n      <th>1</th>\n      <td>20221201</td>\n      <td>부산70자1854</td>\n      <td>0</td>\n      <td>66443</td>\n      <td>22120105071600</td>\n      <td>0</td>\n      <td>388</td>\n      <td>0</td>\n      <td>129.158670</td>\n      <td>35.236021</td>\n      <td>...</td>\n      <td>22</td>\n      <td>12</td>\n      <td>01</td>\n      <td>05</td>\n      <td>05:07:16</td>\n      <td>0</td>\n      <td>0</td>\n      <td>0</td>\n      <td>0</td>\n      <td>0</td>\n    </tr>\n    <tr>\n      <th>2</th>\n      <td>20221201</td>\n      <td>부산70자1854</td>\n      <td>0</td>\n      <td>66443</td>\n      <td>22120105071700</td>\n      <td>0</td>\n      <td>777</td>\n      <td>0</td>\n      <td>129.158670</td>\n      <td>35.236021</td>\n      <td>...</td>\n      <td>22</td>\n      <td>12</td>\n      <td>01</td>\n      <td>05</td>\n      <td>05:07:17</td>\n      <td>0</td>\n      <td>0</td>\n      <td>0</td>\n      <td>0</td>\n      <td>0</td>\n    </tr>\n    <tr>\n      <th>3</th>\n      <td>20221201</td>\n      <td>부산70자1854</td>\n      <td>0</td>\n      <td>66443</td>\n      <td>22120105071800</td>\n      <td>0</td>\n      <td>638</td>\n      <td>0</td>\n      <td>129.158670</td>\n      <td>35.236021</td>\n      <td>...</td>\n      <td>22</td>\n      <td>12</td>\n      <td>01</td>\n      <td>05</td>\n      <td>05:07:18</td>\n      <td>0</td>\n      <td>0</td>\n      <td>0</td>\n      <td>0</td>\n      <td>0</td>\n    </tr>\n    <tr>\n      <th>4</th>\n      <td>20221201</td>\n      <td>부산70자1854</td>\n      <td>0</td>\n      <td>66443</td>\n      <td>22120105071900</td>\n      <td>0</td>\n      <td>461</td>\n      <td>0</td>\n      <td>129.158670</td>\n      <td>35.236021</td>\n      <td>...</td>\n      <td>22</td>\n      <td>12</td>\n      <td>01</td>\n      <td>05</td>\n      <td>05:07:19</td>\n      <td>0</td>\n      <td>0</td>\n      <td>0</td>\n      <td>0</td>\n      <td>0</td>\n    </tr>\n    <tr>\n      <th>...</th>\n      <td>...</td>\n      <td>...</td>\n      <td>...</td>\n      <td>...</td>\n      <td>...</td>\n      <td>...</td>\n      <td>...</td>\n      <td>...</td>\n      <td>...</td>\n      <td>...</td>\n      <td>...</td>\n      <td>...</td>\n      <td>...</td>\n      <td>...</td>\n      <td>...</td>\n      <td>...</td>\n      <td>...</td>\n      <td>...</td>\n      <td>...</td>\n      <td>...</td>\n      <td>...</td>\n    </tr>\n    <tr>\n      <th>5948207</th>\n      <td>20221231</td>\n      <td>부산70자1894</td>\n      <td>176</td>\n      <td>3095705</td>\n      <td>22123121033800</td>\n      <td>0</td>\n      <td>331</td>\n      <td>0</td>\n      <td>129.158597</td>\n      <td>35.235956</td>\n      <td>...</td>\n      <td>22</td>\n      <td>12</td>\n      <td>31</td>\n      <td>21</td>\n      <td>21:03:38</td>\n      <td>0</td>\n      <td>0</td>\n      <td>0</td>\n      <td>0</td>\n      <td>0</td>\n    </tr>\n    <tr>\n      <th>5948208</th>\n      <td>20221231</td>\n      <td>부산70자1894</td>\n      <td>176</td>\n      <td>3095705</td>\n      <td>22123121033900</td>\n      <td>0</td>\n      <td>59</td>\n      <td>0</td>\n      <td>129.158597</td>\n      <td>35.235956</td>\n      <td>...</td>\n      <td>22</td>\n      <td>12</td>\n      <td>31</td>\n      <td>21</td>\n      <td>21:03:39</td>\n      <td>0</td>\n      <td>0</td>\n      <td>0</td>\n      <td>0</td>\n      <td>0</td>\n    </tr>\n    <tr>\n      <th>5948209</th>\n      <td>20221231</td>\n      <td>부산70자1894</td>\n      <td>176</td>\n      <td>3095705</td>\n      <td>22123121034000</td>\n      <td>0</td>\n      <td>0</td>\n      <td>0</td>\n      <td>129.158597</td>\n      <td>35.235956</td>\n      <td>...</td>\n      <td>22</td>\n      <td>12</td>\n      <td>31</td>\n      <td>21</td>\n      <td>21:03:40</td>\n      <td>0</td>\n      <td>0</td>\n      <td>0</td>\n      <td>0</td>\n      <td>0</td>\n    </tr>\n    <tr>\n      <th>5948210</th>\n      <td>20221231</td>\n      <td>부산70자1894</td>\n      <td>176</td>\n      <td>3095705</td>\n      <td>22123121034100</td>\n      <td>0</td>\n      <td>0</td>\n      <td>0</td>\n      <td>129.158597</td>\n      <td>35.235956</td>\n      <td>...</td>\n      <td>22</td>\n      <td>12</td>\n      <td>31</td>\n      <td>21</td>\n      <td>21:03:41</td>\n      <td>0</td>\n      <td>0</td>\n      <td>0</td>\n      <td>0</td>\n      <td>0</td>\n    </tr>\n    <tr>\n      <th>5948211</th>\n      <td>20221231</td>\n      <td>부산70자1894</td>\n      <td>176</td>\n      <td>3095705</td>\n      <td>22123121034200</td>\n      <td>0</td>\n      <td>0</td>\n      <td>0</td>\n      <td>129.158597</td>\n      <td>35.235956</td>\n      <td>...</td>\n      <td>22</td>\n      <td>12</td>\n      <td>31</td>\n      <td>21</td>\n      <td>21:03:42</td>\n      <td>0</td>\n      <td>0</td>\n      <td>0</td>\n      <td>0</td>\n      <td>0</td>\n    </tr>\n  </tbody>\n</table>\n<p>5948212 rows × 23 columns</p>\n</div>"
     },
     "execution_count": 14,
     "metadata": {},
     "output_type": "execute_result"
    }
   ],
   "source": [
    "df"
   ],
   "metadata": {
    "collapsed": false,
    "ExecuteTime": {
     "end_time": "2023-05-24T07:37:25.897607800Z",
     "start_time": "2023-05-24T07:37:23.856662900Z"
    }
   }
  },
  {
   "cell_type": "code",
   "execution_count": 15,
   "outputs": [
    {
     "name": "stdout",
     "output_type": "stream",
     "text": [
      "<class 'pandas.core.frame.DataFrame'>\n",
      "RangeIndex: 5948212 entries, 0 to 5948211\n",
      "Data columns (total 23 columns):\n",
      " #   Column  Dtype  \n",
      "---  ------  -----  \n",
      " 0   날짜      int64  \n",
      " 1   번호판     object \n",
      " 2   일일주행거리  int64  \n",
      " 3   누적주행거리  int64  \n",
      " 4   정보발생일시  int64  \n",
      " 5   차량속도    int64  \n",
      " 6   RPM     int64  \n",
      " 7   브레이크    int64  \n",
      " 8   GPS_X   float64\n",
      " 9   GPS_Y   float64\n",
      " 10  방위각     int64  \n",
      " 11  가속도_X   float64\n",
      " 12  가속도_Y   float64\n",
      " 13  년       object \n",
      " 14  월       object \n",
      " 15  일       object \n",
      " 16  시       object \n",
      " 17  시분초     object \n",
      " 18  가속도     int64  \n",
      " 19  급가속     int64  \n",
      " 20  급출발     int64  \n",
      " 21  급감속     int64  \n",
      " 22  급정지     int64  \n",
      "dtypes: float64(4), int64(13), object(6)\n",
      "memory usage: 1.0+ GB\n"
     ]
    }
   ],
   "source": [
    "df.info()"
   ],
   "metadata": {
    "collapsed": false,
    "ExecuteTime": {
     "end_time": "2023-05-24T07:37:25.944771600Z",
     "start_time": "2023-05-24T07:37:25.897607800Z"
    }
   }
  },
  {
   "cell_type": "code",
   "execution_count": 16,
   "outputs": [
    {
     "data": {
      "text/plain": "               날짜        번호판 일일주행거리   누적주행거리          정보발생일시 차량속도  RPM 브레이크   \n0        20221201  부산70자1854      0    66443  22120105071500    0  193    0  \\\n1        20221201  부산70자1854      0    66443  22120105071600    0  388    0   \n2        20221201  부산70자1854      0    66443  22120105071700    0  777    0   \n3        20221201  부산70자1854      0    66443  22120105071800    0  638    0   \n4        20221201  부산70자1854      0    66443  22120105071900    0  461    0   \n...           ...        ...    ...      ...             ...  ...  ...  ...   \n5948207  20221231  부산70자1894    176  3095705  22123121033800    0  331    0   \n5948208  20221231  부산70자1894    176  3095705  22123121033900    0   59    0   \n5948209  20221231  부산70자1894    176  3095705  22123121034000    0    0    0   \n5948210  20221231  부산70자1894    176  3095705  22123121034100    0    0    0   \n5948211  20221231  부산70자1894    176  3095705  22123121034200    0    0    0   \n\n              GPS_X      GPS_Y  ...   년   월   일   시       시분초 가속도 급가속 급출발 급감속   \n0         129.15867  35.236021  ...  22  12  01  05  05:07:15   0   0   0   0  \\\n1         129.15867  35.236021  ...  22  12  01  05  05:07:16   0   0   0   0   \n2         129.15867  35.236021  ...  22  12  01  05  05:07:17   0   0   0   0   \n3         129.15867  35.236021  ...  22  12  01  05  05:07:18   0   0   0   0   \n4         129.15867  35.236021  ...  22  12  01  05  05:07:19   0   0   0   0   \n...             ...        ...  ...  ..  ..  ..  ..       ...  ..  ..  ..  ..   \n5948207  129.158597  35.235956  ...  22  12  31  21  21:03:38   0   0   0   0   \n5948208  129.158597  35.235956  ...  22  12  31  21  21:03:39   0   0   0   0   \n5948209  129.158597  35.235956  ...  22  12  31  21  21:03:40   0   0   0   0   \n5948210  129.158597  35.235956  ...  22  12  31  21  21:03:41   0   0   0   0   \n5948211  129.158597  35.235956  ...  22  12  31  21  21:03:42   0   0   0   0   \n\n        급정지  \n0         0  \n1         0  \n2         0  \n3         0  \n4         0  \n...      ..  \n5948207   0  \n5948208   0  \n5948209   0  \n5948210   0  \n5948211   0  \n\n[5948212 rows x 23 columns]",
      "text/html": "<div>\n<style scoped>\n    .dataframe tbody tr th:only-of-type {\n        vertical-align: middle;\n    }\n\n    .dataframe tbody tr th {\n        vertical-align: top;\n    }\n\n    .dataframe thead th {\n        text-align: right;\n    }\n</style>\n<table border=\"1\" class=\"dataframe\">\n  <thead>\n    <tr style=\"text-align: right;\">\n      <th></th>\n      <th>날짜</th>\n      <th>번호판</th>\n      <th>일일주행거리</th>\n      <th>누적주행거리</th>\n      <th>정보발생일시</th>\n      <th>차량속도</th>\n      <th>RPM</th>\n      <th>브레이크</th>\n      <th>GPS_X</th>\n      <th>GPS_Y</th>\n      <th>...</th>\n      <th>년</th>\n      <th>월</th>\n      <th>일</th>\n      <th>시</th>\n      <th>시분초</th>\n      <th>가속도</th>\n      <th>급가속</th>\n      <th>급출발</th>\n      <th>급감속</th>\n      <th>급정지</th>\n    </tr>\n  </thead>\n  <tbody>\n    <tr>\n      <th>0</th>\n      <td>20221201</td>\n      <td>부산70자1854</td>\n      <td>0</td>\n      <td>66443</td>\n      <td>22120105071500</td>\n      <td>0</td>\n      <td>193</td>\n      <td>0</td>\n      <td>129.15867</td>\n      <td>35.236021</td>\n      <td>...</td>\n      <td>22</td>\n      <td>12</td>\n      <td>01</td>\n      <td>05</td>\n      <td>05:07:15</td>\n      <td>0</td>\n      <td>0</td>\n      <td>0</td>\n      <td>0</td>\n      <td>0</td>\n    </tr>\n    <tr>\n      <th>1</th>\n      <td>20221201</td>\n      <td>부산70자1854</td>\n      <td>0</td>\n      <td>66443</td>\n      <td>22120105071600</td>\n      <td>0</td>\n      <td>388</td>\n      <td>0</td>\n      <td>129.15867</td>\n      <td>35.236021</td>\n      <td>...</td>\n      <td>22</td>\n      <td>12</td>\n      <td>01</td>\n      <td>05</td>\n      <td>05:07:16</td>\n      <td>0</td>\n      <td>0</td>\n      <td>0</td>\n      <td>0</td>\n      <td>0</td>\n    </tr>\n    <tr>\n      <th>2</th>\n      <td>20221201</td>\n      <td>부산70자1854</td>\n      <td>0</td>\n      <td>66443</td>\n      <td>22120105071700</td>\n      <td>0</td>\n      <td>777</td>\n      <td>0</td>\n      <td>129.15867</td>\n      <td>35.236021</td>\n      <td>...</td>\n      <td>22</td>\n      <td>12</td>\n      <td>01</td>\n      <td>05</td>\n      <td>05:07:17</td>\n      <td>0</td>\n      <td>0</td>\n      <td>0</td>\n      <td>0</td>\n      <td>0</td>\n    </tr>\n    <tr>\n      <th>3</th>\n      <td>20221201</td>\n      <td>부산70자1854</td>\n      <td>0</td>\n      <td>66443</td>\n      <td>22120105071800</td>\n      <td>0</td>\n      <td>638</td>\n      <td>0</td>\n      <td>129.15867</td>\n      <td>35.236021</td>\n      <td>...</td>\n      <td>22</td>\n      <td>12</td>\n      <td>01</td>\n      <td>05</td>\n      <td>05:07:18</td>\n      <td>0</td>\n      <td>0</td>\n      <td>0</td>\n      <td>0</td>\n      <td>0</td>\n    </tr>\n    <tr>\n      <th>4</th>\n      <td>20221201</td>\n      <td>부산70자1854</td>\n      <td>0</td>\n      <td>66443</td>\n      <td>22120105071900</td>\n      <td>0</td>\n      <td>461</td>\n      <td>0</td>\n      <td>129.15867</td>\n      <td>35.236021</td>\n      <td>...</td>\n      <td>22</td>\n      <td>12</td>\n      <td>01</td>\n      <td>05</td>\n      <td>05:07:19</td>\n      <td>0</td>\n      <td>0</td>\n      <td>0</td>\n      <td>0</td>\n      <td>0</td>\n    </tr>\n    <tr>\n      <th>...</th>\n      <td>...</td>\n      <td>...</td>\n      <td>...</td>\n      <td>...</td>\n      <td>...</td>\n      <td>...</td>\n      <td>...</td>\n      <td>...</td>\n      <td>...</td>\n      <td>...</td>\n      <td>...</td>\n      <td>...</td>\n      <td>...</td>\n      <td>...</td>\n      <td>...</td>\n      <td>...</td>\n      <td>...</td>\n      <td>...</td>\n      <td>...</td>\n      <td>...</td>\n      <td>...</td>\n    </tr>\n    <tr>\n      <th>5948207</th>\n      <td>20221231</td>\n      <td>부산70자1894</td>\n      <td>176</td>\n      <td>3095705</td>\n      <td>22123121033800</td>\n      <td>0</td>\n      <td>331</td>\n      <td>0</td>\n      <td>129.158597</td>\n      <td>35.235956</td>\n      <td>...</td>\n      <td>22</td>\n      <td>12</td>\n      <td>31</td>\n      <td>21</td>\n      <td>21:03:38</td>\n      <td>0</td>\n      <td>0</td>\n      <td>0</td>\n      <td>0</td>\n      <td>0</td>\n    </tr>\n    <tr>\n      <th>5948208</th>\n      <td>20221231</td>\n      <td>부산70자1894</td>\n      <td>176</td>\n      <td>3095705</td>\n      <td>22123121033900</td>\n      <td>0</td>\n      <td>59</td>\n      <td>0</td>\n      <td>129.158597</td>\n      <td>35.235956</td>\n      <td>...</td>\n      <td>22</td>\n      <td>12</td>\n      <td>31</td>\n      <td>21</td>\n      <td>21:03:39</td>\n      <td>0</td>\n      <td>0</td>\n      <td>0</td>\n      <td>0</td>\n      <td>0</td>\n    </tr>\n    <tr>\n      <th>5948209</th>\n      <td>20221231</td>\n      <td>부산70자1894</td>\n      <td>176</td>\n      <td>3095705</td>\n      <td>22123121034000</td>\n      <td>0</td>\n      <td>0</td>\n      <td>0</td>\n      <td>129.158597</td>\n      <td>35.235956</td>\n      <td>...</td>\n      <td>22</td>\n      <td>12</td>\n      <td>31</td>\n      <td>21</td>\n      <td>21:03:40</td>\n      <td>0</td>\n      <td>0</td>\n      <td>0</td>\n      <td>0</td>\n      <td>0</td>\n    </tr>\n    <tr>\n      <th>5948210</th>\n      <td>20221231</td>\n      <td>부산70자1894</td>\n      <td>176</td>\n      <td>3095705</td>\n      <td>22123121034100</td>\n      <td>0</td>\n      <td>0</td>\n      <td>0</td>\n      <td>129.158597</td>\n      <td>35.235956</td>\n      <td>...</td>\n      <td>22</td>\n      <td>12</td>\n      <td>31</td>\n      <td>21</td>\n      <td>21:03:41</td>\n      <td>0</td>\n      <td>0</td>\n      <td>0</td>\n      <td>0</td>\n      <td>0</td>\n    </tr>\n    <tr>\n      <th>5948211</th>\n      <td>20221231</td>\n      <td>부산70자1894</td>\n      <td>176</td>\n      <td>3095705</td>\n      <td>22123121034200</td>\n      <td>0</td>\n      <td>0</td>\n      <td>0</td>\n      <td>129.158597</td>\n      <td>35.235956</td>\n      <td>...</td>\n      <td>22</td>\n      <td>12</td>\n      <td>31</td>\n      <td>21</td>\n      <td>21:03:42</td>\n      <td>0</td>\n      <td>0</td>\n      <td>0</td>\n      <td>0</td>\n      <td>0</td>\n    </tr>\n  </tbody>\n</table>\n<p>5948212 rows × 23 columns</p>\n</div>"
     },
     "execution_count": 16,
     "metadata": {},
     "output_type": "execute_result"
    }
   ],
   "source": [
    "for i in df.columns:\n",
    "    df[i] = df[i].apply(lambda x: str(x))\n",
    "df"
   ],
   "metadata": {
    "collapsed": false,
    "ExecuteTime": {
     "end_time": "2023-05-24T07:40:09.613897500Z",
     "start_time": "2023-05-24T07:39:26.190363700Z"
    }
   }
  },
  {
   "cell_type": "code",
   "execution_count": 17,
   "outputs": [
    {
     "name": "stdout",
     "output_type": "stream",
     "text": [
      "<class 'pandas.core.frame.DataFrame'>\n",
      "RangeIndex: 5948212 entries, 0 to 5948211\n",
      "Data columns (total 23 columns):\n",
      " #   Column  Dtype \n",
      "---  ------  ----- \n",
      " 0   날짜      object\n",
      " 1   번호판     object\n",
      " 2   일일주행거리  object\n",
      " 3   누적주행거리  object\n",
      " 4   정보발생일시  object\n",
      " 5   차량속도    object\n",
      " 6   RPM     object\n",
      " 7   브레이크    object\n",
      " 8   GPS_X   object\n",
      " 9   GPS_Y   object\n",
      " 10  방위각     object\n",
      " 11  가속도_X   object\n",
      " 12  가속도_Y   object\n",
      " 13  년       object\n",
      " 14  월       object\n",
      " 15  일       object\n",
      " 16  시       object\n",
      " 17  시분초     object\n",
      " 18  가속도     object\n",
      " 19  급가속     object\n",
      " 20  급출발     object\n",
      " 21  급감속     object\n",
      " 22  급정지     object\n",
      "dtypes: object(23)\n",
      "memory usage: 1.0+ GB\n"
     ]
    }
   ],
   "source": [
    "df.info()"
   ],
   "metadata": {
    "collapsed": false,
    "ExecuteTime": {
     "end_time": "2023-05-24T07:40:09.645690800Z",
     "start_time": "2023-05-24T07:40:09.629731100Z"
    }
   }
  },
  {
   "cell_type": "code",
   "execution_count": 18,
   "outputs": [],
   "source": [
    "df.to_csv('../data/0524_to_db.csv', index=False)"
   ],
   "metadata": {
    "collapsed": false,
    "ExecuteTime": {
     "end_time": "2023-05-24T07:40:56.271529300Z",
     "start_time": "2023-05-24T07:40:30.052895900Z"
    }
   }
  },
  {
   "cell_type": "code",
   "execution_count": 19,
   "outputs": [
    {
     "data": {
      "text/plain": "               날짜        번호판 일일주행거리   누적주행거리          정보발생일시 차량속도  RPM 브레이크   \n0        20221201  부산70자1854      0    66443  22120105071500    0  193    0  \\\n1        20221201  부산70자1854      0    66443  22120105071600    0  388    0   \n2        20221201  부산70자1854      0    66443  22120105071700    0  777    0   \n3        20221201  부산70자1854      0    66443  22120105071800    0  638    0   \n4        20221201  부산70자1854      0    66443  22120105071900    0  461    0   \n...           ...        ...    ...      ...             ...  ...  ...  ...   \n5948207  20221231  부산70자1894    176  3095705  22123121033800    0  331    0   \n5948208  20221231  부산70자1894    176  3095705  22123121033900    0   59    0   \n5948209  20221231  부산70자1894    176  3095705  22123121034000    0    0    0   \n5948210  20221231  부산70자1894    176  3095705  22123121034100    0    0    0   \n5948211  20221231  부산70자1894    176  3095705  22123121034200    0    0    0   \n\n              GPS_X      GPS_Y  ...   년   월   일   시       시분초 가속도 급가속 급출발 급감속   \n0         129.15867  35.236021  ...  22  12  01  05  05:07:15   0   0   0   0  \\\n1         129.15867  35.236021  ...  22  12  01  05  05:07:16   0   0   0   0   \n2         129.15867  35.236021  ...  22  12  01  05  05:07:17   0   0   0   0   \n3         129.15867  35.236021  ...  22  12  01  05  05:07:18   0   0   0   0   \n4         129.15867  35.236021  ...  22  12  01  05  05:07:19   0   0   0   0   \n...             ...        ...  ...  ..  ..  ..  ..       ...  ..  ..  ..  ..   \n5948207  129.158597  35.235956  ...  22  12  31  21  21:03:38   0   0   0   0   \n5948208  129.158597  35.235956  ...  22  12  31  21  21:03:39   0   0   0   0   \n5948209  129.158597  35.235956  ...  22  12  31  21  21:03:40   0   0   0   0   \n5948210  129.158597  35.235956  ...  22  12  31  21  21:03:41   0   0   0   0   \n5948211  129.158597  35.235956  ...  22  12  31  21  21:03:42   0   0   0   0   \n\n        급정지  \n0         0  \n1         0  \n2         0  \n3         0  \n4         0  \n...      ..  \n5948207   0  \n5948208   0  \n5948209   0  \n5948210   0  \n5948211   0  \n\n[5948212 rows x 23 columns]",
      "text/html": "<div>\n<style scoped>\n    .dataframe tbody tr th:only-of-type {\n        vertical-align: middle;\n    }\n\n    .dataframe tbody tr th {\n        vertical-align: top;\n    }\n\n    .dataframe thead th {\n        text-align: right;\n    }\n</style>\n<table border=\"1\" class=\"dataframe\">\n  <thead>\n    <tr style=\"text-align: right;\">\n      <th></th>\n      <th>날짜</th>\n      <th>번호판</th>\n      <th>일일주행거리</th>\n      <th>누적주행거리</th>\n      <th>정보발생일시</th>\n      <th>차량속도</th>\n      <th>RPM</th>\n      <th>브레이크</th>\n      <th>GPS_X</th>\n      <th>GPS_Y</th>\n      <th>...</th>\n      <th>년</th>\n      <th>월</th>\n      <th>일</th>\n      <th>시</th>\n      <th>시분초</th>\n      <th>가속도</th>\n      <th>급가속</th>\n      <th>급출발</th>\n      <th>급감속</th>\n      <th>급정지</th>\n    </tr>\n  </thead>\n  <tbody>\n    <tr>\n      <th>0</th>\n      <td>20221201</td>\n      <td>부산70자1854</td>\n      <td>0</td>\n      <td>66443</td>\n      <td>22120105071500</td>\n      <td>0</td>\n      <td>193</td>\n      <td>0</td>\n      <td>129.15867</td>\n      <td>35.236021</td>\n      <td>...</td>\n      <td>22</td>\n      <td>12</td>\n      <td>01</td>\n      <td>05</td>\n      <td>05:07:15</td>\n      <td>0</td>\n      <td>0</td>\n      <td>0</td>\n      <td>0</td>\n      <td>0</td>\n    </tr>\n    <tr>\n      <th>1</th>\n      <td>20221201</td>\n      <td>부산70자1854</td>\n      <td>0</td>\n      <td>66443</td>\n      <td>22120105071600</td>\n      <td>0</td>\n      <td>388</td>\n      <td>0</td>\n      <td>129.15867</td>\n      <td>35.236021</td>\n      <td>...</td>\n      <td>22</td>\n      <td>12</td>\n      <td>01</td>\n      <td>05</td>\n      <td>05:07:16</td>\n      <td>0</td>\n      <td>0</td>\n      <td>0</td>\n      <td>0</td>\n      <td>0</td>\n    </tr>\n    <tr>\n      <th>2</th>\n      <td>20221201</td>\n      <td>부산70자1854</td>\n      <td>0</td>\n      <td>66443</td>\n      <td>22120105071700</td>\n      <td>0</td>\n      <td>777</td>\n      <td>0</td>\n      <td>129.15867</td>\n      <td>35.236021</td>\n      <td>...</td>\n      <td>22</td>\n      <td>12</td>\n      <td>01</td>\n      <td>05</td>\n      <td>05:07:17</td>\n      <td>0</td>\n      <td>0</td>\n      <td>0</td>\n      <td>0</td>\n      <td>0</td>\n    </tr>\n    <tr>\n      <th>3</th>\n      <td>20221201</td>\n      <td>부산70자1854</td>\n      <td>0</td>\n      <td>66443</td>\n      <td>22120105071800</td>\n      <td>0</td>\n      <td>638</td>\n      <td>0</td>\n      <td>129.15867</td>\n      <td>35.236021</td>\n      <td>...</td>\n      <td>22</td>\n      <td>12</td>\n      <td>01</td>\n      <td>05</td>\n      <td>05:07:18</td>\n      <td>0</td>\n      <td>0</td>\n      <td>0</td>\n      <td>0</td>\n      <td>0</td>\n    </tr>\n    <tr>\n      <th>4</th>\n      <td>20221201</td>\n      <td>부산70자1854</td>\n      <td>0</td>\n      <td>66443</td>\n      <td>22120105071900</td>\n      <td>0</td>\n      <td>461</td>\n      <td>0</td>\n      <td>129.15867</td>\n      <td>35.236021</td>\n      <td>...</td>\n      <td>22</td>\n      <td>12</td>\n      <td>01</td>\n      <td>05</td>\n      <td>05:07:19</td>\n      <td>0</td>\n      <td>0</td>\n      <td>0</td>\n      <td>0</td>\n      <td>0</td>\n    </tr>\n    <tr>\n      <th>...</th>\n      <td>...</td>\n      <td>...</td>\n      <td>...</td>\n      <td>...</td>\n      <td>...</td>\n      <td>...</td>\n      <td>...</td>\n      <td>...</td>\n      <td>...</td>\n      <td>...</td>\n      <td>...</td>\n      <td>...</td>\n      <td>...</td>\n      <td>...</td>\n      <td>...</td>\n      <td>...</td>\n      <td>...</td>\n      <td>...</td>\n      <td>...</td>\n      <td>...</td>\n      <td>...</td>\n    </tr>\n    <tr>\n      <th>5948207</th>\n      <td>20221231</td>\n      <td>부산70자1894</td>\n      <td>176</td>\n      <td>3095705</td>\n      <td>22123121033800</td>\n      <td>0</td>\n      <td>331</td>\n      <td>0</td>\n      <td>129.158597</td>\n      <td>35.235956</td>\n      <td>...</td>\n      <td>22</td>\n      <td>12</td>\n      <td>31</td>\n      <td>21</td>\n      <td>21:03:38</td>\n      <td>0</td>\n      <td>0</td>\n      <td>0</td>\n      <td>0</td>\n      <td>0</td>\n    </tr>\n    <tr>\n      <th>5948208</th>\n      <td>20221231</td>\n      <td>부산70자1894</td>\n      <td>176</td>\n      <td>3095705</td>\n      <td>22123121033900</td>\n      <td>0</td>\n      <td>59</td>\n      <td>0</td>\n      <td>129.158597</td>\n      <td>35.235956</td>\n      <td>...</td>\n      <td>22</td>\n      <td>12</td>\n      <td>31</td>\n      <td>21</td>\n      <td>21:03:39</td>\n      <td>0</td>\n      <td>0</td>\n      <td>0</td>\n      <td>0</td>\n      <td>0</td>\n    </tr>\n    <tr>\n      <th>5948209</th>\n      <td>20221231</td>\n      <td>부산70자1894</td>\n      <td>176</td>\n      <td>3095705</td>\n      <td>22123121034000</td>\n      <td>0</td>\n      <td>0</td>\n      <td>0</td>\n      <td>129.158597</td>\n      <td>35.235956</td>\n      <td>...</td>\n      <td>22</td>\n      <td>12</td>\n      <td>31</td>\n      <td>21</td>\n      <td>21:03:40</td>\n      <td>0</td>\n      <td>0</td>\n      <td>0</td>\n      <td>0</td>\n      <td>0</td>\n    </tr>\n    <tr>\n      <th>5948210</th>\n      <td>20221231</td>\n      <td>부산70자1894</td>\n      <td>176</td>\n      <td>3095705</td>\n      <td>22123121034100</td>\n      <td>0</td>\n      <td>0</td>\n      <td>0</td>\n      <td>129.158597</td>\n      <td>35.235956</td>\n      <td>...</td>\n      <td>22</td>\n      <td>12</td>\n      <td>31</td>\n      <td>21</td>\n      <td>21:03:41</td>\n      <td>0</td>\n      <td>0</td>\n      <td>0</td>\n      <td>0</td>\n      <td>0</td>\n    </tr>\n    <tr>\n      <th>5948211</th>\n      <td>20221231</td>\n      <td>부산70자1894</td>\n      <td>176</td>\n      <td>3095705</td>\n      <td>22123121034200</td>\n      <td>0</td>\n      <td>0</td>\n      <td>0</td>\n      <td>129.158597</td>\n      <td>35.235956</td>\n      <td>...</td>\n      <td>22</td>\n      <td>12</td>\n      <td>31</td>\n      <td>21</td>\n      <td>21:03:42</td>\n      <td>0</td>\n      <td>0</td>\n      <td>0</td>\n      <td>0</td>\n      <td>0</td>\n    </tr>\n  </tbody>\n</table>\n<p>5948212 rows × 23 columns</p>\n</div>"
     },
     "execution_count": 19,
     "metadata": {},
     "output_type": "execute_result"
    }
   ],
   "source": [
    "df"
   ],
   "metadata": {
    "collapsed": false,
    "ExecuteTime": {
     "end_time": "2023-05-24T07:50:34.332656Z",
     "start_time": "2023-05-24T07:50:26.743108600Z"
    }
   }
  },
  {
   "cell_type": "code",
   "execution_count": 20,
   "outputs": [],
   "source": [
    "df['차량번호'] = df['번호판']"
   ],
   "metadata": {
    "collapsed": false,
    "ExecuteTime": {
     "end_time": "2023-05-24T07:50:38.988700100Z",
     "start_time": "2023-05-24T07:50:38.968544900Z"
    }
   }
  },
  {
   "cell_type": "code",
   "execution_count": 21,
   "outputs": [
    {
     "data": {
      "text/plain": "        차량속도  RPM       GPS_X      GPS_Y   년   월   일   시       시분초 가속도 급가속   \n0          0  193   129.15867  35.236021  22  12  01  05  05:07:15   0   0  \\\n1          0  388   129.15867  35.236021  22  12  01  05  05:07:16   0   0   \n2          0  777   129.15867  35.236021  22  12  01  05  05:07:17   0   0   \n3          0  638   129.15867  35.236021  22  12  01  05  05:07:18   0   0   \n4          0  461   129.15867  35.236021  22  12  01  05  05:07:19   0   0   \n...      ...  ...         ...        ...  ..  ..  ..  ..       ...  ..  ..   \n5948207    0  331  129.158597  35.235956  22  12  31  21  21:03:38   0   0   \n5948208    0   59  129.158597  35.235956  22  12  31  21  21:03:39   0   0   \n5948209    0    0  129.158597  35.235956  22  12  31  21  21:03:40   0   0   \n5948210    0    0  129.158597  35.235956  22  12  31  21  21:03:41   0   0   \n5948211    0    0  129.158597  35.235956  22  12  31  21  21:03:42   0   0   \n\n        급출발 급감속 급정지       차량번호  \n0         0   0   0  부산70자1854  \n1         0   0   0  부산70자1854  \n2         0   0   0  부산70자1854  \n3         0   0   0  부산70자1854  \n4         0   0   0  부산70자1854  \n...      ..  ..  ..        ...  \n5948207   0   0   0  부산70자1894  \n5948208   0   0   0  부산70자1894  \n5948209   0   0   0  부산70자1894  \n5948210   0   0   0  부산70자1894  \n5948211   0   0   0  부산70자1894  \n\n[5948212 rows x 15 columns]",
      "text/html": "<div>\n<style scoped>\n    .dataframe tbody tr th:only-of-type {\n        vertical-align: middle;\n    }\n\n    .dataframe tbody tr th {\n        vertical-align: top;\n    }\n\n    .dataframe thead th {\n        text-align: right;\n    }\n</style>\n<table border=\"1\" class=\"dataframe\">\n  <thead>\n    <tr style=\"text-align: right;\">\n      <th></th>\n      <th>차량속도</th>\n      <th>RPM</th>\n      <th>GPS_X</th>\n      <th>GPS_Y</th>\n      <th>년</th>\n      <th>월</th>\n      <th>일</th>\n      <th>시</th>\n      <th>시분초</th>\n      <th>가속도</th>\n      <th>급가속</th>\n      <th>급출발</th>\n      <th>급감속</th>\n      <th>급정지</th>\n      <th>차량번호</th>\n    </tr>\n  </thead>\n  <tbody>\n    <tr>\n      <th>0</th>\n      <td>0</td>\n      <td>193</td>\n      <td>129.15867</td>\n      <td>35.236021</td>\n      <td>22</td>\n      <td>12</td>\n      <td>01</td>\n      <td>05</td>\n      <td>05:07:15</td>\n      <td>0</td>\n      <td>0</td>\n      <td>0</td>\n      <td>0</td>\n      <td>0</td>\n      <td>부산70자1854</td>\n    </tr>\n    <tr>\n      <th>1</th>\n      <td>0</td>\n      <td>388</td>\n      <td>129.15867</td>\n      <td>35.236021</td>\n      <td>22</td>\n      <td>12</td>\n      <td>01</td>\n      <td>05</td>\n      <td>05:07:16</td>\n      <td>0</td>\n      <td>0</td>\n      <td>0</td>\n      <td>0</td>\n      <td>0</td>\n      <td>부산70자1854</td>\n    </tr>\n    <tr>\n      <th>2</th>\n      <td>0</td>\n      <td>777</td>\n      <td>129.15867</td>\n      <td>35.236021</td>\n      <td>22</td>\n      <td>12</td>\n      <td>01</td>\n      <td>05</td>\n      <td>05:07:17</td>\n      <td>0</td>\n      <td>0</td>\n      <td>0</td>\n      <td>0</td>\n      <td>0</td>\n      <td>부산70자1854</td>\n    </tr>\n    <tr>\n      <th>3</th>\n      <td>0</td>\n      <td>638</td>\n      <td>129.15867</td>\n      <td>35.236021</td>\n      <td>22</td>\n      <td>12</td>\n      <td>01</td>\n      <td>05</td>\n      <td>05:07:18</td>\n      <td>0</td>\n      <td>0</td>\n      <td>0</td>\n      <td>0</td>\n      <td>0</td>\n      <td>부산70자1854</td>\n    </tr>\n    <tr>\n      <th>4</th>\n      <td>0</td>\n      <td>461</td>\n      <td>129.15867</td>\n      <td>35.236021</td>\n      <td>22</td>\n      <td>12</td>\n      <td>01</td>\n      <td>05</td>\n      <td>05:07:19</td>\n      <td>0</td>\n      <td>0</td>\n      <td>0</td>\n      <td>0</td>\n      <td>0</td>\n      <td>부산70자1854</td>\n    </tr>\n    <tr>\n      <th>...</th>\n      <td>...</td>\n      <td>...</td>\n      <td>...</td>\n      <td>...</td>\n      <td>...</td>\n      <td>...</td>\n      <td>...</td>\n      <td>...</td>\n      <td>...</td>\n      <td>...</td>\n      <td>...</td>\n      <td>...</td>\n      <td>...</td>\n      <td>...</td>\n      <td>...</td>\n    </tr>\n    <tr>\n      <th>5948207</th>\n      <td>0</td>\n      <td>331</td>\n      <td>129.158597</td>\n      <td>35.235956</td>\n      <td>22</td>\n      <td>12</td>\n      <td>31</td>\n      <td>21</td>\n      <td>21:03:38</td>\n      <td>0</td>\n      <td>0</td>\n      <td>0</td>\n      <td>0</td>\n      <td>0</td>\n      <td>부산70자1894</td>\n    </tr>\n    <tr>\n      <th>5948208</th>\n      <td>0</td>\n      <td>59</td>\n      <td>129.158597</td>\n      <td>35.235956</td>\n      <td>22</td>\n      <td>12</td>\n      <td>31</td>\n      <td>21</td>\n      <td>21:03:39</td>\n      <td>0</td>\n      <td>0</td>\n      <td>0</td>\n      <td>0</td>\n      <td>0</td>\n      <td>부산70자1894</td>\n    </tr>\n    <tr>\n      <th>5948209</th>\n      <td>0</td>\n      <td>0</td>\n      <td>129.158597</td>\n      <td>35.235956</td>\n      <td>22</td>\n      <td>12</td>\n      <td>31</td>\n      <td>21</td>\n      <td>21:03:40</td>\n      <td>0</td>\n      <td>0</td>\n      <td>0</td>\n      <td>0</td>\n      <td>0</td>\n      <td>부산70자1894</td>\n    </tr>\n    <tr>\n      <th>5948210</th>\n      <td>0</td>\n      <td>0</td>\n      <td>129.158597</td>\n      <td>35.235956</td>\n      <td>22</td>\n      <td>12</td>\n      <td>31</td>\n      <td>21</td>\n      <td>21:03:41</td>\n      <td>0</td>\n      <td>0</td>\n      <td>0</td>\n      <td>0</td>\n      <td>0</td>\n      <td>부산70자1894</td>\n    </tr>\n    <tr>\n      <th>5948211</th>\n      <td>0</td>\n      <td>0</td>\n      <td>129.158597</td>\n      <td>35.235956</td>\n      <td>22</td>\n      <td>12</td>\n      <td>31</td>\n      <td>21</td>\n      <td>21:03:42</td>\n      <td>0</td>\n      <td>0</td>\n      <td>0</td>\n      <td>0</td>\n      <td>0</td>\n      <td>부산70자1894</td>\n    </tr>\n  </tbody>\n</table>\n<p>5948212 rows × 15 columns</p>\n</div>"
     },
     "execution_count": 21,
     "metadata": {},
     "output_type": "execute_result"
    }
   ],
   "source": [
    "df = df.drop(['번호판', '날짜', '일일주행거리', '누적주행거리', '정보발생일시', '브레이크', '가속도_X', '가속도_Y', '방위각'], axis=1)\n",
    "df"
   ],
   "metadata": {
    "collapsed": false,
    "ExecuteTime": {
     "end_time": "2023-05-24T07:52:48.281043200Z",
     "start_time": "2023-05-24T07:52:47.201095800Z"
    }
   }
  },
  {
   "cell_type": "code",
   "execution_count": 22,
   "outputs": [],
   "source": [
    "df.to_csv('../data/0524_to_db.csv', index=False)"
   ],
   "metadata": {
    "collapsed": false,
    "ExecuteTime": {
     "end_time": "2023-05-24T07:54:14.450795300Z",
     "start_time": "2023-05-24T07:53:51.242345600Z"
    }
   }
  },
  {
   "cell_type": "code",
   "execution_count": 23,
   "outputs": [
    {
     "data": {
      "text/plain": "        차량속도  RPM       GPS_X      GPS_Y   년   월   일   시       시분초 가속도 급가속   \n0          0  193   129.15867  35.236021  22  12  01  05  05:07:15   0   0  \\\n1          0  388   129.15867  35.236021  22  12  01  05  05:07:16   0   0   \n2          0  777   129.15867  35.236021  22  12  01  05  05:07:17   0   0   \n3          0  638   129.15867  35.236021  22  12  01  05  05:07:18   0   0   \n4          0  461   129.15867  35.236021  22  12  01  05  05:07:19   0   0   \n...      ...  ...         ...        ...  ..  ..  ..  ..       ...  ..  ..   \n5948207    0  331  129.158597  35.235956  22  12  31  21  21:03:38   0   0   \n5948208    0   59  129.158597  35.235956  22  12  31  21  21:03:39   0   0   \n5948209    0    0  129.158597  35.235956  22  12  31  21  21:03:40   0   0   \n5948210    0    0  129.158597  35.235956  22  12  31  21  21:03:41   0   0   \n5948211    0    0  129.158597  35.235956  22  12  31  21  21:03:42   0   0   \n\n        급출발 급감속 급정지       차량번호  \n0         0   0   0  부산70자1854  \n1         0   0   0  부산70자1854  \n2         0   0   0  부산70자1854  \n3         0   0   0  부산70자1854  \n4         0   0   0  부산70자1854  \n...      ..  ..  ..        ...  \n5948207   0   0   0  부산70자1894  \n5948208   0   0   0  부산70자1894  \n5948209   0   0   0  부산70자1894  \n5948210   0   0   0  부산70자1894  \n5948211   0   0   0  부산70자1894  \n\n[5948212 rows x 15 columns]",
      "text/html": "<div>\n<style scoped>\n    .dataframe tbody tr th:only-of-type {\n        vertical-align: middle;\n    }\n\n    .dataframe tbody tr th {\n        vertical-align: top;\n    }\n\n    .dataframe thead th {\n        text-align: right;\n    }\n</style>\n<table border=\"1\" class=\"dataframe\">\n  <thead>\n    <tr style=\"text-align: right;\">\n      <th></th>\n      <th>차량속도</th>\n      <th>RPM</th>\n      <th>GPS_X</th>\n      <th>GPS_Y</th>\n      <th>년</th>\n      <th>월</th>\n      <th>일</th>\n      <th>시</th>\n      <th>시분초</th>\n      <th>가속도</th>\n      <th>급가속</th>\n      <th>급출발</th>\n      <th>급감속</th>\n      <th>급정지</th>\n      <th>차량번호</th>\n    </tr>\n  </thead>\n  <tbody>\n    <tr>\n      <th>0</th>\n      <td>0</td>\n      <td>193</td>\n      <td>129.15867</td>\n      <td>35.236021</td>\n      <td>22</td>\n      <td>12</td>\n      <td>01</td>\n      <td>05</td>\n      <td>05:07:15</td>\n      <td>0</td>\n      <td>0</td>\n      <td>0</td>\n      <td>0</td>\n      <td>0</td>\n      <td>부산70자1854</td>\n    </tr>\n    <tr>\n      <th>1</th>\n      <td>0</td>\n      <td>388</td>\n      <td>129.15867</td>\n      <td>35.236021</td>\n      <td>22</td>\n      <td>12</td>\n      <td>01</td>\n      <td>05</td>\n      <td>05:07:16</td>\n      <td>0</td>\n      <td>0</td>\n      <td>0</td>\n      <td>0</td>\n      <td>0</td>\n      <td>부산70자1854</td>\n    </tr>\n    <tr>\n      <th>2</th>\n      <td>0</td>\n      <td>777</td>\n      <td>129.15867</td>\n      <td>35.236021</td>\n      <td>22</td>\n      <td>12</td>\n      <td>01</td>\n      <td>05</td>\n      <td>05:07:17</td>\n      <td>0</td>\n      <td>0</td>\n      <td>0</td>\n      <td>0</td>\n      <td>0</td>\n      <td>부산70자1854</td>\n    </tr>\n    <tr>\n      <th>3</th>\n      <td>0</td>\n      <td>638</td>\n      <td>129.15867</td>\n      <td>35.236021</td>\n      <td>22</td>\n      <td>12</td>\n      <td>01</td>\n      <td>05</td>\n      <td>05:07:18</td>\n      <td>0</td>\n      <td>0</td>\n      <td>0</td>\n      <td>0</td>\n      <td>0</td>\n      <td>부산70자1854</td>\n    </tr>\n    <tr>\n      <th>4</th>\n      <td>0</td>\n      <td>461</td>\n      <td>129.15867</td>\n      <td>35.236021</td>\n      <td>22</td>\n      <td>12</td>\n      <td>01</td>\n      <td>05</td>\n      <td>05:07:19</td>\n      <td>0</td>\n      <td>0</td>\n      <td>0</td>\n      <td>0</td>\n      <td>0</td>\n      <td>부산70자1854</td>\n    </tr>\n    <tr>\n      <th>...</th>\n      <td>...</td>\n      <td>...</td>\n      <td>...</td>\n      <td>...</td>\n      <td>...</td>\n      <td>...</td>\n      <td>...</td>\n      <td>...</td>\n      <td>...</td>\n      <td>...</td>\n      <td>...</td>\n      <td>...</td>\n      <td>...</td>\n      <td>...</td>\n      <td>...</td>\n    </tr>\n    <tr>\n      <th>5948207</th>\n      <td>0</td>\n      <td>331</td>\n      <td>129.158597</td>\n      <td>35.235956</td>\n      <td>22</td>\n      <td>12</td>\n      <td>31</td>\n      <td>21</td>\n      <td>21:03:38</td>\n      <td>0</td>\n      <td>0</td>\n      <td>0</td>\n      <td>0</td>\n      <td>0</td>\n      <td>부산70자1894</td>\n    </tr>\n    <tr>\n      <th>5948208</th>\n      <td>0</td>\n      <td>59</td>\n      <td>129.158597</td>\n      <td>35.235956</td>\n      <td>22</td>\n      <td>12</td>\n      <td>31</td>\n      <td>21</td>\n      <td>21:03:39</td>\n      <td>0</td>\n      <td>0</td>\n      <td>0</td>\n      <td>0</td>\n      <td>0</td>\n      <td>부산70자1894</td>\n    </tr>\n    <tr>\n      <th>5948209</th>\n      <td>0</td>\n      <td>0</td>\n      <td>129.158597</td>\n      <td>35.235956</td>\n      <td>22</td>\n      <td>12</td>\n      <td>31</td>\n      <td>21</td>\n      <td>21:03:40</td>\n      <td>0</td>\n      <td>0</td>\n      <td>0</td>\n      <td>0</td>\n      <td>0</td>\n      <td>부산70자1894</td>\n    </tr>\n    <tr>\n      <th>5948210</th>\n      <td>0</td>\n      <td>0</td>\n      <td>129.158597</td>\n      <td>35.235956</td>\n      <td>22</td>\n      <td>12</td>\n      <td>31</td>\n      <td>21</td>\n      <td>21:03:41</td>\n      <td>0</td>\n      <td>0</td>\n      <td>0</td>\n      <td>0</td>\n      <td>0</td>\n      <td>부산70자1894</td>\n    </tr>\n    <tr>\n      <th>5948211</th>\n      <td>0</td>\n      <td>0</td>\n      <td>129.158597</td>\n      <td>35.235956</td>\n      <td>22</td>\n      <td>12</td>\n      <td>31</td>\n      <td>21</td>\n      <td>21:03:42</td>\n      <td>0</td>\n      <td>0</td>\n      <td>0</td>\n      <td>0</td>\n      <td>0</td>\n      <td>부산70자1894</td>\n    </tr>\n  </tbody>\n</table>\n<p>5948212 rows × 15 columns</p>\n</div>"
     },
     "execution_count": 23,
     "metadata": {},
     "output_type": "execute_result"
    }
   ],
   "source": [
    "df"
   ],
   "metadata": {
    "collapsed": false,
    "ExecuteTime": {
     "end_time": "2023-05-24T07:55:07.132218700Z",
     "start_time": "2023-05-24T07:55:07.116595400Z"
    }
   }
  },
  {
   "cell_type": "code",
   "execution_count": null,
   "outputs": [],
   "source": [],
   "metadata": {
    "collapsed": false
   }
  }
 ],
 "metadata": {
  "kernelspec": {
   "display_name": "Python 3",
   "language": "python",
   "name": "python3"
  },
  "language_info": {
   "codemirror_mode": {
    "name": "ipython",
    "version": 2
   },
   "file_extension": ".py",
   "mimetype": "text/x-python",
   "name": "python",
   "nbconvert_exporter": "python",
   "pygments_lexer": "ipython2",
   "version": "2.7.6"
  }
 },
 "nbformat": 4,
 "nbformat_minor": 0
}
