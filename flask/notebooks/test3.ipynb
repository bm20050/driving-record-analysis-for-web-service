{
 "cells": [
  {
   "cell_type": "code",
   "execution_count": 1,
   "metadata": {
    "collapsed": true,
    "ExecuteTime": {
     "end_time": "2023-05-29T08:32:26.833364500Z",
     "start_time": "2023-05-29T08:32:26.791885100Z"
    }
   },
   "outputs": [],
   "source": [
    "import pandas as pd"
   ]
  },
  {
   "cell_type": "code",
   "execution_count": 2,
   "outputs": [],
   "source": [
    "df = pd.read_csv('../data/0524_to_db.csv')"
   ],
   "metadata": {
    "collapsed": false,
    "ExecuteTime": {
     "end_time": "2023-05-29T08:32:43.507177900Z",
     "start_time": "2023-05-29T08:32:37.420517Z"
    }
   }
  },
  {
   "cell_type": "code",
   "execution_count": 3,
   "outputs": [
    {
     "data": {
      "text/plain": "         차량속도  RPM       GPS_X      GPS_Y   년   월   일   시       시분초  가속도  급가속   \n0           0  193  129.158670  35.236021  22  12   1   5  05:07:15    0    0  \\\n1           0  388  129.158670  35.236021  22  12   1   5  05:07:16    0    0   \n2           0  777  129.158670  35.236021  22  12   1   5  05:07:17    0    0   \n3           0  638  129.158670  35.236021  22  12   1   5  05:07:18    0    0   \n4           0  461  129.158670  35.236021  22  12   1   5  05:07:19    0    0   \n...       ...  ...         ...        ...  ..  ..  ..  ..       ...  ...  ...   \n5948207     0  331  129.158597  35.235956  22  12  31  21  21:03:38    0    0   \n5948208     0   59  129.158597  35.235956  22  12  31  21  21:03:39    0    0   \n5948209     0    0  129.158597  35.235956  22  12  31  21  21:03:40    0    0   \n5948210     0    0  129.158597  35.235956  22  12  31  21  21:03:41    0    0   \n5948211     0    0  129.158597  35.235956  22  12  31  21  21:03:42    0    0   \n\n         급출발  급감속  급정지       차량번호  \n0          0    0    0  부산70자1854  \n1          0    0    0  부산70자1854  \n2          0    0    0  부산70자1854  \n3          0    0    0  부산70자1854  \n4          0    0    0  부산70자1854  \n...      ...  ...  ...        ...  \n5948207    0    0    0  부산70자1894  \n5948208    0    0    0  부산70자1894  \n5948209    0    0    0  부산70자1894  \n5948210    0    0    0  부산70자1894  \n5948211    0    0    0  부산70자1894  \n\n[5948212 rows x 15 columns]",
      "text/html": "<div>\n<style scoped>\n    .dataframe tbody tr th:only-of-type {\n        vertical-align: middle;\n    }\n\n    .dataframe tbody tr th {\n        vertical-align: top;\n    }\n\n    .dataframe thead th {\n        text-align: right;\n    }\n</style>\n<table border=\"1\" class=\"dataframe\">\n  <thead>\n    <tr style=\"text-align: right;\">\n      <th></th>\n      <th>차량속도</th>\n      <th>RPM</th>\n      <th>GPS_X</th>\n      <th>GPS_Y</th>\n      <th>년</th>\n      <th>월</th>\n      <th>일</th>\n      <th>시</th>\n      <th>시분초</th>\n      <th>가속도</th>\n      <th>급가속</th>\n      <th>급출발</th>\n      <th>급감속</th>\n      <th>급정지</th>\n      <th>차량번호</th>\n    </tr>\n  </thead>\n  <tbody>\n    <tr>\n      <th>0</th>\n      <td>0</td>\n      <td>193</td>\n      <td>129.158670</td>\n      <td>35.236021</td>\n      <td>22</td>\n      <td>12</td>\n      <td>1</td>\n      <td>5</td>\n      <td>05:07:15</td>\n      <td>0</td>\n      <td>0</td>\n      <td>0</td>\n      <td>0</td>\n      <td>0</td>\n      <td>부산70자1854</td>\n    </tr>\n    <tr>\n      <th>1</th>\n      <td>0</td>\n      <td>388</td>\n      <td>129.158670</td>\n      <td>35.236021</td>\n      <td>22</td>\n      <td>12</td>\n      <td>1</td>\n      <td>5</td>\n      <td>05:07:16</td>\n      <td>0</td>\n      <td>0</td>\n      <td>0</td>\n      <td>0</td>\n      <td>0</td>\n      <td>부산70자1854</td>\n    </tr>\n    <tr>\n      <th>2</th>\n      <td>0</td>\n      <td>777</td>\n      <td>129.158670</td>\n      <td>35.236021</td>\n      <td>22</td>\n      <td>12</td>\n      <td>1</td>\n      <td>5</td>\n      <td>05:07:17</td>\n      <td>0</td>\n      <td>0</td>\n      <td>0</td>\n      <td>0</td>\n      <td>0</td>\n      <td>부산70자1854</td>\n    </tr>\n    <tr>\n      <th>3</th>\n      <td>0</td>\n      <td>638</td>\n      <td>129.158670</td>\n      <td>35.236021</td>\n      <td>22</td>\n      <td>12</td>\n      <td>1</td>\n      <td>5</td>\n      <td>05:07:18</td>\n      <td>0</td>\n      <td>0</td>\n      <td>0</td>\n      <td>0</td>\n      <td>0</td>\n      <td>부산70자1854</td>\n    </tr>\n    <tr>\n      <th>4</th>\n      <td>0</td>\n      <td>461</td>\n      <td>129.158670</td>\n      <td>35.236021</td>\n      <td>22</td>\n      <td>12</td>\n      <td>1</td>\n      <td>5</td>\n      <td>05:07:19</td>\n      <td>0</td>\n      <td>0</td>\n      <td>0</td>\n      <td>0</td>\n      <td>0</td>\n      <td>부산70자1854</td>\n    </tr>\n    <tr>\n      <th>...</th>\n      <td>...</td>\n      <td>...</td>\n      <td>...</td>\n      <td>...</td>\n      <td>...</td>\n      <td>...</td>\n      <td>...</td>\n      <td>...</td>\n      <td>...</td>\n      <td>...</td>\n      <td>...</td>\n      <td>...</td>\n      <td>...</td>\n      <td>...</td>\n      <td>...</td>\n    </tr>\n    <tr>\n      <th>5948207</th>\n      <td>0</td>\n      <td>331</td>\n      <td>129.158597</td>\n      <td>35.235956</td>\n      <td>22</td>\n      <td>12</td>\n      <td>31</td>\n      <td>21</td>\n      <td>21:03:38</td>\n      <td>0</td>\n      <td>0</td>\n      <td>0</td>\n      <td>0</td>\n      <td>0</td>\n      <td>부산70자1894</td>\n    </tr>\n    <tr>\n      <th>5948208</th>\n      <td>0</td>\n      <td>59</td>\n      <td>129.158597</td>\n      <td>35.235956</td>\n      <td>22</td>\n      <td>12</td>\n      <td>31</td>\n      <td>21</td>\n      <td>21:03:39</td>\n      <td>0</td>\n      <td>0</td>\n      <td>0</td>\n      <td>0</td>\n      <td>0</td>\n      <td>부산70자1894</td>\n    </tr>\n    <tr>\n      <th>5948209</th>\n      <td>0</td>\n      <td>0</td>\n      <td>129.158597</td>\n      <td>35.235956</td>\n      <td>22</td>\n      <td>12</td>\n      <td>31</td>\n      <td>21</td>\n      <td>21:03:40</td>\n      <td>0</td>\n      <td>0</td>\n      <td>0</td>\n      <td>0</td>\n      <td>0</td>\n      <td>부산70자1894</td>\n    </tr>\n    <tr>\n      <th>5948210</th>\n      <td>0</td>\n      <td>0</td>\n      <td>129.158597</td>\n      <td>35.235956</td>\n      <td>22</td>\n      <td>12</td>\n      <td>31</td>\n      <td>21</td>\n      <td>21:03:41</td>\n      <td>0</td>\n      <td>0</td>\n      <td>0</td>\n      <td>0</td>\n      <td>0</td>\n      <td>부산70자1894</td>\n    </tr>\n    <tr>\n      <th>5948211</th>\n      <td>0</td>\n      <td>0</td>\n      <td>129.158597</td>\n      <td>35.235956</td>\n      <td>22</td>\n      <td>12</td>\n      <td>31</td>\n      <td>21</td>\n      <td>21:03:42</td>\n      <td>0</td>\n      <td>0</td>\n      <td>0</td>\n      <td>0</td>\n      <td>0</td>\n      <td>부산70자1894</td>\n    </tr>\n  </tbody>\n</table>\n<p>5948212 rows × 15 columns</p>\n</div>"
     },
     "execution_count": 3,
     "metadata": {},
     "output_type": "execute_result"
    }
   ],
   "source": [
    "df"
   ],
   "metadata": {
    "collapsed": false,
    "ExecuteTime": {
     "end_time": "2023-05-29T08:32:43.538424700Z",
     "start_time": "2023-05-29T08:32:43.507177900Z"
    }
   }
  },
  {
   "cell_type": "code",
   "execution_count": 4,
   "outputs": [
    {
     "data": {
      "text/plain": "4462387"
     },
     "execution_count": 4,
     "metadata": {},
     "output_type": "execute_result"
    }
   ],
   "source": [
    "df = df.query('차량번호 != \"부산70자1893\"')\n",
    "len(df)"
   ],
   "metadata": {
    "collapsed": false,
    "ExecuteTime": {
     "end_time": "2023-05-29T08:32:57.481609900Z",
     "start_time": "2023-05-29T08:32:57.160351700Z"
    }
   }
  },
  {
   "cell_type": "code",
   "execution_count": 5,
   "outputs": [
    {
     "name": "stderr",
     "output_type": "stream",
     "text": [
      "C:\\Users\\admin\\AppData\\Local\\Temp\\ipykernel_10748\\718734539.py:1: SettingWithCopyWarning: \n",
      "A value is trying to be set on a copy of a slice from a DataFrame.\n",
      "Try using .loc[row_indexer,col_indexer] = value instead\n",
      "\n",
      "See the caveats in the documentation: https://pandas.pydata.org/pandas-docs/stable/user_guide/indexing.html#returning-a-view-versus-a-copy\n",
      "  df['가속도max'] = df['차량속도'].apply(lambda x: -3.007e-10 * x ** 5 + 1.08775e-7 * x ** 4 + -1.46299e-5 * x ** 3 + 0.001332283 * x ** 2 -0.126973836 * x + 9.212774118)\n",
      "C:\\Users\\admin\\AppData\\Local\\Temp\\ipykernel_10748\\718734539.py:2: SettingWithCopyWarning: \n",
      "A value is trying to be set on a copy of a slice from a DataFrame.\n",
      "Try using .loc[row_indexer,col_indexer] = value instead\n",
      "\n",
      "See the caveats in the documentation: https://pandas.pydata.org/pandas-docs/stable/user_guide/indexing.html#returning-a-view-versus-a-copy\n",
      "  df['가속도min'] = df['차량속도'].apply(lambda x: 1.0479e-10 * x ** 5 + -4.93699e-08 * x ** 4 + 7.45908e-06 * x ** 3 + -0.000180393 * x ** 2 - 0.05416834 * x + 6.010221586)\n"
     ]
    },
    {
     "data": {
      "text/plain": "         차량속도  RPM       GPS_X      GPS_Y   년   월   일   시       시분초  가속도  급가속   \n0           0  193  129.158670  35.236021  22  12   1   5  05:07:15    0    0  \\\n1           0  388  129.158670  35.236021  22  12   1   5  05:07:16    0    0   \n2           0  777  129.158670  35.236021  22  12   1   5  05:07:17    0    0   \n3           0  638  129.158670  35.236021  22  12   1   5  05:07:18    0    0   \n4           0  461  129.158670  35.236021  22  12   1   5  05:07:19    0    0   \n...       ...  ...         ...        ...  ..  ..  ..  ..       ...  ...  ...   \n5948207     0  331  129.158597  35.235956  22  12  31  21  21:03:38    0    0   \n5948208     0   59  129.158597  35.235956  22  12  31  21  21:03:39    0    0   \n5948209     0    0  129.158597  35.235956  22  12  31  21  21:03:40    0    0   \n5948210     0    0  129.158597  35.235956  22  12  31  21  21:03:41    0    0   \n5948211     0    0  129.158597  35.235956  22  12  31  21  21:03:42    0    0   \n\n         급출발  급감속  급정지       차량번호    가속도max    가속도min  \n0          0    0    0  부산70자1854  9.212774  6.010222  \n1          0    0    0  부산70자1854  9.212774  6.010222  \n2          0    0    0  부산70자1854  9.212774  6.010222  \n3          0    0    0  부산70자1854  9.212774  6.010222  \n4          0    0    0  부산70자1854  9.212774  6.010222  \n...      ...  ...  ...        ...       ...       ...  \n5948207    0    0    0  부산70자1894  9.212774  6.010222  \n5948208    0    0    0  부산70자1894  9.212774  6.010222  \n5948209    0    0    0  부산70자1894  9.212774  6.010222  \n5948210    0    0    0  부산70자1894  9.212774  6.010222  \n5948211    0    0    0  부산70자1894  9.212774  6.010222  \n\n[4462387 rows x 17 columns]",
      "text/html": "<div>\n<style scoped>\n    .dataframe tbody tr th:only-of-type {\n        vertical-align: middle;\n    }\n\n    .dataframe tbody tr th {\n        vertical-align: top;\n    }\n\n    .dataframe thead th {\n        text-align: right;\n    }\n</style>\n<table border=\"1\" class=\"dataframe\">\n  <thead>\n    <tr style=\"text-align: right;\">\n      <th></th>\n      <th>차량속도</th>\n      <th>RPM</th>\n      <th>GPS_X</th>\n      <th>GPS_Y</th>\n      <th>년</th>\n      <th>월</th>\n      <th>일</th>\n      <th>시</th>\n      <th>시분초</th>\n      <th>가속도</th>\n      <th>급가속</th>\n      <th>급출발</th>\n      <th>급감속</th>\n      <th>급정지</th>\n      <th>차량번호</th>\n      <th>가속도max</th>\n      <th>가속도min</th>\n    </tr>\n  </thead>\n  <tbody>\n    <tr>\n      <th>0</th>\n      <td>0</td>\n      <td>193</td>\n      <td>129.158670</td>\n      <td>35.236021</td>\n      <td>22</td>\n      <td>12</td>\n      <td>1</td>\n      <td>5</td>\n      <td>05:07:15</td>\n      <td>0</td>\n      <td>0</td>\n      <td>0</td>\n      <td>0</td>\n      <td>0</td>\n      <td>부산70자1854</td>\n      <td>9.212774</td>\n      <td>6.010222</td>\n    </tr>\n    <tr>\n      <th>1</th>\n      <td>0</td>\n      <td>388</td>\n      <td>129.158670</td>\n      <td>35.236021</td>\n      <td>22</td>\n      <td>12</td>\n      <td>1</td>\n      <td>5</td>\n      <td>05:07:16</td>\n      <td>0</td>\n      <td>0</td>\n      <td>0</td>\n      <td>0</td>\n      <td>0</td>\n      <td>부산70자1854</td>\n      <td>9.212774</td>\n      <td>6.010222</td>\n    </tr>\n    <tr>\n      <th>2</th>\n      <td>0</td>\n      <td>777</td>\n      <td>129.158670</td>\n      <td>35.236021</td>\n      <td>22</td>\n      <td>12</td>\n      <td>1</td>\n      <td>5</td>\n      <td>05:07:17</td>\n      <td>0</td>\n      <td>0</td>\n      <td>0</td>\n      <td>0</td>\n      <td>0</td>\n      <td>부산70자1854</td>\n      <td>9.212774</td>\n      <td>6.010222</td>\n    </tr>\n    <tr>\n      <th>3</th>\n      <td>0</td>\n      <td>638</td>\n      <td>129.158670</td>\n      <td>35.236021</td>\n      <td>22</td>\n      <td>12</td>\n      <td>1</td>\n      <td>5</td>\n      <td>05:07:18</td>\n      <td>0</td>\n      <td>0</td>\n      <td>0</td>\n      <td>0</td>\n      <td>0</td>\n      <td>부산70자1854</td>\n      <td>9.212774</td>\n      <td>6.010222</td>\n    </tr>\n    <tr>\n      <th>4</th>\n      <td>0</td>\n      <td>461</td>\n      <td>129.158670</td>\n      <td>35.236021</td>\n      <td>22</td>\n      <td>12</td>\n      <td>1</td>\n      <td>5</td>\n      <td>05:07:19</td>\n      <td>0</td>\n      <td>0</td>\n      <td>0</td>\n      <td>0</td>\n      <td>0</td>\n      <td>부산70자1854</td>\n      <td>9.212774</td>\n      <td>6.010222</td>\n    </tr>\n    <tr>\n      <th>...</th>\n      <td>...</td>\n      <td>...</td>\n      <td>...</td>\n      <td>...</td>\n      <td>...</td>\n      <td>...</td>\n      <td>...</td>\n      <td>...</td>\n      <td>...</td>\n      <td>...</td>\n      <td>...</td>\n      <td>...</td>\n      <td>...</td>\n      <td>...</td>\n      <td>...</td>\n      <td>...</td>\n      <td>...</td>\n    </tr>\n    <tr>\n      <th>5948207</th>\n      <td>0</td>\n      <td>331</td>\n      <td>129.158597</td>\n      <td>35.235956</td>\n      <td>22</td>\n      <td>12</td>\n      <td>31</td>\n      <td>21</td>\n      <td>21:03:38</td>\n      <td>0</td>\n      <td>0</td>\n      <td>0</td>\n      <td>0</td>\n      <td>0</td>\n      <td>부산70자1894</td>\n      <td>9.212774</td>\n      <td>6.010222</td>\n    </tr>\n    <tr>\n      <th>5948208</th>\n      <td>0</td>\n      <td>59</td>\n      <td>129.158597</td>\n      <td>35.235956</td>\n      <td>22</td>\n      <td>12</td>\n      <td>31</td>\n      <td>21</td>\n      <td>21:03:39</td>\n      <td>0</td>\n      <td>0</td>\n      <td>0</td>\n      <td>0</td>\n      <td>0</td>\n      <td>부산70자1894</td>\n      <td>9.212774</td>\n      <td>6.010222</td>\n    </tr>\n    <tr>\n      <th>5948209</th>\n      <td>0</td>\n      <td>0</td>\n      <td>129.158597</td>\n      <td>35.235956</td>\n      <td>22</td>\n      <td>12</td>\n      <td>31</td>\n      <td>21</td>\n      <td>21:03:40</td>\n      <td>0</td>\n      <td>0</td>\n      <td>0</td>\n      <td>0</td>\n      <td>0</td>\n      <td>부산70자1894</td>\n      <td>9.212774</td>\n      <td>6.010222</td>\n    </tr>\n    <tr>\n      <th>5948210</th>\n      <td>0</td>\n      <td>0</td>\n      <td>129.158597</td>\n      <td>35.235956</td>\n      <td>22</td>\n      <td>12</td>\n      <td>31</td>\n      <td>21</td>\n      <td>21:03:41</td>\n      <td>0</td>\n      <td>0</td>\n      <td>0</td>\n      <td>0</td>\n      <td>0</td>\n      <td>부산70자1894</td>\n      <td>9.212774</td>\n      <td>6.010222</td>\n    </tr>\n    <tr>\n      <th>5948211</th>\n      <td>0</td>\n      <td>0</td>\n      <td>129.158597</td>\n      <td>35.235956</td>\n      <td>22</td>\n      <td>12</td>\n      <td>31</td>\n      <td>21</td>\n      <td>21:03:42</td>\n      <td>0</td>\n      <td>0</td>\n      <td>0</td>\n      <td>0</td>\n      <td>0</td>\n      <td>부산70자1894</td>\n      <td>9.212774</td>\n      <td>6.010222</td>\n    </tr>\n  </tbody>\n</table>\n<p>4462387 rows × 17 columns</p>\n</div>"
     },
     "execution_count": 5,
     "metadata": {},
     "output_type": "execute_result"
    }
   ],
   "source": [
    "df['가속도max'] = df['차량속도'].apply(lambda x: -3.007e-10 * x ** 5 + 1.08775e-7 * x ** 4 + -1.46299e-5 * x ** 3 + 0.001332283 * x ** 2 -0.126973836 * x + 9.212774118)\n",
    "df['가속도min'] = df['차량속도'].apply(lambda x: 1.0479e-10 * x ** 5 + -4.93699e-08 * x ** 4 + 7.45908e-06 * x ** 3 + -0.000180393 * x ** 2 - 0.05416834 * x + 6.010221586)\n",
    "df"
   ],
   "metadata": {
    "collapsed": false,
    "ExecuteTime": {
     "end_time": "2023-05-29T08:33:12.037268300Z",
     "start_time": "2023-05-29T08:33:02.844655600Z"
    }
   }
  },
  {
   "cell_type": "code",
   "execution_count": 6,
   "outputs": [
    {
     "name": "stderr",
     "output_type": "stream",
     "text": [
      "C:\\Users\\admin\\AppData\\Local\\Temp\\ipykernel_10748\\1307707304.py:1: SettingWithCopyWarning: \n",
      "A value is trying to be set on a copy of a slice from a DataFrame.\n",
      "Try using .loc[row_indexer,col_indexer] = value instead\n",
      "\n",
      "See the caveats in the documentation: https://pandas.pydata.org/pandas-docs/stable/user_guide/indexing.html#returning-a-view-versus-a-copy\n",
      "  df['가속도max2'] = df['가속도max'] * 2 - df['가속도min']\n"
     ]
    }
   ],
   "source": [
    "df['가속도max2'] = df['가속도max'] * 2 - df['가속도min']"
   ],
   "metadata": {
    "collapsed": false,
    "ExecuteTime": {
     "end_time": "2023-05-29T08:33:13.439459900Z",
     "start_time": "2023-05-29T08:33:13.368039500Z"
    }
   }
  },
  {
   "cell_type": "code",
   "execution_count": 7,
   "outputs": [],
   "source": [
    "label = []\n",
    "for i in df.index:\n",
    "    if df['가속도'][i] < df['가속도min'][i]:\n",
    "        label.append(0)\n",
    "    elif df['가속도min'][i] <= df['가속도'][i] < df['가속도max'][i]:\n",
    "        label.append(1)\n",
    "    elif df['가속도max'][i] <= df['가속도'][i] < df['가속도max2'][i]:\n",
    "        label.append(2)\n",
    "    else:\n",
    "        label.append(3)"
   ],
   "metadata": {
    "collapsed": false,
    "ExecuteTime": {
     "end_time": "2023-05-29T08:34:35.549050400Z",
     "start_time": "2023-05-29T08:33:44.396270700Z"
    }
   }
  },
  {
   "cell_type": "code",
   "execution_count": 8,
   "outputs": [
    {
     "name": "stderr",
     "output_type": "stream",
     "text": [
      "C:\\Users\\admin\\AppData\\Local\\Temp\\ipykernel_10748\\1509753873.py:1: SettingWithCopyWarning: \n",
      "A value is trying to be set on a copy of a slice from a DataFrame.\n",
      "Try using .loc[row_indexer,col_indexer] = value instead\n",
      "\n",
      "See the caveats in the documentation: https://pandas.pydata.org/pandas-docs/stable/user_guide/indexing.html#returning-a-view-versus-a-copy\n",
      "  df['위험운전가속'] = label\n"
     ]
    },
    {
     "data": {
      "text/plain": "         차량속도  RPM       GPS_X      GPS_Y   년   월   일   시       시분초  가속도  급가속   \n0           0  193  129.158670  35.236021  22  12   1   5  05:07:15    0    0  \\\n1           0  388  129.158670  35.236021  22  12   1   5  05:07:16    0    0   \n2           0  777  129.158670  35.236021  22  12   1   5  05:07:17    0    0   \n3           0  638  129.158670  35.236021  22  12   1   5  05:07:18    0    0   \n4           0  461  129.158670  35.236021  22  12   1   5  05:07:19    0    0   \n...       ...  ...         ...        ...  ..  ..  ..  ..       ...  ...  ...   \n5948207     0  331  129.158597  35.235956  22  12  31  21  21:03:38    0    0   \n5948208     0   59  129.158597  35.235956  22  12  31  21  21:03:39    0    0   \n5948209     0    0  129.158597  35.235956  22  12  31  21  21:03:40    0    0   \n5948210     0    0  129.158597  35.235956  22  12  31  21  21:03:41    0    0   \n5948211     0    0  129.158597  35.235956  22  12  31  21  21:03:42    0    0   \n\n         급출발  급감속  급정지       차량번호    가속도max    가속도min    가속도max2  위험운전가속  \n0          0    0    0  부산70자1854  9.212774  6.010222  12.415327       0  \n1          0    0    0  부산70자1854  9.212774  6.010222  12.415327       0  \n2          0    0    0  부산70자1854  9.212774  6.010222  12.415327       0  \n3          0    0    0  부산70자1854  9.212774  6.010222  12.415327       0  \n4          0    0    0  부산70자1854  9.212774  6.010222  12.415327       0  \n...      ...  ...  ...        ...       ...       ...        ...     ...  \n5948207    0    0    0  부산70자1894  9.212774  6.010222  12.415327       0  \n5948208    0    0    0  부산70자1894  9.212774  6.010222  12.415327       0  \n5948209    0    0    0  부산70자1894  9.212774  6.010222  12.415327       0  \n5948210    0    0    0  부산70자1894  9.212774  6.010222  12.415327       0  \n5948211    0    0    0  부산70자1894  9.212774  6.010222  12.415327       0  \n\n[4462387 rows x 19 columns]",
      "text/html": "<div>\n<style scoped>\n    .dataframe tbody tr th:only-of-type {\n        vertical-align: middle;\n    }\n\n    .dataframe tbody tr th {\n        vertical-align: top;\n    }\n\n    .dataframe thead th {\n        text-align: right;\n    }\n</style>\n<table border=\"1\" class=\"dataframe\">\n  <thead>\n    <tr style=\"text-align: right;\">\n      <th></th>\n      <th>차량속도</th>\n      <th>RPM</th>\n      <th>GPS_X</th>\n      <th>GPS_Y</th>\n      <th>년</th>\n      <th>월</th>\n      <th>일</th>\n      <th>시</th>\n      <th>시분초</th>\n      <th>가속도</th>\n      <th>급가속</th>\n      <th>급출발</th>\n      <th>급감속</th>\n      <th>급정지</th>\n      <th>차량번호</th>\n      <th>가속도max</th>\n      <th>가속도min</th>\n      <th>가속도max2</th>\n      <th>위험운전가속</th>\n    </tr>\n  </thead>\n  <tbody>\n    <tr>\n      <th>0</th>\n      <td>0</td>\n      <td>193</td>\n      <td>129.158670</td>\n      <td>35.236021</td>\n      <td>22</td>\n      <td>12</td>\n      <td>1</td>\n      <td>5</td>\n      <td>05:07:15</td>\n      <td>0</td>\n      <td>0</td>\n      <td>0</td>\n      <td>0</td>\n      <td>0</td>\n      <td>부산70자1854</td>\n      <td>9.212774</td>\n      <td>6.010222</td>\n      <td>12.415327</td>\n      <td>0</td>\n    </tr>\n    <tr>\n      <th>1</th>\n      <td>0</td>\n      <td>388</td>\n      <td>129.158670</td>\n      <td>35.236021</td>\n      <td>22</td>\n      <td>12</td>\n      <td>1</td>\n      <td>5</td>\n      <td>05:07:16</td>\n      <td>0</td>\n      <td>0</td>\n      <td>0</td>\n      <td>0</td>\n      <td>0</td>\n      <td>부산70자1854</td>\n      <td>9.212774</td>\n      <td>6.010222</td>\n      <td>12.415327</td>\n      <td>0</td>\n    </tr>\n    <tr>\n      <th>2</th>\n      <td>0</td>\n      <td>777</td>\n      <td>129.158670</td>\n      <td>35.236021</td>\n      <td>22</td>\n      <td>12</td>\n      <td>1</td>\n      <td>5</td>\n      <td>05:07:17</td>\n      <td>0</td>\n      <td>0</td>\n      <td>0</td>\n      <td>0</td>\n      <td>0</td>\n      <td>부산70자1854</td>\n      <td>9.212774</td>\n      <td>6.010222</td>\n      <td>12.415327</td>\n      <td>0</td>\n    </tr>\n    <tr>\n      <th>3</th>\n      <td>0</td>\n      <td>638</td>\n      <td>129.158670</td>\n      <td>35.236021</td>\n      <td>22</td>\n      <td>12</td>\n      <td>1</td>\n      <td>5</td>\n      <td>05:07:18</td>\n      <td>0</td>\n      <td>0</td>\n      <td>0</td>\n      <td>0</td>\n      <td>0</td>\n      <td>부산70자1854</td>\n      <td>9.212774</td>\n      <td>6.010222</td>\n      <td>12.415327</td>\n      <td>0</td>\n    </tr>\n    <tr>\n      <th>4</th>\n      <td>0</td>\n      <td>461</td>\n      <td>129.158670</td>\n      <td>35.236021</td>\n      <td>22</td>\n      <td>12</td>\n      <td>1</td>\n      <td>5</td>\n      <td>05:07:19</td>\n      <td>0</td>\n      <td>0</td>\n      <td>0</td>\n      <td>0</td>\n      <td>0</td>\n      <td>부산70자1854</td>\n      <td>9.212774</td>\n      <td>6.010222</td>\n      <td>12.415327</td>\n      <td>0</td>\n    </tr>\n    <tr>\n      <th>...</th>\n      <td>...</td>\n      <td>...</td>\n      <td>...</td>\n      <td>...</td>\n      <td>...</td>\n      <td>...</td>\n      <td>...</td>\n      <td>...</td>\n      <td>...</td>\n      <td>...</td>\n      <td>...</td>\n      <td>...</td>\n      <td>...</td>\n      <td>...</td>\n      <td>...</td>\n      <td>...</td>\n      <td>...</td>\n      <td>...</td>\n      <td>...</td>\n    </tr>\n    <tr>\n      <th>5948207</th>\n      <td>0</td>\n      <td>331</td>\n      <td>129.158597</td>\n      <td>35.235956</td>\n      <td>22</td>\n      <td>12</td>\n      <td>31</td>\n      <td>21</td>\n      <td>21:03:38</td>\n      <td>0</td>\n      <td>0</td>\n      <td>0</td>\n      <td>0</td>\n      <td>0</td>\n      <td>부산70자1894</td>\n      <td>9.212774</td>\n      <td>6.010222</td>\n      <td>12.415327</td>\n      <td>0</td>\n    </tr>\n    <tr>\n      <th>5948208</th>\n      <td>0</td>\n      <td>59</td>\n      <td>129.158597</td>\n      <td>35.235956</td>\n      <td>22</td>\n      <td>12</td>\n      <td>31</td>\n      <td>21</td>\n      <td>21:03:39</td>\n      <td>0</td>\n      <td>0</td>\n      <td>0</td>\n      <td>0</td>\n      <td>0</td>\n      <td>부산70자1894</td>\n      <td>9.212774</td>\n      <td>6.010222</td>\n      <td>12.415327</td>\n      <td>0</td>\n    </tr>\n    <tr>\n      <th>5948209</th>\n      <td>0</td>\n      <td>0</td>\n      <td>129.158597</td>\n      <td>35.235956</td>\n      <td>22</td>\n      <td>12</td>\n      <td>31</td>\n      <td>21</td>\n      <td>21:03:40</td>\n      <td>0</td>\n      <td>0</td>\n      <td>0</td>\n      <td>0</td>\n      <td>0</td>\n      <td>부산70자1894</td>\n      <td>9.212774</td>\n      <td>6.010222</td>\n      <td>12.415327</td>\n      <td>0</td>\n    </tr>\n    <tr>\n      <th>5948210</th>\n      <td>0</td>\n      <td>0</td>\n      <td>129.158597</td>\n      <td>35.235956</td>\n      <td>22</td>\n      <td>12</td>\n      <td>31</td>\n      <td>21</td>\n      <td>21:03:41</td>\n      <td>0</td>\n      <td>0</td>\n      <td>0</td>\n      <td>0</td>\n      <td>0</td>\n      <td>부산70자1894</td>\n      <td>9.212774</td>\n      <td>6.010222</td>\n      <td>12.415327</td>\n      <td>0</td>\n    </tr>\n    <tr>\n      <th>5948211</th>\n      <td>0</td>\n      <td>0</td>\n      <td>129.158597</td>\n      <td>35.235956</td>\n      <td>22</td>\n      <td>12</td>\n      <td>31</td>\n      <td>21</td>\n      <td>21:03:42</td>\n      <td>0</td>\n      <td>0</td>\n      <td>0</td>\n      <td>0</td>\n      <td>0</td>\n      <td>부산70자1894</td>\n      <td>9.212774</td>\n      <td>6.010222</td>\n      <td>12.415327</td>\n      <td>0</td>\n    </tr>\n  </tbody>\n</table>\n<p>4462387 rows × 19 columns</p>\n</div>"
     },
     "execution_count": 8,
     "metadata": {},
     "output_type": "execute_result"
    }
   ],
   "source": [
    "df['위험운전가속'] = label\n",
    "df"
   ],
   "metadata": {
    "collapsed": false,
    "ExecuteTime": {
     "end_time": "2023-05-29T08:35:15.747770800Z",
     "start_time": "2023-05-29T08:35:14.993773100Z"
    }
   }
  },
  {
   "cell_type": "code",
   "execution_count": 9,
   "outputs": [
    {
     "data": {
      "text/plain": "         차량속도  RPM       GPS_X      GPS_Y   년   월   일   시       시분초  가속도  급가속   \n0           0  193  129.158670  35.236021  22  12   1   5  05:07:15    0    0  \\\n1           0  388  129.158670  35.236021  22  12   1   5  05:07:16    0    0   \n2           0  777  129.158670  35.236021  22  12   1   5  05:07:17    0    0   \n3           0  638  129.158670  35.236021  22  12   1   5  05:07:18    0    0   \n4           0  461  129.158670  35.236021  22  12   1   5  05:07:19    0    0   \n...       ...  ...         ...        ...  ..  ..  ..  ..       ...  ...  ...   \n5948207     0  331  129.158597  35.235956  22  12  31  21  21:03:38    0    0   \n5948208     0   59  129.158597  35.235956  22  12  31  21  21:03:39    0    0   \n5948209     0    0  129.158597  35.235956  22  12  31  21  21:03:40    0    0   \n5948210     0    0  129.158597  35.235956  22  12  31  21  21:03:41    0    0   \n5948211     0    0  129.158597  35.235956  22  12  31  21  21:03:42    0    0   \n\n         급출발  급감속  급정지       차량번호    가속도max    가속도min    가속도max2  위험운전가속  \n0          0    0    0  부산70자1854  9.212774  6.010222  12.415327       0  \n1          0    0    0  부산70자1854  9.212774  6.010222  12.415327       0  \n2          0    0    0  부산70자1854  9.212774  6.010222  12.415327       0  \n3          0    0    0  부산70자1854  9.212774  6.010222  12.415327       0  \n4          0    0    0  부산70자1854  9.212774  6.010222  12.415327       0  \n...      ...  ...  ...        ...       ...       ...        ...     ...  \n5948207    0    0    0  부산70자1894  9.212774  6.010222  12.415327       0  \n5948208    0    0    0  부산70자1894  9.212774  6.010222  12.415327       0  \n5948209    0    0    0  부산70자1894  9.212774  6.010222  12.415327       0  \n5948210    0    0    0  부산70자1894  9.212774  6.010222  12.415327       0  \n5948211    0    0    0  부산70자1894  9.212774  6.010222  12.415327       0  \n\n[4462387 rows x 19 columns]",
      "text/html": "<div>\n<style scoped>\n    .dataframe tbody tr th:only-of-type {\n        vertical-align: middle;\n    }\n\n    .dataframe tbody tr th {\n        vertical-align: top;\n    }\n\n    .dataframe thead th {\n        text-align: right;\n    }\n</style>\n<table border=\"1\" class=\"dataframe\">\n  <thead>\n    <tr style=\"text-align: right;\">\n      <th></th>\n      <th>차량속도</th>\n      <th>RPM</th>\n      <th>GPS_X</th>\n      <th>GPS_Y</th>\n      <th>년</th>\n      <th>월</th>\n      <th>일</th>\n      <th>시</th>\n      <th>시분초</th>\n      <th>가속도</th>\n      <th>급가속</th>\n      <th>급출발</th>\n      <th>급감속</th>\n      <th>급정지</th>\n      <th>차량번호</th>\n      <th>가속도max</th>\n      <th>가속도min</th>\n      <th>가속도max2</th>\n      <th>위험운전가속</th>\n    </tr>\n  </thead>\n  <tbody>\n    <tr>\n      <th>0</th>\n      <td>0</td>\n      <td>193</td>\n      <td>129.158670</td>\n      <td>35.236021</td>\n      <td>22</td>\n      <td>12</td>\n      <td>1</td>\n      <td>5</td>\n      <td>05:07:15</td>\n      <td>0</td>\n      <td>0</td>\n      <td>0</td>\n      <td>0</td>\n      <td>0</td>\n      <td>부산70자1854</td>\n      <td>9.212774</td>\n      <td>6.010222</td>\n      <td>12.415327</td>\n      <td>0</td>\n    </tr>\n    <tr>\n      <th>1</th>\n      <td>0</td>\n      <td>388</td>\n      <td>129.158670</td>\n      <td>35.236021</td>\n      <td>22</td>\n      <td>12</td>\n      <td>1</td>\n      <td>5</td>\n      <td>05:07:16</td>\n      <td>0</td>\n      <td>0</td>\n      <td>0</td>\n      <td>0</td>\n      <td>0</td>\n      <td>부산70자1854</td>\n      <td>9.212774</td>\n      <td>6.010222</td>\n      <td>12.415327</td>\n      <td>0</td>\n    </tr>\n    <tr>\n      <th>2</th>\n      <td>0</td>\n      <td>777</td>\n      <td>129.158670</td>\n      <td>35.236021</td>\n      <td>22</td>\n      <td>12</td>\n      <td>1</td>\n      <td>5</td>\n      <td>05:07:17</td>\n      <td>0</td>\n      <td>0</td>\n      <td>0</td>\n      <td>0</td>\n      <td>0</td>\n      <td>부산70자1854</td>\n      <td>9.212774</td>\n      <td>6.010222</td>\n      <td>12.415327</td>\n      <td>0</td>\n    </tr>\n    <tr>\n      <th>3</th>\n      <td>0</td>\n      <td>638</td>\n      <td>129.158670</td>\n      <td>35.236021</td>\n      <td>22</td>\n      <td>12</td>\n      <td>1</td>\n      <td>5</td>\n      <td>05:07:18</td>\n      <td>0</td>\n      <td>0</td>\n      <td>0</td>\n      <td>0</td>\n      <td>0</td>\n      <td>부산70자1854</td>\n      <td>9.212774</td>\n      <td>6.010222</td>\n      <td>12.415327</td>\n      <td>0</td>\n    </tr>\n    <tr>\n      <th>4</th>\n      <td>0</td>\n      <td>461</td>\n      <td>129.158670</td>\n      <td>35.236021</td>\n      <td>22</td>\n      <td>12</td>\n      <td>1</td>\n      <td>5</td>\n      <td>05:07:19</td>\n      <td>0</td>\n      <td>0</td>\n      <td>0</td>\n      <td>0</td>\n      <td>0</td>\n      <td>부산70자1854</td>\n      <td>9.212774</td>\n      <td>6.010222</td>\n      <td>12.415327</td>\n      <td>0</td>\n    </tr>\n    <tr>\n      <th>...</th>\n      <td>...</td>\n      <td>...</td>\n      <td>...</td>\n      <td>...</td>\n      <td>...</td>\n      <td>...</td>\n      <td>...</td>\n      <td>...</td>\n      <td>...</td>\n      <td>...</td>\n      <td>...</td>\n      <td>...</td>\n      <td>...</td>\n      <td>...</td>\n      <td>...</td>\n      <td>...</td>\n      <td>...</td>\n      <td>...</td>\n      <td>...</td>\n    </tr>\n    <tr>\n      <th>5948207</th>\n      <td>0</td>\n      <td>331</td>\n      <td>129.158597</td>\n      <td>35.235956</td>\n      <td>22</td>\n      <td>12</td>\n      <td>31</td>\n      <td>21</td>\n      <td>21:03:38</td>\n      <td>0</td>\n      <td>0</td>\n      <td>0</td>\n      <td>0</td>\n      <td>0</td>\n      <td>부산70자1894</td>\n      <td>9.212774</td>\n      <td>6.010222</td>\n      <td>12.415327</td>\n      <td>0</td>\n    </tr>\n    <tr>\n      <th>5948208</th>\n      <td>0</td>\n      <td>59</td>\n      <td>129.158597</td>\n      <td>35.235956</td>\n      <td>22</td>\n      <td>12</td>\n      <td>31</td>\n      <td>21</td>\n      <td>21:03:39</td>\n      <td>0</td>\n      <td>0</td>\n      <td>0</td>\n      <td>0</td>\n      <td>0</td>\n      <td>부산70자1894</td>\n      <td>9.212774</td>\n      <td>6.010222</td>\n      <td>12.415327</td>\n      <td>0</td>\n    </tr>\n    <tr>\n      <th>5948209</th>\n      <td>0</td>\n      <td>0</td>\n      <td>129.158597</td>\n      <td>35.235956</td>\n      <td>22</td>\n      <td>12</td>\n      <td>31</td>\n      <td>21</td>\n      <td>21:03:40</td>\n      <td>0</td>\n      <td>0</td>\n      <td>0</td>\n      <td>0</td>\n      <td>0</td>\n      <td>부산70자1894</td>\n      <td>9.212774</td>\n      <td>6.010222</td>\n      <td>12.415327</td>\n      <td>0</td>\n    </tr>\n    <tr>\n      <th>5948210</th>\n      <td>0</td>\n      <td>0</td>\n      <td>129.158597</td>\n      <td>35.235956</td>\n      <td>22</td>\n      <td>12</td>\n      <td>31</td>\n      <td>21</td>\n      <td>21:03:41</td>\n      <td>0</td>\n      <td>0</td>\n      <td>0</td>\n      <td>0</td>\n      <td>0</td>\n      <td>부산70자1894</td>\n      <td>9.212774</td>\n      <td>6.010222</td>\n      <td>12.415327</td>\n      <td>0</td>\n    </tr>\n    <tr>\n      <th>5948211</th>\n      <td>0</td>\n      <td>0</td>\n      <td>129.158597</td>\n      <td>35.235956</td>\n      <td>22</td>\n      <td>12</td>\n      <td>31</td>\n      <td>21</td>\n      <td>21:03:42</td>\n      <td>0</td>\n      <td>0</td>\n      <td>0</td>\n      <td>0</td>\n      <td>0</td>\n      <td>부산70자1894</td>\n      <td>9.212774</td>\n      <td>6.010222</td>\n      <td>12.415327</td>\n      <td>0</td>\n    </tr>\n  </tbody>\n</table>\n<p>4462387 rows × 19 columns</p>\n</div>"
     },
     "execution_count": 9,
     "metadata": {},
     "output_type": "execute_result"
    }
   ],
   "source": [
    "df"
   ],
   "metadata": {
    "collapsed": false,
    "ExecuteTime": {
     "end_time": "2023-05-29T08:35:16.875158600Z",
     "start_time": "2023-05-29T08:35:16.851464500Z"
    }
   }
  },
  {
   "cell_type": "code",
   "execution_count": 11,
   "outputs": [
    {
     "data": {
      "text/plain": "3"
     },
     "execution_count": 11,
     "metadata": {},
     "output_type": "execute_result"
    }
   ],
   "source": [
    "df['위험운전가속'].max()"
   ],
   "metadata": {
    "collapsed": false,
    "ExecuteTime": {
     "end_time": "2023-05-29T08:35:42.112454Z",
     "start_time": "2023-05-29T08:35:42.065249900Z"
    }
   }
  },
  {
   "cell_type": "code",
   "execution_count": 13,
   "outputs": [],
   "source": [
    "df.to_csv('../data/0529_분류.csv', index=False)"
   ],
   "metadata": {
    "collapsed": false,
    "ExecuteTime": {
     "end_time": "2023-05-29T08:36:55.077769200Z",
     "start_time": "2023-05-29T08:36:24.322455500Z"
    }
   }
  }
 ],
 "metadata": {
  "kernelspec": {
   "display_name": "Python 3",
   "language": "python",
   "name": "python3"
  },
  "language_info": {
   "codemirror_mode": {
    "name": "ipython",
    "version": 2
   },
   "file_extension": ".py",
   "mimetype": "text/x-python",
   "name": "python",
   "nbconvert_exporter": "python",
   "pygments_lexer": "ipython2",
   "version": "2.7.6"
  }
 },
 "nbformat": 4,
 "nbformat_minor": 0
}
