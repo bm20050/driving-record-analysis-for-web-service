{
 "cells": [
  {
   "cell_type": "code",
   "execution_count": 1,
   "metadata": {
    "collapsed": true,
    "ExecuteTime": {
     "end_time": "2023-06-07T00:54:50.625272500Z",
     "start_time": "2023-06-07T00:54:49.973858400Z"
    }
   },
   "outputs": [],
   "source": [
    "import pandas as pd\n",
    "import warnings\n",
    "warnings.filterwarnings(\"ignore\")\n",
    "from sklearn.model_selection import train_test_split\n",
    "from sklearn.metrics import accuracy_score\n",
    "from xgboost import XGBClassifier\n",
    "from sklearn.metrics import f1_score"
   ]
  },
  {
   "cell_type": "code",
   "execution_count": 2,
   "outputs": [
    {
     "data": {
      "text/plain": "               날짜        번호판  일일주행거리   누적주행거리          정보발생일시  차량속도  RPM   \n0        20221201  부산70자1854       0    66443  22120105071500     0  193  \\\n1        20221201  부산70자1854       0    66443  22120105071600     0  388   \n2        20221201  부산70자1854       0    66443  22120105071700     0  777   \n3        20221201  부산70자1854       0    66443  22120105071800     0  638   \n4        20221201  부산70자1854       0    66443  22120105071900     0  461   \n...           ...        ...     ...      ...             ...   ...  ...   \n4462382  20221231  부산70자1894     176  3095705  22123121033800     0  331   \n4462383  20221231  부산70자1894     176  3095705  22123121033900     0   59   \n4462384  20221231  부산70자1894     176  3095705  22123121034000     0    0   \n4462385  20221231  부산70자1894     176  3095705  22123121034100     0    0   \n4462386  20221231  부산70자1894     176  3095705  22123121034200     0    0   \n\n         브레이크       GPS_X      GPS_Y  ...   월   일   시  분   초    가속도max   \n0           0  129.158670  35.236021  ...  12   1   5  7  15  9.212774  \\\n1           0  129.158670  35.236021  ...  12   1   5  7  16  9.212774   \n2           0  129.158670  35.236021  ...  12   1   5  7  17  9.212774   \n3           0  129.158670  35.236021  ...  12   1   5  7  18  9.212774   \n4           0  129.158670  35.236021  ...  12   1   5  7  19  9.212774   \n...       ...         ...        ...  ...  ..  ..  .. ..  ..       ...   \n4462382     0  129.158597  35.235956  ...  12  31  21  3  38  9.212774   \n4462383     0  129.158597  35.235956  ...  12  31  21  3  39  9.212774   \n4462384     0  129.158597  35.235956  ...  12  31  21  3  40  9.212774   \n4462385     0  129.158597  35.235956  ...  12  31  21  3  41  9.212774   \n4462386     0  129.158597  35.235956  ...  12  31  21  3  42  9.212774   \n\n           가속도min    가속도max2  가속도  위험운전가속  \n0        6.010222  12.415327    0       0  \n1        6.010222  12.415327    0       0  \n2        6.010222  12.415327    0       0  \n3        6.010222  12.415327    0       0  \n4        6.010222  12.415327    0       0  \n...           ...        ...  ...     ...  \n4462382  6.010222  12.415327    0       0  \n4462383  6.010222  12.415327    0       0  \n4462384  6.010222  12.415327    0       0  \n4462385  6.010222  12.415327    0       0  \n4462386  6.010222  12.415327    0       0  \n\n[4462387 rows x 24 columns]",
      "text/html": "<div>\n<style scoped>\n    .dataframe tbody tr th:only-of-type {\n        vertical-align: middle;\n    }\n\n    .dataframe tbody tr th {\n        vertical-align: top;\n    }\n\n    .dataframe thead th {\n        text-align: right;\n    }\n</style>\n<table border=\"1\" class=\"dataframe\">\n  <thead>\n    <tr style=\"text-align: right;\">\n      <th></th>\n      <th>날짜</th>\n      <th>번호판</th>\n      <th>일일주행거리</th>\n      <th>누적주행거리</th>\n      <th>정보발생일시</th>\n      <th>차량속도</th>\n      <th>RPM</th>\n      <th>브레이크</th>\n      <th>GPS_X</th>\n      <th>GPS_Y</th>\n      <th>...</th>\n      <th>월</th>\n      <th>일</th>\n      <th>시</th>\n      <th>분</th>\n      <th>초</th>\n      <th>가속도max</th>\n      <th>가속도min</th>\n      <th>가속도max2</th>\n      <th>가속도</th>\n      <th>위험운전가속</th>\n    </tr>\n  </thead>\n  <tbody>\n    <tr>\n      <th>0</th>\n      <td>20221201</td>\n      <td>부산70자1854</td>\n      <td>0</td>\n      <td>66443</td>\n      <td>22120105071500</td>\n      <td>0</td>\n      <td>193</td>\n      <td>0</td>\n      <td>129.158670</td>\n      <td>35.236021</td>\n      <td>...</td>\n      <td>12</td>\n      <td>1</td>\n      <td>5</td>\n      <td>7</td>\n      <td>15</td>\n      <td>9.212774</td>\n      <td>6.010222</td>\n      <td>12.415327</td>\n      <td>0</td>\n      <td>0</td>\n    </tr>\n    <tr>\n      <th>1</th>\n      <td>20221201</td>\n      <td>부산70자1854</td>\n      <td>0</td>\n      <td>66443</td>\n      <td>22120105071600</td>\n      <td>0</td>\n      <td>388</td>\n      <td>0</td>\n      <td>129.158670</td>\n      <td>35.236021</td>\n      <td>...</td>\n      <td>12</td>\n      <td>1</td>\n      <td>5</td>\n      <td>7</td>\n      <td>16</td>\n      <td>9.212774</td>\n      <td>6.010222</td>\n      <td>12.415327</td>\n      <td>0</td>\n      <td>0</td>\n    </tr>\n    <tr>\n      <th>2</th>\n      <td>20221201</td>\n      <td>부산70자1854</td>\n      <td>0</td>\n      <td>66443</td>\n      <td>22120105071700</td>\n      <td>0</td>\n      <td>777</td>\n      <td>0</td>\n      <td>129.158670</td>\n      <td>35.236021</td>\n      <td>...</td>\n      <td>12</td>\n      <td>1</td>\n      <td>5</td>\n      <td>7</td>\n      <td>17</td>\n      <td>9.212774</td>\n      <td>6.010222</td>\n      <td>12.415327</td>\n      <td>0</td>\n      <td>0</td>\n    </tr>\n    <tr>\n      <th>3</th>\n      <td>20221201</td>\n      <td>부산70자1854</td>\n      <td>0</td>\n      <td>66443</td>\n      <td>22120105071800</td>\n      <td>0</td>\n      <td>638</td>\n      <td>0</td>\n      <td>129.158670</td>\n      <td>35.236021</td>\n      <td>...</td>\n      <td>12</td>\n      <td>1</td>\n      <td>5</td>\n      <td>7</td>\n      <td>18</td>\n      <td>9.212774</td>\n      <td>6.010222</td>\n      <td>12.415327</td>\n      <td>0</td>\n      <td>0</td>\n    </tr>\n    <tr>\n      <th>4</th>\n      <td>20221201</td>\n      <td>부산70자1854</td>\n      <td>0</td>\n      <td>66443</td>\n      <td>22120105071900</td>\n      <td>0</td>\n      <td>461</td>\n      <td>0</td>\n      <td>129.158670</td>\n      <td>35.236021</td>\n      <td>...</td>\n      <td>12</td>\n      <td>1</td>\n      <td>5</td>\n      <td>7</td>\n      <td>19</td>\n      <td>9.212774</td>\n      <td>6.010222</td>\n      <td>12.415327</td>\n      <td>0</td>\n      <td>0</td>\n    </tr>\n    <tr>\n      <th>...</th>\n      <td>...</td>\n      <td>...</td>\n      <td>...</td>\n      <td>...</td>\n      <td>...</td>\n      <td>...</td>\n      <td>...</td>\n      <td>...</td>\n      <td>...</td>\n      <td>...</td>\n      <td>...</td>\n      <td>...</td>\n      <td>...</td>\n      <td>...</td>\n      <td>...</td>\n      <td>...</td>\n      <td>...</td>\n      <td>...</td>\n      <td>...</td>\n      <td>...</td>\n      <td>...</td>\n    </tr>\n    <tr>\n      <th>4462382</th>\n      <td>20221231</td>\n      <td>부산70자1894</td>\n      <td>176</td>\n      <td>3095705</td>\n      <td>22123121033800</td>\n      <td>0</td>\n      <td>331</td>\n      <td>0</td>\n      <td>129.158597</td>\n      <td>35.235956</td>\n      <td>...</td>\n      <td>12</td>\n      <td>31</td>\n      <td>21</td>\n      <td>3</td>\n      <td>38</td>\n      <td>9.212774</td>\n      <td>6.010222</td>\n      <td>12.415327</td>\n      <td>0</td>\n      <td>0</td>\n    </tr>\n    <tr>\n      <th>4462383</th>\n      <td>20221231</td>\n      <td>부산70자1894</td>\n      <td>176</td>\n      <td>3095705</td>\n      <td>22123121033900</td>\n      <td>0</td>\n      <td>59</td>\n      <td>0</td>\n      <td>129.158597</td>\n      <td>35.235956</td>\n      <td>...</td>\n      <td>12</td>\n      <td>31</td>\n      <td>21</td>\n      <td>3</td>\n      <td>39</td>\n      <td>9.212774</td>\n      <td>6.010222</td>\n      <td>12.415327</td>\n      <td>0</td>\n      <td>0</td>\n    </tr>\n    <tr>\n      <th>4462384</th>\n      <td>20221231</td>\n      <td>부산70자1894</td>\n      <td>176</td>\n      <td>3095705</td>\n      <td>22123121034000</td>\n      <td>0</td>\n      <td>0</td>\n      <td>0</td>\n      <td>129.158597</td>\n      <td>35.235956</td>\n      <td>...</td>\n      <td>12</td>\n      <td>31</td>\n      <td>21</td>\n      <td>3</td>\n      <td>40</td>\n      <td>9.212774</td>\n      <td>6.010222</td>\n      <td>12.415327</td>\n      <td>0</td>\n      <td>0</td>\n    </tr>\n    <tr>\n      <th>4462385</th>\n      <td>20221231</td>\n      <td>부산70자1894</td>\n      <td>176</td>\n      <td>3095705</td>\n      <td>22123121034100</td>\n      <td>0</td>\n      <td>0</td>\n      <td>0</td>\n      <td>129.158597</td>\n      <td>35.235956</td>\n      <td>...</td>\n      <td>12</td>\n      <td>31</td>\n      <td>21</td>\n      <td>3</td>\n      <td>41</td>\n      <td>9.212774</td>\n      <td>6.010222</td>\n      <td>12.415327</td>\n      <td>0</td>\n      <td>0</td>\n    </tr>\n    <tr>\n      <th>4462386</th>\n      <td>20221231</td>\n      <td>부산70자1894</td>\n      <td>176</td>\n      <td>3095705</td>\n      <td>22123121034200</td>\n      <td>0</td>\n      <td>0</td>\n      <td>0</td>\n      <td>129.158597</td>\n      <td>35.235956</td>\n      <td>...</td>\n      <td>12</td>\n      <td>31</td>\n      <td>21</td>\n      <td>3</td>\n      <td>42</td>\n      <td>9.212774</td>\n      <td>6.010222</td>\n      <td>12.415327</td>\n      <td>0</td>\n      <td>0</td>\n    </tr>\n  </tbody>\n</table>\n<p>4462387 rows × 24 columns</p>\n</div>"
     },
     "execution_count": 2,
     "metadata": {},
     "output_type": "execute_result"
    }
   ],
   "source": [
    "df = pd.read_csv('../data/06.05위험운전가속.csv')\n",
    "df"
   ],
   "metadata": {
    "collapsed": false,
    "ExecuteTime": {
     "end_time": "2023-06-07T00:54:58.986454800Z",
     "start_time": "2023-06-07T00:54:50.629683700Z"
    }
   }
  },
  {
   "cell_type": "code",
   "execution_count": 3,
   "outputs": [],
   "source": [
    "acc0 = df.query('위험운전가속 == 0')"
   ],
   "metadata": {
    "collapsed": false,
    "ExecuteTime": {
     "end_time": "2023-06-07T00:54:59.285811700Z",
     "start_time": "2023-06-07T00:54:58.988577Z"
    }
   }
  },
  {
   "cell_type": "code",
   "execution_count": 4,
   "outputs": [],
   "source": [
    "X_train, X_test, y_train, y_test = train_test_split(acc0, acc0, random_state=42, shuffle=True, test_size=0.005)"
   ],
   "metadata": {
    "collapsed": false,
    "ExecuteTime": {
     "end_time": "2023-06-07T00:55:01.783768600Z",
     "start_time": "2023-06-07T00:54:59.290910Z"
    }
   }
  },
  {
   "cell_type": "code",
   "execution_count": 5,
   "outputs": [],
   "source": [
    "df = df.query('위험운전가속 != 0')"
   ],
   "metadata": {
    "collapsed": false,
    "ExecuteTime": {
     "end_time": "2023-06-07T00:55:01.831328400Z",
     "start_time": "2023-06-07T00:55:01.788446900Z"
    }
   }
  },
  {
   "cell_type": "code",
   "execution_count": 6,
   "outputs": [
    {
     "data": {
      "text/plain": "               날짜        번호판  일일주행거리   누적주행거리          정보발생일시  차량속도   RPM   \n709      20221201  부산70자1854       1    66445  22120105190400    11  1137  \\\n829      20221201  부산70자1854       2    66446  22120105210400    13  1322   \n833      20221201  부산70자1854       2    66446  22120105210800    26  1460   \n1026     20221201  부산70자1854       4    66448  22120105242100     9   991   \n1083     20221201  부산70자1854       4    66448  22120105251800     8   812   \n...           ...        ...     ...      ...             ...   ...   ...   \n4223589  20221227  부산70자1894      42  3094731  22122710034500     0   553   \n4291846  20221228  부산70자1894      84  3094994  22122811113500    30  1026   \n934325   20221221  부산70자1854      78    70280  22122114010000     0   563   \n1083160  20221224  부산70자1854      44    70863  22122410361900     0   565   \n2016792  20221215  부산70자1860      39  1077418  22121507424000    16   878   \n\n         브레이크       GPS_X      GPS_Y  ...   월   일   시   분   초    가속도max   \n709         0  129.147649  35.225609  ...  12   1   5  19   4  7.959340  \\\n829         0  129.138040  35.219831  ...  12   1   5  21   4  7.758123   \n833         0  129.137892  35.219834  ...  12   1   5  21   8  6.601077   \n1026        0  129.125022  35.219140  ...  12   1   5  24  21  8.167955   \n1083        0  129.124679  35.217222  ...  12   1   5  25  18  8.275195   \n...       ...         ...        ...  ...  ..  ..  ..  ..  ..       ...   \n4223589     1  129.149192  35.229811  ...  12  27  10   3  45  9.212774   \n4291846     0  129.127178  35.219582  ...  12  28  11  11  35  6.288407   \n934325      1  129.125898  35.185243  ...  12  21  14   1   0  9.212774   \n1083160     1  129.154855  35.233185  ...  12  24  10  36  19  9.212774   \n2016792     1  129.125285  35.219084  ...  12  15   7  42  40  7.469146   \n\n           가속도min    가속도max2  가속도  위험운전가속  \n709      5.401764  10.516915    6       1  \n829      5.290563  10.225683    6       1  \n833      4.589684   8.612471    5       1  \n1026     5.513215  10.822696    6       1  \n1083     5.568950  10.981439    6       1  \n...           ...        ...  ...     ...  \n4223589  6.010222  12.415327    0       0  \n4291846  4.386770   8.190045   -1       0  \n934325   6.010222  12.415327    0       0  \n1083160  6.010222  12.415327    0       0  \n2016792  5.124774   9.813519   -1       0  \n\n[79816 rows x 24 columns]",
      "text/html": "<div>\n<style scoped>\n    .dataframe tbody tr th:only-of-type {\n        vertical-align: middle;\n    }\n\n    .dataframe tbody tr th {\n        vertical-align: top;\n    }\n\n    .dataframe thead th {\n        text-align: right;\n    }\n</style>\n<table border=\"1\" class=\"dataframe\">\n  <thead>\n    <tr style=\"text-align: right;\">\n      <th></th>\n      <th>날짜</th>\n      <th>번호판</th>\n      <th>일일주행거리</th>\n      <th>누적주행거리</th>\n      <th>정보발생일시</th>\n      <th>차량속도</th>\n      <th>RPM</th>\n      <th>브레이크</th>\n      <th>GPS_X</th>\n      <th>GPS_Y</th>\n      <th>...</th>\n      <th>월</th>\n      <th>일</th>\n      <th>시</th>\n      <th>분</th>\n      <th>초</th>\n      <th>가속도max</th>\n      <th>가속도min</th>\n      <th>가속도max2</th>\n      <th>가속도</th>\n      <th>위험운전가속</th>\n    </tr>\n  </thead>\n  <tbody>\n    <tr>\n      <th>709</th>\n      <td>20221201</td>\n      <td>부산70자1854</td>\n      <td>1</td>\n      <td>66445</td>\n      <td>22120105190400</td>\n      <td>11</td>\n      <td>1137</td>\n      <td>0</td>\n      <td>129.147649</td>\n      <td>35.225609</td>\n      <td>...</td>\n      <td>12</td>\n      <td>1</td>\n      <td>5</td>\n      <td>19</td>\n      <td>4</td>\n      <td>7.959340</td>\n      <td>5.401764</td>\n      <td>10.516915</td>\n      <td>6</td>\n      <td>1</td>\n    </tr>\n    <tr>\n      <th>829</th>\n      <td>20221201</td>\n      <td>부산70자1854</td>\n      <td>2</td>\n      <td>66446</td>\n      <td>22120105210400</td>\n      <td>13</td>\n      <td>1322</td>\n      <td>0</td>\n      <td>129.138040</td>\n      <td>35.219831</td>\n      <td>...</td>\n      <td>12</td>\n      <td>1</td>\n      <td>5</td>\n      <td>21</td>\n      <td>4</td>\n      <td>7.758123</td>\n      <td>5.290563</td>\n      <td>10.225683</td>\n      <td>6</td>\n      <td>1</td>\n    </tr>\n    <tr>\n      <th>833</th>\n      <td>20221201</td>\n      <td>부산70자1854</td>\n      <td>2</td>\n      <td>66446</td>\n      <td>22120105210800</td>\n      <td>26</td>\n      <td>1460</td>\n      <td>0</td>\n      <td>129.137892</td>\n      <td>35.219834</td>\n      <td>...</td>\n      <td>12</td>\n      <td>1</td>\n      <td>5</td>\n      <td>21</td>\n      <td>8</td>\n      <td>6.601077</td>\n      <td>4.589684</td>\n      <td>8.612471</td>\n      <td>5</td>\n      <td>1</td>\n    </tr>\n    <tr>\n      <th>1026</th>\n      <td>20221201</td>\n      <td>부산70자1854</td>\n      <td>4</td>\n      <td>66448</td>\n      <td>22120105242100</td>\n      <td>9</td>\n      <td>991</td>\n      <td>0</td>\n      <td>129.125022</td>\n      <td>35.219140</td>\n      <td>...</td>\n      <td>12</td>\n      <td>1</td>\n      <td>5</td>\n      <td>24</td>\n      <td>21</td>\n      <td>8.167955</td>\n      <td>5.513215</td>\n      <td>10.822696</td>\n      <td>6</td>\n      <td>1</td>\n    </tr>\n    <tr>\n      <th>1083</th>\n      <td>20221201</td>\n      <td>부산70자1854</td>\n      <td>4</td>\n      <td>66448</td>\n      <td>22120105251800</td>\n      <td>8</td>\n      <td>812</td>\n      <td>0</td>\n      <td>129.124679</td>\n      <td>35.217222</td>\n      <td>...</td>\n      <td>12</td>\n      <td>1</td>\n      <td>5</td>\n      <td>25</td>\n      <td>18</td>\n      <td>8.275195</td>\n      <td>5.568950</td>\n      <td>10.981439</td>\n      <td>6</td>\n      <td>1</td>\n    </tr>\n    <tr>\n      <th>...</th>\n      <td>...</td>\n      <td>...</td>\n      <td>...</td>\n      <td>...</td>\n      <td>...</td>\n      <td>...</td>\n      <td>...</td>\n      <td>...</td>\n      <td>...</td>\n      <td>...</td>\n      <td>...</td>\n      <td>...</td>\n      <td>...</td>\n      <td>...</td>\n      <td>...</td>\n      <td>...</td>\n      <td>...</td>\n      <td>...</td>\n      <td>...</td>\n      <td>...</td>\n      <td>...</td>\n    </tr>\n    <tr>\n      <th>4223589</th>\n      <td>20221227</td>\n      <td>부산70자1894</td>\n      <td>42</td>\n      <td>3094731</td>\n      <td>22122710034500</td>\n      <td>0</td>\n      <td>553</td>\n      <td>1</td>\n      <td>129.149192</td>\n      <td>35.229811</td>\n      <td>...</td>\n      <td>12</td>\n      <td>27</td>\n      <td>10</td>\n      <td>3</td>\n      <td>45</td>\n      <td>9.212774</td>\n      <td>6.010222</td>\n      <td>12.415327</td>\n      <td>0</td>\n      <td>0</td>\n    </tr>\n    <tr>\n      <th>4291846</th>\n      <td>20221228</td>\n      <td>부산70자1894</td>\n      <td>84</td>\n      <td>3094994</td>\n      <td>22122811113500</td>\n      <td>30</td>\n      <td>1026</td>\n      <td>0</td>\n      <td>129.127178</td>\n      <td>35.219582</td>\n      <td>...</td>\n      <td>12</td>\n      <td>28</td>\n      <td>11</td>\n      <td>11</td>\n      <td>35</td>\n      <td>6.288407</td>\n      <td>4.386770</td>\n      <td>8.190045</td>\n      <td>-1</td>\n      <td>0</td>\n    </tr>\n    <tr>\n      <th>934325</th>\n      <td>20221221</td>\n      <td>부산70자1854</td>\n      <td>78</td>\n      <td>70280</td>\n      <td>22122114010000</td>\n      <td>0</td>\n      <td>563</td>\n      <td>1</td>\n      <td>129.125898</td>\n      <td>35.185243</td>\n      <td>...</td>\n      <td>12</td>\n      <td>21</td>\n      <td>14</td>\n      <td>1</td>\n      <td>0</td>\n      <td>9.212774</td>\n      <td>6.010222</td>\n      <td>12.415327</td>\n      <td>0</td>\n      <td>0</td>\n    </tr>\n    <tr>\n      <th>1083160</th>\n      <td>20221224</td>\n      <td>부산70자1854</td>\n      <td>44</td>\n      <td>70863</td>\n      <td>22122410361900</td>\n      <td>0</td>\n      <td>565</td>\n      <td>1</td>\n      <td>129.154855</td>\n      <td>35.233185</td>\n      <td>...</td>\n      <td>12</td>\n      <td>24</td>\n      <td>10</td>\n      <td>36</td>\n      <td>19</td>\n      <td>9.212774</td>\n      <td>6.010222</td>\n      <td>12.415327</td>\n      <td>0</td>\n      <td>0</td>\n    </tr>\n    <tr>\n      <th>2016792</th>\n      <td>20221215</td>\n      <td>부산70자1860</td>\n      <td>39</td>\n      <td>1077418</td>\n      <td>22121507424000</td>\n      <td>16</td>\n      <td>878</td>\n      <td>1</td>\n      <td>129.125285</td>\n      <td>35.219084</td>\n      <td>...</td>\n      <td>12</td>\n      <td>15</td>\n      <td>7</td>\n      <td>42</td>\n      <td>40</td>\n      <td>7.469146</td>\n      <td>5.124774</td>\n      <td>9.813519</td>\n      <td>-1</td>\n      <td>0</td>\n    </tr>\n  </tbody>\n</table>\n<p>79816 rows × 24 columns</p>\n</div>"
     },
     "execution_count": 6,
     "metadata": {},
     "output_type": "execute_result"
    }
   ],
   "source": [
    "df = pd.concat([df, X_test], axis=0)\n",
    "df"
   ],
   "metadata": {
    "collapsed": false,
    "ExecuteTime": {
     "end_time": "2023-06-07T00:55:01.878277200Z",
     "start_time": "2023-06-07T00:55:01.831328400Z"
    }
   }
  },
  {
   "cell_type": "code",
   "execution_count": 7,
   "outputs": [],
   "source": [
    "X = df[['시', '분', 'GPS_X', 'GPS_Y']]\n",
    "y = df['위험운전가속']"
   ],
   "metadata": {
    "collapsed": false,
    "ExecuteTime": {
     "end_time": "2023-06-07T00:55:01.893828300Z",
     "start_time": "2023-06-07T00:55:01.878277200Z"
    }
   }
  },
  {
   "cell_type": "code",
   "execution_count": 8,
   "outputs": [],
   "source": [
    "X_train, X_test, y_train, y_test = train_test_split(X, y, random_state=42, shuffle=True, test_size=0.3)"
   ],
   "metadata": {
    "collapsed": false,
    "ExecuteTime": {
     "end_time": "2023-06-07T00:55:02.018807200Z",
     "start_time": "2023-06-07T00:55:01.893828300Z"
    }
   }
  },
  {
   "cell_type": "code",
   "execution_count": 9,
   "outputs": [],
   "source": [
    "model = XGBClassifier(objective='multi:softmax', num_class=4)"
   ],
   "metadata": {
    "collapsed": false,
    "ExecuteTime": {
     "end_time": "2023-06-07T00:55:02.034430400Z",
     "start_time": "2023-06-07T00:55:01.987565300Z"
    }
   }
  },
  {
   "cell_type": "code",
   "execution_count": 10,
   "outputs": [
    {
     "data": {
      "text/plain": "XGBClassifier(base_score=None, booster=None, callbacks=None,\n              colsample_bylevel=None, colsample_bynode=None,\n              colsample_bytree=None, early_stopping_rounds=None,\n              enable_categorical=False, eval_metric=None, feature_types=None,\n              gamma=None, gpu_id=None, grow_policy=None, importance_type=None,\n              interaction_constraints=None, learning_rate=None, max_bin=None,\n              max_cat_threshold=None, max_cat_to_onehot=None,\n              max_delta_step=None, max_depth=None, max_leaves=None,\n              min_child_weight=None, missing=nan, monotone_constraints=None,\n              n_estimators=100, n_jobs=None, num_class=4,\n              num_parallel_tree=None, objective='multi:softmax', ...)",
      "text/html": "<style>#sk-container-id-1 {color: black;background-color: white;}#sk-container-id-1 pre{padding: 0;}#sk-container-id-1 div.sk-toggleable {background-color: white;}#sk-container-id-1 label.sk-toggleable__label {cursor: pointer;display: block;width: 100%;margin-bottom: 0;padding: 0.3em;box-sizing: border-box;text-align: center;}#sk-container-id-1 label.sk-toggleable__label-arrow:before {content: \"▸\";float: left;margin-right: 0.25em;color: #696969;}#sk-container-id-1 label.sk-toggleable__label-arrow:hover:before {color: black;}#sk-container-id-1 div.sk-estimator:hover label.sk-toggleable__label-arrow:before {color: black;}#sk-container-id-1 div.sk-toggleable__content {max-height: 0;max-width: 0;overflow: hidden;text-align: left;background-color: #f0f8ff;}#sk-container-id-1 div.sk-toggleable__content pre {margin: 0.2em;color: black;border-radius: 0.25em;background-color: #f0f8ff;}#sk-container-id-1 input.sk-toggleable__control:checked~div.sk-toggleable__content {max-height: 200px;max-width: 100%;overflow: auto;}#sk-container-id-1 input.sk-toggleable__control:checked~label.sk-toggleable__label-arrow:before {content: \"▾\";}#sk-container-id-1 div.sk-estimator input.sk-toggleable__control:checked~label.sk-toggleable__label {background-color: #d4ebff;}#sk-container-id-1 div.sk-label input.sk-toggleable__control:checked~label.sk-toggleable__label {background-color: #d4ebff;}#sk-container-id-1 input.sk-hidden--visually {border: 0;clip: rect(1px 1px 1px 1px);clip: rect(1px, 1px, 1px, 1px);height: 1px;margin: -1px;overflow: hidden;padding: 0;position: absolute;width: 1px;}#sk-container-id-1 div.sk-estimator {font-family: monospace;background-color: #f0f8ff;border: 1px dotted black;border-radius: 0.25em;box-sizing: border-box;margin-bottom: 0.5em;}#sk-container-id-1 div.sk-estimator:hover {background-color: #d4ebff;}#sk-container-id-1 div.sk-parallel-item::after {content: \"\";width: 100%;border-bottom: 1px solid gray;flex-grow: 1;}#sk-container-id-1 div.sk-label:hover label.sk-toggleable__label {background-color: #d4ebff;}#sk-container-id-1 div.sk-serial::before {content: \"\";position: absolute;border-left: 1px solid gray;box-sizing: border-box;top: 0;bottom: 0;left: 50%;z-index: 0;}#sk-container-id-1 div.sk-serial {display: flex;flex-direction: column;align-items: center;background-color: white;padding-right: 0.2em;padding-left: 0.2em;position: relative;}#sk-container-id-1 div.sk-item {position: relative;z-index: 1;}#sk-container-id-1 div.sk-parallel {display: flex;align-items: stretch;justify-content: center;background-color: white;position: relative;}#sk-container-id-1 div.sk-item::before, #sk-container-id-1 div.sk-parallel-item::before {content: \"\";position: absolute;border-left: 1px solid gray;box-sizing: border-box;top: 0;bottom: 0;left: 50%;z-index: -1;}#sk-container-id-1 div.sk-parallel-item {display: flex;flex-direction: column;z-index: 1;position: relative;background-color: white;}#sk-container-id-1 div.sk-parallel-item:first-child::after {align-self: flex-end;width: 50%;}#sk-container-id-1 div.sk-parallel-item:last-child::after {align-self: flex-start;width: 50%;}#sk-container-id-1 div.sk-parallel-item:only-child::after {width: 0;}#sk-container-id-1 div.sk-dashed-wrapped {border: 1px dashed gray;margin: 0 0.4em 0.5em 0.4em;box-sizing: border-box;padding-bottom: 0.4em;background-color: white;}#sk-container-id-1 div.sk-label label {font-family: monospace;font-weight: bold;display: inline-block;line-height: 1.2em;}#sk-container-id-1 div.sk-label-container {text-align: center;}#sk-container-id-1 div.sk-container {/* jupyter's `normalize.less` sets `[hidden] { display: none; }` but bootstrap.min.css set `[hidden] { display: none !important; }` so we also need the `!important` here to be able to override the default hidden behavior on the sphinx rendered scikit-learn.org. See: https://github.com/scikit-learn/scikit-learn/issues/21755 */display: inline-block !important;position: relative;}#sk-container-id-1 div.sk-text-repr-fallback {display: none;}</style><div id=\"sk-container-id-1\" class=\"sk-top-container\"><div class=\"sk-text-repr-fallback\"><pre>XGBClassifier(base_score=None, booster=None, callbacks=None,\n              colsample_bylevel=None, colsample_bynode=None,\n              colsample_bytree=None, early_stopping_rounds=None,\n              enable_categorical=False, eval_metric=None, feature_types=None,\n              gamma=None, gpu_id=None, grow_policy=None, importance_type=None,\n              interaction_constraints=None, learning_rate=None, max_bin=None,\n              max_cat_threshold=None, max_cat_to_onehot=None,\n              max_delta_step=None, max_depth=None, max_leaves=None,\n              min_child_weight=None, missing=nan, monotone_constraints=None,\n              n_estimators=100, n_jobs=None, num_class=4,\n              num_parallel_tree=None, objective=&#x27;multi:softmax&#x27;, ...)</pre><b>In a Jupyter environment, please rerun this cell to show the HTML representation or trust the notebook. <br />On GitHub, the HTML representation is unable to render, please try loading this page with nbviewer.org.</b></div><div class=\"sk-container\" hidden><div class=\"sk-item\"><div class=\"sk-estimator sk-toggleable\"><input class=\"sk-toggleable__control sk-hidden--visually\" id=\"sk-estimator-id-1\" type=\"checkbox\" checked><label for=\"sk-estimator-id-1\" class=\"sk-toggleable__label sk-toggleable__label-arrow\">XGBClassifier</label><div class=\"sk-toggleable__content\"><pre>XGBClassifier(base_score=None, booster=None, callbacks=None,\n              colsample_bylevel=None, colsample_bynode=None,\n              colsample_bytree=None, early_stopping_rounds=None,\n              enable_categorical=False, eval_metric=None, feature_types=None,\n              gamma=None, gpu_id=None, grow_policy=None, importance_type=None,\n              interaction_constraints=None, learning_rate=None, max_bin=None,\n              max_cat_threshold=None, max_cat_to_onehot=None,\n              max_delta_step=None, max_depth=None, max_leaves=None,\n              min_child_weight=None, missing=nan, monotone_constraints=None,\n              n_estimators=100, n_jobs=None, num_class=4,\n              num_parallel_tree=None, objective=&#x27;multi:softmax&#x27;, ...)</pre></div></div></div></div></div>"
     },
     "execution_count": 10,
     "metadata": {},
     "output_type": "execute_result"
    }
   ],
   "source": [
    "model.fit(X_train, y_train)"
   ],
   "metadata": {
    "collapsed": false,
    "ExecuteTime": {
     "end_time": "2023-06-07T00:55:06.613322Z",
     "start_time": "2023-06-07T00:55:02.003186700Z"
    }
   }
  },
  {
   "cell_type": "code",
   "execution_count": 11,
   "outputs": [],
   "source": [
    "y_pred = model.predict(X_test)"
   ],
   "metadata": {
    "collapsed": false,
    "ExecuteTime": {
     "end_time": "2023-06-07T00:55:06.672400600Z",
     "start_time": "2023-06-07T00:55:06.613322Z"
    }
   }
  },
  {
   "cell_type": "code",
   "execution_count": 12,
   "outputs": [
    {
     "data": {
      "text/plain": "0.7541866778032992"
     },
     "execution_count": 12,
     "metadata": {},
     "output_type": "execute_result"
    }
   ],
   "source": [
    "accuracy_score(y_pred, y_test)"
   ],
   "metadata": {
    "collapsed": false,
    "ExecuteTime": {
     "end_time": "2023-06-07T00:55:06.688028Z",
     "start_time": "2023-06-07T00:55:06.672400600Z"
    }
   }
  },
  {
   "cell_type": "code",
   "execution_count": 13,
   "outputs": [
    {
     "data": {
      "text/plain": "0.7961111561725976"
     },
     "execution_count": 13,
     "metadata": {},
     "output_type": "execute_result"
    }
   ],
   "source": [
    "f1_score(y_pred, y_test, average='weighted')"
   ],
   "metadata": {
    "collapsed": false,
    "ExecuteTime": {
     "end_time": "2023-06-07T00:55:06.740141600Z",
     "start_time": "2023-06-07T00:55:06.688028Z"
    }
   }
  },
  {
   "cell_type": "code",
   "execution_count": 15,
   "outputs": [],
   "source": [
    "import pickle\n",
    "with open('../model/model_acc.pickle','wb') as fw:\n",
    "    pickle.dump(model, fw)"
   ],
   "metadata": {
    "collapsed": false,
    "ExecuteTime": {
     "end_time": "2023-06-07T09:05:01.186082100Z",
     "start_time": "2023-06-07T09:05:01.145117100Z"
    }
   }
  },
  {
   "cell_type": "code",
   "execution_count": null,
   "outputs": [],
   "source": [],
   "metadata": {
    "collapsed": false
   }
  }
 ],
 "metadata": {
  "kernelspec": {
   "display_name": "Python 3",
   "language": "python",
   "name": "python3"
  },
  "language_info": {
   "codemirror_mode": {
    "name": "ipython",
    "version": 2
   },
   "file_extension": ".py",
   "mimetype": "text/x-python",
   "name": "python",
   "nbconvert_exporter": "python",
   "pygments_lexer": "ipython2",
   "version": "2.7.6"
  }
 },
 "nbformat": 4,
 "nbformat_minor": 0
}
