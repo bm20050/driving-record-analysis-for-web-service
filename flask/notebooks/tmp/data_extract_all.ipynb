{
 "cells": [
  {
   "cell_type": "code",
   "execution_count": 1,
   "metadata": {
    "collapsed": true,
    "ExecuteTime": {
     "end_time": "2023-05-10T12:02:08.855125900Z",
     "start_time": "2023-05-10T12:02:07.801163200Z"
    }
   },
   "outputs": [],
   "source": [
    "import pandas as pd\n",
    "import numpy as np"
   ]
  },
  {
   "cell_type": "code",
   "execution_count": 2,
   "outputs": [],
   "source": [
    "df = pd.read_csv('../data/slice_data.csv')"
   ],
   "metadata": {
    "collapsed": false,
    "ExecuteTime": {
     "end_time": "2023-05-10T12:02:18.786591300Z",
     "start_time": "2023-05-10T12:02:08.855125900Z"
    }
   }
  },
  {
   "cell_type": "code",
   "execution_count": 3,
   "outputs": [],
   "source": [
    "lst1 = []\n",
    "year = []\n",
    "month = []\n",
    "day = []\n",
    "hour = []\n",
    "minute = []\n",
    "lst2 = []\n",
    "lst3 = []\n",
    "lst4 = []\n",
    "for i in df.index:\n",
    "    s = df['정보발생일시'][i]\n",
    "    s = str(s)\n",
    "    if s[-4:] == '0000':\n",
    "        lst1.append(s)\n",
    "        year.append(s[:2])\n",
    "        month.append(s[2:4])\n",
    "        day.append(s[4:6])\n",
    "        hour.append(s[6:8])\n",
    "        minute.append(s[8:10])\n",
    "        lst2.append(df['차량속도'][i])\n",
    "        lst3.append(df['GPS_X'][i])\n",
    "        lst4.append(df['GPS_Y'][i])\n",
    "\n",
    "temp_df = pd.DataFrame({'정보발생일시': lst1, '년': year, '월': month, '일': day, '시': hour, '분': minute, '차량속도': lst2, 'GPS_X': lst3, 'GPS_Y': lst4})\n",
    "temp_df.to_csv('../data/extract_minute_all.csv', index=False)"
   ],
   "metadata": {
    "collapsed": false,
    "ExecuteTime": {
     "end_time": "2023-05-10T12:02:52.211839400Z",
     "start_time": "2023-05-10T12:02:18.793687200Z"
    }
   }
  },
  {
   "cell_type": "code",
   "execution_count": 4,
   "outputs": [
    {
     "data": {
      "text/plain": "               정보발생일시   년   월   일   시   분  차량속도      GPS_X     GPS_Y\n0      22120105080000  22  12   1   5   8     0  129158670  35236021\n1      22120105090000  22  12   1   5   9     0  129158670  35236021\n2      22120105100000  22  12   1   5  10     0  129158625  35235989\n3      22120105110000  22  12   1   5  11     0  129158625  35235989\n4      22120105120000  22  12   1   5  12     0  129158625  35235989\n...               ...  ..  ..  ..  ..  ..   ...        ...       ...\n99143  22123120590000  22  12  31  20  59    15  129148910  35229622\n99144  22123121000000  22  12  31  21   0    21  129149201  35229832\n99145  22123121010000  22  12  31  21   1    31  129153218  35231953\n99146  22123121020000  22  12  31  21   2     0  129153782  35232362\n99147  22123121030000  22  12  31  21   3    34  129157096  35234968\n\n[99148 rows x 9 columns]",
      "text/html": "<div>\n<style scoped>\n    .dataframe tbody tr th:only-of-type {\n        vertical-align: middle;\n    }\n\n    .dataframe tbody tr th {\n        vertical-align: top;\n    }\n\n    .dataframe thead th {\n        text-align: right;\n    }\n</style>\n<table border=\"1\" class=\"dataframe\">\n  <thead>\n    <tr style=\"text-align: right;\">\n      <th></th>\n      <th>정보발생일시</th>\n      <th>년</th>\n      <th>월</th>\n      <th>일</th>\n      <th>시</th>\n      <th>분</th>\n      <th>차량속도</th>\n      <th>GPS_X</th>\n      <th>GPS_Y</th>\n    </tr>\n  </thead>\n  <tbody>\n    <tr>\n      <th>0</th>\n      <td>22120105080000</td>\n      <td>22</td>\n      <td>12</td>\n      <td>1</td>\n      <td>5</td>\n      <td>8</td>\n      <td>0</td>\n      <td>129158670</td>\n      <td>35236021</td>\n    </tr>\n    <tr>\n      <th>1</th>\n      <td>22120105090000</td>\n      <td>22</td>\n      <td>12</td>\n      <td>1</td>\n      <td>5</td>\n      <td>9</td>\n      <td>0</td>\n      <td>129158670</td>\n      <td>35236021</td>\n    </tr>\n    <tr>\n      <th>2</th>\n      <td>22120105100000</td>\n      <td>22</td>\n      <td>12</td>\n      <td>1</td>\n      <td>5</td>\n      <td>10</td>\n      <td>0</td>\n      <td>129158625</td>\n      <td>35235989</td>\n    </tr>\n    <tr>\n      <th>3</th>\n      <td>22120105110000</td>\n      <td>22</td>\n      <td>12</td>\n      <td>1</td>\n      <td>5</td>\n      <td>11</td>\n      <td>0</td>\n      <td>129158625</td>\n      <td>35235989</td>\n    </tr>\n    <tr>\n      <th>4</th>\n      <td>22120105120000</td>\n      <td>22</td>\n      <td>12</td>\n      <td>1</td>\n      <td>5</td>\n      <td>12</td>\n      <td>0</td>\n      <td>129158625</td>\n      <td>35235989</td>\n    </tr>\n    <tr>\n      <th>...</th>\n      <td>...</td>\n      <td>...</td>\n      <td>...</td>\n      <td>...</td>\n      <td>...</td>\n      <td>...</td>\n      <td>...</td>\n      <td>...</td>\n      <td>...</td>\n    </tr>\n    <tr>\n      <th>99143</th>\n      <td>22123120590000</td>\n      <td>22</td>\n      <td>12</td>\n      <td>31</td>\n      <td>20</td>\n      <td>59</td>\n      <td>15</td>\n      <td>129148910</td>\n      <td>35229622</td>\n    </tr>\n    <tr>\n      <th>99144</th>\n      <td>22123121000000</td>\n      <td>22</td>\n      <td>12</td>\n      <td>31</td>\n      <td>21</td>\n      <td>0</td>\n      <td>21</td>\n      <td>129149201</td>\n      <td>35229832</td>\n    </tr>\n    <tr>\n      <th>99145</th>\n      <td>22123121010000</td>\n      <td>22</td>\n      <td>12</td>\n      <td>31</td>\n      <td>21</td>\n      <td>1</td>\n      <td>31</td>\n      <td>129153218</td>\n      <td>35231953</td>\n    </tr>\n    <tr>\n      <th>99146</th>\n      <td>22123121020000</td>\n      <td>22</td>\n      <td>12</td>\n      <td>31</td>\n      <td>21</td>\n      <td>2</td>\n      <td>0</td>\n      <td>129153782</td>\n      <td>35232362</td>\n    </tr>\n    <tr>\n      <th>99147</th>\n      <td>22123121030000</td>\n      <td>22</td>\n      <td>12</td>\n      <td>31</td>\n      <td>21</td>\n      <td>3</td>\n      <td>34</td>\n      <td>129157096</td>\n      <td>35234968</td>\n    </tr>\n  </tbody>\n</table>\n<p>99148 rows × 9 columns</p>\n</div>"
     },
     "execution_count": 4,
     "metadata": {},
     "output_type": "execute_result"
    }
   ],
   "source": [
    "df = pd.read_csv('../data/extract_minute_all.csv')\n",
    "df"
   ],
   "metadata": {
    "collapsed": false,
    "ExecuteTime": {
     "end_time": "2023-05-10T12:02:52.322039800Z",
     "start_time": "2023-05-10T12:02:52.211839400Z"
    }
   }
  },
  {
   "cell_type": "code",
   "execution_count": 5,
   "outputs": [],
   "source": [
    "gps_x = np.array(df['GPS_X']) / 1000000\n",
    "gps_y = np.array(df['GPS_Y']) / 1000000\n",
    "gps_x = gps_x.tolist()\n",
    "gps_y = gps_y.tolist()\n",
    "df['gps_x'] = gps_x\n",
    "df['gps_y'] = gps_y\n",
    "del df['GPS_X']\n",
    "del df['GPS_Y']"
   ],
   "metadata": {
    "collapsed": false,
    "ExecuteTime": {
     "end_time": "2023-05-10T12:02:52.431287400Z",
     "start_time": "2023-05-10T12:02:52.322039800Z"
    }
   }
  },
  {
   "cell_type": "code",
   "execution_count": 6,
   "outputs": [
    {
     "data": {
      "text/plain": "               정보발생일시   년   월   일   시   분  차량속도       gps_x      gps_y\n0      22120105080000  22  12   1   5   8     0  129.158670  35.236021\n1      22120105090000  22  12   1   5   9     0  129.158670  35.236021\n2      22120105100000  22  12   1   5  10     0  129.158625  35.235989\n3      22120105110000  22  12   1   5  11     0  129.158625  35.235989\n4      22120105120000  22  12   1   5  12     0  129.158625  35.235989\n...               ...  ..  ..  ..  ..  ..   ...         ...        ...\n99143  22123120590000  22  12  31  20  59    15  129.148910  35.229622\n99144  22123121000000  22  12  31  21   0    21  129.149201  35.229832\n99145  22123121010000  22  12  31  21   1    31  129.153218  35.231953\n99146  22123121020000  22  12  31  21   2     0  129.153782  35.232362\n99147  22123121030000  22  12  31  21   3    34  129.157096  35.234968\n\n[99148 rows x 9 columns]",
      "text/html": "<div>\n<style scoped>\n    .dataframe tbody tr th:only-of-type {\n        vertical-align: middle;\n    }\n\n    .dataframe tbody tr th {\n        vertical-align: top;\n    }\n\n    .dataframe thead th {\n        text-align: right;\n    }\n</style>\n<table border=\"1\" class=\"dataframe\">\n  <thead>\n    <tr style=\"text-align: right;\">\n      <th></th>\n      <th>정보발생일시</th>\n      <th>년</th>\n      <th>월</th>\n      <th>일</th>\n      <th>시</th>\n      <th>분</th>\n      <th>차량속도</th>\n      <th>gps_x</th>\n      <th>gps_y</th>\n    </tr>\n  </thead>\n  <tbody>\n    <tr>\n      <th>0</th>\n      <td>22120105080000</td>\n      <td>22</td>\n      <td>12</td>\n      <td>1</td>\n      <td>5</td>\n      <td>8</td>\n      <td>0</td>\n      <td>129.158670</td>\n      <td>35.236021</td>\n    </tr>\n    <tr>\n      <th>1</th>\n      <td>22120105090000</td>\n      <td>22</td>\n      <td>12</td>\n      <td>1</td>\n      <td>5</td>\n      <td>9</td>\n      <td>0</td>\n      <td>129.158670</td>\n      <td>35.236021</td>\n    </tr>\n    <tr>\n      <th>2</th>\n      <td>22120105100000</td>\n      <td>22</td>\n      <td>12</td>\n      <td>1</td>\n      <td>5</td>\n      <td>10</td>\n      <td>0</td>\n      <td>129.158625</td>\n      <td>35.235989</td>\n    </tr>\n    <tr>\n      <th>3</th>\n      <td>22120105110000</td>\n      <td>22</td>\n      <td>12</td>\n      <td>1</td>\n      <td>5</td>\n      <td>11</td>\n      <td>0</td>\n      <td>129.158625</td>\n      <td>35.235989</td>\n    </tr>\n    <tr>\n      <th>4</th>\n      <td>22120105120000</td>\n      <td>22</td>\n      <td>12</td>\n      <td>1</td>\n      <td>5</td>\n      <td>12</td>\n      <td>0</td>\n      <td>129.158625</td>\n      <td>35.235989</td>\n    </tr>\n    <tr>\n      <th>...</th>\n      <td>...</td>\n      <td>...</td>\n      <td>...</td>\n      <td>...</td>\n      <td>...</td>\n      <td>...</td>\n      <td>...</td>\n      <td>...</td>\n      <td>...</td>\n    </tr>\n    <tr>\n      <th>99143</th>\n      <td>22123120590000</td>\n      <td>22</td>\n      <td>12</td>\n      <td>31</td>\n      <td>20</td>\n      <td>59</td>\n      <td>15</td>\n      <td>129.148910</td>\n      <td>35.229622</td>\n    </tr>\n    <tr>\n      <th>99144</th>\n      <td>22123121000000</td>\n      <td>22</td>\n      <td>12</td>\n      <td>31</td>\n      <td>21</td>\n      <td>0</td>\n      <td>21</td>\n      <td>129.149201</td>\n      <td>35.229832</td>\n    </tr>\n    <tr>\n      <th>99145</th>\n      <td>22123121010000</td>\n      <td>22</td>\n      <td>12</td>\n      <td>31</td>\n      <td>21</td>\n      <td>1</td>\n      <td>31</td>\n      <td>129.153218</td>\n      <td>35.231953</td>\n    </tr>\n    <tr>\n      <th>99146</th>\n      <td>22123121020000</td>\n      <td>22</td>\n      <td>12</td>\n      <td>31</td>\n      <td>21</td>\n      <td>2</td>\n      <td>0</td>\n      <td>129.153782</td>\n      <td>35.232362</td>\n    </tr>\n    <tr>\n      <th>99147</th>\n      <td>22123121030000</td>\n      <td>22</td>\n      <td>12</td>\n      <td>31</td>\n      <td>21</td>\n      <td>3</td>\n      <td>34</td>\n      <td>129.157096</td>\n      <td>35.234968</td>\n    </tr>\n  </tbody>\n</table>\n<p>99148 rows × 9 columns</p>\n</div>"
     },
     "execution_count": 6,
     "metadata": {},
     "output_type": "execute_result"
    }
   ],
   "source": [
    "df"
   ],
   "metadata": {
    "collapsed": false,
    "ExecuteTime": {
     "end_time": "2023-05-10T12:02:52.431287400Z",
     "start_time": "2023-05-10T12:02:52.353171Z"
    }
   }
  },
  {
   "cell_type": "code",
   "execution_count": 7,
   "outputs": [
    {
     "data": {
      "text/plain": "<pandas.core.groupby.generic.DataFrameGroupBy object at 0x0000019E57FF8D00>"
     },
     "execution_count": 7,
     "metadata": {},
     "output_type": "execute_result"
    }
   ],
   "source": [
    "g = df.groupby(['일', '시'])\n",
    "g"
   ],
   "metadata": {
    "collapsed": false,
    "ExecuteTime": {
     "end_time": "2023-05-10T12:02:52.431287400Z",
     "start_time": "2023-05-10T12:02:52.384496800Z"
    }
   }
  },
  {
   "cell_type": "code",
   "execution_count": 8,
   "outputs": [
    {
     "data": {
      "text/plain": "             정보발생일시     년     월          분       차량속도       gps_x      gps_y\n일  시                                                                        \n1  0   2.212010e+13  22.0  12.0  13.500000  25.071429  129.135317  35.210029\n   4   2.212010e+13  22.0  12.0  42.500000   0.705882  129.158177  35.235711\n   5   2.212011e+13  22.0  12.0  32.327160  15.598765  129.142761  35.198267\n   6   2.212011e+13  22.0  12.0  29.569832  14.318436  129.167253  35.168476\n   7   2.212011e+13  22.0  12.0  25.184397  16.170213  129.138009  35.201583\n...             ...   ...   ...        ...        ...         ...        ...\n31 19  2.212312e+13  22.0  12.0  31.250000  14.773810  129.159159  35.175570\n   20  2.212312e+13  22.0  12.0  27.243750  16.243750  129.153054  35.182763\n   21  2.212312e+13  22.0  12.0  30.481132  16.377358  129.142637  35.199308\n   22  2.212312e+13  22.0  12.0  32.642857  11.392857  129.167604  35.187847\n   23  2.212312e+13  22.0  12.0  21.500000  22.386364  129.136730  35.192983\n\n[608 rows x 7 columns]",
      "text/html": "<div>\n<style scoped>\n    .dataframe tbody tr th:only-of-type {\n        vertical-align: middle;\n    }\n\n    .dataframe tbody tr th {\n        vertical-align: top;\n    }\n\n    .dataframe thead th {\n        text-align: right;\n    }\n</style>\n<table border=\"1\" class=\"dataframe\">\n  <thead>\n    <tr style=\"text-align: right;\">\n      <th></th>\n      <th></th>\n      <th>정보발생일시</th>\n      <th>년</th>\n      <th>월</th>\n      <th>분</th>\n      <th>차량속도</th>\n      <th>gps_x</th>\n      <th>gps_y</th>\n    </tr>\n    <tr>\n      <th>일</th>\n      <th>시</th>\n      <th></th>\n      <th></th>\n      <th></th>\n      <th></th>\n      <th></th>\n      <th></th>\n      <th></th>\n    </tr>\n  </thead>\n  <tbody>\n    <tr>\n      <th rowspan=\"5\" valign=\"top\">1</th>\n      <th>0</th>\n      <td>2.212010e+13</td>\n      <td>22.0</td>\n      <td>12.0</td>\n      <td>13.500000</td>\n      <td>25.071429</td>\n      <td>129.135317</td>\n      <td>35.210029</td>\n    </tr>\n    <tr>\n      <th>4</th>\n      <td>2.212010e+13</td>\n      <td>22.0</td>\n      <td>12.0</td>\n      <td>42.500000</td>\n      <td>0.705882</td>\n      <td>129.158177</td>\n      <td>35.235711</td>\n    </tr>\n    <tr>\n      <th>5</th>\n      <td>2.212011e+13</td>\n      <td>22.0</td>\n      <td>12.0</td>\n      <td>32.327160</td>\n      <td>15.598765</td>\n      <td>129.142761</td>\n      <td>35.198267</td>\n    </tr>\n    <tr>\n      <th>6</th>\n      <td>2.212011e+13</td>\n      <td>22.0</td>\n      <td>12.0</td>\n      <td>29.569832</td>\n      <td>14.318436</td>\n      <td>129.167253</td>\n      <td>35.168476</td>\n    </tr>\n    <tr>\n      <th>7</th>\n      <td>2.212011e+13</td>\n      <td>22.0</td>\n      <td>12.0</td>\n      <td>25.184397</td>\n      <td>16.170213</td>\n      <td>129.138009</td>\n      <td>35.201583</td>\n    </tr>\n    <tr>\n      <th>...</th>\n      <th>...</th>\n      <td>...</td>\n      <td>...</td>\n      <td>...</td>\n      <td>...</td>\n      <td>...</td>\n      <td>...</td>\n      <td>...</td>\n    </tr>\n    <tr>\n      <th rowspan=\"5\" valign=\"top\">31</th>\n      <th>19</th>\n      <td>2.212312e+13</td>\n      <td>22.0</td>\n      <td>12.0</td>\n      <td>31.250000</td>\n      <td>14.773810</td>\n      <td>129.159159</td>\n      <td>35.175570</td>\n    </tr>\n    <tr>\n      <th>20</th>\n      <td>2.212312e+13</td>\n      <td>22.0</td>\n      <td>12.0</td>\n      <td>27.243750</td>\n      <td>16.243750</td>\n      <td>129.153054</td>\n      <td>35.182763</td>\n    </tr>\n    <tr>\n      <th>21</th>\n      <td>2.212312e+13</td>\n      <td>22.0</td>\n      <td>12.0</td>\n      <td>30.481132</td>\n      <td>16.377358</td>\n      <td>129.142637</td>\n      <td>35.199308</td>\n    </tr>\n    <tr>\n      <th>22</th>\n      <td>2.212312e+13</td>\n      <td>22.0</td>\n      <td>12.0</td>\n      <td>32.642857</td>\n      <td>11.392857</td>\n      <td>129.167604</td>\n      <td>35.187847</td>\n    </tr>\n    <tr>\n      <th>23</th>\n      <td>2.212312e+13</td>\n      <td>22.0</td>\n      <td>12.0</td>\n      <td>21.500000</td>\n      <td>22.386364</td>\n      <td>129.136730</td>\n      <td>35.192983</td>\n    </tr>\n  </tbody>\n</table>\n<p>608 rows × 7 columns</p>\n</div>"
     },
     "execution_count": 8,
     "metadata": {},
     "output_type": "execute_result"
    }
   ],
   "source": [
    "g.mean()"
   ],
   "metadata": {
    "collapsed": false,
    "ExecuteTime": {
     "end_time": "2023-05-10T12:02:52.447303100Z",
     "start_time": "2023-05-10T12:02:52.384496800Z"
    }
   }
  },
  {
   "cell_type": "code",
   "execution_count": 9,
   "outputs": [
    {
     "data": {
      "text/plain": "      년   월   일   시       차량속도\n0    22  12   1   0  25.071429\n1    22  12   1   4   0.705882\n2    22  12   1   5  15.598765\n3    22  12   1   6  14.318436\n4    22  12   1   7  16.170213\n..   ..  ..  ..  ..        ...\n603  22  12  31  19  14.773810\n604  22  12  31  20  16.243750\n605  22  12  31  21  16.377358\n606  22  12  31  22  11.392857\n607  22  12  31  23  22.386364\n\n[608 rows x 5 columns]",
      "text/html": "<div>\n<style scoped>\n    .dataframe tbody tr th:only-of-type {\n        vertical-align: middle;\n    }\n\n    .dataframe tbody tr th {\n        vertical-align: top;\n    }\n\n    .dataframe thead th {\n        text-align: right;\n    }\n</style>\n<table border=\"1\" class=\"dataframe\">\n  <thead>\n    <tr style=\"text-align: right;\">\n      <th></th>\n      <th>년</th>\n      <th>월</th>\n      <th>일</th>\n      <th>시</th>\n      <th>차량속도</th>\n    </tr>\n  </thead>\n  <tbody>\n    <tr>\n      <th>0</th>\n      <td>22</td>\n      <td>12</td>\n      <td>1</td>\n      <td>0</td>\n      <td>25.071429</td>\n    </tr>\n    <tr>\n      <th>1</th>\n      <td>22</td>\n      <td>12</td>\n      <td>1</td>\n      <td>4</td>\n      <td>0.705882</td>\n    </tr>\n    <tr>\n      <th>2</th>\n      <td>22</td>\n      <td>12</td>\n      <td>1</td>\n      <td>5</td>\n      <td>15.598765</td>\n    </tr>\n    <tr>\n      <th>3</th>\n      <td>22</td>\n      <td>12</td>\n      <td>1</td>\n      <td>6</td>\n      <td>14.318436</td>\n    </tr>\n    <tr>\n      <th>4</th>\n      <td>22</td>\n      <td>12</td>\n      <td>1</td>\n      <td>7</td>\n      <td>16.170213</td>\n    </tr>\n    <tr>\n      <th>...</th>\n      <td>...</td>\n      <td>...</td>\n      <td>...</td>\n      <td>...</td>\n      <td>...</td>\n    </tr>\n    <tr>\n      <th>603</th>\n      <td>22</td>\n      <td>12</td>\n      <td>31</td>\n      <td>19</td>\n      <td>14.773810</td>\n    </tr>\n    <tr>\n      <th>604</th>\n      <td>22</td>\n      <td>12</td>\n      <td>31</td>\n      <td>20</td>\n      <td>16.243750</td>\n    </tr>\n    <tr>\n      <th>605</th>\n      <td>22</td>\n      <td>12</td>\n      <td>31</td>\n      <td>21</td>\n      <td>16.377358</td>\n    </tr>\n    <tr>\n      <th>606</th>\n      <td>22</td>\n      <td>12</td>\n      <td>31</td>\n      <td>22</td>\n      <td>11.392857</td>\n    </tr>\n    <tr>\n      <th>607</th>\n      <td>22</td>\n      <td>12</td>\n      <td>31</td>\n      <td>23</td>\n      <td>22.386364</td>\n    </tr>\n  </tbody>\n</table>\n<p>608 rows × 5 columns</p>\n</div>"
     },
     "execution_count": 9,
     "metadata": {},
     "output_type": "execute_result"
    }
   ],
   "source": [
    "mean_velocity = df.groupby(['일', '시'], as_index=False).agg({\"년\": \"first\", \"월\": \"first\", \"일\": \"first\", \"시\": \"first\", \"차량속도\": \"mean\"})\n",
    "mean_velocity"
   ],
   "metadata": {
    "collapsed": false,
    "ExecuteTime": {
     "end_time": "2023-05-10T12:02:52.447303100Z",
     "start_time": "2023-05-10T12:02:52.431287400Z"
    }
   }
  },
  {
   "cell_type": "code",
   "execution_count": 10,
   "outputs": [
    {
     "data": {
      "text/plain": "36.375"
     },
     "execution_count": 10,
     "metadata": {},
     "output_type": "execute_result"
    }
   ],
   "source": [
    "mean_velocity['차량속도'].max()"
   ],
   "metadata": {
    "collapsed": false,
    "ExecuteTime": {
     "end_time": "2023-05-10T12:02:52.525754900Z",
     "start_time": "2023-05-10T12:02:52.447303100Z"
    }
   }
  },
  {
   "cell_type": "code",
   "execution_count": 11,
   "outputs": [
    {
     "data": {
      "text/plain": "      년   월   일   시       차량속도 혼잡도\n0    22  12   1   0  25.071429  원활\n1    22  12   1   4   0.705882  정체\n2    22  12   1   5  15.598765  서행\n3    22  12   1   6  14.318436  정체\n4    22  12   1   7  16.170213  서행\n..   ..  ..  ..  ..        ...  ..\n603  22  12  31  19  14.773810  정체\n604  22  12  31  20  16.243750  서행\n605  22  12  31  21  16.377358  서행\n606  22  12  31  22  11.392857  정체\n607  22  12  31  23  22.386364  서행\n\n[608 rows x 6 columns]",
      "text/html": "<div>\n<style scoped>\n    .dataframe tbody tr th:only-of-type {\n        vertical-align: middle;\n    }\n\n    .dataframe tbody tr th {\n        vertical-align: top;\n    }\n\n    .dataframe thead th {\n        text-align: right;\n    }\n</style>\n<table border=\"1\" class=\"dataframe\">\n  <thead>\n    <tr style=\"text-align: right;\">\n      <th></th>\n      <th>년</th>\n      <th>월</th>\n      <th>일</th>\n      <th>시</th>\n      <th>차량속도</th>\n      <th>혼잡도</th>\n    </tr>\n  </thead>\n  <tbody>\n    <tr>\n      <th>0</th>\n      <td>22</td>\n      <td>12</td>\n      <td>1</td>\n      <td>0</td>\n      <td>25.071429</td>\n      <td>원활</td>\n    </tr>\n    <tr>\n      <th>1</th>\n      <td>22</td>\n      <td>12</td>\n      <td>1</td>\n      <td>4</td>\n      <td>0.705882</td>\n      <td>정체</td>\n    </tr>\n    <tr>\n      <th>2</th>\n      <td>22</td>\n      <td>12</td>\n      <td>1</td>\n      <td>5</td>\n      <td>15.598765</td>\n      <td>서행</td>\n    </tr>\n    <tr>\n      <th>3</th>\n      <td>22</td>\n      <td>12</td>\n      <td>1</td>\n      <td>6</td>\n      <td>14.318436</td>\n      <td>정체</td>\n    </tr>\n    <tr>\n      <th>4</th>\n      <td>22</td>\n      <td>12</td>\n      <td>1</td>\n      <td>7</td>\n      <td>16.170213</td>\n      <td>서행</td>\n    </tr>\n    <tr>\n      <th>...</th>\n      <td>...</td>\n      <td>...</td>\n      <td>...</td>\n      <td>...</td>\n      <td>...</td>\n      <td>...</td>\n    </tr>\n    <tr>\n      <th>603</th>\n      <td>22</td>\n      <td>12</td>\n      <td>31</td>\n      <td>19</td>\n      <td>14.773810</td>\n      <td>정체</td>\n    </tr>\n    <tr>\n      <th>604</th>\n      <td>22</td>\n      <td>12</td>\n      <td>31</td>\n      <td>20</td>\n      <td>16.243750</td>\n      <td>서행</td>\n    </tr>\n    <tr>\n      <th>605</th>\n      <td>22</td>\n      <td>12</td>\n      <td>31</td>\n      <td>21</td>\n      <td>16.377358</td>\n      <td>서행</td>\n    </tr>\n    <tr>\n      <th>606</th>\n      <td>22</td>\n      <td>12</td>\n      <td>31</td>\n      <td>22</td>\n      <td>11.392857</td>\n      <td>정체</td>\n    </tr>\n    <tr>\n      <th>607</th>\n      <td>22</td>\n      <td>12</td>\n      <td>31</td>\n      <td>23</td>\n      <td>22.386364</td>\n      <td>서행</td>\n    </tr>\n  </tbody>\n</table>\n<p>608 rows × 6 columns</p>\n</div>"
     },
     "execution_count": 11,
     "metadata": {},
     "output_type": "execute_result"
    }
   ],
   "source": [
    "mean_velocity['혼잡도'] = pd.cut(mean_velocity.차량속도, bins=[-1, 15, 25, 37], labels=['정체', '서행', '원활'])\n",
    "mean_velocity"
   ],
   "metadata": {
    "collapsed": false,
    "ExecuteTime": {
     "end_time": "2023-05-10T12:02:52.573531100Z",
     "start_time": "2023-05-10T12:02:52.462930700Z"
    }
   }
  },
  {
   "cell_type": "code",
   "execution_count": 12,
   "outputs": [],
   "source": [
    "mean_velocity.to_csv('../data/mean_velocity_all.csv', index=False)"
   ],
   "metadata": {
    "collapsed": false,
    "ExecuteTime": {
     "end_time": "2023-05-10T12:02:52.667831600Z",
     "start_time": "2023-05-10T12:02:52.478682500Z"
    }
   }
  }
 ],
 "metadata": {
  "kernelspec": {
   "display_name": "Python 3",
   "language": "python",
   "name": "python3"
  },
  "language_info": {
   "codemirror_mode": {
    "name": "ipython",
    "version": 2
   },
   "file_extension": ".py",
   "mimetype": "text/x-python",
   "name": "python",
   "nbconvert_exporter": "python",
   "pygments_lexer": "ipython2",
   "version": "2.7.6"
  }
 },
 "nbformat": 4,
 "nbformat_minor": 0
}
