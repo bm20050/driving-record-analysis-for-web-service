{
 "cells": [
  {
   "cell_type": "code",
   "execution_count": 1,
   "metadata": {
    "collapsed": true,
    "ExecuteTime": {
     "end_time": "2023-06-09T01:08:39.243668100Z",
     "start_time": "2023-06-09T01:08:38.489375200Z"
    }
   },
   "outputs": [],
   "source": [
    "import pandas as pd\n",
    "import warnings\n",
    "warnings.filterwarnings(\"ignore\")\n",
    "from sklearn.model_selection import train_test_split\n",
    "from sklearn.metrics import accuracy_score\n",
    "from xgboost import XGBClassifier\n",
    "from sklearn.metrics import f1_score\n",
    "from sklearn.neighbors import KNeighborsClassifier"
   ]
  },
  {
   "cell_type": "code",
   "execution_count": 2,
   "outputs": [
    {
     "data": {
      "text/plain": "               날짜        번호판  일일주행거리   누적주행거리          정보발생일시  차량속도  RPM   \n0        20221201  부산70자1854       0    66443  22120105071500     0  193  \\\n1        20221201  부산70자1854       0    66443  22120105071600     0  388   \n2        20221201  부산70자1854       0    66443  22120105071700     0  777   \n3        20221201  부산70자1854       0    66443  22120105071800     0  638   \n4        20221201  부산70자1854       0    66443  22120105071900     0  461   \n...           ...        ...     ...      ...             ...   ...  ...   \n4462382  20221231  부산70자1894     176  3095705  22123121033800     0  331   \n4462383  20221231  부산70자1894     176  3095705  22123121033900     0   59   \n4462384  20221231  부산70자1894     176  3095705  22123121034000     0    0   \n4462385  20221231  부산70자1894     176  3095705  22123121034100     0    0   \n4462386  20221231  부산70자1894     176  3095705  22123121034200     0    0   \n\n         브레이크       GPS_X      GPS_Y  ...      회전min     회전max2  회전  위험운전회전   \n0           0  129.158670  35.236021  ...  38.543643  54.552694   0       0  \\\n1           0  129.158670  35.236021  ...  38.543643  54.552694   0       0   \n2           0  129.158670  35.236021  ...  38.543643  54.552694   0       0   \n3           0  129.158670  35.236021  ...  38.543643  54.552694   0       0   \n4           0  129.158670  35.236021  ...  38.543643  54.552694   0       0   \n...       ...         ...        ...  ...        ...        ...  ..     ...   \n4462382     0  129.158597  35.235956  ...  38.543643  54.552694   0       0   \n4462383     0  129.158597  35.235956  ...  38.543643  54.552694   0       0   \n4462384     0  129.158597  35.235956  ...  38.543643  54.552694   0       0   \n4462385     0  129.158597  35.235956  ...  38.543643  54.552694   0       0   \n4462386     0  129.158597  35.235956  ...  38.543643  54.552694   0       0   \n\n          년   월   일   시  분   초  \n0        22  12   1   5  7  15  \n1        22  12   1   5  7  16  \n2        22  12   1   5  7  17  \n3        22  12   1   5  7  18  \n4        22  12   1   5  7  19  \n...      ..  ..  ..  .. ..  ..  \n4462382  22  12  31  21  3  38  \n4462383  22  12  31  21  3  39  \n4462384  22  12  31  21  3  40  \n4462385  22  12  31  21  3  41  \n4462386  22  12  31  21  3  42  \n\n[4462387 rows x 24 columns]",
      "text/html": "<div>\n<style scoped>\n    .dataframe tbody tr th:only-of-type {\n        vertical-align: middle;\n    }\n\n    .dataframe tbody tr th {\n        vertical-align: top;\n    }\n\n    .dataframe thead th {\n        text-align: right;\n    }\n</style>\n<table border=\"1\" class=\"dataframe\">\n  <thead>\n    <tr style=\"text-align: right;\">\n      <th></th>\n      <th>날짜</th>\n      <th>번호판</th>\n      <th>일일주행거리</th>\n      <th>누적주행거리</th>\n      <th>정보발생일시</th>\n      <th>차량속도</th>\n      <th>RPM</th>\n      <th>브레이크</th>\n      <th>GPS_X</th>\n      <th>GPS_Y</th>\n      <th>...</th>\n      <th>회전min</th>\n      <th>회전max2</th>\n      <th>회전</th>\n      <th>위험운전회전</th>\n      <th>년</th>\n      <th>월</th>\n      <th>일</th>\n      <th>시</th>\n      <th>분</th>\n      <th>초</th>\n    </tr>\n  </thead>\n  <tbody>\n    <tr>\n      <th>0</th>\n      <td>20221201</td>\n      <td>부산70자1854</td>\n      <td>0</td>\n      <td>66443</td>\n      <td>22120105071500</td>\n      <td>0</td>\n      <td>193</td>\n      <td>0</td>\n      <td>129.158670</td>\n      <td>35.236021</td>\n      <td>...</td>\n      <td>38.543643</td>\n      <td>54.552694</td>\n      <td>0</td>\n      <td>0</td>\n      <td>22</td>\n      <td>12</td>\n      <td>1</td>\n      <td>5</td>\n      <td>7</td>\n      <td>15</td>\n    </tr>\n    <tr>\n      <th>1</th>\n      <td>20221201</td>\n      <td>부산70자1854</td>\n      <td>0</td>\n      <td>66443</td>\n      <td>22120105071600</td>\n      <td>0</td>\n      <td>388</td>\n      <td>0</td>\n      <td>129.158670</td>\n      <td>35.236021</td>\n      <td>...</td>\n      <td>38.543643</td>\n      <td>54.552694</td>\n      <td>0</td>\n      <td>0</td>\n      <td>22</td>\n      <td>12</td>\n      <td>1</td>\n      <td>5</td>\n      <td>7</td>\n      <td>16</td>\n    </tr>\n    <tr>\n      <th>2</th>\n      <td>20221201</td>\n      <td>부산70자1854</td>\n      <td>0</td>\n      <td>66443</td>\n      <td>22120105071700</td>\n      <td>0</td>\n      <td>777</td>\n      <td>0</td>\n      <td>129.158670</td>\n      <td>35.236021</td>\n      <td>...</td>\n      <td>38.543643</td>\n      <td>54.552694</td>\n      <td>0</td>\n      <td>0</td>\n      <td>22</td>\n      <td>12</td>\n      <td>1</td>\n      <td>5</td>\n      <td>7</td>\n      <td>17</td>\n    </tr>\n    <tr>\n      <th>3</th>\n      <td>20221201</td>\n      <td>부산70자1854</td>\n      <td>0</td>\n      <td>66443</td>\n      <td>22120105071800</td>\n      <td>0</td>\n      <td>638</td>\n      <td>0</td>\n      <td>129.158670</td>\n      <td>35.236021</td>\n      <td>...</td>\n      <td>38.543643</td>\n      <td>54.552694</td>\n      <td>0</td>\n      <td>0</td>\n      <td>22</td>\n      <td>12</td>\n      <td>1</td>\n      <td>5</td>\n      <td>7</td>\n      <td>18</td>\n    </tr>\n    <tr>\n      <th>4</th>\n      <td>20221201</td>\n      <td>부산70자1854</td>\n      <td>0</td>\n      <td>66443</td>\n      <td>22120105071900</td>\n      <td>0</td>\n      <td>461</td>\n      <td>0</td>\n      <td>129.158670</td>\n      <td>35.236021</td>\n      <td>...</td>\n      <td>38.543643</td>\n      <td>54.552694</td>\n      <td>0</td>\n      <td>0</td>\n      <td>22</td>\n      <td>12</td>\n      <td>1</td>\n      <td>5</td>\n      <td>7</td>\n      <td>19</td>\n    </tr>\n    <tr>\n      <th>...</th>\n      <td>...</td>\n      <td>...</td>\n      <td>...</td>\n      <td>...</td>\n      <td>...</td>\n      <td>...</td>\n      <td>...</td>\n      <td>...</td>\n      <td>...</td>\n      <td>...</td>\n      <td>...</td>\n      <td>...</td>\n      <td>...</td>\n      <td>...</td>\n      <td>...</td>\n      <td>...</td>\n      <td>...</td>\n      <td>...</td>\n      <td>...</td>\n      <td>...</td>\n      <td>...</td>\n    </tr>\n    <tr>\n      <th>4462382</th>\n      <td>20221231</td>\n      <td>부산70자1894</td>\n      <td>176</td>\n      <td>3095705</td>\n      <td>22123121033800</td>\n      <td>0</td>\n      <td>331</td>\n      <td>0</td>\n      <td>129.158597</td>\n      <td>35.235956</td>\n      <td>...</td>\n      <td>38.543643</td>\n      <td>54.552694</td>\n      <td>0</td>\n      <td>0</td>\n      <td>22</td>\n      <td>12</td>\n      <td>31</td>\n      <td>21</td>\n      <td>3</td>\n      <td>38</td>\n    </tr>\n    <tr>\n      <th>4462383</th>\n      <td>20221231</td>\n      <td>부산70자1894</td>\n      <td>176</td>\n      <td>3095705</td>\n      <td>22123121033900</td>\n      <td>0</td>\n      <td>59</td>\n      <td>0</td>\n      <td>129.158597</td>\n      <td>35.235956</td>\n      <td>...</td>\n      <td>38.543643</td>\n      <td>54.552694</td>\n      <td>0</td>\n      <td>0</td>\n      <td>22</td>\n      <td>12</td>\n      <td>31</td>\n      <td>21</td>\n      <td>3</td>\n      <td>39</td>\n    </tr>\n    <tr>\n      <th>4462384</th>\n      <td>20221231</td>\n      <td>부산70자1894</td>\n      <td>176</td>\n      <td>3095705</td>\n      <td>22123121034000</td>\n      <td>0</td>\n      <td>0</td>\n      <td>0</td>\n      <td>129.158597</td>\n      <td>35.235956</td>\n      <td>...</td>\n      <td>38.543643</td>\n      <td>54.552694</td>\n      <td>0</td>\n      <td>0</td>\n      <td>22</td>\n      <td>12</td>\n      <td>31</td>\n      <td>21</td>\n      <td>3</td>\n      <td>40</td>\n    </tr>\n    <tr>\n      <th>4462385</th>\n      <td>20221231</td>\n      <td>부산70자1894</td>\n      <td>176</td>\n      <td>3095705</td>\n      <td>22123121034100</td>\n      <td>0</td>\n      <td>0</td>\n      <td>0</td>\n      <td>129.158597</td>\n      <td>35.235956</td>\n      <td>...</td>\n      <td>38.543643</td>\n      <td>54.552694</td>\n      <td>0</td>\n      <td>0</td>\n      <td>22</td>\n      <td>12</td>\n      <td>31</td>\n      <td>21</td>\n      <td>3</td>\n      <td>41</td>\n    </tr>\n    <tr>\n      <th>4462386</th>\n      <td>20221231</td>\n      <td>부산70자1894</td>\n      <td>176</td>\n      <td>3095705</td>\n      <td>22123121034200</td>\n      <td>0</td>\n      <td>0</td>\n      <td>0</td>\n      <td>129.158597</td>\n      <td>35.235956</td>\n      <td>...</td>\n      <td>38.543643</td>\n      <td>54.552694</td>\n      <td>0</td>\n      <td>0</td>\n      <td>22</td>\n      <td>12</td>\n      <td>31</td>\n      <td>21</td>\n      <td>3</td>\n      <td>42</td>\n    </tr>\n  </tbody>\n</table>\n<p>4462387 rows × 24 columns</p>\n</div>"
     },
     "execution_count": 2,
     "metadata": {},
     "output_type": "execute_result"
    }
   ],
   "source": [
    "df = pd.read_csv('../data/0608_회전분류.csv')\n",
    "df"
   ],
   "metadata": {
    "collapsed": false,
    "ExecuteTime": {
     "end_time": "2023-06-09T01:08:47.977575700Z",
     "start_time": "2023-06-09T01:08:39.248469200Z"
    }
   }
  },
  {
   "cell_type": "code",
   "execution_count": 3,
   "outputs": [],
   "source": [
    "rotation0 = df.query('위험운전회전 == 0')"
   ],
   "metadata": {
    "collapsed": false,
    "ExecuteTime": {
     "end_time": "2023-06-09T01:08:48.315299900Z",
     "start_time": "2023-06-09T01:08:47.977575700Z"
    }
   }
  },
  {
   "cell_type": "code",
   "execution_count": 4,
   "outputs": [],
   "source": [
    "X_train, X_test, y_train, y_test = train_test_split(rotation0, rotation0, random_state=42, shuffle=True, test_size=0.0014)"
   ],
   "metadata": {
    "collapsed": false,
    "ExecuteTime": {
     "end_time": "2023-06-09T01:08:51.429519800Z",
     "start_time": "2023-06-09T01:08:48.319506500Z"
    }
   }
  },
  {
   "cell_type": "code",
   "execution_count": 5,
   "outputs": [],
   "source": [
    "df = df.query('위험운전회전 != 0')"
   ],
   "metadata": {
    "collapsed": false,
    "ExecuteTime": {
     "end_time": "2023-06-09T01:08:51.478868600Z",
     "start_time": "2023-06-09T01:08:51.415940600Z"
    }
   }
  },
  {
   "cell_type": "code",
   "execution_count": 6,
   "outputs": [
    {
     "data": {
      "text/plain": "               날짜        번호판  일일주행거리   누적주행거리          정보발생일시  차량속도   RPM   \n125      20221201  부산70자1854       0    66443  22120105092000     2   554  \\\n1296     20221201  부산70자1854       5    66449  22120105285100     3   840   \n3066     20221201  부산70자1854      14    66458  22120105582100    27  1496   \n3334     20221201  부산70자1854      15    66459  22120106024900    19  1078   \n3405     20221201  부산70자1854      15    66459  22120106040000    19  1088   \n...           ...        ...     ...      ...             ...   ...   ...   \n1006921  20221222  부산70자1854     177    70555  22122221180300    29   970   \n3452911  20221212  부산70자1894      92  3091656  22121212441100     0   541   \n4283192  20221228  부산70자1894      51  3094960  22122808472100    14  1272   \n2599996  20221226  부산70자1860     149  1079815  22122617075900    23  1506   \n523052   20221212  부산70자1854     153    68635  22121216472400     7   731   \n\n         브레이크       GPS_X      GPS_Y  ...      회전min     회전max2   회전  위험운전회전   \n125         1  129.158644  35.236001  ...  37.468375  52.790344  259       3  \\\n1296        0  129.123617  35.208685  ...  36.942022  51.930579  126       3   \n3066        0  129.162887  35.166084  ...  26.305422  35.025937  342       3   \n3334        1  129.170386  35.172867  ...  29.458030  39.934335  338       3   \n3405        0  129.167582  35.173727  ...  29.458030  39.934335   39       2   \n...       ...         ...        ...  ...        ...        ...  ...     ...   \n1006921     1  129.151844  35.231401  ...  25.571487  33.897404    0       0   \n3452911     1  129.124676  35.215915  ...  38.543643  54.552694    0       0   \n4283192     0  129.131400  35.200118  ...  31.617569  43.349265    3       0   \n2599996     0  129.180525  35.173996  ...  27.837116  37.398732    1       0   \n523052      0  129.164666  35.162977  ...  34.909419  48.629127   -1       0   \n\n          년   월   일   시   분   초  \n125      22  12   1   5   9  20  \n1296     22  12   1   5  28  51  \n3066     22  12   1   5  58  21  \n3334     22  12   1   6   2  49  \n3405     22  12   1   6   4   0  \n...      ..  ..  ..  ..  ..  ..  \n1006921  22  12  22  21  18   3  \n3452911  22  12  12  12  44  11  \n4283192  22  12  28   8  47  21  \n2599996  22  12  26  17   7  59  \n523052   22  12  12  16  47  24  \n\n[20890 rows x 24 columns]",
      "text/html": "<div>\n<style scoped>\n    .dataframe tbody tr th:only-of-type {\n        vertical-align: middle;\n    }\n\n    .dataframe tbody tr th {\n        vertical-align: top;\n    }\n\n    .dataframe thead th {\n        text-align: right;\n    }\n</style>\n<table border=\"1\" class=\"dataframe\">\n  <thead>\n    <tr style=\"text-align: right;\">\n      <th></th>\n      <th>날짜</th>\n      <th>번호판</th>\n      <th>일일주행거리</th>\n      <th>누적주행거리</th>\n      <th>정보발생일시</th>\n      <th>차량속도</th>\n      <th>RPM</th>\n      <th>브레이크</th>\n      <th>GPS_X</th>\n      <th>GPS_Y</th>\n      <th>...</th>\n      <th>회전min</th>\n      <th>회전max2</th>\n      <th>회전</th>\n      <th>위험운전회전</th>\n      <th>년</th>\n      <th>월</th>\n      <th>일</th>\n      <th>시</th>\n      <th>분</th>\n      <th>초</th>\n    </tr>\n  </thead>\n  <tbody>\n    <tr>\n      <th>125</th>\n      <td>20221201</td>\n      <td>부산70자1854</td>\n      <td>0</td>\n      <td>66443</td>\n      <td>22120105092000</td>\n      <td>2</td>\n      <td>554</td>\n      <td>1</td>\n      <td>129.158644</td>\n      <td>35.236001</td>\n      <td>...</td>\n      <td>37.468375</td>\n      <td>52.790344</td>\n      <td>259</td>\n      <td>3</td>\n      <td>22</td>\n      <td>12</td>\n      <td>1</td>\n      <td>5</td>\n      <td>9</td>\n      <td>20</td>\n    </tr>\n    <tr>\n      <th>1296</th>\n      <td>20221201</td>\n      <td>부산70자1854</td>\n      <td>5</td>\n      <td>66449</td>\n      <td>22120105285100</td>\n      <td>3</td>\n      <td>840</td>\n      <td>0</td>\n      <td>129.123617</td>\n      <td>35.208685</td>\n      <td>...</td>\n      <td>36.942022</td>\n      <td>51.930579</td>\n      <td>126</td>\n      <td>3</td>\n      <td>22</td>\n      <td>12</td>\n      <td>1</td>\n      <td>5</td>\n      <td>28</td>\n      <td>51</td>\n    </tr>\n    <tr>\n      <th>3066</th>\n      <td>20221201</td>\n      <td>부산70자1854</td>\n      <td>14</td>\n      <td>66458</td>\n      <td>22120105582100</td>\n      <td>27</td>\n      <td>1496</td>\n      <td>0</td>\n      <td>129.162887</td>\n      <td>35.166084</td>\n      <td>...</td>\n      <td>26.305422</td>\n      <td>35.025937</td>\n      <td>342</td>\n      <td>3</td>\n      <td>22</td>\n      <td>12</td>\n      <td>1</td>\n      <td>5</td>\n      <td>58</td>\n      <td>21</td>\n    </tr>\n    <tr>\n      <th>3334</th>\n      <td>20221201</td>\n      <td>부산70자1854</td>\n      <td>15</td>\n      <td>66459</td>\n      <td>22120106024900</td>\n      <td>19</td>\n      <td>1078</td>\n      <td>1</td>\n      <td>129.170386</td>\n      <td>35.172867</td>\n      <td>...</td>\n      <td>29.458030</td>\n      <td>39.934335</td>\n      <td>338</td>\n      <td>3</td>\n      <td>22</td>\n      <td>12</td>\n      <td>1</td>\n      <td>6</td>\n      <td>2</td>\n      <td>49</td>\n    </tr>\n    <tr>\n      <th>3405</th>\n      <td>20221201</td>\n      <td>부산70자1854</td>\n      <td>15</td>\n      <td>66459</td>\n      <td>22120106040000</td>\n      <td>19</td>\n      <td>1088</td>\n      <td>0</td>\n      <td>129.167582</td>\n      <td>35.173727</td>\n      <td>...</td>\n      <td>29.458030</td>\n      <td>39.934335</td>\n      <td>39</td>\n      <td>2</td>\n      <td>22</td>\n      <td>12</td>\n      <td>1</td>\n      <td>6</td>\n      <td>4</td>\n      <td>0</td>\n    </tr>\n    <tr>\n      <th>...</th>\n      <td>...</td>\n      <td>...</td>\n      <td>...</td>\n      <td>...</td>\n      <td>...</td>\n      <td>...</td>\n      <td>...</td>\n      <td>...</td>\n      <td>...</td>\n      <td>...</td>\n      <td>...</td>\n      <td>...</td>\n      <td>...</td>\n      <td>...</td>\n      <td>...</td>\n      <td>...</td>\n      <td>...</td>\n      <td>...</td>\n      <td>...</td>\n      <td>...</td>\n      <td>...</td>\n    </tr>\n    <tr>\n      <th>1006921</th>\n      <td>20221222</td>\n      <td>부산70자1854</td>\n      <td>177</td>\n      <td>70555</td>\n      <td>22122221180300</td>\n      <td>29</td>\n      <td>970</td>\n      <td>1</td>\n      <td>129.151844</td>\n      <td>35.231401</td>\n      <td>...</td>\n      <td>25.571487</td>\n      <td>33.897404</td>\n      <td>0</td>\n      <td>0</td>\n      <td>22</td>\n      <td>12</td>\n      <td>22</td>\n      <td>21</td>\n      <td>18</td>\n      <td>3</td>\n    </tr>\n    <tr>\n      <th>3452911</th>\n      <td>20221212</td>\n      <td>부산70자1894</td>\n      <td>92</td>\n      <td>3091656</td>\n      <td>22121212441100</td>\n      <td>0</td>\n      <td>541</td>\n      <td>1</td>\n      <td>129.124676</td>\n      <td>35.215915</td>\n      <td>...</td>\n      <td>38.543643</td>\n      <td>54.552694</td>\n      <td>0</td>\n      <td>0</td>\n      <td>22</td>\n      <td>12</td>\n      <td>12</td>\n      <td>12</td>\n      <td>44</td>\n      <td>11</td>\n    </tr>\n    <tr>\n      <th>4283192</th>\n      <td>20221228</td>\n      <td>부산70자1894</td>\n      <td>51</td>\n      <td>3094960</td>\n      <td>22122808472100</td>\n      <td>14</td>\n      <td>1272</td>\n      <td>0</td>\n      <td>129.131400</td>\n      <td>35.200118</td>\n      <td>...</td>\n      <td>31.617569</td>\n      <td>43.349265</td>\n      <td>3</td>\n      <td>0</td>\n      <td>22</td>\n      <td>12</td>\n      <td>28</td>\n      <td>8</td>\n      <td>47</td>\n      <td>21</td>\n    </tr>\n    <tr>\n      <th>2599996</th>\n      <td>20221226</td>\n      <td>부산70자1860</td>\n      <td>149</td>\n      <td>1079815</td>\n      <td>22122617075900</td>\n      <td>23</td>\n      <td>1506</td>\n      <td>0</td>\n      <td>129.180525</td>\n      <td>35.173996</td>\n      <td>...</td>\n      <td>27.837116</td>\n      <td>37.398732</td>\n      <td>1</td>\n      <td>0</td>\n      <td>22</td>\n      <td>12</td>\n      <td>26</td>\n      <td>17</td>\n      <td>7</td>\n      <td>59</td>\n    </tr>\n    <tr>\n      <th>523052</th>\n      <td>20221212</td>\n      <td>부산70자1854</td>\n      <td>153</td>\n      <td>68635</td>\n      <td>22121216472400</td>\n      <td>7</td>\n      <td>731</td>\n      <td>0</td>\n      <td>129.164666</td>\n      <td>35.162977</td>\n      <td>...</td>\n      <td>34.909419</td>\n      <td>48.629127</td>\n      <td>-1</td>\n      <td>0</td>\n      <td>22</td>\n      <td>12</td>\n      <td>12</td>\n      <td>16</td>\n      <td>47</td>\n      <td>24</td>\n    </tr>\n  </tbody>\n</table>\n<p>20890 rows × 24 columns</p>\n</div>"
     },
     "execution_count": 6,
     "metadata": {},
     "output_type": "execute_result"
    }
   ],
   "source": [
    "df = pd.concat([df, X_test], axis=0)\n",
    "df"
   ],
   "metadata": {
    "collapsed": false,
    "ExecuteTime": {
     "end_time": "2023-06-09T01:08:51.494417400Z",
     "start_time": "2023-06-09T01:08:51.463169600Z"
    }
   }
  },
  {
   "cell_type": "code",
   "execution_count": 7,
   "outputs": [],
   "source": [
    "X = df[['시', '분', 'GPS_X', 'GPS_Y']]\n",
    "y = df['위험운전회전']"
   ],
   "metadata": {
    "collapsed": false,
    "ExecuteTime": {
     "end_time": "2023-06-09T01:08:51.516124500Z",
     "start_time": "2023-06-09T01:08:51.494417400Z"
    }
   }
  },
  {
   "cell_type": "code",
   "execution_count": 8,
   "outputs": [],
   "source": [
    "X_train, X_test, y_train, y_test = train_test_split(X, y, random_state=42, shuffle=True, test_size=0.3)"
   ],
   "metadata": {
    "collapsed": false,
    "ExecuteTime": {
     "end_time": "2023-06-09T01:08:51.652237100Z",
     "start_time": "2023-06-09T01:08:51.510115100Z"
    }
   }
  },
  {
   "cell_type": "code",
   "execution_count": 9,
   "outputs": [],
   "source": [
    "model = KNeighborsClassifier(weights='distance', n_neighbors=4)"
   ],
   "metadata": {
    "collapsed": false,
    "ExecuteTime": {
     "end_time": "2023-06-09T01:08:51.652237100Z",
     "start_time": "2023-06-09T01:08:51.636410500Z"
    }
   }
  },
  {
   "cell_type": "code",
   "execution_count": 10,
   "outputs": [
    {
     "data": {
      "text/plain": "KNeighborsClassifier(n_neighbors=4, weights='distance')",
      "text/html": "<style>#sk-container-id-1 {color: black;background-color: white;}#sk-container-id-1 pre{padding: 0;}#sk-container-id-1 div.sk-toggleable {background-color: white;}#sk-container-id-1 label.sk-toggleable__label {cursor: pointer;display: block;width: 100%;margin-bottom: 0;padding: 0.3em;box-sizing: border-box;text-align: center;}#sk-container-id-1 label.sk-toggleable__label-arrow:before {content: \"▸\";float: left;margin-right: 0.25em;color: #696969;}#sk-container-id-1 label.sk-toggleable__label-arrow:hover:before {color: black;}#sk-container-id-1 div.sk-estimator:hover label.sk-toggleable__label-arrow:before {color: black;}#sk-container-id-1 div.sk-toggleable__content {max-height: 0;max-width: 0;overflow: hidden;text-align: left;background-color: #f0f8ff;}#sk-container-id-1 div.sk-toggleable__content pre {margin: 0.2em;color: black;border-radius: 0.25em;background-color: #f0f8ff;}#sk-container-id-1 input.sk-toggleable__control:checked~div.sk-toggleable__content {max-height: 200px;max-width: 100%;overflow: auto;}#sk-container-id-1 input.sk-toggleable__control:checked~label.sk-toggleable__label-arrow:before {content: \"▾\";}#sk-container-id-1 div.sk-estimator input.sk-toggleable__control:checked~label.sk-toggleable__label {background-color: #d4ebff;}#sk-container-id-1 div.sk-label input.sk-toggleable__control:checked~label.sk-toggleable__label {background-color: #d4ebff;}#sk-container-id-1 input.sk-hidden--visually {border: 0;clip: rect(1px 1px 1px 1px);clip: rect(1px, 1px, 1px, 1px);height: 1px;margin: -1px;overflow: hidden;padding: 0;position: absolute;width: 1px;}#sk-container-id-1 div.sk-estimator {font-family: monospace;background-color: #f0f8ff;border: 1px dotted black;border-radius: 0.25em;box-sizing: border-box;margin-bottom: 0.5em;}#sk-container-id-1 div.sk-estimator:hover {background-color: #d4ebff;}#sk-container-id-1 div.sk-parallel-item::after {content: \"\";width: 100%;border-bottom: 1px solid gray;flex-grow: 1;}#sk-container-id-1 div.sk-label:hover label.sk-toggleable__label {background-color: #d4ebff;}#sk-container-id-1 div.sk-serial::before {content: \"\";position: absolute;border-left: 1px solid gray;box-sizing: border-box;top: 0;bottom: 0;left: 50%;z-index: 0;}#sk-container-id-1 div.sk-serial {display: flex;flex-direction: column;align-items: center;background-color: white;padding-right: 0.2em;padding-left: 0.2em;position: relative;}#sk-container-id-1 div.sk-item {position: relative;z-index: 1;}#sk-container-id-1 div.sk-parallel {display: flex;align-items: stretch;justify-content: center;background-color: white;position: relative;}#sk-container-id-1 div.sk-item::before, #sk-container-id-1 div.sk-parallel-item::before {content: \"\";position: absolute;border-left: 1px solid gray;box-sizing: border-box;top: 0;bottom: 0;left: 50%;z-index: -1;}#sk-container-id-1 div.sk-parallel-item {display: flex;flex-direction: column;z-index: 1;position: relative;background-color: white;}#sk-container-id-1 div.sk-parallel-item:first-child::after {align-self: flex-end;width: 50%;}#sk-container-id-1 div.sk-parallel-item:last-child::after {align-self: flex-start;width: 50%;}#sk-container-id-1 div.sk-parallel-item:only-child::after {width: 0;}#sk-container-id-1 div.sk-dashed-wrapped {border: 1px dashed gray;margin: 0 0.4em 0.5em 0.4em;box-sizing: border-box;padding-bottom: 0.4em;background-color: white;}#sk-container-id-1 div.sk-label label {font-family: monospace;font-weight: bold;display: inline-block;line-height: 1.2em;}#sk-container-id-1 div.sk-label-container {text-align: center;}#sk-container-id-1 div.sk-container {/* jupyter's `normalize.less` sets `[hidden] { display: none; }` but bootstrap.min.css set `[hidden] { display: none !important; }` so we also need the `!important` here to be able to override the default hidden behavior on the sphinx rendered scikit-learn.org. See: https://github.com/scikit-learn/scikit-learn/issues/21755 */display: inline-block !important;position: relative;}#sk-container-id-1 div.sk-text-repr-fallback {display: none;}</style><div id=\"sk-container-id-1\" class=\"sk-top-container\"><div class=\"sk-text-repr-fallback\"><pre>KNeighborsClassifier(n_neighbors=4, weights=&#x27;distance&#x27;)</pre><b>In a Jupyter environment, please rerun this cell to show the HTML representation or trust the notebook. <br />On GitHub, the HTML representation is unable to render, please try loading this page with nbviewer.org.</b></div><div class=\"sk-container\" hidden><div class=\"sk-item\"><div class=\"sk-estimator sk-toggleable\"><input class=\"sk-toggleable__control sk-hidden--visually\" id=\"sk-estimator-id-1\" type=\"checkbox\" checked><label for=\"sk-estimator-id-1\" class=\"sk-toggleable__label sk-toggleable__label-arrow\">KNeighborsClassifier</label><div class=\"sk-toggleable__content\"><pre>KNeighborsClassifier(n_neighbors=4, weights=&#x27;distance&#x27;)</pre></div></div></div></div></div>"
     },
     "execution_count": 10,
     "metadata": {},
     "output_type": "execute_result"
    }
   ],
   "source": [
    "model.fit(X_train, y_train)"
   ],
   "metadata": {
    "collapsed": false,
    "ExecuteTime": {
     "end_time": "2023-06-09T01:08:51.699389300Z",
     "start_time": "2023-06-09T01:08:51.652237100Z"
    }
   }
  },
  {
   "cell_type": "code",
   "execution_count": 11,
   "outputs": [],
   "source": [
    "y_pred = model.predict(X_test)"
   ],
   "metadata": {
    "collapsed": false,
    "ExecuteTime": {
     "end_time": "2023-06-09T01:08:51.774919800Z",
     "start_time": "2023-06-09T01:08:51.683839700Z"
    }
   }
  },
  {
   "cell_type": "code",
   "execution_count": 12,
   "outputs": [
    {
     "data": {
      "text/plain": "0.594861975426839"
     },
     "execution_count": 12,
     "metadata": {},
     "output_type": "execute_result"
    }
   ],
   "source": [
    "accuracy_score(y_pred, y_test)"
   ],
   "metadata": {
    "collapsed": false,
    "ExecuteTime": {
     "end_time": "2023-06-09T01:08:51.790599100Z",
     "start_time": "2023-06-09T01:08:51.774919800Z"
    }
   }
  },
  {
   "cell_type": "code",
   "execution_count": 13,
   "outputs": [
    {
     "data": {
      "text/plain": "0.6125726006554626"
     },
     "execution_count": 13,
     "metadata": {},
     "output_type": "execute_result"
    }
   ],
   "source": [
    "f1_score(y_pred, y_test, average='weighted')"
   ],
   "metadata": {
    "collapsed": false,
    "ExecuteTime": {
     "end_time": "2023-06-09T01:08:51.841531400Z",
     "start_time": "2023-06-09T01:08:51.790599100Z"
    }
   }
  },
  {
   "cell_type": "code",
   "execution_count": 13,
   "outputs": [],
   "source": [],
   "metadata": {
    "collapsed": false,
    "ExecuteTime": {
     "end_time": "2023-06-09T01:08:51.857359900Z",
     "start_time": "2023-06-09T01:08:51.811173500Z"
    }
   }
  }
 ],
 "metadata": {
  "kernelspec": {
   "display_name": "Python 3",
   "language": "python",
   "name": "python3"
  },
  "language_info": {
   "codemirror_mode": {
    "name": "ipython",
    "version": 2
   },
   "file_extension": ".py",
   "mimetype": "text/x-python",
   "name": "python",
   "nbconvert_exporter": "python",
   "pygments_lexer": "ipython2",
   "version": "2.7.6"
  }
 },
 "nbformat": 4,
 "nbformat_minor": 0
}
