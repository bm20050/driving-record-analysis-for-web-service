{
 "cells": [
  {
   "cell_type": "code",
   "execution_count": 1,
   "metadata": {
    "collapsed": true,
    "ExecuteTime": {
     "end_time": "2023-06-07T03:49:34.807313400Z",
     "start_time": "2023-06-07T03:49:34.463630900Z"
    }
   },
   "outputs": [],
   "source": [
    "import pandas as pd"
   ]
  },
  {
   "cell_type": "code",
   "execution_count": 2,
   "outputs": [
    {
     "data": {
      "text/plain": "               날짜        번호판  일일주행거리   누적주행거리          정보발생일시  차량속도  RPM   \n0        20221201  부산70자1854       0    66443  22120105071500     0  193  \\\n1        20221201  부산70자1854       0    66443  22120105071600     0  388   \n2        20221201  부산70자1854       0    66443  22120105071700     0  777   \n3        20221201  부산70자1854       0    66443  22120105071800     0  638   \n4        20221201  부산70자1854       0    66443  22120105071900     0  461   \n...           ...        ...     ...      ...             ...   ...  ...   \n5948207  20221231  부산70자1894     176  3095705  22123121033800     0  331   \n5948208  20221231  부산70자1894     176  3095705  22123121033900     0   59   \n5948209  20221231  부산70자1894     176  3095705  22123121034000     0    0   \n5948210  20221231  부산70자1894     176  3095705  22123121034100     0    0   \n5948211  20221231  부산70자1894     176  3095705  22123121034200     0    0   \n\n         브레이크       GPS_X      GPS_Y  방위각  가속도_X  가속도_Y      회전max      회전min   \n0           0  129.158670  35.236021    0   -6.3    0.7  46.548169  38.543643  \\\n1           0  129.158670  35.236021    0   -7.9    1.6  46.548169  38.543643   \n2           0  129.158670  35.236021    0   -8.9    2.2  46.548169  38.543643   \n3           0  129.158670  35.236021    0   -6.6    0.8  46.548169  38.543643   \n4           0  129.158670  35.236021    0   -7.1    0.8  46.548169  38.543643   \n...       ...         ...        ...  ...    ...    ...        ...        ...   \n5948207     0  129.158597  35.235956   66   -5.7   -1.2  46.548169  38.543643   \n5948208     0  129.158597  35.235956   66   -5.8   -1.4  46.548169  38.543643   \n5948209     0  129.158597  35.235956   66   -5.4   -1.0  46.548169  38.543643   \n5948210     0  129.158597  35.235956   66   -5.4   -0.9  46.548169  38.543643   \n5948211     0  129.158597  35.235956   66   -5.3   -0.9  46.548169  38.543643   \n\n            회전max2  회전  위험운전회전  \n0        54.552694   0       0  \n1        54.552694   0       0  \n2        54.552694   0       0  \n3        54.552694   0       0  \n4        54.552694   0       0  \n...            ...  ..     ...  \n5948207  54.552694   0       0  \n5948208  54.552694   0       0  \n5948209  54.552694   0       0  \n5948210  54.552694   0       0  \n5948211  54.552694   0       0  \n\n[5948212 rows x 18 columns]",
      "text/html": "<div>\n<style scoped>\n    .dataframe tbody tr th:only-of-type {\n        vertical-align: middle;\n    }\n\n    .dataframe tbody tr th {\n        vertical-align: top;\n    }\n\n    .dataframe thead th {\n        text-align: right;\n    }\n</style>\n<table border=\"1\" class=\"dataframe\">\n  <thead>\n    <tr style=\"text-align: right;\">\n      <th></th>\n      <th>날짜</th>\n      <th>번호판</th>\n      <th>일일주행거리</th>\n      <th>누적주행거리</th>\n      <th>정보발생일시</th>\n      <th>차량속도</th>\n      <th>RPM</th>\n      <th>브레이크</th>\n      <th>GPS_X</th>\n      <th>GPS_Y</th>\n      <th>방위각</th>\n      <th>가속도_X</th>\n      <th>가속도_Y</th>\n      <th>회전max</th>\n      <th>회전min</th>\n      <th>회전max2</th>\n      <th>회전</th>\n      <th>위험운전회전</th>\n    </tr>\n  </thead>\n  <tbody>\n    <tr>\n      <th>0</th>\n      <td>20221201</td>\n      <td>부산70자1854</td>\n      <td>0</td>\n      <td>66443</td>\n      <td>22120105071500</td>\n      <td>0</td>\n      <td>193</td>\n      <td>0</td>\n      <td>129.158670</td>\n      <td>35.236021</td>\n      <td>0</td>\n      <td>-6.3</td>\n      <td>0.7</td>\n      <td>46.548169</td>\n      <td>38.543643</td>\n      <td>54.552694</td>\n      <td>0</td>\n      <td>0</td>\n    </tr>\n    <tr>\n      <th>1</th>\n      <td>20221201</td>\n      <td>부산70자1854</td>\n      <td>0</td>\n      <td>66443</td>\n      <td>22120105071600</td>\n      <td>0</td>\n      <td>388</td>\n      <td>0</td>\n      <td>129.158670</td>\n      <td>35.236021</td>\n      <td>0</td>\n      <td>-7.9</td>\n      <td>1.6</td>\n      <td>46.548169</td>\n      <td>38.543643</td>\n      <td>54.552694</td>\n      <td>0</td>\n      <td>0</td>\n    </tr>\n    <tr>\n      <th>2</th>\n      <td>20221201</td>\n      <td>부산70자1854</td>\n      <td>0</td>\n      <td>66443</td>\n      <td>22120105071700</td>\n      <td>0</td>\n      <td>777</td>\n      <td>0</td>\n      <td>129.158670</td>\n      <td>35.236021</td>\n      <td>0</td>\n      <td>-8.9</td>\n      <td>2.2</td>\n      <td>46.548169</td>\n      <td>38.543643</td>\n      <td>54.552694</td>\n      <td>0</td>\n      <td>0</td>\n    </tr>\n    <tr>\n      <th>3</th>\n      <td>20221201</td>\n      <td>부산70자1854</td>\n      <td>0</td>\n      <td>66443</td>\n      <td>22120105071800</td>\n      <td>0</td>\n      <td>638</td>\n      <td>0</td>\n      <td>129.158670</td>\n      <td>35.236021</td>\n      <td>0</td>\n      <td>-6.6</td>\n      <td>0.8</td>\n      <td>46.548169</td>\n      <td>38.543643</td>\n      <td>54.552694</td>\n      <td>0</td>\n      <td>0</td>\n    </tr>\n    <tr>\n      <th>4</th>\n      <td>20221201</td>\n      <td>부산70자1854</td>\n      <td>0</td>\n      <td>66443</td>\n      <td>22120105071900</td>\n      <td>0</td>\n      <td>461</td>\n      <td>0</td>\n      <td>129.158670</td>\n      <td>35.236021</td>\n      <td>0</td>\n      <td>-7.1</td>\n      <td>0.8</td>\n      <td>46.548169</td>\n      <td>38.543643</td>\n      <td>54.552694</td>\n      <td>0</td>\n      <td>0</td>\n    </tr>\n    <tr>\n      <th>...</th>\n      <td>...</td>\n      <td>...</td>\n      <td>...</td>\n      <td>...</td>\n      <td>...</td>\n      <td>...</td>\n      <td>...</td>\n      <td>...</td>\n      <td>...</td>\n      <td>...</td>\n      <td>...</td>\n      <td>...</td>\n      <td>...</td>\n      <td>...</td>\n      <td>...</td>\n      <td>...</td>\n      <td>...</td>\n      <td>...</td>\n    </tr>\n    <tr>\n      <th>5948207</th>\n      <td>20221231</td>\n      <td>부산70자1894</td>\n      <td>176</td>\n      <td>3095705</td>\n      <td>22123121033800</td>\n      <td>0</td>\n      <td>331</td>\n      <td>0</td>\n      <td>129.158597</td>\n      <td>35.235956</td>\n      <td>66</td>\n      <td>-5.7</td>\n      <td>-1.2</td>\n      <td>46.548169</td>\n      <td>38.543643</td>\n      <td>54.552694</td>\n      <td>0</td>\n      <td>0</td>\n    </tr>\n    <tr>\n      <th>5948208</th>\n      <td>20221231</td>\n      <td>부산70자1894</td>\n      <td>176</td>\n      <td>3095705</td>\n      <td>22123121033900</td>\n      <td>0</td>\n      <td>59</td>\n      <td>0</td>\n      <td>129.158597</td>\n      <td>35.235956</td>\n      <td>66</td>\n      <td>-5.8</td>\n      <td>-1.4</td>\n      <td>46.548169</td>\n      <td>38.543643</td>\n      <td>54.552694</td>\n      <td>0</td>\n      <td>0</td>\n    </tr>\n    <tr>\n      <th>5948209</th>\n      <td>20221231</td>\n      <td>부산70자1894</td>\n      <td>176</td>\n      <td>3095705</td>\n      <td>22123121034000</td>\n      <td>0</td>\n      <td>0</td>\n      <td>0</td>\n      <td>129.158597</td>\n      <td>35.235956</td>\n      <td>66</td>\n      <td>-5.4</td>\n      <td>-1.0</td>\n      <td>46.548169</td>\n      <td>38.543643</td>\n      <td>54.552694</td>\n      <td>0</td>\n      <td>0</td>\n    </tr>\n    <tr>\n      <th>5948210</th>\n      <td>20221231</td>\n      <td>부산70자1894</td>\n      <td>176</td>\n      <td>3095705</td>\n      <td>22123121034100</td>\n      <td>0</td>\n      <td>0</td>\n      <td>0</td>\n      <td>129.158597</td>\n      <td>35.235956</td>\n      <td>66</td>\n      <td>-5.4</td>\n      <td>-0.9</td>\n      <td>46.548169</td>\n      <td>38.543643</td>\n      <td>54.552694</td>\n      <td>0</td>\n      <td>0</td>\n    </tr>\n    <tr>\n      <th>5948211</th>\n      <td>20221231</td>\n      <td>부산70자1894</td>\n      <td>176</td>\n      <td>3095705</td>\n      <td>22123121034200</td>\n      <td>0</td>\n      <td>0</td>\n      <td>0</td>\n      <td>129.158597</td>\n      <td>35.235956</td>\n      <td>66</td>\n      <td>-5.3</td>\n      <td>-0.9</td>\n      <td>46.548169</td>\n      <td>38.543643</td>\n      <td>54.552694</td>\n      <td>0</td>\n      <td>0</td>\n    </tr>\n  </tbody>\n</table>\n<p>5948212 rows × 18 columns</p>\n</div>"
     },
     "execution_count": 2,
     "metadata": {},
     "output_type": "execute_result"
    }
   ],
   "source": [
    "df = pd.read_csv('../data/0605_회전분류.csv')\n",
    "df"
   ],
   "metadata": {
    "collapsed": false,
    "ExecuteTime": {
     "end_time": "2023-06-07T03:49:42.496736700Z",
     "start_time": "2023-06-07T03:49:34.807313400Z"
    }
   }
  },
  {
   "cell_type": "code",
   "execution_count": 3,
   "outputs": [],
   "source": [
    "import warnings\n",
    "warnings.filterwarnings(\"ignore\")\n",
    "from sklearn.model_selection import train_test_split\n",
    "from sklearn.metrics import accuracy_score\n",
    "from xgboost import XGBClassifier\n",
    "from sklearn.metrics import f1_score"
   ],
   "metadata": {
    "collapsed": false,
    "ExecuteTime": {
     "end_time": "2023-06-07T03:49:43.267111700Z",
     "start_time": "2023-06-07T03:49:42.496736700Z"
    }
   }
  },
  {
   "cell_type": "code",
   "execution_count": 4,
   "outputs": [],
   "source": [
    "df['년'] = df['정보발생일시'].apply(lambda x: int(str(x)[0:2]))\n",
    "df['월'] = df['정보발생일시'].apply(lambda x: int(str(x)[2:4]))\n",
    "df['일'] = df['정보발생일시'].apply(lambda x: int(str(x)[4:6]))\n",
    "df['시'] = df['정보발생일시'].apply(lambda x: int(str(x)[6:8]))\n",
    "df['분'] = df['정보발생일시'].apply(lambda x: int(str(x)[8:10]))\n",
    "df['초'] = df['정보발생일시'].apply(lambda x: int(str(x)[10:12]))"
   ],
   "metadata": {
    "collapsed": false,
    "ExecuteTime": {
     "end_time": "2023-06-07T03:50:00.498924700Z",
     "start_time": "2023-06-07T03:49:43.267111700Z"
    }
   }
  },
  {
   "cell_type": "code",
   "execution_count": 5,
   "outputs": [],
   "source": [
    "acc0 = df.query('위험운전회전 == 0')"
   ],
   "metadata": {
    "collapsed": false,
    "ExecuteTime": {
     "end_time": "2023-06-07T03:50:00.958882100Z",
     "start_time": "2023-06-07T03:50:00.498924700Z"
    }
   }
  },
  {
   "cell_type": "code",
   "execution_count": 6,
   "outputs": [],
   "source": [
    "X_train, X_test, y_train, y_test = train_test_split(acc0, acc0, random_state=42, shuffle=True, test_size=0.005)"
   ],
   "metadata": {
    "collapsed": false,
    "ExecuteTime": {
     "end_time": "2023-06-07T03:50:04.598558100Z",
     "start_time": "2023-06-07T03:50:00.958882100Z"
    }
   }
  },
  {
   "cell_type": "code",
   "execution_count": 7,
   "outputs": [],
   "source": [
    "df = df.query('위험운전회전 != 0')"
   ],
   "metadata": {
    "collapsed": false,
    "ExecuteTime": {
     "end_time": "2023-06-07T03:50:04.645733700Z",
     "start_time": "2023-06-07T03:50:04.598558100Z"
    }
   }
  },
  {
   "cell_type": "code",
   "execution_count": 8,
   "outputs": [
    {
     "data": {
      "text/plain": "               날짜        번호판  일일주행거리   누적주행거리          정보발생일시  차량속도   RPM   \n125      20221201  부산70자1854       0    66443  22120105092000     2   554  \\\n1296     20221201  부산70자1854       5    66449  22120105285100     3   840   \n3066     20221201  부산70자1854      14    66458  22120105582100    27  1496   \n3334     20221201  부산70자1854      15    66459  22120106024900    19  1078   \n3405     20221201  부산70자1854      15    66459  22120106040000    19  1088   \n...           ...        ...     ...      ...             ...   ...   ...   \n605529   20221214  부산70자1854      44    68967  22121408262200     0   545   \n5178891  20221216  부산70자1894     212  3092570  22121623270900    22   730   \n4569703  20221205  부산70자1894      31  3090093  22120507481100    27   912   \n1142829  20221225  부산70자1854      73    71112  22122510293500     0   549   \n1822607  20221211  부산70자1860      28  1076526  22121106322200     0   553   \n\n         브레이크       GPS_X      GPS_Y  ...      회전min     회전max2   회전  위험운전회전   \n125         1  129.158644  35.236001  ...  37.468375  52.790344  259       3  \\\n1296        0  129.123617  35.208685  ...  36.942022  51.930579  126       3   \n3066        0  129.162887  35.166084  ...  26.305422  35.025937  342       3   \n3334        1  129.170386  35.172867  ...  29.458030  39.934335  338       3   \n3405        0  129.167582  35.173727  ...  29.458030  39.934335   39       2   \n...       ...         ...        ...  ...        ...        ...  ...     ...   \n605529      0  129.150702  35.230666  ...  38.543643  54.552694    0       0   \n5178891     0  129.130492  35.194352  ...  28.233782  38.016960    0       0   \n4569703     0  129.146733  35.162114  ...  26.305422  35.025937    0       0   \n1142829     0  129.161743  35.165265  ...  38.543643  54.552694    0       0   \n1822607     1  129.167450  35.168201  ...  38.543643  54.552694    0       0   \n\n          년   월   일   시   분   초  \n125      22  12   1   5   9  20  \n1296     22  12   1   5  28  51  \n3066     22  12   1   5  58  21  \n3334     22  12   1   6   2  49  \n3405     22  12   1   6   4   0  \n...      ..  ..  ..  ..  ..  ..  \n605529   22  12  14   8  26  22  \n5178891  22  12  16  23  27   9  \n4569703  22  12   5   7  48  11  \n1142829  22  12  25  10  29  35  \n1822607  22  12  11   6  32  22  \n\n[49679 rows x 24 columns]",
      "text/html": "<div>\n<style scoped>\n    .dataframe tbody tr th:only-of-type {\n        vertical-align: middle;\n    }\n\n    .dataframe tbody tr th {\n        vertical-align: top;\n    }\n\n    .dataframe thead th {\n        text-align: right;\n    }\n</style>\n<table border=\"1\" class=\"dataframe\">\n  <thead>\n    <tr style=\"text-align: right;\">\n      <th></th>\n      <th>날짜</th>\n      <th>번호판</th>\n      <th>일일주행거리</th>\n      <th>누적주행거리</th>\n      <th>정보발생일시</th>\n      <th>차량속도</th>\n      <th>RPM</th>\n      <th>브레이크</th>\n      <th>GPS_X</th>\n      <th>GPS_Y</th>\n      <th>...</th>\n      <th>회전min</th>\n      <th>회전max2</th>\n      <th>회전</th>\n      <th>위험운전회전</th>\n      <th>년</th>\n      <th>월</th>\n      <th>일</th>\n      <th>시</th>\n      <th>분</th>\n      <th>초</th>\n    </tr>\n  </thead>\n  <tbody>\n    <tr>\n      <th>125</th>\n      <td>20221201</td>\n      <td>부산70자1854</td>\n      <td>0</td>\n      <td>66443</td>\n      <td>22120105092000</td>\n      <td>2</td>\n      <td>554</td>\n      <td>1</td>\n      <td>129.158644</td>\n      <td>35.236001</td>\n      <td>...</td>\n      <td>37.468375</td>\n      <td>52.790344</td>\n      <td>259</td>\n      <td>3</td>\n      <td>22</td>\n      <td>12</td>\n      <td>1</td>\n      <td>5</td>\n      <td>9</td>\n      <td>20</td>\n    </tr>\n    <tr>\n      <th>1296</th>\n      <td>20221201</td>\n      <td>부산70자1854</td>\n      <td>5</td>\n      <td>66449</td>\n      <td>22120105285100</td>\n      <td>3</td>\n      <td>840</td>\n      <td>0</td>\n      <td>129.123617</td>\n      <td>35.208685</td>\n      <td>...</td>\n      <td>36.942022</td>\n      <td>51.930579</td>\n      <td>126</td>\n      <td>3</td>\n      <td>22</td>\n      <td>12</td>\n      <td>1</td>\n      <td>5</td>\n      <td>28</td>\n      <td>51</td>\n    </tr>\n    <tr>\n      <th>3066</th>\n      <td>20221201</td>\n      <td>부산70자1854</td>\n      <td>14</td>\n      <td>66458</td>\n      <td>22120105582100</td>\n      <td>27</td>\n      <td>1496</td>\n      <td>0</td>\n      <td>129.162887</td>\n      <td>35.166084</td>\n      <td>...</td>\n      <td>26.305422</td>\n      <td>35.025937</td>\n      <td>342</td>\n      <td>3</td>\n      <td>22</td>\n      <td>12</td>\n      <td>1</td>\n      <td>5</td>\n      <td>58</td>\n      <td>21</td>\n    </tr>\n    <tr>\n      <th>3334</th>\n      <td>20221201</td>\n      <td>부산70자1854</td>\n      <td>15</td>\n      <td>66459</td>\n      <td>22120106024900</td>\n      <td>19</td>\n      <td>1078</td>\n      <td>1</td>\n      <td>129.170386</td>\n      <td>35.172867</td>\n      <td>...</td>\n      <td>29.458030</td>\n      <td>39.934335</td>\n      <td>338</td>\n      <td>3</td>\n      <td>22</td>\n      <td>12</td>\n      <td>1</td>\n      <td>6</td>\n      <td>2</td>\n      <td>49</td>\n    </tr>\n    <tr>\n      <th>3405</th>\n      <td>20221201</td>\n      <td>부산70자1854</td>\n      <td>15</td>\n      <td>66459</td>\n      <td>22120106040000</td>\n      <td>19</td>\n      <td>1088</td>\n      <td>0</td>\n      <td>129.167582</td>\n      <td>35.173727</td>\n      <td>...</td>\n      <td>29.458030</td>\n      <td>39.934335</td>\n      <td>39</td>\n      <td>2</td>\n      <td>22</td>\n      <td>12</td>\n      <td>1</td>\n      <td>6</td>\n      <td>4</td>\n      <td>0</td>\n    </tr>\n    <tr>\n      <th>...</th>\n      <td>...</td>\n      <td>...</td>\n      <td>...</td>\n      <td>...</td>\n      <td>...</td>\n      <td>...</td>\n      <td>...</td>\n      <td>...</td>\n      <td>...</td>\n      <td>...</td>\n      <td>...</td>\n      <td>...</td>\n      <td>...</td>\n      <td>...</td>\n      <td>...</td>\n      <td>...</td>\n      <td>...</td>\n      <td>...</td>\n      <td>...</td>\n      <td>...</td>\n      <td>...</td>\n    </tr>\n    <tr>\n      <th>605529</th>\n      <td>20221214</td>\n      <td>부산70자1854</td>\n      <td>44</td>\n      <td>68967</td>\n      <td>22121408262200</td>\n      <td>0</td>\n      <td>545</td>\n      <td>0</td>\n      <td>129.150702</td>\n      <td>35.230666</td>\n      <td>...</td>\n      <td>38.543643</td>\n      <td>54.552694</td>\n      <td>0</td>\n      <td>0</td>\n      <td>22</td>\n      <td>12</td>\n      <td>14</td>\n      <td>8</td>\n      <td>26</td>\n      <td>22</td>\n    </tr>\n    <tr>\n      <th>5178891</th>\n      <td>20221216</td>\n      <td>부산70자1894</td>\n      <td>212</td>\n      <td>3092570</td>\n      <td>22121623270900</td>\n      <td>22</td>\n      <td>730</td>\n      <td>0</td>\n      <td>129.130492</td>\n      <td>35.194352</td>\n      <td>...</td>\n      <td>28.233782</td>\n      <td>38.016960</td>\n      <td>0</td>\n      <td>0</td>\n      <td>22</td>\n      <td>12</td>\n      <td>16</td>\n      <td>23</td>\n      <td>27</td>\n      <td>9</td>\n    </tr>\n    <tr>\n      <th>4569703</th>\n      <td>20221205</td>\n      <td>부산70자1894</td>\n      <td>31</td>\n      <td>3090093</td>\n      <td>22120507481100</td>\n      <td>27</td>\n      <td>912</td>\n      <td>0</td>\n      <td>129.146733</td>\n      <td>35.162114</td>\n      <td>...</td>\n      <td>26.305422</td>\n      <td>35.025937</td>\n      <td>0</td>\n      <td>0</td>\n      <td>22</td>\n      <td>12</td>\n      <td>5</td>\n      <td>7</td>\n      <td>48</td>\n      <td>11</td>\n    </tr>\n    <tr>\n      <th>1142829</th>\n      <td>20221225</td>\n      <td>부산70자1854</td>\n      <td>73</td>\n      <td>71112</td>\n      <td>22122510293500</td>\n      <td>0</td>\n      <td>549</td>\n      <td>0</td>\n      <td>129.161743</td>\n      <td>35.165265</td>\n      <td>...</td>\n      <td>38.543643</td>\n      <td>54.552694</td>\n      <td>0</td>\n      <td>0</td>\n      <td>22</td>\n      <td>12</td>\n      <td>25</td>\n      <td>10</td>\n      <td>29</td>\n      <td>35</td>\n    </tr>\n    <tr>\n      <th>1822607</th>\n      <td>20221211</td>\n      <td>부산70자1860</td>\n      <td>28</td>\n      <td>1076526</td>\n      <td>22121106322200</td>\n      <td>0</td>\n      <td>553</td>\n      <td>1</td>\n      <td>129.167450</td>\n      <td>35.168201</td>\n      <td>...</td>\n      <td>38.543643</td>\n      <td>54.552694</td>\n      <td>0</td>\n      <td>0</td>\n      <td>22</td>\n      <td>12</td>\n      <td>11</td>\n      <td>6</td>\n      <td>32</td>\n      <td>22</td>\n    </tr>\n  </tbody>\n</table>\n<p>49679 rows × 24 columns</p>\n</div>"
     },
     "execution_count": 8,
     "metadata": {},
     "output_type": "execute_result"
    }
   ],
   "source": [
    "df = pd.concat([df, X_test], axis=0)\n",
    "df"
   ],
   "metadata": {
    "collapsed": false,
    "ExecuteTime": {
     "end_time": "2023-06-07T03:50:04.692601400Z",
     "start_time": "2023-06-07T03:50:04.645733700Z"
    }
   }
  },
  {
   "cell_type": "code",
   "execution_count": 9,
   "outputs": [],
   "source": [
    "X = df[['시', '분', 'GPS_X', 'GPS_Y']]\n",
    "y = df['위험운전회전']"
   ],
   "metadata": {
    "collapsed": false,
    "ExecuteTime": {
     "end_time": "2023-06-07T03:50:04.708604Z",
     "start_time": "2023-06-07T03:50:04.692601400Z"
    }
   }
  },
  {
   "cell_type": "code",
   "execution_count": 10,
   "outputs": [],
   "source": [
    "X_train, X_test, y_train, y_test = train_test_split(X, y, random_state=42, shuffle=True, test_size=0.3)"
   ],
   "metadata": {
    "collapsed": false,
    "ExecuteTime": {
     "end_time": "2023-06-07T03:50:04.898153400Z",
     "start_time": "2023-06-07T03:50:04.708604Z"
    }
   }
  },
  {
   "cell_type": "code",
   "execution_count": 11,
   "outputs": [],
   "source": [
    "model = XGBClassifier(objective='multi:softmax', num_class=4)"
   ],
   "metadata": {
    "collapsed": false,
    "ExecuteTime": {
     "end_time": "2023-06-07T03:50:04.898153400Z",
     "start_time": "2023-06-07T03:50:04.850795700Z"
    }
   }
  },
  {
   "cell_type": "code",
   "execution_count": 12,
   "outputs": [
    {
     "data": {
      "text/plain": "XGBClassifier(base_score=None, booster=None, callbacks=None,\n              colsample_bylevel=None, colsample_bynode=None,\n              colsample_bytree=None, early_stopping_rounds=None,\n              enable_categorical=False, eval_metric=None, feature_types=None,\n              gamma=None, gpu_id=None, grow_policy=None, importance_type=None,\n              interaction_constraints=None, learning_rate=None, max_bin=None,\n              max_cat_threshold=None, max_cat_to_onehot=None,\n              max_delta_step=None, max_depth=None, max_leaves=None,\n              min_child_weight=None, missing=nan, monotone_constraints=None,\n              n_estimators=100, n_jobs=None, num_class=4,\n              num_parallel_tree=None, objective='multi:softmax', ...)",
      "text/html": "<style>#sk-container-id-1 {color: black;background-color: white;}#sk-container-id-1 pre{padding: 0;}#sk-container-id-1 div.sk-toggleable {background-color: white;}#sk-container-id-1 label.sk-toggleable__label {cursor: pointer;display: block;width: 100%;margin-bottom: 0;padding: 0.3em;box-sizing: border-box;text-align: center;}#sk-container-id-1 label.sk-toggleable__label-arrow:before {content: \"▸\";float: left;margin-right: 0.25em;color: #696969;}#sk-container-id-1 label.sk-toggleable__label-arrow:hover:before {color: black;}#sk-container-id-1 div.sk-estimator:hover label.sk-toggleable__label-arrow:before {color: black;}#sk-container-id-1 div.sk-toggleable__content {max-height: 0;max-width: 0;overflow: hidden;text-align: left;background-color: #f0f8ff;}#sk-container-id-1 div.sk-toggleable__content pre {margin: 0.2em;color: black;border-radius: 0.25em;background-color: #f0f8ff;}#sk-container-id-1 input.sk-toggleable__control:checked~div.sk-toggleable__content {max-height: 200px;max-width: 100%;overflow: auto;}#sk-container-id-1 input.sk-toggleable__control:checked~label.sk-toggleable__label-arrow:before {content: \"▾\";}#sk-container-id-1 div.sk-estimator input.sk-toggleable__control:checked~label.sk-toggleable__label {background-color: #d4ebff;}#sk-container-id-1 div.sk-label input.sk-toggleable__control:checked~label.sk-toggleable__label {background-color: #d4ebff;}#sk-container-id-1 input.sk-hidden--visually {border: 0;clip: rect(1px 1px 1px 1px);clip: rect(1px, 1px, 1px, 1px);height: 1px;margin: -1px;overflow: hidden;padding: 0;position: absolute;width: 1px;}#sk-container-id-1 div.sk-estimator {font-family: monospace;background-color: #f0f8ff;border: 1px dotted black;border-radius: 0.25em;box-sizing: border-box;margin-bottom: 0.5em;}#sk-container-id-1 div.sk-estimator:hover {background-color: #d4ebff;}#sk-container-id-1 div.sk-parallel-item::after {content: \"\";width: 100%;border-bottom: 1px solid gray;flex-grow: 1;}#sk-container-id-1 div.sk-label:hover label.sk-toggleable__label {background-color: #d4ebff;}#sk-container-id-1 div.sk-serial::before {content: \"\";position: absolute;border-left: 1px solid gray;box-sizing: border-box;top: 0;bottom: 0;left: 50%;z-index: 0;}#sk-container-id-1 div.sk-serial {display: flex;flex-direction: column;align-items: center;background-color: white;padding-right: 0.2em;padding-left: 0.2em;position: relative;}#sk-container-id-1 div.sk-item {position: relative;z-index: 1;}#sk-container-id-1 div.sk-parallel {display: flex;align-items: stretch;justify-content: center;background-color: white;position: relative;}#sk-container-id-1 div.sk-item::before, #sk-container-id-1 div.sk-parallel-item::before {content: \"\";position: absolute;border-left: 1px solid gray;box-sizing: border-box;top: 0;bottom: 0;left: 50%;z-index: -1;}#sk-container-id-1 div.sk-parallel-item {display: flex;flex-direction: column;z-index: 1;position: relative;background-color: white;}#sk-container-id-1 div.sk-parallel-item:first-child::after {align-self: flex-end;width: 50%;}#sk-container-id-1 div.sk-parallel-item:last-child::after {align-self: flex-start;width: 50%;}#sk-container-id-1 div.sk-parallel-item:only-child::after {width: 0;}#sk-container-id-1 div.sk-dashed-wrapped {border: 1px dashed gray;margin: 0 0.4em 0.5em 0.4em;box-sizing: border-box;padding-bottom: 0.4em;background-color: white;}#sk-container-id-1 div.sk-label label {font-family: monospace;font-weight: bold;display: inline-block;line-height: 1.2em;}#sk-container-id-1 div.sk-label-container {text-align: center;}#sk-container-id-1 div.sk-container {/* jupyter's `normalize.less` sets `[hidden] { display: none; }` but bootstrap.min.css set `[hidden] { display: none !important; }` so we also need the `!important` here to be able to override the default hidden behavior on the sphinx rendered scikit-learn.org. See: https://github.com/scikit-learn/scikit-learn/issues/21755 */display: inline-block !important;position: relative;}#sk-container-id-1 div.sk-text-repr-fallback {display: none;}</style><div id=\"sk-container-id-1\" class=\"sk-top-container\"><div class=\"sk-text-repr-fallback\"><pre>XGBClassifier(base_score=None, booster=None, callbacks=None,\n              colsample_bylevel=None, colsample_bynode=None,\n              colsample_bytree=None, early_stopping_rounds=None,\n              enable_categorical=False, eval_metric=None, feature_types=None,\n              gamma=None, gpu_id=None, grow_policy=None, importance_type=None,\n              interaction_constraints=None, learning_rate=None, max_bin=None,\n              max_cat_threshold=None, max_cat_to_onehot=None,\n              max_delta_step=None, max_depth=None, max_leaves=None,\n              min_child_weight=None, missing=nan, monotone_constraints=None,\n              n_estimators=100, n_jobs=None, num_class=4,\n              num_parallel_tree=None, objective=&#x27;multi:softmax&#x27;, ...)</pre><b>In a Jupyter environment, please rerun this cell to show the HTML representation or trust the notebook. <br />On GitHub, the HTML representation is unable to render, please try loading this page with nbviewer.org.</b></div><div class=\"sk-container\" hidden><div class=\"sk-item\"><div class=\"sk-estimator sk-toggleable\"><input class=\"sk-toggleable__control sk-hidden--visually\" id=\"sk-estimator-id-1\" type=\"checkbox\" checked><label for=\"sk-estimator-id-1\" class=\"sk-toggleable__label sk-toggleable__label-arrow\">XGBClassifier</label><div class=\"sk-toggleable__content\"><pre>XGBClassifier(base_score=None, booster=None, callbacks=None,\n              colsample_bylevel=None, colsample_bynode=None,\n              colsample_bytree=None, early_stopping_rounds=None,\n              enable_categorical=False, eval_metric=None, feature_types=None,\n              gamma=None, gpu_id=None, grow_policy=None, importance_type=None,\n              interaction_constraints=None, learning_rate=None, max_bin=None,\n              max_cat_threshold=None, max_cat_to_onehot=None,\n              max_delta_step=None, max_depth=None, max_leaves=None,\n              min_child_weight=None, missing=nan, monotone_constraints=None,\n              n_estimators=100, n_jobs=None, num_class=4,\n              num_parallel_tree=None, objective=&#x27;multi:softmax&#x27;, ...)</pre></div></div></div></div></div>"
     },
     "execution_count": 12,
     "metadata": {},
     "output_type": "execute_result"
    }
   ],
   "source": [
    "model.fit(X_train, y_train)"
   ],
   "metadata": {
    "collapsed": false,
    "ExecuteTime": {
     "end_time": "2023-06-07T03:50:08.770051100Z",
     "start_time": "2023-06-07T03:50:04.866613800Z"
    }
   }
  },
  {
   "cell_type": "code",
   "execution_count": 13,
   "outputs": [],
   "source": [
    "y_pred = model.predict(X_test)"
   ],
   "metadata": {
    "collapsed": false,
    "ExecuteTime": {
     "end_time": "2023-06-07T03:50:08.801302700Z",
     "start_time": "2023-06-07T03:50:08.770051100Z"
    }
   }
  },
  {
   "cell_type": "code",
   "execution_count": 14,
   "outputs": [
    {
     "data": {
      "text/plain": "0.8105206655931294"
     },
     "execution_count": 14,
     "metadata": {},
     "output_type": "execute_result"
    }
   ],
   "source": [
    "accuracy_score(y_pred, y_test)"
   ],
   "metadata": {
    "collapsed": false,
    "ExecuteTime": {
     "end_time": "2023-06-07T03:50:08.834562100Z",
     "start_time": "2023-06-07T03:50:08.801302700Z"
    }
   }
  },
  {
   "cell_type": "code",
   "execution_count": 15,
   "outputs": [
    {
     "data": {
      "text/plain": "0.8250912128666038"
     },
     "execution_count": 15,
     "metadata": {},
     "output_type": "execute_result"
    }
   ],
   "source": [
    "f1_score(y_pred, y_test, average='weighted')"
   ],
   "metadata": {
    "collapsed": false,
    "ExecuteTime": {
     "end_time": "2023-06-07T03:50:08.908168600Z",
     "start_time": "2023-06-07T03:50:08.816926400Z"
    }
   }
  },
  {
   "cell_type": "code",
   "execution_count": 17,
   "outputs": [],
   "source": [
    "import pickle\n",
    "with open('../model/model_rotation.pickle','wb') as fw:\n",
    "    pickle.dump(model, fw)"
   ],
   "metadata": {
    "collapsed": false,
    "ExecuteTime": {
     "end_time": "2023-06-07T09:05:20.458648700Z",
     "start_time": "2023-06-07T09:05:20.427377500Z"
    }
   }
  },
  {
   "cell_type": "code",
   "execution_count": null,
   "outputs": [],
   "source": [],
   "metadata": {
    "collapsed": false
   }
  }
 ],
 "metadata": {
  "kernelspec": {
   "display_name": "Python 3",
   "language": "python",
   "name": "python3"
  },
  "language_info": {
   "codemirror_mode": {
    "name": "ipython",
    "version": 2
   },
   "file_extension": ".py",
   "mimetype": "text/x-python",
   "name": "python",
   "nbconvert_exporter": "python",
   "pygments_lexer": "ipython2",
   "version": "2.7.6"
  }
 },
 "nbformat": 4,
 "nbformat_minor": 0
}
