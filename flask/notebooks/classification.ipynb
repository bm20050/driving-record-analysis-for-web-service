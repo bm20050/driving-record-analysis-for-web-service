{
 "cells": [
  {
   "cell_type": "code",
   "execution_count": 1,
   "metadata": {
    "collapsed": true,
    "ExecuteTime": {
     "end_time": "2023-05-21T10:11:27.319496400Z",
     "start_time": "2023-05-21T10:11:27.303858800Z"
    }
   },
   "outputs": [],
   "source": [
    "import pandas as pd"
   ]
  },
  {
   "cell_type": "code",
   "execution_count": 55,
   "outputs": [],
   "source": [
    "df = pd.read_csv('../data/total_count.csv')"
   ],
   "metadata": {
    "collapsed": false,
    "ExecuteTime": {
     "end_time": "2023-05-21T11:58:56.224938800Z",
     "start_time": "2023-05-21T11:58:49.538853600Z"
    }
   }
  },
  {
   "cell_type": "code",
   "execution_count": 3,
   "outputs": [
    {
     "data": {
      "text/plain": "               날짜        번호판  일일주행거리   누적주행거리          정보발생일시  차량속도  RPM   \n0        20221201  부산70자1854       0    66443  22120105071500     0  193  \\\n1        20221201  부산70자1854       0    66443  22120105071600     0  388   \n2        20221201  부산70자1854       0    66443  22120105071700     0  777   \n3        20221201  부산70자1854       0    66443  22120105071800     0  638   \n4        20221201  부산70자1854       0    66443  22120105071900     0  461   \n...           ...        ...     ...      ...             ...   ...  ...   \n5948207  20221231  부산70자1894     176  3095705  22123121033800     0  331   \n5948208  20221231  부산70자1894     176  3095705  22123121033900     0   59   \n5948209  20221231  부산70자1894     176  3095705  22123121034000     0    0   \n5948210  20221231  부산70자1894     176  3095705  22123121034100     0    0   \n5948211  20221231  부산70자1894     176  3095705  22123121034200     0    0   \n\n         브레이크       GPS_X      GPS_Y  방위각  가속도_X  가속도_Y  급가속  급출발  급감속  급정지  \n0           0  129.158670  35.236021    0   -6.3    0.7    0    0    0    0  \n1           0  129.158670  35.236021    0   -7.9    1.6    0    0    0    0  \n2           0  129.158670  35.236021    0   -8.9    2.2    0    0    0    0  \n3           0  129.158670  35.236021    0   -6.6    0.8    0    0    0    0  \n4           0  129.158670  35.236021    0   -7.1    0.8    0    0    0    0  \n...       ...         ...        ...  ...    ...    ...  ...  ...  ...  ...  \n5948207     0  129.158597  35.235956   66   -5.7   -1.2    0    0    0    0  \n5948208     0  129.158597  35.235956   66   -5.8   -1.4    0    0    0    0  \n5948209     0  129.158597  35.235956   66   -5.4   -1.0    0    0    0    0  \n5948210     0  129.158597  35.235956   66   -5.4   -0.9    0    0    0    0  \n5948211     0  129.158597  35.235956   66   -5.3   -0.9    0    0    0    0  \n\n[5948212 rows x 17 columns]",
      "text/html": "<div>\n<style scoped>\n    .dataframe tbody tr th:only-of-type {\n        vertical-align: middle;\n    }\n\n    .dataframe tbody tr th {\n        vertical-align: top;\n    }\n\n    .dataframe thead th {\n        text-align: right;\n    }\n</style>\n<table border=\"1\" class=\"dataframe\">\n  <thead>\n    <tr style=\"text-align: right;\">\n      <th></th>\n      <th>날짜</th>\n      <th>번호판</th>\n      <th>일일주행거리</th>\n      <th>누적주행거리</th>\n      <th>정보발생일시</th>\n      <th>차량속도</th>\n      <th>RPM</th>\n      <th>브레이크</th>\n      <th>GPS_X</th>\n      <th>GPS_Y</th>\n      <th>방위각</th>\n      <th>가속도_X</th>\n      <th>가속도_Y</th>\n      <th>급가속</th>\n      <th>급출발</th>\n      <th>급감속</th>\n      <th>급정지</th>\n    </tr>\n  </thead>\n  <tbody>\n    <tr>\n      <th>0</th>\n      <td>20221201</td>\n      <td>부산70자1854</td>\n      <td>0</td>\n      <td>66443</td>\n      <td>22120105071500</td>\n      <td>0</td>\n      <td>193</td>\n      <td>0</td>\n      <td>129.158670</td>\n      <td>35.236021</td>\n      <td>0</td>\n      <td>-6.3</td>\n      <td>0.7</td>\n      <td>0</td>\n      <td>0</td>\n      <td>0</td>\n      <td>0</td>\n    </tr>\n    <tr>\n      <th>1</th>\n      <td>20221201</td>\n      <td>부산70자1854</td>\n      <td>0</td>\n      <td>66443</td>\n      <td>22120105071600</td>\n      <td>0</td>\n      <td>388</td>\n      <td>0</td>\n      <td>129.158670</td>\n      <td>35.236021</td>\n      <td>0</td>\n      <td>-7.9</td>\n      <td>1.6</td>\n      <td>0</td>\n      <td>0</td>\n      <td>0</td>\n      <td>0</td>\n    </tr>\n    <tr>\n      <th>2</th>\n      <td>20221201</td>\n      <td>부산70자1854</td>\n      <td>0</td>\n      <td>66443</td>\n      <td>22120105071700</td>\n      <td>0</td>\n      <td>777</td>\n      <td>0</td>\n      <td>129.158670</td>\n      <td>35.236021</td>\n      <td>0</td>\n      <td>-8.9</td>\n      <td>2.2</td>\n      <td>0</td>\n      <td>0</td>\n      <td>0</td>\n      <td>0</td>\n    </tr>\n    <tr>\n      <th>3</th>\n      <td>20221201</td>\n      <td>부산70자1854</td>\n      <td>0</td>\n      <td>66443</td>\n      <td>22120105071800</td>\n      <td>0</td>\n      <td>638</td>\n      <td>0</td>\n      <td>129.158670</td>\n      <td>35.236021</td>\n      <td>0</td>\n      <td>-6.6</td>\n      <td>0.8</td>\n      <td>0</td>\n      <td>0</td>\n      <td>0</td>\n      <td>0</td>\n    </tr>\n    <tr>\n      <th>4</th>\n      <td>20221201</td>\n      <td>부산70자1854</td>\n      <td>0</td>\n      <td>66443</td>\n      <td>22120105071900</td>\n      <td>0</td>\n      <td>461</td>\n      <td>0</td>\n      <td>129.158670</td>\n      <td>35.236021</td>\n      <td>0</td>\n      <td>-7.1</td>\n      <td>0.8</td>\n      <td>0</td>\n      <td>0</td>\n      <td>0</td>\n      <td>0</td>\n    </tr>\n    <tr>\n      <th>...</th>\n      <td>...</td>\n      <td>...</td>\n      <td>...</td>\n      <td>...</td>\n      <td>...</td>\n      <td>...</td>\n      <td>...</td>\n      <td>...</td>\n      <td>...</td>\n      <td>...</td>\n      <td>...</td>\n      <td>...</td>\n      <td>...</td>\n      <td>...</td>\n      <td>...</td>\n      <td>...</td>\n      <td>...</td>\n    </tr>\n    <tr>\n      <th>5948207</th>\n      <td>20221231</td>\n      <td>부산70자1894</td>\n      <td>176</td>\n      <td>3095705</td>\n      <td>22123121033800</td>\n      <td>0</td>\n      <td>331</td>\n      <td>0</td>\n      <td>129.158597</td>\n      <td>35.235956</td>\n      <td>66</td>\n      <td>-5.7</td>\n      <td>-1.2</td>\n      <td>0</td>\n      <td>0</td>\n      <td>0</td>\n      <td>0</td>\n    </tr>\n    <tr>\n      <th>5948208</th>\n      <td>20221231</td>\n      <td>부산70자1894</td>\n      <td>176</td>\n      <td>3095705</td>\n      <td>22123121033900</td>\n      <td>0</td>\n      <td>59</td>\n      <td>0</td>\n      <td>129.158597</td>\n      <td>35.235956</td>\n      <td>66</td>\n      <td>-5.8</td>\n      <td>-1.4</td>\n      <td>0</td>\n      <td>0</td>\n      <td>0</td>\n      <td>0</td>\n    </tr>\n    <tr>\n      <th>5948209</th>\n      <td>20221231</td>\n      <td>부산70자1894</td>\n      <td>176</td>\n      <td>3095705</td>\n      <td>22123121034000</td>\n      <td>0</td>\n      <td>0</td>\n      <td>0</td>\n      <td>129.158597</td>\n      <td>35.235956</td>\n      <td>66</td>\n      <td>-5.4</td>\n      <td>-1.0</td>\n      <td>0</td>\n      <td>0</td>\n      <td>0</td>\n      <td>0</td>\n    </tr>\n    <tr>\n      <th>5948210</th>\n      <td>20221231</td>\n      <td>부산70자1894</td>\n      <td>176</td>\n      <td>3095705</td>\n      <td>22123121034100</td>\n      <td>0</td>\n      <td>0</td>\n      <td>0</td>\n      <td>129.158597</td>\n      <td>35.235956</td>\n      <td>66</td>\n      <td>-5.4</td>\n      <td>-0.9</td>\n      <td>0</td>\n      <td>0</td>\n      <td>0</td>\n      <td>0</td>\n    </tr>\n    <tr>\n      <th>5948211</th>\n      <td>20221231</td>\n      <td>부산70자1894</td>\n      <td>176</td>\n      <td>3095705</td>\n      <td>22123121034200</td>\n      <td>0</td>\n      <td>0</td>\n      <td>0</td>\n      <td>129.158597</td>\n      <td>35.235956</td>\n      <td>66</td>\n      <td>-5.3</td>\n      <td>-0.9</td>\n      <td>0</td>\n      <td>0</td>\n      <td>0</td>\n      <td>0</td>\n    </tr>\n  </tbody>\n</table>\n<p>5948212 rows × 17 columns</p>\n</div>"
     },
     "execution_count": 3,
     "metadata": {},
     "output_type": "execute_result"
    }
   ],
   "source": [
    "df"
   ],
   "metadata": {
    "collapsed": false,
    "ExecuteTime": {
     "end_time": "2023-05-21T10:11:59.112588200Z",
     "start_time": "2023-05-21T10:11:59.081253100Z"
    }
   }
  },
  {
   "cell_type": "code",
   "execution_count": 4,
   "outputs": [],
   "source": [
    "df['시각'] = df['정보발생일시'].apply(lambda x: str(x)[6:8])"
   ],
   "metadata": {
    "collapsed": false,
    "ExecuteTime": {
     "end_time": "2023-05-21T10:12:57.535743500Z",
     "start_time": "2023-05-21T10:12:55.887347200Z"
    }
   }
  },
  {
   "cell_type": "code",
   "execution_count": 5,
   "outputs": [],
   "source": [
    "l1 = []\n",
    "\n",
    "for i in df.index:\n",
    "    if i == 0:\n",
    "        l1.append(0)\n",
    "        continue\n",
    "\n",
    "    l1.append(df['차량속도'][i] - df['차량속도'][i - 1])"
   ],
   "metadata": {
    "collapsed": false,
    "ExecuteTime": {
     "end_time": "2023-05-21T10:19:47.992381200Z",
     "start_time": "2023-05-21T10:19:04.622028200Z"
    }
   }
  },
  {
   "cell_type": "code",
   "execution_count": 6,
   "outputs": [],
   "source": [
    "df['가속도'] = l1"
   ],
   "metadata": {
    "collapsed": false,
    "ExecuteTime": {
     "end_time": "2023-05-21T10:20:14.862389700Z",
     "start_time": "2023-05-21T10:19:52.046914300Z"
    }
   }
  },
  {
   "cell_type": "code",
   "execution_count": 7,
   "outputs": [
    {
     "data": {
      "text/plain": "               날짜        번호판  일일주행거리   누적주행거리          정보발생일시  차량속도  RPM   \n0        20221201  부산70자1854       0    66443  22120105071500     0  193  \\\n1        20221201  부산70자1854       0    66443  22120105071600     0  388   \n2        20221201  부산70자1854       0    66443  22120105071700     0  777   \n3        20221201  부산70자1854       0    66443  22120105071800     0  638   \n4        20221201  부산70자1854       0    66443  22120105071900     0  461   \n...           ...        ...     ...      ...             ...   ...  ...   \n5948207  20221231  부산70자1894     176  3095705  22123121033800     0  331   \n5948208  20221231  부산70자1894     176  3095705  22123121033900     0   59   \n5948209  20221231  부산70자1894     176  3095705  22123121034000     0    0   \n5948210  20221231  부산70자1894     176  3095705  22123121034100     0    0   \n5948211  20221231  부산70자1894     176  3095705  22123121034200     0    0   \n\n         브레이크       GPS_X      GPS_Y  방위각  가속도_X  가속도_Y  급가속  급출발  급감속  급정지   \n0           0  129.158670  35.236021    0   -6.3    0.7    0    0    0    0  \\\n1           0  129.158670  35.236021    0   -7.9    1.6    0    0    0    0   \n2           0  129.158670  35.236021    0   -8.9    2.2    0    0    0    0   \n3           0  129.158670  35.236021    0   -6.6    0.8    0    0    0    0   \n4           0  129.158670  35.236021    0   -7.1    0.8    0    0    0    0   \n...       ...         ...        ...  ...    ...    ...  ...  ...  ...  ...   \n5948207     0  129.158597  35.235956   66   -5.7   -1.2    0    0    0    0   \n5948208     0  129.158597  35.235956   66   -5.8   -1.4    0    0    0    0   \n5948209     0  129.158597  35.235956   66   -5.4   -1.0    0    0    0    0   \n5948210     0  129.158597  35.235956   66   -5.4   -0.9    0    0    0    0   \n5948211     0  129.158597  35.235956   66   -5.3   -0.9    0    0    0    0   \n\n         시각  가속도  \n0        05    0  \n1        05    0  \n2        05    0  \n3        05    0  \n4        05    0  \n...      ..  ...  \n5948207  21    0  \n5948208  21    0  \n5948209  21    0  \n5948210  21    0  \n5948211  21    0  \n\n[5948212 rows x 19 columns]",
      "text/html": "<div>\n<style scoped>\n    .dataframe tbody tr th:only-of-type {\n        vertical-align: middle;\n    }\n\n    .dataframe tbody tr th {\n        vertical-align: top;\n    }\n\n    .dataframe thead th {\n        text-align: right;\n    }\n</style>\n<table border=\"1\" class=\"dataframe\">\n  <thead>\n    <tr style=\"text-align: right;\">\n      <th></th>\n      <th>날짜</th>\n      <th>번호판</th>\n      <th>일일주행거리</th>\n      <th>누적주행거리</th>\n      <th>정보발생일시</th>\n      <th>차량속도</th>\n      <th>RPM</th>\n      <th>브레이크</th>\n      <th>GPS_X</th>\n      <th>GPS_Y</th>\n      <th>방위각</th>\n      <th>가속도_X</th>\n      <th>가속도_Y</th>\n      <th>급가속</th>\n      <th>급출발</th>\n      <th>급감속</th>\n      <th>급정지</th>\n      <th>시각</th>\n      <th>가속도</th>\n    </tr>\n  </thead>\n  <tbody>\n    <tr>\n      <th>0</th>\n      <td>20221201</td>\n      <td>부산70자1854</td>\n      <td>0</td>\n      <td>66443</td>\n      <td>22120105071500</td>\n      <td>0</td>\n      <td>193</td>\n      <td>0</td>\n      <td>129.158670</td>\n      <td>35.236021</td>\n      <td>0</td>\n      <td>-6.3</td>\n      <td>0.7</td>\n      <td>0</td>\n      <td>0</td>\n      <td>0</td>\n      <td>0</td>\n      <td>05</td>\n      <td>0</td>\n    </tr>\n    <tr>\n      <th>1</th>\n      <td>20221201</td>\n      <td>부산70자1854</td>\n      <td>0</td>\n      <td>66443</td>\n      <td>22120105071600</td>\n      <td>0</td>\n      <td>388</td>\n      <td>0</td>\n      <td>129.158670</td>\n      <td>35.236021</td>\n      <td>0</td>\n      <td>-7.9</td>\n      <td>1.6</td>\n      <td>0</td>\n      <td>0</td>\n      <td>0</td>\n      <td>0</td>\n      <td>05</td>\n      <td>0</td>\n    </tr>\n    <tr>\n      <th>2</th>\n      <td>20221201</td>\n      <td>부산70자1854</td>\n      <td>0</td>\n      <td>66443</td>\n      <td>22120105071700</td>\n      <td>0</td>\n      <td>777</td>\n      <td>0</td>\n      <td>129.158670</td>\n      <td>35.236021</td>\n      <td>0</td>\n      <td>-8.9</td>\n      <td>2.2</td>\n      <td>0</td>\n      <td>0</td>\n      <td>0</td>\n      <td>0</td>\n      <td>05</td>\n      <td>0</td>\n    </tr>\n    <tr>\n      <th>3</th>\n      <td>20221201</td>\n      <td>부산70자1854</td>\n      <td>0</td>\n      <td>66443</td>\n      <td>22120105071800</td>\n      <td>0</td>\n      <td>638</td>\n      <td>0</td>\n      <td>129.158670</td>\n      <td>35.236021</td>\n      <td>0</td>\n      <td>-6.6</td>\n      <td>0.8</td>\n      <td>0</td>\n      <td>0</td>\n      <td>0</td>\n      <td>0</td>\n      <td>05</td>\n      <td>0</td>\n    </tr>\n    <tr>\n      <th>4</th>\n      <td>20221201</td>\n      <td>부산70자1854</td>\n      <td>0</td>\n      <td>66443</td>\n      <td>22120105071900</td>\n      <td>0</td>\n      <td>461</td>\n      <td>0</td>\n      <td>129.158670</td>\n      <td>35.236021</td>\n      <td>0</td>\n      <td>-7.1</td>\n      <td>0.8</td>\n      <td>0</td>\n      <td>0</td>\n      <td>0</td>\n      <td>0</td>\n      <td>05</td>\n      <td>0</td>\n    </tr>\n    <tr>\n      <th>...</th>\n      <td>...</td>\n      <td>...</td>\n      <td>...</td>\n      <td>...</td>\n      <td>...</td>\n      <td>...</td>\n      <td>...</td>\n      <td>...</td>\n      <td>...</td>\n      <td>...</td>\n      <td>...</td>\n      <td>...</td>\n      <td>...</td>\n      <td>...</td>\n      <td>...</td>\n      <td>...</td>\n      <td>...</td>\n      <td>...</td>\n      <td>...</td>\n    </tr>\n    <tr>\n      <th>5948207</th>\n      <td>20221231</td>\n      <td>부산70자1894</td>\n      <td>176</td>\n      <td>3095705</td>\n      <td>22123121033800</td>\n      <td>0</td>\n      <td>331</td>\n      <td>0</td>\n      <td>129.158597</td>\n      <td>35.235956</td>\n      <td>66</td>\n      <td>-5.7</td>\n      <td>-1.2</td>\n      <td>0</td>\n      <td>0</td>\n      <td>0</td>\n      <td>0</td>\n      <td>21</td>\n      <td>0</td>\n    </tr>\n    <tr>\n      <th>5948208</th>\n      <td>20221231</td>\n      <td>부산70자1894</td>\n      <td>176</td>\n      <td>3095705</td>\n      <td>22123121033900</td>\n      <td>0</td>\n      <td>59</td>\n      <td>0</td>\n      <td>129.158597</td>\n      <td>35.235956</td>\n      <td>66</td>\n      <td>-5.8</td>\n      <td>-1.4</td>\n      <td>0</td>\n      <td>0</td>\n      <td>0</td>\n      <td>0</td>\n      <td>21</td>\n      <td>0</td>\n    </tr>\n    <tr>\n      <th>5948209</th>\n      <td>20221231</td>\n      <td>부산70자1894</td>\n      <td>176</td>\n      <td>3095705</td>\n      <td>22123121034000</td>\n      <td>0</td>\n      <td>0</td>\n      <td>0</td>\n      <td>129.158597</td>\n      <td>35.235956</td>\n      <td>66</td>\n      <td>-5.4</td>\n      <td>-1.0</td>\n      <td>0</td>\n      <td>0</td>\n      <td>0</td>\n      <td>0</td>\n      <td>21</td>\n      <td>0</td>\n    </tr>\n    <tr>\n      <th>5948210</th>\n      <td>20221231</td>\n      <td>부산70자1894</td>\n      <td>176</td>\n      <td>3095705</td>\n      <td>22123121034100</td>\n      <td>0</td>\n      <td>0</td>\n      <td>0</td>\n      <td>129.158597</td>\n      <td>35.235956</td>\n      <td>66</td>\n      <td>-5.4</td>\n      <td>-0.9</td>\n      <td>0</td>\n      <td>0</td>\n      <td>0</td>\n      <td>0</td>\n      <td>21</td>\n      <td>0</td>\n    </tr>\n    <tr>\n      <th>5948211</th>\n      <td>20221231</td>\n      <td>부산70자1894</td>\n      <td>176</td>\n      <td>3095705</td>\n      <td>22123121034200</td>\n      <td>0</td>\n      <td>0</td>\n      <td>0</td>\n      <td>129.158597</td>\n      <td>35.235956</td>\n      <td>66</td>\n      <td>-5.3</td>\n      <td>-0.9</td>\n      <td>0</td>\n      <td>0</td>\n      <td>0</td>\n      <td>0</td>\n      <td>21</td>\n      <td>0</td>\n    </tr>\n  </tbody>\n</table>\n<p>5948212 rows × 19 columns</p>\n</div>"
     },
     "execution_count": 7,
     "metadata": {},
     "output_type": "execute_result"
    }
   ],
   "source": [
    "df"
   ],
   "metadata": {
    "collapsed": false,
    "ExecuteTime": {
     "end_time": "2023-05-21T10:20:18.290318500Z",
     "start_time": "2023-05-21T10:20:18.274691400Z"
    }
   }
  },
  {
   "cell_type": "code",
   "execution_count": 9,
   "outputs": [
    {
     "data": {
      "text/plain": "               날짜        번호판  차량속도  RPM  브레이크       GPS_X      GPS_Y  방위각   \n0        20221201  부산70자1854     0  193     0  129.158670  35.236021    0  \\\n1        20221201  부산70자1854     0  388     0  129.158670  35.236021    0   \n2        20221201  부산70자1854     0  777     0  129.158670  35.236021    0   \n3        20221201  부산70자1854     0  638     0  129.158670  35.236021    0   \n4        20221201  부산70자1854     0  461     0  129.158670  35.236021    0   \n...           ...        ...   ...  ...   ...         ...        ...  ...   \n5948207  20221231  부산70자1894     0  331     0  129.158597  35.235956   66   \n5948208  20221231  부산70자1894     0   59     0  129.158597  35.235956   66   \n5948209  20221231  부산70자1894     0    0     0  129.158597  35.235956   66   \n5948210  20221231  부산70자1894     0    0     0  129.158597  35.235956   66   \n5948211  20221231  부산70자1894     0    0     0  129.158597  35.235956   66   \n\n         가속도_X  가속도_Y  급가속  급출발  급감속  급정지  시각  가속도  \n0         -6.3    0.7    0    0    0    0  05    0  \n1         -7.9    1.6    0    0    0    0  05    0  \n2         -8.9    2.2    0    0    0    0  05    0  \n3         -6.6    0.8    0    0    0    0  05    0  \n4         -7.1    0.8    0    0    0    0  05    0  \n...        ...    ...  ...  ...  ...  ...  ..  ...  \n5948207   -5.7   -1.2    0    0    0    0  21    0  \n5948208   -5.8   -1.4    0    0    0    0  21    0  \n5948209   -5.4   -1.0    0    0    0    0  21    0  \n5948210   -5.4   -0.9    0    0    0    0  21    0  \n5948211   -5.3   -0.9    0    0    0    0  21    0  \n\n[5948212 rows x 16 columns]",
      "text/html": "<div>\n<style scoped>\n    .dataframe tbody tr th:only-of-type {\n        vertical-align: middle;\n    }\n\n    .dataframe tbody tr th {\n        vertical-align: top;\n    }\n\n    .dataframe thead th {\n        text-align: right;\n    }\n</style>\n<table border=\"1\" class=\"dataframe\">\n  <thead>\n    <tr style=\"text-align: right;\">\n      <th></th>\n      <th>날짜</th>\n      <th>번호판</th>\n      <th>차량속도</th>\n      <th>RPM</th>\n      <th>브레이크</th>\n      <th>GPS_X</th>\n      <th>GPS_Y</th>\n      <th>방위각</th>\n      <th>가속도_X</th>\n      <th>가속도_Y</th>\n      <th>급가속</th>\n      <th>급출발</th>\n      <th>급감속</th>\n      <th>급정지</th>\n      <th>시각</th>\n      <th>가속도</th>\n    </tr>\n  </thead>\n  <tbody>\n    <tr>\n      <th>0</th>\n      <td>20221201</td>\n      <td>부산70자1854</td>\n      <td>0</td>\n      <td>193</td>\n      <td>0</td>\n      <td>129.158670</td>\n      <td>35.236021</td>\n      <td>0</td>\n      <td>-6.3</td>\n      <td>0.7</td>\n      <td>0</td>\n      <td>0</td>\n      <td>0</td>\n      <td>0</td>\n      <td>05</td>\n      <td>0</td>\n    </tr>\n    <tr>\n      <th>1</th>\n      <td>20221201</td>\n      <td>부산70자1854</td>\n      <td>0</td>\n      <td>388</td>\n      <td>0</td>\n      <td>129.158670</td>\n      <td>35.236021</td>\n      <td>0</td>\n      <td>-7.9</td>\n      <td>1.6</td>\n      <td>0</td>\n      <td>0</td>\n      <td>0</td>\n      <td>0</td>\n      <td>05</td>\n      <td>0</td>\n    </tr>\n    <tr>\n      <th>2</th>\n      <td>20221201</td>\n      <td>부산70자1854</td>\n      <td>0</td>\n      <td>777</td>\n      <td>0</td>\n      <td>129.158670</td>\n      <td>35.236021</td>\n      <td>0</td>\n      <td>-8.9</td>\n      <td>2.2</td>\n      <td>0</td>\n      <td>0</td>\n      <td>0</td>\n      <td>0</td>\n      <td>05</td>\n      <td>0</td>\n    </tr>\n    <tr>\n      <th>3</th>\n      <td>20221201</td>\n      <td>부산70자1854</td>\n      <td>0</td>\n      <td>638</td>\n      <td>0</td>\n      <td>129.158670</td>\n      <td>35.236021</td>\n      <td>0</td>\n      <td>-6.6</td>\n      <td>0.8</td>\n      <td>0</td>\n      <td>0</td>\n      <td>0</td>\n      <td>0</td>\n      <td>05</td>\n      <td>0</td>\n    </tr>\n    <tr>\n      <th>4</th>\n      <td>20221201</td>\n      <td>부산70자1854</td>\n      <td>0</td>\n      <td>461</td>\n      <td>0</td>\n      <td>129.158670</td>\n      <td>35.236021</td>\n      <td>0</td>\n      <td>-7.1</td>\n      <td>0.8</td>\n      <td>0</td>\n      <td>0</td>\n      <td>0</td>\n      <td>0</td>\n      <td>05</td>\n      <td>0</td>\n    </tr>\n    <tr>\n      <th>...</th>\n      <td>...</td>\n      <td>...</td>\n      <td>...</td>\n      <td>...</td>\n      <td>...</td>\n      <td>...</td>\n      <td>...</td>\n      <td>...</td>\n      <td>...</td>\n      <td>...</td>\n      <td>...</td>\n      <td>...</td>\n      <td>...</td>\n      <td>...</td>\n      <td>...</td>\n      <td>...</td>\n    </tr>\n    <tr>\n      <th>5948207</th>\n      <td>20221231</td>\n      <td>부산70자1894</td>\n      <td>0</td>\n      <td>331</td>\n      <td>0</td>\n      <td>129.158597</td>\n      <td>35.235956</td>\n      <td>66</td>\n      <td>-5.7</td>\n      <td>-1.2</td>\n      <td>0</td>\n      <td>0</td>\n      <td>0</td>\n      <td>0</td>\n      <td>21</td>\n      <td>0</td>\n    </tr>\n    <tr>\n      <th>5948208</th>\n      <td>20221231</td>\n      <td>부산70자1894</td>\n      <td>0</td>\n      <td>59</td>\n      <td>0</td>\n      <td>129.158597</td>\n      <td>35.235956</td>\n      <td>66</td>\n      <td>-5.8</td>\n      <td>-1.4</td>\n      <td>0</td>\n      <td>0</td>\n      <td>0</td>\n      <td>0</td>\n      <td>21</td>\n      <td>0</td>\n    </tr>\n    <tr>\n      <th>5948209</th>\n      <td>20221231</td>\n      <td>부산70자1894</td>\n      <td>0</td>\n      <td>0</td>\n      <td>0</td>\n      <td>129.158597</td>\n      <td>35.235956</td>\n      <td>66</td>\n      <td>-5.4</td>\n      <td>-1.0</td>\n      <td>0</td>\n      <td>0</td>\n      <td>0</td>\n      <td>0</td>\n      <td>21</td>\n      <td>0</td>\n    </tr>\n    <tr>\n      <th>5948210</th>\n      <td>20221231</td>\n      <td>부산70자1894</td>\n      <td>0</td>\n      <td>0</td>\n      <td>0</td>\n      <td>129.158597</td>\n      <td>35.235956</td>\n      <td>66</td>\n      <td>-5.4</td>\n      <td>-0.9</td>\n      <td>0</td>\n      <td>0</td>\n      <td>0</td>\n      <td>0</td>\n      <td>21</td>\n      <td>0</td>\n    </tr>\n    <tr>\n      <th>5948211</th>\n      <td>20221231</td>\n      <td>부산70자1894</td>\n      <td>0</td>\n      <td>0</td>\n      <td>0</td>\n      <td>129.158597</td>\n      <td>35.235956</td>\n      <td>66</td>\n      <td>-5.3</td>\n      <td>-0.9</td>\n      <td>0</td>\n      <td>0</td>\n      <td>0</td>\n      <td>0</td>\n      <td>21</td>\n      <td>0</td>\n    </tr>\n  </tbody>\n</table>\n<p>5948212 rows × 16 columns</p>\n</div>"
     },
     "execution_count": 9,
     "metadata": {},
     "output_type": "execute_result"
    }
   ],
   "source": [
    "df.drop(['일일주행거리', '누적주행거리', '정보발생일시'], axis=1)"
   ],
   "metadata": {
    "collapsed": false,
    "ExecuteTime": {
     "end_time": "2023-05-21T10:21:11.182689300Z",
     "start_time": "2023-05-21T10:21:10.854392700Z"
    }
   }
  },
  {
   "cell_type": "code",
   "execution_count": 57,
   "outputs": [],
   "source": [
    "l = []\n",
    "\n",
    "for i in df.index:\n",
    "    if i == 0:\n",
    "        l.append(0)\n",
    "        continue\n",
    "\n",
    "\n",
    "    # 급출발\n",
    "    if 5 >= df['차량속도'][i - 1] and df['차량속도'][i] - df['차량속도'][i - 1] >= 8:\n",
    "        l.append(2)\n",
    "\n",
    "    # 급가속\n",
    "    elif 6 <= df['차량속도'][i] <= 10 and df['차량속도'][i] - df['차량속도'][i - 1] >= 8:\n",
    "        l.append(1)\n",
    "    elif 10 < df['차량속도'][i] <= 20 and df['차량속도'][i] - df['차량속도'][i - 1] >= 7:\n",
    "        l.append(1)\n",
    "    elif 20 < df['차량속도'][i] and df['차량속도'][i] - df['차량속도'][i - 1] >= 6:\n",
    "        l.append(1)\n",
    "\n",
    "     # 급정지\n",
    "    elif df['차량속도'][i - 1] - df['차량속도'][i] >= 9 and df['차량속도'][i] <= 5 and df['브레이크'][i] == 1:\n",
    "        l.append(4)\n",
    "\n",
    "    # 급감속\n",
    "    elif 30 >= df['차량속도'][i] and df['차량속도'][i - 1] - df['차량속도'][i] >= 9 and df['차량속도'][i] >= 6 and df['브레이크'][i] == 1:\n",
    "        l.append(3)\n",
    "    elif 50 >= df['차량속도'][i] and df['차량속도'][i - 1] - df['차량속도'][i] >= 10 and df['차량속도'][i] >= 6 and df['브레이크'][i] == 1:\n",
    "        l.append(3)\n",
    "    elif 50 < df['차량속도'][i] and df['차량속도'][i - 1] - df['차량속도'][i] >= 12 and df['차량속도'][i] >= 6 and df['브레이크'][i] == 1:\n",
    "        l.append(3)\n",
    "\n",
    "\n",
    "\n",
    "    # 정상주행\n",
    "    else:\n",
    "        l.append(0)"
   ],
   "metadata": {
    "collapsed": false,
    "ExecuteTime": {
     "end_time": "2023-05-21T12:07:01.835866600Z",
     "start_time": "2023-05-21T12:00:53.187611500Z"
    }
   }
  },
  {
   "cell_type": "code",
   "execution_count": 16,
   "outputs": [],
   "source": [
    "df['위험운전분류'] = l"
   ],
   "metadata": {
    "collapsed": false,
    "ExecuteTime": {
     "end_time": "2023-05-21T10:51:58.038906600Z",
     "start_time": "2023-05-21T10:51:57.146713Z"
    }
   }
  },
  {
   "cell_type": "code",
   "execution_count": 17,
   "outputs": [],
   "source": [
    "df['차량속도분류'] = df['차량속도'].apply(lambda x: x // 10)"
   ],
   "metadata": {
    "collapsed": false,
    "ExecuteTime": {
     "end_time": "2023-05-21T10:52:02.101721400Z",
     "start_time": "2023-05-21T10:52:00.735709800Z"
    }
   }
  },
  {
   "cell_type": "code",
   "execution_count": 18,
   "outputs": [],
   "source": [
    "df['RPM분류'] = df['RPM'].apply(lambda x: x // 500)"
   ],
   "metadata": {
    "collapsed": false,
    "ExecuteTime": {
     "end_time": "2023-05-21T10:52:04.452069900Z",
     "start_time": "2023-05-21T10:52:02.811366Z"
    }
   }
  },
  {
   "cell_type": "code",
   "execution_count": 19,
   "outputs": [
    {
     "data": {
      "text/plain": "               날짜        번호판  일일주행거리   누적주행거리          정보발생일시  차량속도  RPM   \n0        20221201  부산70자1854       0    66443  22120105071500     0  193  \\\n1        20221201  부산70자1854       0    66443  22120105071600     0  388   \n2        20221201  부산70자1854       0    66443  22120105071700     0  777   \n3        20221201  부산70자1854       0    66443  22120105071800     0  638   \n4        20221201  부산70자1854       0    66443  22120105071900     0  461   \n...           ...        ...     ...      ...             ...   ...  ...   \n5948207  20221231  부산70자1894     176  3095705  22123121033800     0  331   \n5948208  20221231  부산70자1894     176  3095705  22123121033900     0   59   \n5948209  20221231  부산70자1894     176  3095705  22123121034000     0    0   \n5948210  20221231  부산70자1894     176  3095705  22123121034100     0    0   \n5948211  20221231  부산70자1894     176  3095705  22123121034200     0    0   \n\n         브레이크       GPS_X      GPS_Y  ...  가속도_Y  급가속  급출발  급감속  급정지  시각  가속도   \n0           0  129.158670  35.236021  ...    0.7    0    0    0    0  05    0  \\\n1           0  129.158670  35.236021  ...    1.6    0    0    0    0  05    0   \n2           0  129.158670  35.236021  ...    2.2    0    0    0    0  05    0   \n3           0  129.158670  35.236021  ...    0.8    0    0    0    0  05    0   \n4           0  129.158670  35.236021  ...    0.8    0    0    0    0  05    0   \n...       ...         ...        ...  ...    ...  ...  ...  ...  ...  ..  ...   \n5948207     0  129.158597  35.235956  ...   -1.2    0    0    0    0  21    0   \n5948208     0  129.158597  35.235956  ...   -1.4    0    0    0    0  21    0   \n5948209     0  129.158597  35.235956  ...   -1.0    0    0    0    0  21    0   \n5948210     0  129.158597  35.235956  ...   -0.9    0    0    0    0  21    0   \n5948211     0  129.158597  35.235956  ...   -0.9    0    0    0    0  21    0   \n\n        위험운전분류  차량속도분류  RPM분류  \n0            0       0      0  \n1            0       0      0  \n2            0       0      1  \n3            0       0      1  \n4            0       0      0  \n...        ...     ...    ...  \n5948207      0       0      0  \n5948208      0       0      0  \n5948209      0       0      0  \n5948210      0       0      0  \n5948211      0       0      0  \n\n[5948212 rows x 22 columns]",
      "text/html": "<div>\n<style scoped>\n    .dataframe tbody tr th:only-of-type {\n        vertical-align: middle;\n    }\n\n    .dataframe tbody tr th {\n        vertical-align: top;\n    }\n\n    .dataframe thead th {\n        text-align: right;\n    }\n</style>\n<table border=\"1\" class=\"dataframe\">\n  <thead>\n    <tr style=\"text-align: right;\">\n      <th></th>\n      <th>날짜</th>\n      <th>번호판</th>\n      <th>일일주행거리</th>\n      <th>누적주행거리</th>\n      <th>정보발생일시</th>\n      <th>차량속도</th>\n      <th>RPM</th>\n      <th>브레이크</th>\n      <th>GPS_X</th>\n      <th>GPS_Y</th>\n      <th>...</th>\n      <th>가속도_Y</th>\n      <th>급가속</th>\n      <th>급출발</th>\n      <th>급감속</th>\n      <th>급정지</th>\n      <th>시각</th>\n      <th>가속도</th>\n      <th>위험운전분류</th>\n      <th>차량속도분류</th>\n      <th>RPM분류</th>\n    </tr>\n  </thead>\n  <tbody>\n    <tr>\n      <th>0</th>\n      <td>20221201</td>\n      <td>부산70자1854</td>\n      <td>0</td>\n      <td>66443</td>\n      <td>22120105071500</td>\n      <td>0</td>\n      <td>193</td>\n      <td>0</td>\n      <td>129.158670</td>\n      <td>35.236021</td>\n      <td>...</td>\n      <td>0.7</td>\n      <td>0</td>\n      <td>0</td>\n      <td>0</td>\n      <td>0</td>\n      <td>05</td>\n      <td>0</td>\n      <td>0</td>\n      <td>0</td>\n      <td>0</td>\n    </tr>\n    <tr>\n      <th>1</th>\n      <td>20221201</td>\n      <td>부산70자1854</td>\n      <td>0</td>\n      <td>66443</td>\n      <td>22120105071600</td>\n      <td>0</td>\n      <td>388</td>\n      <td>0</td>\n      <td>129.158670</td>\n      <td>35.236021</td>\n      <td>...</td>\n      <td>1.6</td>\n      <td>0</td>\n      <td>0</td>\n      <td>0</td>\n      <td>0</td>\n      <td>05</td>\n      <td>0</td>\n      <td>0</td>\n      <td>0</td>\n      <td>0</td>\n    </tr>\n    <tr>\n      <th>2</th>\n      <td>20221201</td>\n      <td>부산70자1854</td>\n      <td>0</td>\n      <td>66443</td>\n      <td>22120105071700</td>\n      <td>0</td>\n      <td>777</td>\n      <td>0</td>\n      <td>129.158670</td>\n      <td>35.236021</td>\n      <td>...</td>\n      <td>2.2</td>\n      <td>0</td>\n      <td>0</td>\n      <td>0</td>\n      <td>0</td>\n      <td>05</td>\n      <td>0</td>\n      <td>0</td>\n      <td>0</td>\n      <td>1</td>\n    </tr>\n    <tr>\n      <th>3</th>\n      <td>20221201</td>\n      <td>부산70자1854</td>\n      <td>0</td>\n      <td>66443</td>\n      <td>22120105071800</td>\n      <td>0</td>\n      <td>638</td>\n      <td>0</td>\n      <td>129.158670</td>\n      <td>35.236021</td>\n      <td>...</td>\n      <td>0.8</td>\n      <td>0</td>\n      <td>0</td>\n      <td>0</td>\n      <td>0</td>\n      <td>05</td>\n      <td>0</td>\n      <td>0</td>\n      <td>0</td>\n      <td>1</td>\n    </tr>\n    <tr>\n      <th>4</th>\n      <td>20221201</td>\n      <td>부산70자1854</td>\n      <td>0</td>\n      <td>66443</td>\n      <td>22120105071900</td>\n      <td>0</td>\n      <td>461</td>\n      <td>0</td>\n      <td>129.158670</td>\n      <td>35.236021</td>\n      <td>...</td>\n      <td>0.8</td>\n      <td>0</td>\n      <td>0</td>\n      <td>0</td>\n      <td>0</td>\n      <td>05</td>\n      <td>0</td>\n      <td>0</td>\n      <td>0</td>\n      <td>0</td>\n    </tr>\n    <tr>\n      <th>...</th>\n      <td>...</td>\n      <td>...</td>\n      <td>...</td>\n      <td>...</td>\n      <td>...</td>\n      <td>...</td>\n      <td>...</td>\n      <td>...</td>\n      <td>...</td>\n      <td>...</td>\n      <td>...</td>\n      <td>...</td>\n      <td>...</td>\n      <td>...</td>\n      <td>...</td>\n      <td>...</td>\n      <td>...</td>\n      <td>...</td>\n      <td>...</td>\n      <td>...</td>\n      <td>...</td>\n    </tr>\n    <tr>\n      <th>5948207</th>\n      <td>20221231</td>\n      <td>부산70자1894</td>\n      <td>176</td>\n      <td>3095705</td>\n      <td>22123121033800</td>\n      <td>0</td>\n      <td>331</td>\n      <td>0</td>\n      <td>129.158597</td>\n      <td>35.235956</td>\n      <td>...</td>\n      <td>-1.2</td>\n      <td>0</td>\n      <td>0</td>\n      <td>0</td>\n      <td>0</td>\n      <td>21</td>\n      <td>0</td>\n      <td>0</td>\n      <td>0</td>\n      <td>0</td>\n    </tr>\n    <tr>\n      <th>5948208</th>\n      <td>20221231</td>\n      <td>부산70자1894</td>\n      <td>176</td>\n      <td>3095705</td>\n      <td>22123121033900</td>\n      <td>0</td>\n      <td>59</td>\n      <td>0</td>\n      <td>129.158597</td>\n      <td>35.235956</td>\n      <td>...</td>\n      <td>-1.4</td>\n      <td>0</td>\n      <td>0</td>\n      <td>0</td>\n      <td>0</td>\n      <td>21</td>\n      <td>0</td>\n      <td>0</td>\n      <td>0</td>\n      <td>0</td>\n    </tr>\n    <tr>\n      <th>5948209</th>\n      <td>20221231</td>\n      <td>부산70자1894</td>\n      <td>176</td>\n      <td>3095705</td>\n      <td>22123121034000</td>\n      <td>0</td>\n      <td>0</td>\n      <td>0</td>\n      <td>129.158597</td>\n      <td>35.235956</td>\n      <td>...</td>\n      <td>-1.0</td>\n      <td>0</td>\n      <td>0</td>\n      <td>0</td>\n      <td>0</td>\n      <td>21</td>\n      <td>0</td>\n      <td>0</td>\n      <td>0</td>\n      <td>0</td>\n    </tr>\n    <tr>\n      <th>5948210</th>\n      <td>20221231</td>\n      <td>부산70자1894</td>\n      <td>176</td>\n      <td>3095705</td>\n      <td>22123121034100</td>\n      <td>0</td>\n      <td>0</td>\n      <td>0</td>\n      <td>129.158597</td>\n      <td>35.235956</td>\n      <td>...</td>\n      <td>-0.9</td>\n      <td>0</td>\n      <td>0</td>\n      <td>0</td>\n      <td>0</td>\n      <td>21</td>\n      <td>0</td>\n      <td>0</td>\n      <td>0</td>\n      <td>0</td>\n    </tr>\n    <tr>\n      <th>5948211</th>\n      <td>20221231</td>\n      <td>부산70자1894</td>\n      <td>176</td>\n      <td>3095705</td>\n      <td>22123121034200</td>\n      <td>0</td>\n      <td>0</td>\n      <td>0</td>\n      <td>129.158597</td>\n      <td>35.235956</td>\n      <td>...</td>\n      <td>-0.9</td>\n      <td>0</td>\n      <td>0</td>\n      <td>0</td>\n      <td>0</td>\n      <td>21</td>\n      <td>0</td>\n      <td>0</td>\n      <td>0</td>\n      <td>0</td>\n    </tr>\n  </tbody>\n</table>\n<p>5948212 rows × 22 columns</p>\n</div>"
     },
     "execution_count": 19,
     "metadata": {},
     "output_type": "execute_result"
    }
   ],
   "source": [
    "df"
   ],
   "metadata": {
    "collapsed": false,
    "ExecuteTime": {
     "end_time": "2023-05-21T10:52:09.286706600Z",
     "start_time": "2023-05-21T10:52:08.103945Z"
    }
   }
  },
  {
   "cell_type": "code",
   "execution_count": 20,
   "outputs": [
    {
     "data": {
      "text/plain": "60"
     },
     "execution_count": 20,
     "metadata": {},
     "output_type": "execute_result"
    }
   ],
   "source": [
    "df['가속도'].max()"
   ],
   "metadata": {
    "collapsed": false,
    "ExecuteTime": {
     "end_time": "2023-05-21T10:52:53.731948600Z",
     "start_time": "2023-05-21T10:52:53.700688700Z"
    }
   }
  },
  {
   "cell_type": "code",
   "execution_count": 21,
   "outputs": [],
   "source": [
    "df['가속도분류'] = df['가속도'].apply(lambda x: x // 10)"
   ],
   "metadata": {
    "collapsed": false,
    "ExecuteTime": {
     "end_time": "2023-05-21T10:53:41.166395100Z",
     "start_time": "2023-05-21T10:53:39.880746700Z"
    }
   }
  },
  {
   "cell_type": "code",
   "execution_count": 22,
   "outputs": [
    {
     "data": {
      "text/plain": "               날짜        번호판  일일주행거리   누적주행거리          정보발생일시  차량속도  RPM   \n0        20221201  부산70자1854       0    66443  22120105071500     0  193  \\\n1        20221201  부산70자1854       0    66443  22120105071600     0  388   \n2        20221201  부산70자1854       0    66443  22120105071700     0  777   \n3        20221201  부산70자1854       0    66443  22120105071800     0  638   \n4        20221201  부산70자1854       0    66443  22120105071900     0  461   \n...           ...        ...     ...      ...             ...   ...  ...   \n5948207  20221231  부산70자1894     176  3095705  22123121033800     0  331   \n5948208  20221231  부산70자1894     176  3095705  22123121033900     0   59   \n5948209  20221231  부산70자1894     176  3095705  22123121034000     0    0   \n5948210  20221231  부산70자1894     176  3095705  22123121034100     0    0   \n5948211  20221231  부산70자1894     176  3095705  22123121034200     0    0   \n\n         브레이크       GPS_X      GPS_Y  ...  급가속  급출발  급감속  급정지  시각  가속도   \n0           0  129.158670  35.236021  ...    0    0    0    0  05    0  \\\n1           0  129.158670  35.236021  ...    0    0    0    0  05    0   \n2           0  129.158670  35.236021  ...    0    0    0    0  05    0   \n3           0  129.158670  35.236021  ...    0    0    0    0  05    0   \n4           0  129.158670  35.236021  ...    0    0    0    0  05    0   \n...       ...         ...        ...  ...  ...  ...  ...  ...  ..  ...   \n5948207     0  129.158597  35.235956  ...    0    0    0    0  21    0   \n5948208     0  129.158597  35.235956  ...    0    0    0    0  21    0   \n5948209     0  129.158597  35.235956  ...    0    0    0    0  21    0   \n5948210     0  129.158597  35.235956  ...    0    0    0    0  21    0   \n5948211     0  129.158597  35.235956  ...    0    0    0    0  21    0   \n\n         위험운전분류 차량속도분류  RPM분류  가속도분류  \n0             0      0      0      0  \n1             0      0      0      0  \n2             0      0      1      0  \n3             0      0      1      0  \n4             0      0      0      0  \n...         ...    ...    ...    ...  \n5948207       0      0      0      0  \n5948208       0      0      0      0  \n5948209       0      0      0      0  \n5948210       0      0      0      0  \n5948211       0      0      0      0  \n\n[5948212 rows x 23 columns]",
      "text/html": "<div>\n<style scoped>\n    .dataframe tbody tr th:only-of-type {\n        vertical-align: middle;\n    }\n\n    .dataframe tbody tr th {\n        vertical-align: top;\n    }\n\n    .dataframe thead th {\n        text-align: right;\n    }\n</style>\n<table border=\"1\" class=\"dataframe\">\n  <thead>\n    <tr style=\"text-align: right;\">\n      <th></th>\n      <th>날짜</th>\n      <th>번호판</th>\n      <th>일일주행거리</th>\n      <th>누적주행거리</th>\n      <th>정보발생일시</th>\n      <th>차량속도</th>\n      <th>RPM</th>\n      <th>브레이크</th>\n      <th>GPS_X</th>\n      <th>GPS_Y</th>\n      <th>...</th>\n      <th>급가속</th>\n      <th>급출발</th>\n      <th>급감속</th>\n      <th>급정지</th>\n      <th>시각</th>\n      <th>가속도</th>\n      <th>위험운전분류</th>\n      <th>차량속도분류</th>\n      <th>RPM분류</th>\n      <th>가속도분류</th>\n    </tr>\n  </thead>\n  <tbody>\n    <tr>\n      <th>0</th>\n      <td>20221201</td>\n      <td>부산70자1854</td>\n      <td>0</td>\n      <td>66443</td>\n      <td>22120105071500</td>\n      <td>0</td>\n      <td>193</td>\n      <td>0</td>\n      <td>129.158670</td>\n      <td>35.236021</td>\n      <td>...</td>\n      <td>0</td>\n      <td>0</td>\n      <td>0</td>\n      <td>0</td>\n      <td>05</td>\n      <td>0</td>\n      <td>0</td>\n      <td>0</td>\n      <td>0</td>\n      <td>0</td>\n    </tr>\n    <tr>\n      <th>1</th>\n      <td>20221201</td>\n      <td>부산70자1854</td>\n      <td>0</td>\n      <td>66443</td>\n      <td>22120105071600</td>\n      <td>0</td>\n      <td>388</td>\n      <td>0</td>\n      <td>129.158670</td>\n      <td>35.236021</td>\n      <td>...</td>\n      <td>0</td>\n      <td>0</td>\n      <td>0</td>\n      <td>0</td>\n      <td>05</td>\n      <td>0</td>\n      <td>0</td>\n      <td>0</td>\n      <td>0</td>\n      <td>0</td>\n    </tr>\n    <tr>\n      <th>2</th>\n      <td>20221201</td>\n      <td>부산70자1854</td>\n      <td>0</td>\n      <td>66443</td>\n      <td>22120105071700</td>\n      <td>0</td>\n      <td>777</td>\n      <td>0</td>\n      <td>129.158670</td>\n      <td>35.236021</td>\n      <td>...</td>\n      <td>0</td>\n      <td>0</td>\n      <td>0</td>\n      <td>0</td>\n      <td>05</td>\n      <td>0</td>\n      <td>0</td>\n      <td>0</td>\n      <td>1</td>\n      <td>0</td>\n    </tr>\n    <tr>\n      <th>3</th>\n      <td>20221201</td>\n      <td>부산70자1854</td>\n      <td>0</td>\n      <td>66443</td>\n      <td>22120105071800</td>\n      <td>0</td>\n      <td>638</td>\n      <td>0</td>\n      <td>129.158670</td>\n      <td>35.236021</td>\n      <td>...</td>\n      <td>0</td>\n      <td>0</td>\n      <td>0</td>\n      <td>0</td>\n      <td>05</td>\n      <td>0</td>\n      <td>0</td>\n      <td>0</td>\n      <td>1</td>\n      <td>0</td>\n    </tr>\n    <tr>\n      <th>4</th>\n      <td>20221201</td>\n      <td>부산70자1854</td>\n      <td>0</td>\n      <td>66443</td>\n      <td>22120105071900</td>\n      <td>0</td>\n      <td>461</td>\n      <td>0</td>\n      <td>129.158670</td>\n      <td>35.236021</td>\n      <td>...</td>\n      <td>0</td>\n      <td>0</td>\n      <td>0</td>\n      <td>0</td>\n      <td>05</td>\n      <td>0</td>\n      <td>0</td>\n      <td>0</td>\n      <td>0</td>\n      <td>0</td>\n    </tr>\n    <tr>\n      <th>...</th>\n      <td>...</td>\n      <td>...</td>\n      <td>...</td>\n      <td>...</td>\n      <td>...</td>\n      <td>...</td>\n      <td>...</td>\n      <td>...</td>\n      <td>...</td>\n      <td>...</td>\n      <td>...</td>\n      <td>...</td>\n      <td>...</td>\n      <td>...</td>\n      <td>...</td>\n      <td>...</td>\n      <td>...</td>\n      <td>...</td>\n      <td>...</td>\n      <td>...</td>\n      <td>...</td>\n    </tr>\n    <tr>\n      <th>5948207</th>\n      <td>20221231</td>\n      <td>부산70자1894</td>\n      <td>176</td>\n      <td>3095705</td>\n      <td>22123121033800</td>\n      <td>0</td>\n      <td>331</td>\n      <td>0</td>\n      <td>129.158597</td>\n      <td>35.235956</td>\n      <td>...</td>\n      <td>0</td>\n      <td>0</td>\n      <td>0</td>\n      <td>0</td>\n      <td>21</td>\n      <td>0</td>\n      <td>0</td>\n      <td>0</td>\n      <td>0</td>\n      <td>0</td>\n    </tr>\n    <tr>\n      <th>5948208</th>\n      <td>20221231</td>\n      <td>부산70자1894</td>\n      <td>176</td>\n      <td>3095705</td>\n      <td>22123121033900</td>\n      <td>0</td>\n      <td>59</td>\n      <td>0</td>\n      <td>129.158597</td>\n      <td>35.235956</td>\n      <td>...</td>\n      <td>0</td>\n      <td>0</td>\n      <td>0</td>\n      <td>0</td>\n      <td>21</td>\n      <td>0</td>\n      <td>0</td>\n      <td>0</td>\n      <td>0</td>\n      <td>0</td>\n    </tr>\n    <tr>\n      <th>5948209</th>\n      <td>20221231</td>\n      <td>부산70자1894</td>\n      <td>176</td>\n      <td>3095705</td>\n      <td>22123121034000</td>\n      <td>0</td>\n      <td>0</td>\n      <td>0</td>\n      <td>129.158597</td>\n      <td>35.235956</td>\n      <td>...</td>\n      <td>0</td>\n      <td>0</td>\n      <td>0</td>\n      <td>0</td>\n      <td>21</td>\n      <td>0</td>\n      <td>0</td>\n      <td>0</td>\n      <td>0</td>\n      <td>0</td>\n    </tr>\n    <tr>\n      <th>5948210</th>\n      <td>20221231</td>\n      <td>부산70자1894</td>\n      <td>176</td>\n      <td>3095705</td>\n      <td>22123121034100</td>\n      <td>0</td>\n      <td>0</td>\n      <td>0</td>\n      <td>129.158597</td>\n      <td>35.235956</td>\n      <td>...</td>\n      <td>0</td>\n      <td>0</td>\n      <td>0</td>\n      <td>0</td>\n      <td>21</td>\n      <td>0</td>\n      <td>0</td>\n      <td>0</td>\n      <td>0</td>\n      <td>0</td>\n    </tr>\n    <tr>\n      <th>5948211</th>\n      <td>20221231</td>\n      <td>부산70자1894</td>\n      <td>176</td>\n      <td>3095705</td>\n      <td>22123121034200</td>\n      <td>0</td>\n      <td>0</td>\n      <td>0</td>\n      <td>129.158597</td>\n      <td>35.235956</td>\n      <td>...</td>\n      <td>0</td>\n      <td>0</td>\n      <td>0</td>\n      <td>0</td>\n      <td>21</td>\n      <td>0</td>\n      <td>0</td>\n      <td>0</td>\n      <td>0</td>\n      <td>0</td>\n    </tr>\n  </tbody>\n</table>\n<p>5948212 rows × 23 columns</p>\n</div>"
     },
     "execution_count": 22,
     "metadata": {},
     "output_type": "execute_result"
    }
   ],
   "source": [
    "df"
   ],
   "metadata": {
    "collapsed": false,
    "ExecuteTime": {
     "end_time": "2023-05-21T10:53:48.978349800Z",
     "start_time": "2023-05-21T10:53:48.034906100Z"
    }
   }
  },
  {
   "cell_type": "code",
   "execution_count": 24,
   "outputs": [
    {
     "data": {
      "text/plain": "               날짜        번호판  일일주행거리  차량속도  RPM  브레이크       GPS_X      GPS_Y   \n0        20221201  부산70자1854       0     0  193     0  129.158670  35.236021  \\\n1        20221201  부산70자1854       0     0  388     0  129.158670  35.236021   \n2        20221201  부산70자1854       0     0  777     0  129.158670  35.236021   \n3        20221201  부산70자1854       0     0  638     0  129.158670  35.236021   \n4        20221201  부산70자1854       0     0  461     0  129.158670  35.236021   \n...           ...        ...     ...   ...  ...   ...         ...        ...   \n5948207  20221231  부산70자1894     176     0  331     0  129.158597  35.235956   \n5948208  20221231  부산70자1894     176     0   59     0  129.158597  35.235956   \n5948209  20221231  부산70자1894     176     0    0     0  129.158597  35.235956   \n5948210  20221231  부산70자1894     176     0    0     0  129.158597  35.235956   \n5948211  20221231  부산70자1894     176     0    0     0  129.158597  35.235956   \n\n         방위각  시각  가속도  위험운전분류  차량속도분류  RPM분류  가속도분류  \n0          0  05    0       0       0      0      0  \n1          0  05    0       0       0      0      0  \n2          0  05    0       0       0      1      0  \n3          0  05    0       0       0      1      0  \n4          0  05    0       0       0      0      0  \n...      ...  ..  ...     ...     ...    ...    ...  \n5948207   66  21    0       0       0      0      0  \n5948208   66  21    0       0       0      0      0  \n5948209   66  21    0       0       0      0      0  \n5948210   66  21    0       0       0      0      0  \n5948211   66  21    0       0       0      0      0  \n\n[5948212 rows x 15 columns]",
      "text/html": "<div>\n<style scoped>\n    .dataframe tbody tr th:only-of-type {\n        vertical-align: middle;\n    }\n\n    .dataframe tbody tr th {\n        vertical-align: top;\n    }\n\n    .dataframe thead th {\n        text-align: right;\n    }\n</style>\n<table border=\"1\" class=\"dataframe\">\n  <thead>\n    <tr style=\"text-align: right;\">\n      <th></th>\n      <th>날짜</th>\n      <th>번호판</th>\n      <th>일일주행거리</th>\n      <th>차량속도</th>\n      <th>RPM</th>\n      <th>브레이크</th>\n      <th>GPS_X</th>\n      <th>GPS_Y</th>\n      <th>방위각</th>\n      <th>시각</th>\n      <th>가속도</th>\n      <th>위험운전분류</th>\n      <th>차량속도분류</th>\n      <th>RPM분류</th>\n      <th>가속도분류</th>\n    </tr>\n  </thead>\n  <tbody>\n    <tr>\n      <th>0</th>\n      <td>20221201</td>\n      <td>부산70자1854</td>\n      <td>0</td>\n      <td>0</td>\n      <td>193</td>\n      <td>0</td>\n      <td>129.158670</td>\n      <td>35.236021</td>\n      <td>0</td>\n      <td>05</td>\n      <td>0</td>\n      <td>0</td>\n      <td>0</td>\n      <td>0</td>\n      <td>0</td>\n    </tr>\n    <tr>\n      <th>1</th>\n      <td>20221201</td>\n      <td>부산70자1854</td>\n      <td>0</td>\n      <td>0</td>\n      <td>388</td>\n      <td>0</td>\n      <td>129.158670</td>\n      <td>35.236021</td>\n      <td>0</td>\n      <td>05</td>\n      <td>0</td>\n      <td>0</td>\n      <td>0</td>\n      <td>0</td>\n      <td>0</td>\n    </tr>\n    <tr>\n      <th>2</th>\n      <td>20221201</td>\n      <td>부산70자1854</td>\n      <td>0</td>\n      <td>0</td>\n      <td>777</td>\n      <td>0</td>\n      <td>129.158670</td>\n      <td>35.236021</td>\n      <td>0</td>\n      <td>05</td>\n      <td>0</td>\n      <td>0</td>\n      <td>0</td>\n      <td>1</td>\n      <td>0</td>\n    </tr>\n    <tr>\n      <th>3</th>\n      <td>20221201</td>\n      <td>부산70자1854</td>\n      <td>0</td>\n      <td>0</td>\n      <td>638</td>\n      <td>0</td>\n      <td>129.158670</td>\n      <td>35.236021</td>\n      <td>0</td>\n      <td>05</td>\n      <td>0</td>\n      <td>0</td>\n      <td>0</td>\n      <td>1</td>\n      <td>0</td>\n    </tr>\n    <tr>\n      <th>4</th>\n      <td>20221201</td>\n      <td>부산70자1854</td>\n      <td>0</td>\n      <td>0</td>\n      <td>461</td>\n      <td>0</td>\n      <td>129.158670</td>\n      <td>35.236021</td>\n      <td>0</td>\n      <td>05</td>\n      <td>0</td>\n      <td>0</td>\n      <td>0</td>\n      <td>0</td>\n      <td>0</td>\n    </tr>\n    <tr>\n      <th>...</th>\n      <td>...</td>\n      <td>...</td>\n      <td>...</td>\n      <td>...</td>\n      <td>...</td>\n      <td>...</td>\n      <td>...</td>\n      <td>...</td>\n      <td>...</td>\n      <td>...</td>\n      <td>...</td>\n      <td>...</td>\n      <td>...</td>\n      <td>...</td>\n      <td>...</td>\n    </tr>\n    <tr>\n      <th>5948207</th>\n      <td>20221231</td>\n      <td>부산70자1894</td>\n      <td>176</td>\n      <td>0</td>\n      <td>331</td>\n      <td>0</td>\n      <td>129.158597</td>\n      <td>35.235956</td>\n      <td>66</td>\n      <td>21</td>\n      <td>0</td>\n      <td>0</td>\n      <td>0</td>\n      <td>0</td>\n      <td>0</td>\n    </tr>\n    <tr>\n      <th>5948208</th>\n      <td>20221231</td>\n      <td>부산70자1894</td>\n      <td>176</td>\n      <td>0</td>\n      <td>59</td>\n      <td>0</td>\n      <td>129.158597</td>\n      <td>35.235956</td>\n      <td>66</td>\n      <td>21</td>\n      <td>0</td>\n      <td>0</td>\n      <td>0</td>\n      <td>0</td>\n      <td>0</td>\n    </tr>\n    <tr>\n      <th>5948209</th>\n      <td>20221231</td>\n      <td>부산70자1894</td>\n      <td>176</td>\n      <td>0</td>\n      <td>0</td>\n      <td>0</td>\n      <td>129.158597</td>\n      <td>35.235956</td>\n      <td>66</td>\n      <td>21</td>\n      <td>0</td>\n      <td>0</td>\n      <td>0</td>\n      <td>0</td>\n      <td>0</td>\n    </tr>\n    <tr>\n      <th>5948210</th>\n      <td>20221231</td>\n      <td>부산70자1894</td>\n      <td>176</td>\n      <td>0</td>\n      <td>0</td>\n      <td>0</td>\n      <td>129.158597</td>\n      <td>35.235956</td>\n      <td>66</td>\n      <td>21</td>\n      <td>0</td>\n      <td>0</td>\n      <td>0</td>\n      <td>0</td>\n      <td>0</td>\n    </tr>\n    <tr>\n      <th>5948211</th>\n      <td>20221231</td>\n      <td>부산70자1894</td>\n      <td>176</td>\n      <td>0</td>\n      <td>0</td>\n      <td>0</td>\n      <td>129.158597</td>\n      <td>35.235956</td>\n      <td>66</td>\n      <td>21</td>\n      <td>0</td>\n      <td>0</td>\n      <td>0</td>\n      <td>0</td>\n      <td>0</td>\n    </tr>\n  </tbody>\n</table>\n<p>5948212 rows × 15 columns</p>\n</div>"
     },
     "execution_count": 24,
     "metadata": {},
     "output_type": "execute_result"
    }
   ],
   "source": [
    "df.drop(['급가속', '급출발', '급감속', '급정지', '가속도_X', '가속도_Y', '누적주행거리', '정보발생일시'], axis=1)"
   ],
   "metadata": {
    "collapsed": false,
    "ExecuteTime": {
     "end_time": "2023-05-21T10:56:01.941128800Z",
     "start_time": "2023-05-21T10:56:01.702236700Z"
    }
   }
  },
  {
   "cell_type": "code",
   "execution_count": 25,
   "outputs": [
    {
     "data": {
      "text/plain": "221"
     },
     "execution_count": 25,
     "metadata": {},
     "output_type": "execute_result"
    }
   ],
   "source": [
    "df['일일주행거리'].max()"
   ],
   "metadata": {
    "collapsed": false,
    "ExecuteTime": {
     "end_time": "2023-05-21T10:56:13.508004300Z",
     "start_time": "2023-05-21T10:56:13.444737500Z"
    }
   }
  },
  {
   "cell_type": "code",
   "execution_count": 26,
   "outputs": [],
   "source": [
    "df['일일주행거리분류'] = df['일일주행거리'].apply(lambda x: x // 20)"
   ],
   "metadata": {
    "collapsed": false,
    "ExecuteTime": {
     "end_time": "2023-05-21T10:57:46.721594800Z",
     "start_time": "2023-05-21T10:57:45.212726300Z"
    }
   }
  },
  {
   "cell_type": "code",
   "execution_count": 27,
   "outputs": [],
   "source": [
    "df['방위각분류'] = df['방위각'].apply(lambda x: x // 10)"
   ],
   "metadata": {
    "collapsed": false,
    "ExecuteTime": {
     "end_time": "2023-05-21T10:58:26.097684700Z",
     "start_time": "2023-05-21T10:58:24.784893400Z"
    }
   }
  },
  {
   "cell_type": "code",
   "execution_count": 28,
   "outputs": [],
   "source": [
    "df['GPS_X분류'] = df['GPS_X'].apply(lambda x : str(x)[:-3])\n",
    "df['GPS_Y분류'] = df['GPS_Y'].apply(lambda x : str(x)[:-3])"
   ],
   "metadata": {
    "collapsed": false,
    "ExecuteTime": {
     "end_time": "2023-05-21T11:00:08.902987100Z",
     "start_time": "2023-05-21T11:00:03.006149300Z"
    }
   }
  },
  {
   "cell_type": "code",
   "execution_count": 29,
   "outputs": [
    {
     "data": {
      "text/plain": "               날짜        번호판  일일주행거리   누적주행거리          정보발생일시  차량속도  RPM   \n0        20221201  부산70자1854       0    66443  22120105071500     0  193  \\\n1        20221201  부산70자1854       0    66443  22120105071600     0  388   \n2        20221201  부산70자1854       0    66443  22120105071700     0  777   \n3        20221201  부산70자1854       0    66443  22120105071800     0  638   \n4        20221201  부산70자1854       0    66443  22120105071900     0  461   \n...           ...        ...     ...      ...             ...   ...  ...   \n5948207  20221231  부산70자1894     176  3095705  22123121033800     0  331   \n5948208  20221231  부산70자1894     176  3095705  22123121033900     0   59   \n5948209  20221231  부산70자1894     176  3095705  22123121034000     0    0   \n5948210  20221231  부산70자1894     176  3095705  22123121034100     0    0   \n5948211  20221231  부산70자1894     176  3095705  22123121034200     0    0   \n\n         브레이크       GPS_X      GPS_Y  ...  시각  가속도  위험운전분류  차량속도분류  RPM분류   \n0           0  129.158670  35.236021  ...  05    0       0       0      0  \\\n1           0  129.158670  35.236021  ...  05    0       0       0      0   \n2           0  129.158670  35.236021  ...  05    0       0       0      1   \n3           0  129.158670  35.236021  ...  05    0       0       0      1   \n4           0  129.158670  35.236021  ...  05    0       0       0      0   \n...       ...         ...        ...  ...  ..  ...     ...     ...    ...   \n5948207     0  129.158597  35.235956  ...  21    0       0       0      0   \n5948208     0  129.158597  35.235956  ...  21    0       0       0      0   \n5948209     0  129.158597  35.235956  ...  21    0       0       0      0   \n5948210     0  129.158597  35.235956  ...  21    0       0       0      0   \n5948211     0  129.158597  35.235956  ...  21    0       0       0      0   \n\n         가속도분류  일일주행거리분류 방위각분류  GPS_X분류  GPS_Y분류  \n0            0         0     0   129.15   35.236  \n1            0         0     0   129.15   35.236  \n2            0         0     0   129.15   35.236  \n3            0         0     0   129.15   35.236  \n4            0         0     0   129.15   35.236  \n...        ...       ...   ...      ...      ...  \n5948207      0         8     6  129.158   35.235  \n5948208      0         8     6  129.158   35.235  \n5948209      0         8     6  129.158   35.235  \n5948210      0         8     6  129.158   35.235  \n5948211      0         8     6  129.158   35.235  \n\n[5948212 rows x 27 columns]",
      "text/html": "<div>\n<style scoped>\n    .dataframe tbody tr th:only-of-type {\n        vertical-align: middle;\n    }\n\n    .dataframe tbody tr th {\n        vertical-align: top;\n    }\n\n    .dataframe thead th {\n        text-align: right;\n    }\n</style>\n<table border=\"1\" class=\"dataframe\">\n  <thead>\n    <tr style=\"text-align: right;\">\n      <th></th>\n      <th>날짜</th>\n      <th>번호판</th>\n      <th>일일주행거리</th>\n      <th>누적주행거리</th>\n      <th>정보발생일시</th>\n      <th>차량속도</th>\n      <th>RPM</th>\n      <th>브레이크</th>\n      <th>GPS_X</th>\n      <th>GPS_Y</th>\n      <th>...</th>\n      <th>시각</th>\n      <th>가속도</th>\n      <th>위험운전분류</th>\n      <th>차량속도분류</th>\n      <th>RPM분류</th>\n      <th>가속도분류</th>\n      <th>일일주행거리분류</th>\n      <th>방위각분류</th>\n      <th>GPS_X분류</th>\n      <th>GPS_Y분류</th>\n    </tr>\n  </thead>\n  <tbody>\n    <tr>\n      <th>0</th>\n      <td>20221201</td>\n      <td>부산70자1854</td>\n      <td>0</td>\n      <td>66443</td>\n      <td>22120105071500</td>\n      <td>0</td>\n      <td>193</td>\n      <td>0</td>\n      <td>129.158670</td>\n      <td>35.236021</td>\n      <td>...</td>\n      <td>05</td>\n      <td>0</td>\n      <td>0</td>\n      <td>0</td>\n      <td>0</td>\n      <td>0</td>\n      <td>0</td>\n      <td>0</td>\n      <td>129.15</td>\n      <td>35.236</td>\n    </tr>\n    <tr>\n      <th>1</th>\n      <td>20221201</td>\n      <td>부산70자1854</td>\n      <td>0</td>\n      <td>66443</td>\n      <td>22120105071600</td>\n      <td>0</td>\n      <td>388</td>\n      <td>0</td>\n      <td>129.158670</td>\n      <td>35.236021</td>\n      <td>...</td>\n      <td>05</td>\n      <td>0</td>\n      <td>0</td>\n      <td>0</td>\n      <td>0</td>\n      <td>0</td>\n      <td>0</td>\n      <td>0</td>\n      <td>129.15</td>\n      <td>35.236</td>\n    </tr>\n    <tr>\n      <th>2</th>\n      <td>20221201</td>\n      <td>부산70자1854</td>\n      <td>0</td>\n      <td>66443</td>\n      <td>22120105071700</td>\n      <td>0</td>\n      <td>777</td>\n      <td>0</td>\n      <td>129.158670</td>\n      <td>35.236021</td>\n      <td>...</td>\n      <td>05</td>\n      <td>0</td>\n      <td>0</td>\n      <td>0</td>\n      <td>1</td>\n      <td>0</td>\n      <td>0</td>\n      <td>0</td>\n      <td>129.15</td>\n      <td>35.236</td>\n    </tr>\n    <tr>\n      <th>3</th>\n      <td>20221201</td>\n      <td>부산70자1854</td>\n      <td>0</td>\n      <td>66443</td>\n      <td>22120105071800</td>\n      <td>0</td>\n      <td>638</td>\n      <td>0</td>\n      <td>129.158670</td>\n      <td>35.236021</td>\n      <td>...</td>\n      <td>05</td>\n      <td>0</td>\n      <td>0</td>\n      <td>0</td>\n      <td>1</td>\n      <td>0</td>\n      <td>0</td>\n      <td>0</td>\n      <td>129.15</td>\n      <td>35.236</td>\n    </tr>\n    <tr>\n      <th>4</th>\n      <td>20221201</td>\n      <td>부산70자1854</td>\n      <td>0</td>\n      <td>66443</td>\n      <td>22120105071900</td>\n      <td>0</td>\n      <td>461</td>\n      <td>0</td>\n      <td>129.158670</td>\n      <td>35.236021</td>\n      <td>...</td>\n      <td>05</td>\n      <td>0</td>\n      <td>0</td>\n      <td>0</td>\n      <td>0</td>\n      <td>0</td>\n      <td>0</td>\n      <td>0</td>\n      <td>129.15</td>\n      <td>35.236</td>\n    </tr>\n    <tr>\n      <th>...</th>\n      <td>...</td>\n      <td>...</td>\n      <td>...</td>\n      <td>...</td>\n      <td>...</td>\n      <td>...</td>\n      <td>...</td>\n      <td>...</td>\n      <td>...</td>\n      <td>...</td>\n      <td>...</td>\n      <td>...</td>\n      <td>...</td>\n      <td>...</td>\n      <td>...</td>\n      <td>...</td>\n      <td>...</td>\n      <td>...</td>\n      <td>...</td>\n      <td>...</td>\n      <td>...</td>\n    </tr>\n    <tr>\n      <th>5948207</th>\n      <td>20221231</td>\n      <td>부산70자1894</td>\n      <td>176</td>\n      <td>3095705</td>\n      <td>22123121033800</td>\n      <td>0</td>\n      <td>331</td>\n      <td>0</td>\n      <td>129.158597</td>\n      <td>35.235956</td>\n      <td>...</td>\n      <td>21</td>\n      <td>0</td>\n      <td>0</td>\n      <td>0</td>\n      <td>0</td>\n      <td>0</td>\n      <td>8</td>\n      <td>6</td>\n      <td>129.158</td>\n      <td>35.235</td>\n    </tr>\n    <tr>\n      <th>5948208</th>\n      <td>20221231</td>\n      <td>부산70자1894</td>\n      <td>176</td>\n      <td>3095705</td>\n      <td>22123121033900</td>\n      <td>0</td>\n      <td>59</td>\n      <td>0</td>\n      <td>129.158597</td>\n      <td>35.235956</td>\n      <td>...</td>\n      <td>21</td>\n      <td>0</td>\n      <td>0</td>\n      <td>0</td>\n      <td>0</td>\n      <td>0</td>\n      <td>8</td>\n      <td>6</td>\n      <td>129.158</td>\n      <td>35.235</td>\n    </tr>\n    <tr>\n      <th>5948209</th>\n      <td>20221231</td>\n      <td>부산70자1894</td>\n      <td>176</td>\n      <td>3095705</td>\n      <td>22123121034000</td>\n      <td>0</td>\n      <td>0</td>\n      <td>0</td>\n      <td>129.158597</td>\n      <td>35.235956</td>\n      <td>...</td>\n      <td>21</td>\n      <td>0</td>\n      <td>0</td>\n      <td>0</td>\n      <td>0</td>\n      <td>0</td>\n      <td>8</td>\n      <td>6</td>\n      <td>129.158</td>\n      <td>35.235</td>\n    </tr>\n    <tr>\n      <th>5948210</th>\n      <td>20221231</td>\n      <td>부산70자1894</td>\n      <td>176</td>\n      <td>3095705</td>\n      <td>22123121034100</td>\n      <td>0</td>\n      <td>0</td>\n      <td>0</td>\n      <td>129.158597</td>\n      <td>35.235956</td>\n      <td>...</td>\n      <td>21</td>\n      <td>0</td>\n      <td>0</td>\n      <td>0</td>\n      <td>0</td>\n      <td>0</td>\n      <td>8</td>\n      <td>6</td>\n      <td>129.158</td>\n      <td>35.235</td>\n    </tr>\n    <tr>\n      <th>5948211</th>\n      <td>20221231</td>\n      <td>부산70자1894</td>\n      <td>176</td>\n      <td>3095705</td>\n      <td>22123121034200</td>\n      <td>0</td>\n      <td>0</td>\n      <td>0</td>\n      <td>129.158597</td>\n      <td>35.235956</td>\n      <td>...</td>\n      <td>21</td>\n      <td>0</td>\n      <td>0</td>\n      <td>0</td>\n      <td>0</td>\n      <td>0</td>\n      <td>8</td>\n      <td>6</td>\n      <td>129.158</td>\n      <td>35.235</td>\n    </tr>\n  </tbody>\n</table>\n<p>5948212 rows × 27 columns</p>\n</div>"
     },
     "execution_count": 29,
     "metadata": {},
     "output_type": "execute_result"
    }
   ],
   "source": [
    "df"
   ],
   "metadata": {
    "collapsed": false,
    "ExecuteTime": {
     "end_time": "2023-05-21T11:00:11.904636300Z",
     "start_time": "2023-05-21T11:00:09.886681200Z"
    }
   }
  },
  {
   "cell_type": "code",
   "execution_count": 30,
   "outputs": [
    {
     "data": {
      "text/plain": "               날짜        번호판  일일주행거리  차량속도  RPM  브레이크       GPS_X      GPS_Y   \n0        20221201  부산70자1854       0     0  193     0  129.158670  35.236021  \\\n1        20221201  부산70자1854       0     0  388     0  129.158670  35.236021   \n2        20221201  부산70자1854       0     0  777     0  129.158670  35.236021   \n3        20221201  부산70자1854       0     0  638     0  129.158670  35.236021   \n4        20221201  부산70자1854       0     0  461     0  129.158670  35.236021   \n...           ...        ...     ...   ...  ...   ...         ...        ...   \n5948207  20221231  부산70자1894     176     0  331     0  129.158597  35.235956   \n5948208  20221231  부산70자1894     176     0   59     0  129.158597  35.235956   \n5948209  20221231  부산70자1894     176     0    0     0  129.158597  35.235956   \n5948210  20221231  부산70자1894     176     0    0     0  129.158597  35.235956   \n5948211  20221231  부산70자1894     176     0    0     0  129.158597  35.235956   \n\n         방위각  시각  가속도  위험운전분류  차량속도분류  RPM분류  가속도분류  일일주행거리분류  방위각분류  GPS_X분류   \n0          0  05    0       0       0      0      0         0      0   129.15  \\\n1          0  05    0       0       0      0      0         0      0   129.15   \n2          0  05    0       0       0      1      0         0      0   129.15   \n3          0  05    0       0       0      1      0         0      0   129.15   \n4          0  05    0       0       0      0      0         0      0   129.15   \n...      ...  ..  ...     ...     ...    ...    ...       ...    ...      ...   \n5948207   66  21    0       0       0      0      0         8      6  129.158   \n5948208   66  21    0       0       0      0      0         8      6  129.158   \n5948209   66  21    0       0       0      0      0         8      6  129.158   \n5948210   66  21    0       0       0      0      0         8      6  129.158   \n5948211   66  21    0       0       0      0      0         8      6  129.158   \n\n        GPS_Y분류  \n0        35.236  \n1        35.236  \n2        35.236  \n3        35.236  \n4        35.236  \n...         ...  \n5948207  35.235  \n5948208  35.235  \n5948209  35.235  \n5948210  35.235  \n5948211  35.235  \n\n[5948212 rows x 19 columns]",
      "text/html": "<div>\n<style scoped>\n    .dataframe tbody tr th:only-of-type {\n        vertical-align: middle;\n    }\n\n    .dataframe tbody tr th {\n        vertical-align: top;\n    }\n\n    .dataframe thead th {\n        text-align: right;\n    }\n</style>\n<table border=\"1\" class=\"dataframe\">\n  <thead>\n    <tr style=\"text-align: right;\">\n      <th></th>\n      <th>날짜</th>\n      <th>번호판</th>\n      <th>일일주행거리</th>\n      <th>차량속도</th>\n      <th>RPM</th>\n      <th>브레이크</th>\n      <th>GPS_X</th>\n      <th>GPS_Y</th>\n      <th>방위각</th>\n      <th>시각</th>\n      <th>가속도</th>\n      <th>위험운전분류</th>\n      <th>차량속도분류</th>\n      <th>RPM분류</th>\n      <th>가속도분류</th>\n      <th>일일주행거리분류</th>\n      <th>방위각분류</th>\n      <th>GPS_X분류</th>\n      <th>GPS_Y분류</th>\n    </tr>\n  </thead>\n  <tbody>\n    <tr>\n      <th>0</th>\n      <td>20221201</td>\n      <td>부산70자1854</td>\n      <td>0</td>\n      <td>0</td>\n      <td>193</td>\n      <td>0</td>\n      <td>129.158670</td>\n      <td>35.236021</td>\n      <td>0</td>\n      <td>05</td>\n      <td>0</td>\n      <td>0</td>\n      <td>0</td>\n      <td>0</td>\n      <td>0</td>\n      <td>0</td>\n      <td>0</td>\n      <td>129.15</td>\n      <td>35.236</td>\n    </tr>\n    <tr>\n      <th>1</th>\n      <td>20221201</td>\n      <td>부산70자1854</td>\n      <td>0</td>\n      <td>0</td>\n      <td>388</td>\n      <td>0</td>\n      <td>129.158670</td>\n      <td>35.236021</td>\n      <td>0</td>\n      <td>05</td>\n      <td>0</td>\n      <td>0</td>\n      <td>0</td>\n      <td>0</td>\n      <td>0</td>\n      <td>0</td>\n      <td>0</td>\n      <td>129.15</td>\n      <td>35.236</td>\n    </tr>\n    <tr>\n      <th>2</th>\n      <td>20221201</td>\n      <td>부산70자1854</td>\n      <td>0</td>\n      <td>0</td>\n      <td>777</td>\n      <td>0</td>\n      <td>129.158670</td>\n      <td>35.236021</td>\n      <td>0</td>\n      <td>05</td>\n      <td>0</td>\n      <td>0</td>\n      <td>0</td>\n      <td>1</td>\n      <td>0</td>\n      <td>0</td>\n      <td>0</td>\n      <td>129.15</td>\n      <td>35.236</td>\n    </tr>\n    <tr>\n      <th>3</th>\n      <td>20221201</td>\n      <td>부산70자1854</td>\n      <td>0</td>\n      <td>0</td>\n      <td>638</td>\n      <td>0</td>\n      <td>129.158670</td>\n      <td>35.236021</td>\n      <td>0</td>\n      <td>05</td>\n      <td>0</td>\n      <td>0</td>\n      <td>0</td>\n      <td>1</td>\n      <td>0</td>\n      <td>0</td>\n      <td>0</td>\n      <td>129.15</td>\n      <td>35.236</td>\n    </tr>\n    <tr>\n      <th>4</th>\n      <td>20221201</td>\n      <td>부산70자1854</td>\n      <td>0</td>\n      <td>0</td>\n      <td>461</td>\n      <td>0</td>\n      <td>129.158670</td>\n      <td>35.236021</td>\n      <td>0</td>\n      <td>05</td>\n      <td>0</td>\n      <td>0</td>\n      <td>0</td>\n      <td>0</td>\n      <td>0</td>\n      <td>0</td>\n      <td>0</td>\n      <td>129.15</td>\n      <td>35.236</td>\n    </tr>\n    <tr>\n      <th>...</th>\n      <td>...</td>\n      <td>...</td>\n      <td>...</td>\n      <td>...</td>\n      <td>...</td>\n      <td>...</td>\n      <td>...</td>\n      <td>...</td>\n      <td>...</td>\n      <td>...</td>\n      <td>...</td>\n      <td>...</td>\n      <td>...</td>\n      <td>...</td>\n      <td>...</td>\n      <td>...</td>\n      <td>...</td>\n      <td>...</td>\n      <td>...</td>\n    </tr>\n    <tr>\n      <th>5948207</th>\n      <td>20221231</td>\n      <td>부산70자1894</td>\n      <td>176</td>\n      <td>0</td>\n      <td>331</td>\n      <td>0</td>\n      <td>129.158597</td>\n      <td>35.235956</td>\n      <td>66</td>\n      <td>21</td>\n      <td>0</td>\n      <td>0</td>\n      <td>0</td>\n      <td>0</td>\n      <td>0</td>\n      <td>8</td>\n      <td>6</td>\n      <td>129.158</td>\n      <td>35.235</td>\n    </tr>\n    <tr>\n      <th>5948208</th>\n      <td>20221231</td>\n      <td>부산70자1894</td>\n      <td>176</td>\n      <td>0</td>\n      <td>59</td>\n      <td>0</td>\n      <td>129.158597</td>\n      <td>35.235956</td>\n      <td>66</td>\n      <td>21</td>\n      <td>0</td>\n      <td>0</td>\n      <td>0</td>\n      <td>0</td>\n      <td>0</td>\n      <td>8</td>\n      <td>6</td>\n      <td>129.158</td>\n      <td>35.235</td>\n    </tr>\n    <tr>\n      <th>5948209</th>\n      <td>20221231</td>\n      <td>부산70자1894</td>\n      <td>176</td>\n      <td>0</td>\n      <td>0</td>\n      <td>0</td>\n      <td>129.158597</td>\n      <td>35.235956</td>\n      <td>66</td>\n      <td>21</td>\n      <td>0</td>\n      <td>0</td>\n      <td>0</td>\n      <td>0</td>\n      <td>0</td>\n      <td>8</td>\n      <td>6</td>\n      <td>129.158</td>\n      <td>35.235</td>\n    </tr>\n    <tr>\n      <th>5948210</th>\n      <td>20221231</td>\n      <td>부산70자1894</td>\n      <td>176</td>\n      <td>0</td>\n      <td>0</td>\n      <td>0</td>\n      <td>129.158597</td>\n      <td>35.235956</td>\n      <td>66</td>\n      <td>21</td>\n      <td>0</td>\n      <td>0</td>\n      <td>0</td>\n      <td>0</td>\n      <td>0</td>\n      <td>8</td>\n      <td>6</td>\n      <td>129.158</td>\n      <td>35.235</td>\n    </tr>\n    <tr>\n      <th>5948211</th>\n      <td>20221231</td>\n      <td>부산70자1894</td>\n      <td>176</td>\n      <td>0</td>\n      <td>0</td>\n      <td>0</td>\n      <td>129.158597</td>\n      <td>35.235956</td>\n      <td>66</td>\n      <td>21</td>\n      <td>0</td>\n      <td>0</td>\n      <td>0</td>\n      <td>0</td>\n      <td>0</td>\n      <td>8</td>\n      <td>6</td>\n      <td>129.158</td>\n      <td>35.235</td>\n    </tr>\n  </tbody>\n</table>\n<p>5948212 rows × 19 columns</p>\n</div>"
     },
     "execution_count": 30,
     "metadata": {},
     "output_type": "execute_result"
    }
   ],
   "source": [
    "df = df.drop(['급가속', '급출발', '급감속', '급정지', '가속도_X', '가속도_Y', '누적주행거리', '정보발생일시'], axis=1)\n",
    "df"
   ],
   "metadata": {
    "collapsed": false,
    "ExecuteTime": {
     "end_time": "2023-05-21T11:01:03.174391100Z",
     "start_time": "2023-05-21T11:01:02.859815Z"
    }
   }
  },
  {
   "cell_type": "code",
   "execution_count": 32,
   "outputs": [
    {
     "data": {
      "text/plain": "               날짜        번호판  일일주행거리  차량속도  RPM  브레이크  방위각  시각  가속도  위험운전분류   \n0        20221201  부산70자1854       0     0  193     0    0  05    0       0  \\\n1        20221201  부산70자1854       0     0  388     0    0  05    0       0   \n2        20221201  부산70자1854       0     0  777     0    0  05    0       0   \n3        20221201  부산70자1854       0     0  638     0    0  05    0       0   \n4        20221201  부산70자1854       0     0  461     0    0  05    0       0   \n...           ...        ...     ...   ...  ...   ...  ...  ..  ...     ...   \n5948207  20221231  부산70자1894     176     0  331     0   66  21    0       0   \n5948208  20221231  부산70자1894     176     0   59     0   66  21    0       0   \n5948209  20221231  부산70자1894     176     0    0     0   66  21    0       0   \n5948210  20221231  부산70자1894     176     0    0     0   66  21    0       0   \n5948211  20221231  부산70자1894     176     0    0     0   66  21    0       0   \n\n         차량속도분류  RPM분류  가속도분류  일일주행거리분류  방위각분류  GPS_X분류 GPS_Y분류  \n0             0      0      0         0      0   129.15  35.236  \n1             0      0      0         0      0   129.15  35.236  \n2             0      1      0         0      0   129.15  35.236  \n3             0      1      0         0      0   129.15  35.236  \n4             0      0      0         0      0   129.15  35.236  \n...         ...    ...    ...       ...    ...      ...     ...  \n5948207       0      0      0         8      6  129.158  35.235  \n5948208       0      0      0         8      6  129.158  35.235  \n5948209       0      0      0         8      6  129.158  35.235  \n5948210       0      0      0         8      6  129.158  35.235  \n5948211       0      0      0         8      6  129.158  35.235  \n\n[5948212 rows x 17 columns]",
      "text/html": "<div>\n<style scoped>\n    .dataframe tbody tr th:only-of-type {\n        vertical-align: middle;\n    }\n\n    .dataframe tbody tr th {\n        vertical-align: top;\n    }\n\n    .dataframe thead th {\n        text-align: right;\n    }\n</style>\n<table border=\"1\" class=\"dataframe\">\n  <thead>\n    <tr style=\"text-align: right;\">\n      <th></th>\n      <th>날짜</th>\n      <th>번호판</th>\n      <th>일일주행거리</th>\n      <th>차량속도</th>\n      <th>RPM</th>\n      <th>브레이크</th>\n      <th>방위각</th>\n      <th>시각</th>\n      <th>가속도</th>\n      <th>위험운전분류</th>\n      <th>차량속도분류</th>\n      <th>RPM분류</th>\n      <th>가속도분류</th>\n      <th>일일주행거리분류</th>\n      <th>방위각분류</th>\n      <th>GPS_X분류</th>\n      <th>GPS_Y분류</th>\n    </tr>\n  </thead>\n  <tbody>\n    <tr>\n      <th>0</th>\n      <td>20221201</td>\n      <td>부산70자1854</td>\n      <td>0</td>\n      <td>0</td>\n      <td>193</td>\n      <td>0</td>\n      <td>0</td>\n      <td>05</td>\n      <td>0</td>\n      <td>0</td>\n      <td>0</td>\n      <td>0</td>\n      <td>0</td>\n      <td>0</td>\n      <td>0</td>\n      <td>129.15</td>\n      <td>35.236</td>\n    </tr>\n    <tr>\n      <th>1</th>\n      <td>20221201</td>\n      <td>부산70자1854</td>\n      <td>0</td>\n      <td>0</td>\n      <td>388</td>\n      <td>0</td>\n      <td>0</td>\n      <td>05</td>\n      <td>0</td>\n      <td>0</td>\n      <td>0</td>\n      <td>0</td>\n      <td>0</td>\n      <td>0</td>\n      <td>0</td>\n      <td>129.15</td>\n      <td>35.236</td>\n    </tr>\n    <tr>\n      <th>2</th>\n      <td>20221201</td>\n      <td>부산70자1854</td>\n      <td>0</td>\n      <td>0</td>\n      <td>777</td>\n      <td>0</td>\n      <td>0</td>\n      <td>05</td>\n      <td>0</td>\n      <td>0</td>\n      <td>0</td>\n      <td>1</td>\n      <td>0</td>\n      <td>0</td>\n      <td>0</td>\n      <td>129.15</td>\n      <td>35.236</td>\n    </tr>\n    <tr>\n      <th>3</th>\n      <td>20221201</td>\n      <td>부산70자1854</td>\n      <td>0</td>\n      <td>0</td>\n      <td>638</td>\n      <td>0</td>\n      <td>0</td>\n      <td>05</td>\n      <td>0</td>\n      <td>0</td>\n      <td>0</td>\n      <td>1</td>\n      <td>0</td>\n      <td>0</td>\n      <td>0</td>\n      <td>129.15</td>\n      <td>35.236</td>\n    </tr>\n    <tr>\n      <th>4</th>\n      <td>20221201</td>\n      <td>부산70자1854</td>\n      <td>0</td>\n      <td>0</td>\n      <td>461</td>\n      <td>0</td>\n      <td>0</td>\n      <td>05</td>\n      <td>0</td>\n      <td>0</td>\n      <td>0</td>\n      <td>0</td>\n      <td>0</td>\n      <td>0</td>\n      <td>0</td>\n      <td>129.15</td>\n      <td>35.236</td>\n    </tr>\n    <tr>\n      <th>...</th>\n      <td>...</td>\n      <td>...</td>\n      <td>...</td>\n      <td>...</td>\n      <td>...</td>\n      <td>...</td>\n      <td>...</td>\n      <td>...</td>\n      <td>...</td>\n      <td>...</td>\n      <td>...</td>\n      <td>...</td>\n      <td>...</td>\n      <td>...</td>\n      <td>...</td>\n      <td>...</td>\n      <td>...</td>\n    </tr>\n    <tr>\n      <th>5948207</th>\n      <td>20221231</td>\n      <td>부산70자1894</td>\n      <td>176</td>\n      <td>0</td>\n      <td>331</td>\n      <td>0</td>\n      <td>66</td>\n      <td>21</td>\n      <td>0</td>\n      <td>0</td>\n      <td>0</td>\n      <td>0</td>\n      <td>0</td>\n      <td>8</td>\n      <td>6</td>\n      <td>129.158</td>\n      <td>35.235</td>\n    </tr>\n    <tr>\n      <th>5948208</th>\n      <td>20221231</td>\n      <td>부산70자1894</td>\n      <td>176</td>\n      <td>0</td>\n      <td>59</td>\n      <td>0</td>\n      <td>66</td>\n      <td>21</td>\n      <td>0</td>\n      <td>0</td>\n      <td>0</td>\n      <td>0</td>\n      <td>0</td>\n      <td>8</td>\n      <td>6</td>\n      <td>129.158</td>\n      <td>35.235</td>\n    </tr>\n    <tr>\n      <th>5948209</th>\n      <td>20221231</td>\n      <td>부산70자1894</td>\n      <td>176</td>\n      <td>0</td>\n      <td>0</td>\n      <td>0</td>\n      <td>66</td>\n      <td>21</td>\n      <td>0</td>\n      <td>0</td>\n      <td>0</td>\n      <td>0</td>\n      <td>0</td>\n      <td>8</td>\n      <td>6</td>\n      <td>129.158</td>\n      <td>35.235</td>\n    </tr>\n    <tr>\n      <th>5948210</th>\n      <td>20221231</td>\n      <td>부산70자1894</td>\n      <td>176</td>\n      <td>0</td>\n      <td>0</td>\n      <td>0</td>\n      <td>66</td>\n      <td>21</td>\n      <td>0</td>\n      <td>0</td>\n      <td>0</td>\n      <td>0</td>\n      <td>0</td>\n      <td>8</td>\n      <td>6</td>\n      <td>129.158</td>\n      <td>35.235</td>\n    </tr>\n    <tr>\n      <th>5948211</th>\n      <td>20221231</td>\n      <td>부산70자1894</td>\n      <td>176</td>\n      <td>0</td>\n      <td>0</td>\n      <td>0</td>\n      <td>66</td>\n      <td>21</td>\n      <td>0</td>\n      <td>0</td>\n      <td>0</td>\n      <td>0</td>\n      <td>0</td>\n      <td>8</td>\n      <td>6</td>\n      <td>129.158</td>\n      <td>35.235</td>\n    </tr>\n  </tbody>\n</table>\n<p>5948212 rows × 17 columns</p>\n</div>"
     },
     "execution_count": 32,
     "metadata": {},
     "output_type": "execute_result"
    }
   ],
   "source": [
    "df = df.drop(['GPS_X', 'GPS_Y'], axis=1)\n",
    "df"
   ],
   "metadata": {
    "collapsed": false,
    "ExecuteTime": {
     "end_time": "2023-05-21T11:01:39.748701400Z",
     "start_time": "2023-05-21T11:01:39.332405800Z"
    }
   }
  },
  {
   "cell_type": "code",
   "execution_count": 34,
   "outputs": [
    {
     "data": {
      "text/plain": "               날짜        번호판  브레이크  시각  위험운전분류  차량속도분류  RPM분류  가속도분류   \n0        20221201  부산70자1854     0  05       0       0      0      0  \\\n1        20221201  부산70자1854     0  05       0       0      0      0   \n2        20221201  부산70자1854     0  05       0       0      1      0   \n3        20221201  부산70자1854     0  05       0       0      1      0   \n4        20221201  부산70자1854     0  05       0       0      0      0   \n...           ...        ...   ...  ..     ...     ...    ...    ...   \n5948207  20221231  부산70자1894     0  21       0       0      0      0   \n5948208  20221231  부산70자1894     0  21       0       0      0      0   \n5948209  20221231  부산70자1894     0  21       0       0      0      0   \n5948210  20221231  부산70자1894     0  21       0       0      0      0   \n5948211  20221231  부산70자1894     0  21       0       0      0      0   \n\n         일일주행거리분류  방위각분류  GPS_X분류 GPS_Y분류  \n0               0      0   129.15  35.236  \n1               0      0   129.15  35.236  \n2               0      0   129.15  35.236  \n3               0      0   129.15  35.236  \n4               0      0   129.15  35.236  \n...           ...    ...      ...     ...  \n5948207         8      6  129.158  35.235  \n5948208         8      6  129.158  35.235  \n5948209         8      6  129.158  35.235  \n5948210         8      6  129.158  35.235  \n5948211         8      6  129.158  35.235  \n\n[5948212 rows x 12 columns]",
      "text/html": "<div>\n<style scoped>\n    .dataframe tbody tr th:only-of-type {\n        vertical-align: middle;\n    }\n\n    .dataframe tbody tr th {\n        vertical-align: top;\n    }\n\n    .dataframe thead th {\n        text-align: right;\n    }\n</style>\n<table border=\"1\" class=\"dataframe\">\n  <thead>\n    <tr style=\"text-align: right;\">\n      <th></th>\n      <th>날짜</th>\n      <th>번호판</th>\n      <th>브레이크</th>\n      <th>시각</th>\n      <th>위험운전분류</th>\n      <th>차량속도분류</th>\n      <th>RPM분류</th>\n      <th>가속도분류</th>\n      <th>일일주행거리분류</th>\n      <th>방위각분류</th>\n      <th>GPS_X분류</th>\n      <th>GPS_Y분류</th>\n    </tr>\n  </thead>\n  <tbody>\n    <tr>\n      <th>0</th>\n      <td>20221201</td>\n      <td>부산70자1854</td>\n      <td>0</td>\n      <td>05</td>\n      <td>0</td>\n      <td>0</td>\n      <td>0</td>\n      <td>0</td>\n      <td>0</td>\n      <td>0</td>\n      <td>129.15</td>\n      <td>35.236</td>\n    </tr>\n    <tr>\n      <th>1</th>\n      <td>20221201</td>\n      <td>부산70자1854</td>\n      <td>0</td>\n      <td>05</td>\n      <td>0</td>\n      <td>0</td>\n      <td>0</td>\n      <td>0</td>\n      <td>0</td>\n      <td>0</td>\n      <td>129.15</td>\n      <td>35.236</td>\n    </tr>\n    <tr>\n      <th>2</th>\n      <td>20221201</td>\n      <td>부산70자1854</td>\n      <td>0</td>\n      <td>05</td>\n      <td>0</td>\n      <td>0</td>\n      <td>1</td>\n      <td>0</td>\n      <td>0</td>\n      <td>0</td>\n      <td>129.15</td>\n      <td>35.236</td>\n    </tr>\n    <tr>\n      <th>3</th>\n      <td>20221201</td>\n      <td>부산70자1854</td>\n      <td>0</td>\n      <td>05</td>\n      <td>0</td>\n      <td>0</td>\n      <td>1</td>\n      <td>0</td>\n      <td>0</td>\n      <td>0</td>\n      <td>129.15</td>\n      <td>35.236</td>\n    </tr>\n    <tr>\n      <th>4</th>\n      <td>20221201</td>\n      <td>부산70자1854</td>\n      <td>0</td>\n      <td>05</td>\n      <td>0</td>\n      <td>0</td>\n      <td>0</td>\n      <td>0</td>\n      <td>0</td>\n      <td>0</td>\n      <td>129.15</td>\n      <td>35.236</td>\n    </tr>\n    <tr>\n      <th>...</th>\n      <td>...</td>\n      <td>...</td>\n      <td>...</td>\n      <td>...</td>\n      <td>...</td>\n      <td>...</td>\n      <td>...</td>\n      <td>...</td>\n      <td>...</td>\n      <td>...</td>\n      <td>...</td>\n      <td>...</td>\n    </tr>\n    <tr>\n      <th>5948207</th>\n      <td>20221231</td>\n      <td>부산70자1894</td>\n      <td>0</td>\n      <td>21</td>\n      <td>0</td>\n      <td>0</td>\n      <td>0</td>\n      <td>0</td>\n      <td>8</td>\n      <td>6</td>\n      <td>129.158</td>\n      <td>35.235</td>\n    </tr>\n    <tr>\n      <th>5948208</th>\n      <td>20221231</td>\n      <td>부산70자1894</td>\n      <td>0</td>\n      <td>21</td>\n      <td>0</td>\n      <td>0</td>\n      <td>0</td>\n      <td>0</td>\n      <td>8</td>\n      <td>6</td>\n      <td>129.158</td>\n      <td>35.235</td>\n    </tr>\n    <tr>\n      <th>5948209</th>\n      <td>20221231</td>\n      <td>부산70자1894</td>\n      <td>0</td>\n      <td>21</td>\n      <td>0</td>\n      <td>0</td>\n      <td>0</td>\n      <td>0</td>\n      <td>8</td>\n      <td>6</td>\n      <td>129.158</td>\n      <td>35.235</td>\n    </tr>\n    <tr>\n      <th>5948210</th>\n      <td>20221231</td>\n      <td>부산70자1894</td>\n      <td>0</td>\n      <td>21</td>\n      <td>0</td>\n      <td>0</td>\n      <td>0</td>\n      <td>0</td>\n      <td>8</td>\n      <td>6</td>\n      <td>129.158</td>\n      <td>35.235</td>\n    </tr>\n    <tr>\n      <th>5948211</th>\n      <td>20221231</td>\n      <td>부산70자1894</td>\n      <td>0</td>\n      <td>21</td>\n      <td>0</td>\n      <td>0</td>\n      <td>0</td>\n      <td>0</td>\n      <td>8</td>\n      <td>6</td>\n      <td>129.158</td>\n      <td>35.235</td>\n    </tr>\n  </tbody>\n</table>\n<p>5948212 rows × 12 columns</p>\n</div>"
     },
     "execution_count": 34,
     "metadata": {},
     "output_type": "execute_result"
    }
   ],
   "source": [
    "df = df.drop(['일일주행거리', '차량속도', 'RPM', '방위각', '가속도'], axis=1)\n",
    "df"
   ],
   "metadata": {
    "collapsed": false,
    "ExecuteTime": {
     "end_time": "2023-05-21T11:03:03.721594300Z",
     "start_time": "2023-05-21T11:03:03.419968500Z"
    }
   }
  },
  {
   "cell_type": "code",
   "execution_count": 35,
   "outputs": [],
   "source": [
    "df.to_csv('../data/분류전처리.csv', index=False)"
   ],
   "metadata": {
    "collapsed": false,
    "ExecuteTime": {
     "end_time": "2023-05-21T11:04:00.040176Z",
     "start_time": "2023-05-21T11:03:45.815817200Z"
    }
   }
  },
  {
   "cell_type": "code",
   "execution_count": 58,
   "outputs": [
    {
     "data": {
      "text/plain": "               날짜        번호판  브레이크  시각  위험운전분류  차량속도분류  RPM분류  가속도분류   \n0        20221201  부산70자1854     0   5       0       0      0      0  \\\n1        20221201  부산70자1854     0   5       0       0      0      0   \n2        20221201  부산70자1854     0   5       0       0      1      0   \n3        20221201  부산70자1854     0   5       0       0      1      0   \n4        20221201  부산70자1854     0   5       0       0      0      0   \n...           ...        ...   ...  ..     ...     ...    ...    ...   \n5948207  20221231  부산70자1894     0  21       0       0      0      0   \n5948208  20221231  부산70자1894     0  21       0       0      0      0   \n5948209  20221231  부산70자1894     0  21       0       0      0      0   \n5948210  20221231  부산70자1894     0  21       0       0      0      0   \n5948211  20221231  부산70자1894     0  21       0       0      0      0   \n\n         일일주행거리분류  방위각분류  GPS_X분류  GPS_Y분류  \n0               0      0  129.150   35.236  \n1               0      0  129.150   35.236  \n2               0      0  129.150   35.236  \n3               0      0  129.150   35.236  \n4               0      0  129.150   35.236  \n...           ...    ...      ...      ...  \n5948207         8      6  129.158   35.235  \n5948208         8      6  129.158   35.235  \n5948209         8      6  129.158   35.235  \n5948210         8      6  129.158   35.235  \n5948211         8      6  129.158   35.235  \n\n[5948212 rows x 12 columns]",
      "text/html": "<div>\n<style scoped>\n    .dataframe tbody tr th:only-of-type {\n        vertical-align: middle;\n    }\n\n    .dataframe tbody tr th {\n        vertical-align: top;\n    }\n\n    .dataframe thead th {\n        text-align: right;\n    }\n</style>\n<table border=\"1\" class=\"dataframe\">\n  <thead>\n    <tr style=\"text-align: right;\">\n      <th></th>\n      <th>날짜</th>\n      <th>번호판</th>\n      <th>브레이크</th>\n      <th>시각</th>\n      <th>위험운전분류</th>\n      <th>차량속도분류</th>\n      <th>RPM분류</th>\n      <th>가속도분류</th>\n      <th>일일주행거리분류</th>\n      <th>방위각분류</th>\n      <th>GPS_X분류</th>\n      <th>GPS_Y분류</th>\n    </tr>\n  </thead>\n  <tbody>\n    <tr>\n      <th>0</th>\n      <td>20221201</td>\n      <td>부산70자1854</td>\n      <td>0</td>\n      <td>5</td>\n      <td>0</td>\n      <td>0</td>\n      <td>0</td>\n      <td>0</td>\n      <td>0</td>\n      <td>0</td>\n      <td>129.150</td>\n      <td>35.236</td>\n    </tr>\n    <tr>\n      <th>1</th>\n      <td>20221201</td>\n      <td>부산70자1854</td>\n      <td>0</td>\n      <td>5</td>\n      <td>0</td>\n      <td>0</td>\n      <td>0</td>\n      <td>0</td>\n      <td>0</td>\n      <td>0</td>\n      <td>129.150</td>\n      <td>35.236</td>\n    </tr>\n    <tr>\n      <th>2</th>\n      <td>20221201</td>\n      <td>부산70자1854</td>\n      <td>0</td>\n      <td>5</td>\n      <td>0</td>\n      <td>0</td>\n      <td>1</td>\n      <td>0</td>\n      <td>0</td>\n      <td>0</td>\n      <td>129.150</td>\n      <td>35.236</td>\n    </tr>\n    <tr>\n      <th>3</th>\n      <td>20221201</td>\n      <td>부산70자1854</td>\n      <td>0</td>\n      <td>5</td>\n      <td>0</td>\n      <td>0</td>\n      <td>1</td>\n      <td>0</td>\n      <td>0</td>\n      <td>0</td>\n      <td>129.150</td>\n      <td>35.236</td>\n    </tr>\n    <tr>\n      <th>4</th>\n      <td>20221201</td>\n      <td>부산70자1854</td>\n      <td>0</td>\n      <td>5</td>\n      <td>0</td>\n      <td>0</td>\n      <td>0</td>\n      <td>0</td>\n      <td>0</td>\n      <td>0</td>\n      <td>129.150</td>\n      <td>35.236</td>\n    </tr>\n    <tr>\n      <th>...</th>\n      <td>...</td>\n      <td>...</td>\n      <td>...</td>\n      <td>...</td>\n      <td>...</td>\n      <td>...</td>\n      <td>...</td>\n      <td>...</td>\n      <td>...</td>\n      <td>...</td>\n      <td>...</td>\n      <td>...</td>\n    </tr>\n    <tr>\n      <th>5948207</th>\n      <td>20221231</td>\n      <td>부산70자1894</td>\n      <td>0</td>\n      <td>21</td>\n      <td>0</td>\n      <td>0</td>\n      <td>0</td>\n      <td>0</td>\n      <td>8</td>\n      <td>6</td>\n      <td>129.158</td>\n      <td>35.235</td>\n    </tr>\n    <tr>\n      <th>5948208</th>\n      <td>20221231</td>\n      <td>부산70자1894</td>\n      <td>0</td>\n      <td>21</td>\n      <td>0</td>\n      <td>0</td>\n      <td>0</td>\n      <td>0</td>\n      <td>8</td>\n      <td>6</td>\n      <td>129.158</td>\n      <td>35.235</td>\n    </tr>\n    <tr>\n      <th>5948209</th>\n      <td>20221231</td>\n      <td>부산70자1894</td>\n      <td>0</td>\n      <td>21</td>\n      <td>0</td>\n      <td>0</td>\n      <td>0</td>\n      <td>0</td>\n      <td>8</td>\n      <td>6</td>\n      <td>129.158</td>\n      <td>35.235</td>\n    </tr>\n    <tr>\n      <th>5948210</th>\n      <td>20221231</td>\n      <td>부산70자1894</td>\n      <td>0</td>\n      <td>21</td>\n      <td>0</td>\n      <td>0</td>\n      <td>0</td>\n      <td>0</td>\n      <td>8</td>\n      <td>6</td>\n      <td>129.158</td>\n      <td>35.235</td>\n    </tr>\n    <tr>\n      <th>5948211</th>\n      <td>20221231</td>\n      <td>부산70자1894</td>\n      <td>0</td>\n      <td>21</td>\n      <td>0</td>\n      <td>0</td>\n      <td>0</td>\n      <td>0</td>\n      <td>8</td>\n      <td>6</td>\n      <td>129.158</td>\n      <td>35.235</td>\n    </tr>\n  </tbody>\n</table>\n<p>5948212 rows × 12 columns</p>\n</div>"
     },
     "execution_count": 58,
     "metadata": {},
     "output_type": "execute_result"
    }
   ],
   "source": [
    "df = pd.read_csv('../data/분류전처리.csv')\n",
    "df"
   ],
   "metadata": {
    "collapsed": false,
    "ExecuteTime": {
     "end_time": "2023-05-21T12:07:34.045893800Z",
     "start_time": "2023-05-21T12:07:29.707477400Z"
    }
   }
  },
  {
   "cell_type": "code",
   "execution_count": 59,
   "outputs": [
    {
     "data": {
      "text/plain": "               날짜        번호판  브레이크  시각  위험운전분류  차량속도분류  RPM분류  가속도분류   \n0        20221201  부산70자1854     0   5       0       0      0      0  \\\n1        20221201  부산70자1854     0   5       0       0      0      0   \n2        20221201  부산70자1854     0   5       0       0      1      0   \n3        20221201  부산70자1854     0   5       0       0      1      0   \n4        20221201  부산70자1854     0   5       0       0      0      0   \n...           ...        ...   ...  ..     ...     ...    ...    ...   \n5948207  20221231  부산70자1894     0  21       0       0      0      0   \n5948208  20221231  부산70자1894     0  21       0       0      0      0   \n5948209  20221231  부산70자1894     0  21       0       0      0      0   \n5948210  20221231  부산70자1894     0  21       0       0      0      0   \n5948211  20221231  부산70자1894     0  21       0       0      0      0   \n\n         일일주행거리분류  방위각분류  GPS_X분류  GPS_Y분류  \n0               0      0  129.150   35.236  \n1               0      0  129.150   35.236  \n2               0      0  129.150   35.236  \n3               0      0  129.150   35.236  \n4               0      0  129.150   35.236  \n...           ...    ...      ...      ...  \n5948207         8      6  129.158   35.235  \n5948208         8      6  129.158   35.235  \n5948209         8      6  129.158   35.235  \n5948210         8      6  129.158   35.235  \n5948211         8      6  129.158   35.235  \n\n[5948212 rows x 12 columns]",
      "text/html": "<div>\n<style scoped>\n    .dataframe tbody tr th:only-of-type {\n        vertical-align: middle;\n    }\n\n    .dataframe tbody tr th {\n        vertical-align: top;\n    }\n\n    .dataframe thead th {\n        text-align: right;\n    }\n</style>\n<table border=\"1\" class=\"dataframe\">\n  <thead>\n    <tr style=\"text-align: right;\">\n      <th></th>\n      <th>날짜</th>\n      <th>번호판</th>\n      <th>브레이크</th>\n      <th>시각</th>\n      <th>위험운전분류</th>\n      <th>차량속도분류</th>\n      <th>RPM분류</th>\n      <th>가속도분류</th>\n      <th>일일주행거리분류</th>\n      <th>방위각분류</th>\n      <th>GPS_X분류</th>\n      <th>GPS_Y분류</th>\n    </tr>\n  </thead>\n  <tbody>\n    <tr>\n      <th>0</th>\n      <td>20221201</td>\n      <td>부산70자1854</td>\n      <td>0</td>\n      <td>5</td>\n      <td>0</td>\n      <td>0</td>\n      <td>0</td>\n      <td>0</td>\n      <td>0</td>\n      <td>0</td>\n      <td>129.150</td>\n      <td>35.236</td>\n    </tr>\n    <tr>\n      <th>1</th>\n      <td>20221201</td>\n      <td>부산70자1854</td>\n      <td>0</td>\n      <td>5</td>\n      <td>0</td>\n      <td>0</td>\n      <td>0</td>\n      <td>0</td>\n      <td>0</td>\n      <td>0</td>\n      <td>129.150</td>\n      <td>35.236</td>\n    </tr>\n    <tr>\n      <th>2</th>\n      <td>20221201</td>\n      <td>부산70자1854</td>\n      <td>0</td>\n      <td>5</td>\n      <td>0</td>\n      <td>0</td>\n      <td>1</td>\n      <td>0</td>\n      <td>0</td>\n      <td>0</td>\n      <td>129.150</td>\n      <td>35.236</td>\n    </tr>\n    <tr>\n      <th>3</th>\n      <td>20221201</td>\n      <td>부산70자1854</td>\n      <td>0</td>\n      <td>5</td>\n      <td>0</td>\n      <td>0</td>\n      <td>1</td>\n      <td>0</td>\n      <td>0</td>\n      <td>0</td>\n      <td>129.150</td>\n      <td>35.236</td>\n    </tr>\n    <tr>\n      <th>4</th>\n      <td>20221201</td>\n      <td>부산70자1854</td>\n      <td>0</td>\n      <td>5</td>\n      <td>0</td>\n      <td>0</td>\n      <td>0</td>\n      <td>0</td>\n      <td>0</td>\n      <td>0</td>\n      <td>129.150</td>\n      <td>35.236</td>\n    </tr>\n    <tr>\n      <th>...</th>\n      <td>...</td>\n      <td>...</td>\n      <td>...</td>\n      <td>...</td>\n      <td>...</td>\n      <td>...</td>\n      <td>...</td>\n      <td>...</td>\n      <td>...</td>\n      <td>...</td>\n      <td>...</td>\n      <td>...</td>\n    </tr>\n    <tr>\n      <th>5948207</th>\n      <td>20221231</td>\n      <td>부산70자1894</td>\n      <td>0</td>\n      <td>21</td>\n      <td>0</td>\n      <td>0</td>\n      <td>0</td>\n      <td>0</td>\n      <td>8</td>\n      <td>6</td>\n      <td>129.158</td>\n      <td>35.235</td>\n    </tr>\n    <tr>\n      <th>5948208</th>\n      <td>20221231</td>\n      <td>부산70자1894</td>\n      <td>0</td>\n      <td>21</td>\n      <td>0</td>\n      <td>0</td>\n      <td>0</td>\n      <td>0</td>\n      <td>8</td>\n      <td>6</td>\n      <td>129.158</td>\n      <td>35.235</td>\n    </tr>\n    <tr>\n      <th>5948209</th>\n      <td>20221231</td>\n      <td>부산70자1894</td>\n      <td>0</td>\n      <td>21</td>\n      <td>0</td>\n      <td>0</td>\n      <td>0</td>\n      <td>0</td>\n      <td>8</td>\n      <td>6</td>\n      <td>129.158</td>\n      <td>35.235</td>\n    </tr>\n    <tr>\n      <th>5948210</th>\n      <td>20221231</td>\n      <td>부산70자1894</td>\n      <td>0</td>\n      <td>21</td>\n      <td>0</td>\n      <td>0</td>\n      <td>0</td>\n      <td>0</td>\n      <td>8</td>\n      <td>6</td>\n      <td>129.158</td>\n      <td>35.235</td>\n    </tr>\n    <tr>\n      <th>5948211</th>\n      <td>20221231</td>\n      <td>부산70자1894</td>\n      <td>0</td>\n      <td>21</td>\n      <td>0</td>\n      <td>0</td>\n      <td>0</td>\n      <td>0</td>\n      <td>8</td>\n      <td>6</td>\n      <td>129.158</td>\n      <td>35.235</td>\n    </tr>\n  </tbody>\n</table>\n<p>5948212 rows × 12 columns</p>\n</div>"
     },
     "execution_count": 59,
     "metadata": {},
     "output_type": "execute_result"
    }
   ],
   "source": [
    "df['위험운전분류'] = l\n",
    "df"
   ],
   "metadata": {
    "collapsed": false,
    "ExecuteTime": {
     "end_time": "2023-05-21T12:07:44.467265Z",
     "start_time": "2023-05-21T12:07:43.509877Z"
    }
   }
  },
  {
   "cell_type": "code",
   "execution_count": 64,
   "outputs": [
    {
     "data": {
      "text/plain": "날짜          5899318\n번호판         5899318\n브레이크        5899318\n시각          5899318\n위험운전분류      5899318\n차량속도분류      5899318\nRPM분류       5899318\n가속도분류       5899318\n일일주행거리분류    5899318\n방위각분류       5899318\nGPS_X분류     5897906\nGPS_Y분류     5897906\ndtype: int64"
     },
     "execution_count": 64,
     "metadata": {},
     "output_type": "execute_result"
    }
   ],
   "source": [
    "df.query('위험운전분류 == 0').count()"
   ],
   "metadata": {
    "collapsed": false,
    "ExecuteTime": {
     "end_time": "2023-05-21T12:09:23.376433100Z",
     "start_time": "2023-05-21T12:09:22.688527600Z"
    }
   }
  },
  {
   "cell_type": "code",
   "execution_count": 72,
   "outputs": [],
   "source": [
    "temp = pd.read_csv('../data/total_count.csv')"
   ],
   "metadata": {
    "collapsed": false,
    "ExecuteTime": {
     "end_time": "2023-05-21T12:22:30.731800300Z",
     "start_time": "2023-05-21T12:22:21.232991400Z"
    }
   }
  },
  {
   "cell_type": "code",
   "execution_count": 82,
   "outputs": [],
   "source": [
    "df['GPS_X분류'] = temp['GPS_X'].apply(lambda x : float(str(x)[:6]))\n",
    "df['GPS_Y분류'] = temp['GPS_Y'].apply(lambda x : float(str(x)[:5]))"
   ],
   "metadata": {
    "collapsed": false,
    "ExecuteTime": {
     "end_time": "2023-05-21T12:30:52.984411400Z",
     "start_time": "2023-05-21T12:30:44.230984400Z"
    }
   }
  },
  {
   "cell_type": "code",
   "execution_count": 91,
   "outputs": [
    {
     "name": "stdout",
     "output_type": "stream",
     "text": [
      "<class 'pandas.core.frame.DataFrame'>\n",
      "RangeIndex: 5948212 entries, 0 to 5948211\n",
      "Data columns (total 12 columns):\n",
      " #   Column    Dtype  \n",
      "---  ------    -----  \n",
      " 0   날짜        int64  \n",
      " 1   번호판       object \n",
      " 2   브레이크      int64  \n",
      " 3   시각        int64  \n",
      " 4   위험운전분류    int64  \n",
      " 5   차량속도분류    int64  \n",
      " 6   RPM분류     int64  \n",
      " 7   가속도분류     int64  \n",
      " 8   일일주행거리분류  int64  \n",
      " 9   방위각분류     int64  \n",
      " 10  GPS_X분류   float64\n",
      " 11  GPS_Y분류   float64\n",
      "dtypes: float64(2), int64(9), object(1)\n",
      "memory usage: 544.6+ MB\n"
     ]
    }
   ],
   "source": [
    "df.info()"
   ],
   "metadata": {
    "collapsed": false,
    "ExecuteTime": {
     "end_time": "2023-05-21T12:33:10.167175500Z",
     "start_time": "2023-05-21T12:33:10.095199600Z"
    }
   }
  },
  {
   "cell_type": "code",
   "execution_count": 93,
   "outputs": [],
   "source": [
    "df.to_csv('../data/분류전처리.csv', index=False)"
   ],
   "metadata": {
    "collapsed": false,
    "ExecuteTime": {
     "end_time": "2023-05-22T00:06:03.043678900Z",
     "start_time": "2023-05-22T00:05:33.459151Z"
    }
   }
  },
  {
   "cell_type": "code",
   "execution_count": 49,
   "outputs": [],
   "source": [
    "import optuna\n",
    "import sklearn\n",
    "from sklearn.model_selection import train_test_split\n",
    "from sklearn.preprocessing import StandardScaler\n",
    "from sklearn.decomposition import PCA\n",
    "from sklearn.linear_model import LinearRegression, Ridge, Lasso, ElasticNet\n",
    "from sklearn.ensemble import GradientBoostingRegressor, RandomForestRegressor\n",
    "from sklearn.metrics import r2_score\n",
    "from sklearn.pipeline import Pipeline\n",
    "from xgboost import XGBClassifier"
   ],
   "metadata": {
    "collapsed": false,
    "ExecuteTime": {
     "end_time": "2023-05-21T11:20:43.569719800Z",
     "start_time": "2023-05-21T11:20:43.553979400Z"
    }
   }
  },
  {
   "cell_type": "code",
   "execution_count": 51,
   "outputs": [],
   "source": [
    "import pandas as pd\n",
    "import numpy as np\n",
    "\n",
    "from sklearn.metrics import accuracy_score\n",
    "from sklearn.ensemble import GradientBoostingClassifier\n",
    "\n",
    "from sklearn.model_selection import GridSearchCV\n",
    "from sklearn.metrics import make_scorer\n",
    "\n",
    "from xgboost import XGBClassifier\n",
    "from xgboost import plot_importance\n",
    "\n",
    "import matplotlib.pyplot as plt\n",
    "import seaborn as sns"
   ],
   "metadata": {
    "collapsed": false,
    "ExecuteTime": {
     "end_time": "2023-05-21T11:21:30.362722400Z",
     "start_time": "2023-05-21T11:21:30.347062700Z"
    }
   }
  },
  {
   "cell_type": "code",
   "execution_count": 89,
   "outputs": [],
   "source": [
    "import warnings\n",
    "warnings.filterwarnings(\"ignore\")"
   ],
   "metadata": {
    "collapsed": false,
    "ExecuteTime": {
     "end_time": "2023-05-21T12:31:56.375869300Z",
     "start_time": "2023-05-21T12:31:56.328885200Z"
    }
   }
  },
  {
   "cell_type": "code",
   "execution_count": 84,
   "outputs": [],
   "source": [
    "X = df[['브레이크', '시각', '차량속도분류', 'RPM분류', '가속도분류', '일일주행거리분류', '방위각분류', 'GPS_X분류', 'GPS_Y분류']]\n",
    "y = df['위험운전분류']"
   ],
   "metadata": {
    "collapsed": false,
    "ExecuteTime": {
     "end_time": "2023-05-21T12:31:00.596642800Z",
     "start_time": "2023-05-21T12:31:00.424674500Z"
    }
   }
  },
  {
   "cell_type": "code",
   "execution_count": 85,
   "outputs": [],
   "source": [
    "X_train, X_test, y_train, y_test = train_test_split(X, y, random_state=42, shuffle=True, test_size=0.3)"
   ],
   "metadata": {
    "collapsed": false,
    "ExecuteTime": {
     "end_time": "2023-05-21T12:31:03.279632900Z",
     "start_time": "2023-05-21T12:31:01.508748600Z"
    }
   }
  },
  {
   "cell_type": "code",
   "execution_count": 86,
   "outputs": [],
   "source": [
    "model = XGBClassifier()"
   ],
   "metadata": {
    "collapsed": false,
    "ExecuteTime": {
     "end_time": "2023-05-21T12:31:03.295348800Z",
     "start_time": "2023-05-21T12:31:03.279632900Z"
    }
   }
  },
  {
   "cell_type": "code",
   "execution_count": 87,
   "outputs": [],
   "source": [
    "both_scoring = {'AUC': 'roc_auc', 'Accuracy': make_scorer(accuracy_score), 'Loss': 'neg_log_loss'}\n",
    "params = {'n_estimators': [100, 200, 500, 1000, 1500],\n",
    "          'learning_rate': [0.05, 0.1, 0.2],\n",
    "          'max_depth': [3, 4, 5]}"
   ],
   "metadata": {
    "collapsed": false,
    "ExecuteTime": {
     "end_time": "2023-05-21T12:31:03.968641300Z",
     "start_time": "2023-05-21T12:31:03.952930800Z"
    }
   }
  },
  {
   "cell_type": "code",
   "execution_count": null,
   "outputs": [],
   "source": [
    "clf = GridSearchCV(model, params, cv=5, scoring=both_scoring, refit='AUC', return_train_score=True)\n",
    "clf.fit(X_train[['브레이크', '시각', '차량속도분류', 'RPM분류', '가속도분류', '일일주행거리분류', '방위각분류', 'GPS_X분류', 'GPS_Y분류']], y_train)"
   ],
   "metadata": {
    "collapsed": false,
    "is_executing": true,
    "ExecuteTime": {
     "start_time": "2023-05-21T12:33:29.148149200Z"
    }
   }
  },
  {
   "cell_type": "code",
   "execution_count": null,
   "outputs": [],
   "source": [
    "print((clf.best_score_, clf.best_params_))\n",
    "print('=' * 30)\n",
    "print('Grid scores on training data: ')\n",
    "means = clf.cv_results_['mean_test_AUC']\n",
    "stds = clf.cv_results_['std_test_AUC']\n",
    "log_losses = clf.cv_results_['std_test_Loss']\n",
    "\n",
    "for mean, std, log_loss, params in zip(means, stds, log_losses, clf.cv_results_['params']):\n",
    "    print(f'AUC Score: {mean} (+/-{std * 2}; Log Loss: {log_loss} for {params}')"
   ],
   "metadata": {
    "collapsed": false,
    "ExecuteTime": {
     "start_time": "2023-05-21T11:24:13.652666100Z"
    }
   }
  },
  {
   "cell_type": "code",
   "execution_count": null,
   "outputs": [],
   "source": [],
   "metadata": {
    "collapsed": false
   }
  }
 ],
 "metadata": {
  "kernelspec": {
   "display_name": "Python 3",
   "language": "python",
   "name": "python3"
  },
  "language_info": {
   "codemirror_mode": {
    "name": "ipython",
    "version": 2
   },
   "file_extension": ".py",
   "mimetype": "text/x-python",
   "name": "python",
   "nbconvert_exporter": "python",
   "pygments_lexer": "ipython2",
   "version": "2.7.6"
  }
 },
 "nbformat": 4,
 "nbformat_minor": 0
}
