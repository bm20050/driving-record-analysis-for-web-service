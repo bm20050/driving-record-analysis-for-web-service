{
 "cells": [
  {
   "cell_type": "code",
   "execution_count": 1,
   "outputs": [],
   "source": [
    "import pandas as pd\n",
    "import numpy as np"
   ],
   "metadata": {
    "collapsed": false,
    "ExecuteTime": {
     "end_time": "2023-05-25T06:50:21.994978Z",
     "start_time": "2023-05-25T06:50:21.982959300Z"
    }
   }
  },
  {
   "cell_type": "code",
   "execution_count": 7,
   "outputs": [],
   "source": [
    "df = pd.read_csv('../data/0524_to_db.csv')"
   ],
   "metadata": {
    "collapsed": false,
    "ExecuteTime": {
     "end_time": "2023-05-25T06:52:32.029326Z",
     "start_time": "2023-05-25T06:51:47.224223300Z"
    }
   }
  },
  {
   "cell_type": "code",
   "execution_count": 3,
   "outputs": [
    {
     "data": {
      "text/plain": "         차량속도  RPM       GPS_X      GPS_Y   년   월  일   시       시분초  가속도  급가속   \n2873328     0  185    0.000000   0.000000  22  12  1   4  04:25:41    0    0  \\\n2873329     0  246    0.000000   0.000000  22  12  1   4  04:25:42    0    0   \n2873330     0  827    0.000000   0.000000  22  12  1   4  04:25:43    0    0   \n2873331     0  592    0.000000   0.000000  22  12  1   4  04:25:44    0    0   \n2873332     0  556    0.000000   0.000000  22  12  1   4  04:25:45    0    0   \n...       ...  ...         ...        ...  ..  .. ..  ..       ...  ...  ...   \n2927826     0  551  129.158506  35.236094  22  12  1  22  22:05:44    0    0   \n2927827     0  383  129.158506  35.236094  22  12  1  22  22:05:46    0    0   \n2927828     0   34  129.158506  35.236094  22  12  1  22  22:05:47    0    0   \n2927829     0    0  129.158506  35.236094  22  12  1  22  22:05:49    0    0   \n2927830     0    0  129.158506  35.236094  22  12  1  22  22:05:50    0    0   \n\n         급출발  급감속  급정지       차량번호  \n2873328    0    0    0  부산70자1893  \n2873329    0    0    0  부산70자1893  \n2873330    0    0    0  부산70자1893  \n2873331    0    0    0  부산70자1893  \n2873332    0    0    0  부산70자1893  \n...      ...  ...  ...        ...  \n2927826    0    0    0  부산70자1893  \n2927827    0    0    0  부산70자1893  \n2927828    0    0    0  부산70자1893  \n2927829    0    0    0  부산70자1893  \n2927830    0    0    0  부산70자1893  \n\n[54503 rows x 15 columns]",
      "text/html": "<div>\n<style scoped>\n    .dataframe tbody tr th:only-of-type {\n        vertical-align: middle;\n    }\n\n    .dataframe tbody tr th {\n        vertical-align: top;\n    }\n\n    .dataframe thead th {\n        text-align: right;\n    }\n</style>\n<table border=\"1\" class=\"dataframe\">\n  <thead>\n    <tr style=\"text-align: right;\">\n      <th></th>\n      <th>차량속도</th>\n      <th>RPM</th>\n      <th>GPS_X</th>\n      <th>GPS_Y</th>\n      <th>년</th>\n      <th>월</th>\n      <th>일</th>\n      <th>시</th>\n      <th>시분초</th>\n      <th>가속도</th>\n      <th>급가속</th>\n      <th>급출발</th>\n      <th>급감속</th>\n      <th>급정지</th>\n      <th>차량번호</th>\n    </tr>\n  </thead>\n  <tbody>\n    <tr>\n      <th>2873328</th>\n      <td>0</td>\n      <td>185</td>\n      <td>0.000000</td>\n      <td>0.000000</td>\n      <td>22</td>\n      <td>12</td>\n      <td>1</td>\n      <td>4</td>\n      <td>04:25:41</td>\n      <td>0</td>\n      <td>0</td>\n      <td>0</td>\n      <td>0</td>\n      <td>0</td>\n      <td>부산70자1893</td>\n    </tr>\n    <tr>\n      <th>2873329</th>\n      <td>0</td>\n      <td>246</td>\n      <td>0.000000</td>\n      <td>0.000000</td>\n      <td>22</td>\n      <td>12</td>\n      <td>1</td>\n      <td>4</td>\n      <td>04:25:42</td>\n      <td>0</td>\n      <td>0</td>\n      <td>0</td>\n      <td>0</td>\n      <td>0</td>\n      <td>부산70자1893</td>\n    </tr>\n    <tr>\n      <th>2873330</th>\n      <td>0</td>\n      <td>827</td>\n      <td>0.000000</td>\n      <td>0.000000</td>\n      <td>22</td>\n      <td>12</td>\n      <td>1</td>\n      <td>4</td>\n      <td>04:25:43</td>\n      <td>0</td>\n      <td>0</td>\n      <td>0</td>\n      <td>0</td>\n      <td>0</td>\n      <td>부산70자1893</td>\n    </tr>\n    <tr>\n      <th>2873331</th>\n      <td>0</td>\n      <td>592</td>\n      <td>0.000000</td>\n      <td>0.000000</td>\n      <td>22</td>\n      <td>12</td>\n      <td>1</td>\n      <td>4</td>\n      <td>04:25:44</td>\n      <td>0</td>\n      <td>0</td>\n      <td>0</td>\n      <td>0</td>\n      <td>0</td>\n      <td>부산70자1893</td>\n    </tr>\n    <tr>\n      <th>2873332</th>\n      <td>0</td>\n      <td>556</td>\n      <td>0.000000</td>\n      <td>0.000000</td>\n      <td>22</td>\n      <td>12</td>\n      <td>1</td>\n      <td>4</td>\n      <td>04:25:45</td>\n      <td>0</td>\n      <td>0</td>\n      <td>0</td>\n      <td>0</td>\n      <td>0</td>\n      <td>부산70자1893</td>\n    </tr>\n    <tr>\n      <th>...</th>\n      <td>...</td>\n      <td>...</td>\n      <td>...</td>\n      <td>...</td>\n      <td>...</td>\n      <td>...</td>\n      <td>...</td>\n      <td>...</td>\n      <td>...</td>\n      <td>...</td>\n      <td>...</td>\n      <td>...</td>\n      <td>...</td>\n      <td>...</td>\n      <td>...</td>\n    </tr>\n    <tr>\n      <th>2927826</th>\n      <td>0</td>\n      <td>551</td>\n      <td>129.158506</td>\n      <td>35.236094</td>\n      <td>22</td>\n      <td>12</td>\n      <td>1</td>\n      <td>22</td>\n      <td>22:05:44</td>\n      <td>0</td>\n      <td>0</td>\n      <td>0</td>\n      <td>0</td>\n      <td>0</td>\n      <td>부산70자1893</td>\n    </tr>\n    <tr>\n      <th>2927827</th>\n      <td>0</td>\n      <td>383</td>\n      <td>129.158506</td>\n      <td>35.236094</td>\n      <td>22</td>\n      <td>12</td>\n      <td>1</td>\n      <td>22</td>\n      <td>22:05:46</td>\n      <td>0</td>\n      <td>0</td>\n      <td>0</td>\n      <td>0</td>\n      <td>0</td>\n      <td>부산70자1893</td>\n    </tr>\n    <tr>\n      <th>2927828</th>\n      <td>0</td>\n      <td>34</td>\n      <td>129.158506</td>\n      <td>35.236094</td>\n      <td>22</td>\n      <td>12</td>\n      <td>1</td>\n      <td>22</td>\n      <td>22:05:47</td>\n      <td>0</td>\n      <td>0</td>\n      <td>0</td>\n      <td>0</td>\n      <td>0</td>\n      <td>부산70자1893</td>\n    </tr>\n    <tr>\n      <th>2927829</th>\n      <td>0</td>\n      <td>0</td>\n      <td>129.158506</td>\n      <td>35.236094</td>\n      <td>22</td>\n      <td>12</td>\n      <td>1</td>\n      <td>22</td>\n      <td>22:05:49</td>\n      <td>0</td>\n      <td>0</td>\n      <td>0</td>\n      <td>0</td>\n      <td>0</td>\n      <td>부산70자1893</td>\n    </tr>\n    <tr>\n      <th>2927830</th>\n      <td>0</td>\n      <td>0</td>\n      <td>129.158506</td>\n      <td>35.236094</td>\n      <td>22</td>\n      <td>12</td>\n      <td>1</td>\n      <td>22</td>\n      <td>22:05:50</td>\n      <td>0</td>\n      <td>0</td>\n      <td>0</td>\n      <td>0</td>\n      <td>0</td>\n      <td>부산70자1893</td>\n    </tr>\n  </tbody>\n</table>\n<p>54503 rows × 15 columns</p>\n</div>"
     },
     "execution_count": 3,
     "metadata": {},
     "output_type": "execute_result"
    }
   ],
   "source": [
    "df = df.query('일 == 1 and 차량번호 == \"부산70자1893\"')\n",
    "df"
   ],
   "metadata": {
    "collapsed": false,
    "ExecuteTime": {
     "end_time": "2023-05-25T06:50:49.839306400Z",
     "start_time": "2023-05-25T06:50:49.264211700Z"
    }
   }
  },
  {
   "cell_type": "code",
   "execution_count": 4,
   "outputs": [
    {
     "data": {
      "text/plain": "         차량속도  RPM       GPS_X      GPS_Y   년   월  일   시       시분초  가속도  급가속   \n2873328     0  185    0.000000   0.000000  22  12  1   4  04:25:41    0    0  \\\n2873329     0  246    0.000000   0.000000  22  12  1   4  04:25:42    0    0   \n2873330     0  827    0.000000   0.000000  22  12  1   4  04:25:43    0    0   \n2873331     0  592    0.000000   0.000000  22  12  1   4  04:25:44    0    0   \n2873332     0  556    0.000000   0.000000  22  12  1   4  04:25:45    0    0   \n...       ...  ...         ...        ...  ..  .. ..  ..       ...  ...  ...   \n2927826     0  551  129.158506  35.236094  22  12  1  22  22:05:44    0    0   \n2927827     0  383  129.158506  35.236094  22  12  1  22  22:05:46    0    0   \n2927828     0   34  129.158506  35.236094  22  12  1  22  22:05:47    0    0   \n2927829     0    0  129.158506  35.236094  22  12  1  22  22:05:49    0    0   \n2927830     0    0  129.158506  35.236094  22  12  1  22  22:05:50    0    0   \n\n         급출발  급감속  급정지       차량번호    가속도max  \n2873328    0    0    0  부산70자1893  9.212774  \n2873329    0    0    0  부산70자1893  9.212774  \n2873330    0    0    0  부산70자1893  9.212774  \n2873331    0    0    0  부산70자1893  9.212774  \n2873332    0    0    0  부산70자1893  9.212774  \n...      ...  ...  ...        ...       ...  \n2927826    0    0    0  부산70자1893  9.212774  \n2927827    0    0    0  부산70자1893  9.212774  \n2927828    0    0    0  부산70자1893  9.212774  \n2927829    0    0    0  부산70자1893  9.212774  \n2927830    0    0    0  부산70자1893  9.212774  \n\n[54503 rows x 16 columns]",
      "text/html": "<div>\n<style scoped>\n    .dataframe tbody tr th:only-of-type {\n        vertical-align: middle;\n    }\n\n    .dataframe tbody tr th {\n        vertical-align: top;\n    }\n\n    .dataframe thead th {\n        text-align: right;\n    }\n</style>\n<table border=\"1\" class=\"dataframe\">\n  <thead>\n    <tr style=\"text-align: right;\">\n      <th></th>\n      <th>차량속도</th>\n      <th>RPM</th>\n      <th>GPS_X</th>\n      <th>GPS_Y</th>\n      <th>년</th>\n      <th>월</th>\n      <th>일</th>\n      <th>시</th>\n      <th>시분초</th>\n      <th>가속도</th>\n      <th>급가속</th>\n      <th>급출발</th>\n      <th>급감속</th>\n      <th>급정지</th>\n      <th>차량번호</th>\n      <th>가속도max</th>\n    </tr>\n  </thead>\n  <tbody>\n    <tr>\n      <th>2873328</th>\n      <td>0</td>\n      <td>185</td>\n      <td>0.000000</td>\n      <td>0.000000</td>\n      <td>22</td>\n      <td>12</td>\n      <td>1</td>\n      <td>4</td>\n      <td>04:25:41</td>\n      <td>0</td>\n      <td>0</td>\n      <td>0</td>\n      <td>0</td>\n      <td>0</td>\n      <td>부산70자1893</td>\n      <td>9.212774</td>\n    </tr>\n    <tr>\n      <th>2873329</th>\n      <td>0</td>\n      <td>246</td>\n      <td>0.000000</td>\n      <td>0.000000</td>\n      <td>22</td>\n      <td>12</td>\n      <td>1</td>\n      <td>4</td>\n      <td>04:25:42</td>\n      <td>0</td>\n      <td>0</td>\n      <td>0</td>\n      <td>0</td>\n      <td>0</td>\n      <td>부산70자1893</td>\n      <td>9.212774</td>\n    </tr>\n    <tr>\n      <th>2873330</th>\n      <td>0</td>\n      <td>827</td>\n      <td>0.000000</td>\n      <td>0.000000</td>\n      <td>22</td>\n      <td>12</td>\n      <td>1</td>\n      <td>4</td>\n      <td>04:25:43</td>\n      <td>0</td>\n      <td>0</td>\n      <td>0</td>\n      <td>0</td>\n      <td>0</td>\n      <td>부산70자1893</td>\n      <td>9.212774</td>\n    </tr>\n    <tr>\n      <th>2873331</th>\n      <td>0</td>\n      <td>592</td>\n      <td>0.000000</td>\n      <td>0.000000</td>\n      <td>22</td>\n      <td>12</td>\n      <td>1</td>\n      <td>4</td>\n      <td>04:25:44</td>\n      <td>0</td>\n      <td>0</td>\n      <td>0</td>\n      <td>0</td>\n      <td>0</td>\n      <td>부산70자1893</td>\n      <td>9.212774</td>\n    </tr>\n    <tr>\n      <th>2873332</th>\n      <td>0</td>\n      <td>556</td>\n      <td>0.000000</td>\n      <td>0.000000</td>\n      <td>22</td>\n      <td>12</td>\n      <td>1</td>\n      <td>4</td>\n      <td>04:25:45</td>\n      <td>0</td>\n      <td>0</td>\n      <td>0</td>\n      <td>0</td>\n      <td>0</td>\n      <td>부산70자1893</td>\n      <td>9.212774</td>\n    </tr>\n    <tr>\n      <th>...</th>\n      <td>...</td>\n      <td>...</td>\n      <td>...</td>\n      <td>...</td>\n      <td>...</td>\n      <td>...</td>\n      <td>...</td>\n      <td>...</td>\n      <td>...</td>\n      <td>...</td>\n      <td>...</td>\n      <td>...</td>\n      <td>...</td>\n      <td>...</td>\n      <td>...</td>\n      <td>...</td>\n    </tr>\n    <tr>\n      <th>2927826</th>\n      <td>0</td>\n      <td>551</td>\n      <td>129.158506</td>\n      <td>35.236094</td>\n      <td>22</td>\n      <td>12</td>\n      <td>1</td>\n      <td>22</td>\n      <td>22:05:44</td>\n      <td>0</td>\n      <td>0</td>\n      <td>0</td>\n      <td>0</td>\n      <td>0</td>\n      <td>부산70자1893</td>\n      <td>9.212774</td>\n    </tr>\n    <tr>\n      <th>2927827</th>\n      <td>0</td>\n      <td>383</td>\n      <td>129.158506</td>\n      <td>35.236094</td>\n      <td>22</td>\n      <td>12</td>\n      <td>1</td>\n      <td>22</td>\n      <td>22:05:46</td>\n      <td>0</td>\n      <td>0</td>\n      <td>0</td>\n      <td>0</td>\n      <td>0</td>\n      <td>부산70자1893</td>\n      <td>9.212774</td>\n    </tr>\n    <tr>\n      <th>2927828</th>\n      <td>0</td>\n      <td>34</td>\n      <td>129.158506</td>\n      <td>35.236094</td>\n      <td>22</td>\n      <td>12</td>\n      <td>1</td>\n      <td>22</td>\n      <td>22:05:47</td>\n      <td>0</td>\n      <td>0</td>\n      <td>0</td>\n      <td>0</td>\n      <td>0</td>\n      <td>부산70자1893</td>\n      <td>9.212774</td>\n    </tr>\n    <tr>\n      <th>2927829</th>\n      <td>0</td>\n      <td>0</td>\n      <td>129.158506</td>\n      <td>35.236094</td>\n      <td>22</td>\n      <td>12</td>\n      <td>1</td>\n      <td>22</td>\n      <td>22:05:49</td>\n      <td>0</td>\n      <td>0</td>\n      <td>0</td>\n      <td>0</td>\n      <td>0</td>\n      <td>부산70자1893</td>\n      <td>9.212774</td>\n    </tr>\n    <tr>\n      <th>2927830</th>\n      <td>0</td>\n      <td>0</td>\n      <td>129.158506</td>\n      <td>35.236094</td>\n      <td>22</td>\n      <td>12</td>\n      <td>1</td>\n      <td>22</td>\n      <td>22:05:50</td>\n      <td>0</td>\n      <td>0</td>\n      <td>0</td>\n      <td>0</td>\n      <td>0</td>\n      <td>부산70자1893</td>\n      <td>9.212774</td>\n    </tr>\n  </tbody>\n</table>\n<p>54503 rows × 16 columns</p>\n</div>"
     },
     "execution_count": 4,
     "metadata": {},
     "output_type": "execute_result"
    }
   ],
   "source": [
    "df['가속도max'] = df['차량속도'].apply(lambda x: -3.007e-10 * x ** 5 + 1.08775e-7 * x ** 4 + -1.46299e-5 * x ** 3 + 0.001332283 * x ** 2 - 0.126973836 * x + 9.212774118)\n",
    "df"
   ],
   "metadata": {
    "collapsed": false,
    "ExecuteTime": {
     "end_time": "2023-05-25T06:50:53.339952300Z",
     "start_time": "2023-05-25T06:50:53.191872500Z"
    }
   }
  },
  {
   "cell_type": "code",
   "execution_count": 5,
   "outputs": [],
   "source": [
    "d = list(df['가속도'])\n",
    "d.append(0)\n",
    "df['가속도new'] = d[1:]"
   ],
   "metadata": {
    "collapsed": false,
    "ExecuteTime": {
     "end_time": "2023-05-25T06:51:01.447179900Z",
     "start_time": "2023-05-25T06:51:01.373785100Z"
    }
   }
  },
  {
   "cell_type": "code",
   "execution_count": 13,
   "outputs": [
    {
     "data": {
      "text/plain": "         차량속도  RPM       GPS_X      GPS_Y   년   월  일   시       시분초  가속도  급가속   \n2873328     0  185    0.000000   0.000000  22  12  1   4  04:25:41    0    0  \\\n2873329     0  246    0.000000   0.000000  22  12  1   4  04:25:42    0    0   \n2873330     0  827    0.000000   0.000000  22  12  1   4  04:25:43    0    0   \n2873331     0  592    0.000000   0.000000  22  12  1   4  04:25:44    0    0   \n2873332     0  556    0.000000   0.000000  22  12  1   4  04:25:45    0    0   \n...       ...  ...         ...        ...  ..  .. ..  ..       ...  ...  ...   \n2927826     0  551  129.158506  35.236094  22  12  1  22  22:05:44    0    0   \n2927827     0  383  129.158506  35.236094  22  12  1  22  22:05:46    0    0   \n2927828     0   34  129.158506  35.236094  22  12  1  22  22:05:47    0    0   \n2927829     0    0  129.158506  35.236094  22  12  1  22  22:05:49    0    0   \n2927830     0    0  129.158506  35.236094  22  12  1  22  22:05:50    0    0   \n\n         급출발  급감속  급정지       차량번호    가속도max  가속도new  \n2873328    0    0    0  부산70자1893  9.212774       0  \n2873329    0    0    0  부산70자1893  9.212774       0  \n2873330    0    0    0  부산70자1893  9.212774       0  \n2873331    0    0    0  부산70자1893  9.212774       0  \n2873332    0    0    0  부산70자1893  9.212774       0  \n...      ...  ...  ...        ...       ...     ...  \n2927826    0    0    0  부산70자1893  9.212774       0  \n2927827    0    0    0  부산70자1893  9.212774       0  \n2927828    0    0    0  부산70자1893  9.212774       0  \n2927829    0    0    0  부산70자1893  9.212774       0  \n2927830    0    0    0  부산70자1893  9.212774       0  \n\n[54503 rows x 17 columns]",
      "text/html": "<div>\n<style scoped>\n    .dataframe tbody tr th:only-of-type {\n        vertical-align: middle;\n    }\n\n    .dataframe tbody tr th {\n        vertical-align: top;\n    }\n\n    .dataframe thead th {\n        text-align: right;\n    }\n</style>\n<table border=\"1\" class=\"dataframe\">\n  <thead>\n    <tr style=\"text-align: right;\">\n      <th></th>\n      <th>차량속도</th>\n      <th>RPM</th>\n      <th>GPS_X</th>\n      <th>GPS_Y</th>\n      <th>년</th>\n      <th>월</th>\n      <th>일</th>\n      <th>시</th>\n      <th>시분초</th>\n      <th>가속도</th>\n      <th>급가속</th>\n      <th>급출발</th>\n      <th>급감속</th>\n      <th>급정지</th>\n      <th>차량번호</th>\n      <th>가속도max</th>\n      <th>가속도new</th>\n    </tr>\n  </thead>\n  <tbody>\n    <tr>\n      <th>2873328</th>\n      <td>0</td>\n      <td>185</td>\n      <td>0.000000</td>\n      <td>0.000000</td>\n      <td>22</td>\n      <td>12</td>\n      <td>1</td>\n      <td>4</td>\n      <td>04:25:41</td>\n      <td>0</td>\n      <td>0</td>\n      <td>0</td>\n      <td>0</td>\n      <td>0</td>\n      <td>부산70자1893</td>\n      <td>9.212774</td>\n      <td>0</td>\n    </tr>\n    <tr>\n      <th>2873329</th>\n      <td>0</td>\n      <td>246</td>\n      <td>0.000000</td>\n      <td>0.000000</td>\n      <td>22</td>\n      <td>12</td>\n      <td>1</td>\n      <td>4</td>\n      <td>04:25:42</td>\n      <td>0</td>\n      <td>0</td>\n      <td>0</td>\n      <td>0</td>\n      <td>0</td>\n      <td>부산70자1893</td>\n      <td>9.212774</td>\n      <td>0</td>\n    </tr>\n    <tr>\n      <th>2873330</th>\n      <td>0</td>\n      <td>827</td>\n      <td>0.000000</td>\n      <td>0.000000</td>\n      <td>22</td>\n      <td>12</td>\n      <td>1</td>\n      <td>4</td>\n      <td>04:25:43</td>\n      <td>0</td>\n      <td>0</td>\n      <td>0</td>\n      <td>0</td>\n      <td>0</td>\n      <td>부산70자1893</td>\n      <td>9.212774</td>\n      <td>0</td>\n    </tr>\n    <tr>\n      <th>2873331</th>\n      <td>0</td>\n      <td>592</td>\n      <td>0.000000</td>\n      <td>0.000000</td>\n      <td>22</td>\n      <td>12</td>\n      <td>1</td>\n      <td>4</td>\n      <td>04:25:44</td>\n      <td>0</td>\n      <td>0</td>\n      <td>0</td>\n      <td>0</td>\n      <td>0</td>\n      <td>부산70자1893</td>\n      <td>9.212774</td>\n      <td>0</td>\n    </tr>\n    <tr>\n      <th>2873332</th>\n      <td>0</td>\n      <td>556</td>\n      <td>0.000000</td>\n      <td>0.000000</td>\n      <td>22</td>\n      <td>12</td>\n      <td>1</td>\n      <td>4</td>\n      <td>04:25:45</td>\n      <td>0</td>\n      <td>0</td>\n      <td>0</td>\n      <td>0</td>\n      <td>0</td>\n      <td>부산70자1893</td>\n      <td>9.212774</td>\n      <td>0</td>\n    </tr>\n    <tr>\n      <th>...</th>\n      <td>...</td>\n      <td>...</td>\n      <td>...</td>\n      <td>...</td>\n      <td>...</td>\n      <td>...</td>\n      <td>...</td>\n      <td>...</td>\n      <td>...</td>\n      <td>...</td>\n      <td>...</td>\n      <td>...</td>\n      <td>...</td>\n      <td>...</td>\n      <td>...</td>\n      <td>...</td>\n      <td>...</td>\n    </tr>\n    <tr>\n      <th>2927826</th>\n      <td>0</td>\n      <td>551</td>\n      <td>129.158506</td>\n      <td>35.236094</td>\n      <td>22</td>\n      <td>12</td>\n      <td>1</td>\n      <td>22</td>\n      <td>22:05:44</td>\n      <td>0</td>\n      <td>0</td>\n      <td>0</td>\n      <td>0</td>\n      <td>0</td>\n      <td>부산70자1893</td>\n      <td>9.212774</td>\n      <td>0</td>\n    </tr>\n    <tr>\n      <th>2927827</th>\n      <td>0</td>\n      <td>383</td>\n      <td>129.158506</td>\n      <td>35.236094</td>\n      <td>22</td>\n      <td>12</td>\n      <td>1</td>\n      <td>22</td>\n      <td>22:05:46</td>\n      <td>0</td>\n      <td>0</td>\n      <td>0</td>\n      <td>0</td>\n      <td>0</td>\n      <td>부산70자1893</td>\n      <td>9.212774</td>\n      <td>0</td>\n    </tr>\n    <tr>\n      <th>2927828</th>\n      <td>0</td>\n      <td>34</td>\n      <td>129.158506</td>\n      <td>35.236094</td>\n      <td>22</td>\n      <td>12</td>\n      <td>1</td>\n      <td>22</td>\n      <td>22:05:47</td>\n      <td>0</td>\n      <td>0</td>\n      <td>0</td>\n      <td>0</td>\n      <td>0</td>\n      <td>부산70자1893</td>\n      <td>9.212774</td>\n      <td>0</td>\n    </tr>\n    <tr>\n      <th>2927829</th>\n      <td>0</td>\n      <td>0</td>\n      <td>129.158506</td>\n      <td>35.236094</td>\n      <td>22</td>\n      <td>12</td>\n      <td>1</td>\n      <td>22</td>\n      <td>22:05:49</td>\n      <td>0</td>\n      <td>0</td>\n      <td>0</td>\n      <td>0</td>\n      <td>0</td>\n      <td>부산70자1893</td>\n      <td>9.212774</td>\n      <td>0</td>\n    </tr>\n    <tr>\n      <th>2927830</th>\n      <td>0</td>\n      <td>0</td>\n      <td>129.158506</td>\n      <td>35.236094</td>\n      <td>22</td>\n      <td>12</td>\n      <td>1</td>\n      <td>22</td>\n      <td>22:05:50</td>\n      <td>0</td>\n      <td>0</td>\n      <td>0</td>\n      <td>0</td>\n      <td>0</td>\n      <td>부산70자1893</td>\n      <td>9.212774</td>\n      <td>0</td>\n    </tr>\n  </tbody>\n</table>\n<p>54503 rows × 17 columns</p>\n</div>"
     },
     "execution_count": 13,
     "metadata": {},
     "output_type": "execute_result"
    }
   ],
   "source": [
    "df"
   ],
   "metadata": {
    "collapsed": false,
    "ExecuteTime": {
     "end_time": "2023-05-25T06:31:58.079918500Z",
     "start_time": "2023-05-25T06:31:58.064199400Z"
    }
   }
  },
  {
   "cell_type": "code",
   "execution_count": 18,
   "outputs": [
    {
     "data": {
      "text/plain": "         차량속도   RPM       GPS_X      GPS_Y   년   월  일   시       시분초  가속도  급가속   \n2875205    29   969  129.156950  35.234946  22  12  1   4  04:57:14   25    0  \\\n2875224    10  1206  129.156529  35.234582  22  12  1   4  04:57:33   10    0   \n2875262    12  1226  129.154647  35.233211  22  12  1   4  04:58:12   11    0   \n2875333    12  1693  129.153620  35.232546  22  12  1   4  04:59:23   12    0   \n2875371    16  1515  129.151527  35.231398  22  12  1   5  05:00:01   13    0   \n...       ...   ...         ...        ...  ..  .. ..  ..       ...  ...  ...   \n2926892    10  1228  129.124922  35.212961  22  12  1  21  21:50:01   10    0   \n2927360    15   841  129.148011  35.225186  22  12  1  21  21:57:52   15    0   \n2927503    22  1291  129.149258  35.229907  22  12  1  22  22:00:17   22    0   \n2927610    16   547  129.155961  35.233895  22  12  1  22  22:02:04   14    0   \n2927692    10   962  129.158895  35.235853  22  12  1  22  22:03:28   10    0   \n\n         급출발  급감속  급정지       차량번호    가속도max  가속도new  \n2875205    1    0    0  부산70자1893  6.364941       0  \n2875224    1    0    0  부산70자1893  8.062692       5  \n2875262    1    0    0  부산70자1893  7.857837       3  \n2875333    1    0    0  부산70자1893  7.857837       7  \n2875371    1    0    0  부산70자1893  7.469146       0  \n...      ...  ...  ...        ...       ...     ...  \n2926892    1    0    0  부산70자1893  8.062692       7  \n2927360    1    0    0  부산70자1893  7.563833       0  \n2927503    1    0    0  부산70자1893  6.932327       0  \n2927610    1    0    0  부산70자1893  7.469146       0  \n2927692    1    0    0  부산70자1893  8.062692       0  \n\n[400 rows x 17 columns]",
      "text/html": "<div>\n<style scoped>\n    .dataframe tbody tr th:only-of-type {\n        vertical-align: middle;\n    }\n\n    .dataframe tbody tr th {\n        vertical-align: top;\n    }\n\n    .dataframe thead th {\n        text-align: right;\n    }\n</style>\n<table border=\"1\" class=\"dataframe\">\n  <thead>\n    <tr style=\"text-align: right;\">\n      <th></th>\n      <th>차량속도</th>\n      <th>RPM</th>\n      <th>GPS_X</th>\n      <th>GPS_Y</th>\n      <th>년</th>\n      <th>월</th>\n      <th>일</th>\n      <th>시</th>\n      <th>시분초</th>\n      <th>가속도</th>\n      <th>급가속</th>\n      <th>급출발</th>\n      <th>급감속</th>\n      <th>급정지</th>\n      <th>차량번호</th>\n      <th>가속도max</th>\n      <th>가속도new</th>\n    </tr>\n  </thead>\n  <tbody>\n    <tr>\n      <th>2875205</th>\n      <td>29</td>\n      <td>969</td>\n      <td>129.156950</td>\n      <td>35.234946</td>\n      <td>22</td>\n      <td>12</td>\n      <td>1</td>\n      <td>4</td>\n      <td>04:57:14</td>\n      <td>25</td>\n      <td>0</td>\n      <td>1</td>\n      <td>0</td>\n      <td>0</td>\n      <td>부산70자1893</td>\n      <td>6.364941</td>\n      <td>0</td>\n    </tr>\n    <tr>\n      <th>2875224</th>\n      <td>10</td>\n      <td>1206</td>\n      <td>129.156529</td>\n      <td>35.234582</td>\n      <td>22</td>\n      <td>12</td>\n      <td>1</td>\n      <td>4</td>\n      <td>04:57:33</td>\n      <td>10</td>\n      <td>0</td>\n      <td>1</td>\n      <td>0</td>\n      <td>0</td>\n      <td>부산70자1893</td>\n      <td>8.062692</td>\n      <td>5</td>\n    </tr>\n    <tr>\n      <th>2875262</th>\n      <td>12</td>\n      <td>1226</td>\n      <td>129.154647</td>\n      <td>35.233211</td>\n      <td>22</td>\n      <td>12</td>\n      <td>1</td>\n      <td>4</td>\n      <td>04:58:12</td>\n      <td>11</td>\n      <td>0</td>\n      <td>1</td>\n      <td>0</td>\n      <td>0</td>\n      <td>부산70자1893</td>\n      <td>7.857837</td>\n      <td>3</td>\n    </tr>\n    <tr>\n      <th>2875333</th>\n      <td>12</td>\n      <td>1693</td>\n      <td>129.153620</td>\n      <td>35.232546</td>\n      <td>22</td>\n      <td>12</td>\n      <td>1</td>\n      <td>4</td>\n      <td>04:59:23</td>\n      <td>12</td>\n      <td>0</td>\n      <td>1</td>\n      <td>0</td>\n      <td>0</td>\n      <td>부산70자1893</td>\n      <td>7.857837</td>\n      <td>7</td>\n    </tr>\n    <tr>\n      <th>2875371</th>\n      <td>16</td>\n      <td>1515</td>\n      <td>129.151527</td>\n      <td>35.231398</td>\n      <td>22</td>\n      <td>12</td>\n      <td>1</td>\n      <td>5</td>\n      <td>05:00:01</td>\n      <td>13</td>\n      <td>0</td>\n      <td>1</td>\n      <td>0</td>\n      <td>0</td>\n      <td>부산70자1893</td>\n      <td>7.469146</td>\n      <td>0</td>\n    </tr>\n    <tr>\n      <th>...</th>\n      <td>...</td>\n      <td>...</td>\n      <td>...</td>\n      <td>...</td>\n      <td>...</td>\n      <td>...</td>\n      <td>...</td>\n      <td>...</td>\n      <td>...</td>\n      <td>...</td>\n      <td>...</td>\n      <td>...</td>\n      <td>...</td>\n      <td>...</td>\n      <td>...</td>\n      <td>...</td>\n      <td>...</td>\n    </tr>\n    <tr>\n      <th>2926892</th>\n      <td>10</td>\n      <td>1228</td>\n      <td>129.124922</td>\n      <td>35.212961</td>\n      <td>22</td>\n      <td>12</td>\n      <td>1</td>\n      <td>21</td>\n      <td>21:50:01</td>\n      <td>10</td>\n      <td>0</td>\n      <td>1</td>\n      <td>0</td>\n      <td>0</td>\n      <td>부산70자1893</td>\n      <td>8.062692</td>\n      <td>7</td>\n    </tr>\n    <tr>\n      <th>2927360</th>\n      <td>15</td>\n      <td>841</td>\n      <td>129.148011</td>\n      <td>35.225186</td>\n      <td>22</td>\n      <td>12</td>\n      <td>1</td>\n      <td>21</td>\n      <td>21:57:52</td>\n      <td>15</td>\n      <td>0</td>\n      <td>1</td>\n      <td>0</td>\n      <td>0</td>\n      <td>부산70자1893</td>\n      <td>7.563833</td>\n      <td>0</td>\n    </tr>\n    <tr>\n      <th>2927503</th>\n      <td>22</td>\n      <td>1291</td>\n      <td>129.149258</td>\n      <td>35.229907</td>\n      <td>22</td>\n      <td>12</td>\n      <td>1</td>\n      <td>22</td>\n      <td>22:00:17</td>\n      <td>22</td>\n      <td>0</td>\n      <td>1</td>\n      <td>0</td>\n      <td>0</td>\n      <td>부산70자1893</td>\n      <td>6.932327</td>\n      <td>0</td>\n    </tr>\n    <tr>\n      <th>2927610</th>\n      <td>16</td>\n      <td>547</td>\n      <td>129.155961</td>\n      <td>35.233895</td>\n      <td>22</td>\n      <td>12</td>\n      <td>1</td>\n      <td>22</td>\n      <td>22:02:04</td>\n      <td>14</td>\n      <td>0</td>\n      <td>1</td>\n      <td>0</td>\n      <td>0</td>\n      <td>부산70자1893</td>\n      <td>7.469146</td>\n      <td>0</td>\n    </tr>\n    <tr>\n      <th>2927692</th>\n      <td>10</td>\n      <td>962</td>\n      <td>129.158895</td>\n      <td>35.235853</td>\n      <td>22</td>\n      <td>12</td>\n      <td>1</td>\n      <td>22</td>\n      <td>22:03:28</td>\n      <td>10</td>\n      <td>0</td>\n      <td>1</td>\n      <td>0</td>\n      <td>0</td>\n      <td>부산70자1893</td>\n      <td>8.062692</td>\n      <td>0</td>\n    </tr>\n  </tbody>\n</table>\n<p>400 rows × 17 columns</p>\n</div>"
     },
     "execution_count": 18,
     "metadata": {},
     "output_type": "execute_result"
    }
   ],
   "source": [
    "df.query('급출발 == 1')"
   ],
   "metadata": {
    "collapsed": false,
    "ExecuteTime": {
     "end_time": "2023-05-25T06:40:36.903470400Z",
     "start_time": "2023-05-25T06:40:36.872219700Z"
    }
   }
  },
  {
   "cell_type": "code",
   "execution_count": 19,
   "outputs": [
    {
     "data": {
      "text/plain": "         차량속도  가속도  가속도new  급정지\n16545       4  -11      -4    1\n18796       1   -9      -1    1\n18882       4   -9      -4    1\n19182       2   -9      -2    1\n22960       3   -9      -3    1\n...       ...  ...     ...  ...\n5925210     4   -9      -4    1\n5926895     3   -9      -3    1\n5930395     5   -9      -5    1\n5931229     4   -9      -4    1\n5932756     2   -9      -2    1\n\n[8776 rows x 4 columns]",
      "text/html": "<div>\n<style scoped>\n    .dataframe tbody tr th:only-of-type {\n        vertical-align: middle;\n    }\n\n    .dataframe tbody tr th {\n        vertical-align: top;\n    }\n\n    .dataframe thead th {\n        text-align: right;\n    }\n</style>\n<table border=\"1\" class=\"dataframe\">\n  <thead>\n    <tr style=\"text-align: right;\">\n      <th></th>\n      <th>차량속도</th>\n      <th>가속도</th>\n      <th>가속도new</th>\n      <th>급정지</th>\n    </tr>\n  </thead>\n  <tbody>\n    <tr>\n      <th>16545</th>\n      <td>4</td>\n      <td>-11</td>\n      <td>-4</td>\n      <td>1</td>\n    </tr>\n    <tr>\n      <th>18796</th>\n      <td>1</td>\n      <td>-9</td>\n      <td>-1</td>\n      <td>1</td>\n    </tr>\n    <tr>\n      <th>18882</th>\n      <td>4</td>\n      <td>-9</td>\n      <td>-4</td>\n      <td>1</td>\n    </tr>\n    <tr>\n      <th>19182</th>\n      <td>2</td>\n      <td>-9</td>\n      <td>-2</td>\n      <td>1</td>\n    </tr>\n    <tr>\n      <th>22960</th>\n      <td>3</td>\n      <td>-9</td>\n      <td>-3</td>\n      <td>1</td>\n    </tr>\n    <tr>\n      <th>...</th>\n      <td>...</td>\n      <td>...</td>\n      <td>...</td>\n      <td>...</td>\n    </tr>\n    <tr>\n      <th>5925210</th>\n      <td>4</td>\n      <td>-9</td>\n      <td>-4</td>\n      <td>1</td>\n    </tr>\n    <tr>\n      <th>5926895</th>\n      <td>3</td>\n      <td>-9</td>\n      <td>-3</td>\n      <td>1</td>\n    </tr>\n    <tr>\n      <th>5930395</th>\n      <td>5</td>\n      <td>-9</td>\n      <td>-5</td>\n      <td>1</td>\n    </tr>\n    <tr>\n      <th>5931229</th>\n      <td>4</td>\n      <td>-9</td>\n      <td>-4</td>\n      <td>1</td>\n    </tr>\n    <tr>\n      <th>5932756</th>\n      <td>2</td>\n      <td>-9</td>\n      <td>-2</td>\n      <td>1</td>\n    </tr>\n  </tbody>\n</table>\n<p>8776 rows × 4 columns</p>\n</div>"
     },
     "execution_count": 19,
     "metadata": {},
     "output_type": "execute_result"
    }
   ],
   "source": [
    "df[['차량속도','가속도', '가속도new', '급정지']].query('급정지 == 1')"
   ],
   "metadata": {
    "collapsed": false,
    "ExecuteTime": {
     "end_time": "2023-05-25T07:38:36.428073Z",
     "start_time": "2023-05-25T07:38:36.316106100Z"
    }
   }
  },
  {
   "cell_type": "code",
   "execution_count": 8,
   "outputs": [
    {
     "data": {
      "text/plain": "         차량속도  RPM       GPS_X      GPS_Y   년   월  일  시       시분초  가속도  급가속   \n2875200     4  977  129.157244  35.235205  22  12  1  4  04:57:09    0    0  \\\n2875201     4  985  129.157183  35.235157  22  12  1  4  04:57:10    0    0   \n2875202     4  979  129.157122  35.235110  22  12  1  4  04:57:11    0    0   \n2875203     4  985  129.157122  35.235110  22  12  1  4  04:57:12    0    0   \n2875204     4  977  129.157061  35.235051  22  12  1  4  04:57:13    0    0   \n...       ...  ...         ...        ...  ..  .. .. ..       ...  ...  ...   \n2875295     0  549  129.153709  35.232575  22  12  1  4  04:58:45    0    0   \n2875296     0  550  129.153709  35.232575  22  12  1  4  04:58:46    0    0   \n2875297     0  547  129.153709  35.232575  22  12  1  4  04:58:47    0    0   \n2875298     0  552  129.153709  35.232575  22  12  1  4  04:58:48    0    0   \n2875299     0  551  129.153709  35.232575  22  12  1  4  04:58:49    0    0   \n\n         급출발  급감속  급정지       차량번호  \n2875200    0    0    0  부산70자1893  \n2875201    0    0    0  부산70자1893  \n2875202    0    0    0  부산70자1893  \n2875203    0    0    0  부산70자1893  \n2875204    0    0    0  부산70자1893  \n...      ...  ...  ...        ...  \n2875295    0    0    0  부산70자1893  \n2875296    0    0    0  부산70자1893  \n2875297    0    0    0  부산70자1893  \n2875298    0    0    0  부산70자1893  \n2875299    0    0    0  부산70자1893  \n\n[100 rows x 15 columns]",
      "text/html": "<div>\n<style scoped>\n    .dataframe tbody tr th:only-of-type {\n        vertical-align: middle;\n    }\n\n    .dataframe tbody tr th {\n        vertical-align: top;\n    }\n\n    .dataframe thead th {\n        text-align: right;\n    }\n</style>\n<table border=\"1\" class=\"dataframe\">\n  <thead>\n    <tr style=\"text-align: right;\">\n      <th></th>\n      <th>차량속도</th>\n      <th>RPM</th>\n      <th>GPS_X</th>\n      <th>GPS_Y</th>\n      <th>년</th>\n      <th>월</th>\n      <th>일</th>\n      <th>시</th>\n      <th>시분초</th>\n      <th>가속도</th>\n      <th>급가속</th>\n      <th>급출발</th>\n      <th>급감속</th>\n      <th>급정지</th>\n      <th>차량번호</th>\n    </tr>\n  </thead>\n  <tbody>\n    <tr>\n      <th>2875200</th>\n      <td>4</td>\n      <td>977</td>\n      <td>129.157244</td>\n      <td>35.235205</td>\n      <td>22</td>\n      <td>12</td>\n      <td>1</td>\n      <td>4</td>\n      <td>04:57:09</td>\n      <td>0</td>\n      <td>0</td>\n      <td>0</td>\n      <td>0</td>\n      <td>0</td>\n      <td>부산70자1893</td>\n    </tr>\n    <tr>\n      <th>2875201</th>\n      <td>4</td>\n      <td>985</td>\n      <td>129.157183</td>\n      <td>35.235157</td>\n      <td>22</td>\n      <td>12</td>\n      <td>1</td>\n      <td>4</td>\n      <td>04:57:10</td>\n      <td>0</td>\n      <td>0</td>\n      <td>0</td>\n      <td>0</td>\n      <td>0</td>\n      <td>부산70자1893</td>\n    </tr>\n    <tr>\n      <th>2875202</th>\n      <td>4</td>\n      <td>979</td>\n      <td>129.157122</td>\n      <td>35.235110</td>\n      <td>22</td>\n      <td>12</td>\n      <td>1</td>\n      <td>4</td>\n      <td>04:57:11</td>\n      <td>0</td>\n      <td>0</td>\n      <td>0</td>\n      <td>0</td>\n      <td>0</td>\n      <td>부산70자1893</td>\n    </tr>\n    <tr>\n      <th>2875203</th>\n      <td>4</td>\n      <td>985</td>\n      <td>129.157122</td>\n      <td>35.235110</td>\n      <td>22</td>\n      <td>12</td>\n      <td>1</td>\n      <td>4</td>\n      <td>04:57:12</td>\n      <td>0</td>\n      <td>0</td>\n      <td>0</td>\n      <td>0</td>\n      <td>0</td>\n      <td>부산70자1893</td>\n    </tr>\n    <tr>\n      <th>2875204</th>\n      <td>4</td>\n      <td>977</td>\n      <td>129.157061</td>\n      <td>35.235051</td>\n      <td>22</td>\n      <td>12</td>\n      <td>1</td>\n      <td>4</td>\n      <td>04:57:13</td>\n      <td>0</td>\n      <td>0</td>\n      <td>0</td>\n      <td>0</td>\n      <td>0</td>\n      <td>부산70자1893</td>\n    </tr>\n    <tr>\n      <th>...</th>\n      <td>...</td>\n      <td>...</td>\n      <td>...</td>\n      <td>...</td>\n      <td>...</td>\n      <td>...</td>\n      <td>...</td>\n      <td>...</td>\n      <td>...</td>\n      <td>...</td>\n      <td>...</td>\n      <td>...</td>\n      <td>...</td>\n      <td>...</td>\n      <td>...</td>\n    </tr>\n    <tr>\n      <th>2875295</th>\n      <td>0</td>\n      <td>549</td>\n      <td>129.153709</td>\n      <td>35.232575</td>\n      <td>22</td>\n      <td>12</td>\n      <td>1</td>\n      <td>4</td>\n      <td>04:58:45</td>\n      <td>0</td>\n      <td>0</td>\n      <td>0</td>\n      <td>0</td>\n      <td>0</td>\n      <td>부산70자1893</td>\n    </tr>\n    <tr>\n      <th>2875296</th>\n      <td>0</td>\n      <td>550</td>\n      <td>129.153709</td>\n      <td>35.232575</td>\n      <td>22</td>\n      <td>12</td>\n      <td>1</td>\n      <td>4</td>\n      <td>04:58:46</td>\n      <td>0</td>\n      <td>0</td>\n      <td>0</td>\n      <td>0</td>\n      <td>0</td>\n      <td>부산70자1893</td>\n    </tr>\n    <tr>\n      <th>2875297</th>\n      <td>0</td>\n      <td>547</td>\n      <td>129.153709</td>\n      <td>35.232575</td>\n      <td>22</td>\n      <td>12</td>\n      <td>1</td>\n      <td>4</td>\n      <td>04:58:47</td>\n      <td>0</td>\n      <td>0</td>\n      <td>0</td>\n      <td>0</td>\n      <td>0</td>\n      <td>부산70자1893</td>\n    </tr>\n    <tr>\n      <th>2875298</th>\n      <td>0</td>\n      <td>552</td>\n      <td>129.153709</td>\n      <td>35.232575</td>\n      <td>22</td>\n      <td>12</td>\n      <td>1</td>\n      <td>4</td>\n      <td>04:58:48</td>\n      <td>0</td>\n      <td>0</td>\n      <td>0</td>\n      <td>0</td>\n      <td>0</td>\n      <td>부산70자1893</td>\n    </tr>\n    <tr>\n      <th>2875299</th>\n      <td>0</td>\n      <td>551</td>\n      <td>129.153709</td>\n      <td>35.232575</td>\n      <td>22</td>\n      <td>12</td>\n      <td>1</td>\n      <td>4</td>\n      <td>04:58:49</td>\n      <td>0</td>\n      <td>0</td>\n      <td>0</td>\n      <td>0</td>\n      <td>0</td>\n      <td>부산70자1893</td>\n    </tr>\n  </tbody>\n</table>\n<p>100 rows × 15 columns</p>\n</div>"
     },
     "execution_count": 8,
     "metadata": {},
     "output_type": "execute_result"
    }
   ],
   "source": [
    "df.iloc[2875200:2875300]"
   ],
   "metadata": {
    "collapsed": false,
    "ExecuteTime": {
     "end_time": "2023-05-25T06:52:37.975689200Z",
     "start_time": "2023-05-25T06:52:37.801231400Z"
    }
   }
  },
  {
   "cell_type": "code",
   "execution_count": 9,
   "outputs": [
    {
     "data": {
      "text/plain": "         차량속도  RPM       GPS_X      GPS_Y   년   월   일   시       시분초  가속도  급가속   \n0           0  193  129.158670  35.236021  22  12   1   5  05:07:15    0    0  \\\n1           0  388  129.158670  35.236021  22  12   1   5  05:07:16    0    0   \n2           0  777  129.158670  35.236021  22  12   1   5  05:07:17    0    0   \n3           0  638  129.158670  35.236021  22  12   1   5  05:07:18    0    0   \n4           0  461  129.158670  35.236021  22  12   1   5  05:07:19    0    0   \n...       ...  ...         ...        ...  ..  ..  ..  ..       ...  ...  ...   \n5948207     0  331  129.158597  35.235956  22  12  31  21  21:03:38    0    0   \n5948208     0   59  129.158597  35.235956  22  12  31  21  21:03:39    0    0   \n5948209     0    0  129.158597  35.235956  22  12  31  21  21:03:40    0    0   \n5948210     0    0  129.158597  35.235956  22  12  31  21  21:03:41    0    0   \n5948211     0    0  129.158597  35.235956  22  12  31  21  21:03:42    0    0   \n\n         급출발  급감속  급정지       차량번호  가속도new    가속도max  \n0          0    0    0  부산70자1854       0  9.212774  \n1          0    0    0  부산70자1854       0  9.212774  \n2          0    0    0  부산70자1854       0  9.212774  \n3          0    0    0  부산70자1854       0  9.212774  \n4          0    0    0  부산70자1854       0  9.212774  \n...      ...  ...  ...        ...     ...       ...  \n5948207    0    0    0  부산70자1894       0  9.212774  \n5948208    0    0    0  부산70자1894       0  9.212774  \n5948209    0    0    0  부산70자1894       0  9.212774  \n5948210    0    0    0  부산70자1894       0  9.212774  \n5948211    0    0    0  부산70자1894       0  9.212774  \n\n[5948212 rows x 17 columns]",
      "text/html": "<div>\n<style scoped>\n    .dataframe tbody tr th:only-of-type {\n        vertical-align: middle;\n    }\n\n    .dataframe tbody tr th {\n        vertical-align: top;\n    }\n\n    .dataframe thead th {\n        text-align: right;\n    }\n</style>\n<table border=\"1\" class=\"dataframe\">\n  <thead>\n    <tr style=\"text-align: right;\">\n      <th></th>\n      <th>차량속도</th>\n      <th>RPM</th>\n      <th>GPS_X</th>\n      <th>GPS_Y</th>\n      <th>년</th>\n      <th>월</th>\n      <th>일</th>\n      <th>시</th>\n      <th>시분초</th>\n      <th>가속도</th>\n      <th>급가속</th>\n      <th>급출발</th>\n      <th>급감속</th>\n      <th>급정지</th>\n      <th>차량번호</th>\n      <th>가속도new</th>\n      <th>가속도max</th>\n    </tr>\n  </thead>\n  <tbody>\n    <tr>\n      <th>0</th>\n      <td>0</td>\n      <td>193</td>\n      <td>129.158670</td>\n      <td>35.236021</td>\n      <td>22</td>\n      <td>12</td>\n      <td>1</td>\n      <td>5</td>\n      <td>05:07:15</td>\n      <td>0</td>\n      <td>0</td>\n      <td>0</td>\n      <td>0</td>\n      <td>0</td>\n      <td>부산70자1854</td>\n      <td>0</td>\n      <td>9.212774</td>\n    </tr>\n    <tr>\n      <th>1</th>\n      <td>0</td>\n      <td>388</td>\n      <td>129.158670</td>\n      <td>35.236021</td>\n      <td>22</td>\n      <td>12</td>\n      <td>1</td>\n      <td>5</td>\n      <td>05:07:16</td>\n      <td>0</td>\n      <td>0</td>\n      <td>0</td>\n      <td>0</td>\n      <td>0</td>\n      <td>부산70자1854</td>\n      <td>0</td>\n      <td>9.212774</td>\n    </tr>\n    <tr>\n      <th>2</th>\n      <td>0</td>\n      <td>777</td>\n      <td>129.158670</td>\n      <td>35.236021</td>\n      <td>22</td>\n      <td>12</td>\n      <td>1</td>\n      <td>5</td>\n      <td>05:07:17</td>\n      <td>0</td>\n      <td>0</td>\n      <td>0</td>\n      <td>0</td>\n      <td>0</td>\n      <td>부산70자1854</td>\n      <td>0</td>\n      <td>9.212774</td>\n    </tr>\n    <tr>\n      <th>3</th>\n      <td>0</td>\n      <td>638</td>\n      <td>129.158670</td>\n      <td>35.236021</td>\n      <td>22</td>\n      <td>12</td>\n      <td>1</td>\n      <td>5</td>\n      <td>05:07:18</td>\n      <td>0</td>\n      <td>0</td>\n      <td>0</td>\n      <td>0</td>\n      <td>0</td>\n      <td>부산70자1854</td>\n      <td>0</td>\n      <td>9.212774</td>\n    </tr>\n    <tr>\n      <th>4</th>\n      <td>0</td>\n      <td>461</td>\n      <td>129.158670</td>\n      <td>35.236021</td>\n      <td>22</td>\n      <td>12</td>\n      <td>1</td>\n      <td>5</td>\n      <td>05:07:19</td>\n      <td>0</td>\n      <td>0</td>\n      <td>0</td>\n      <td>0</td>\n      <td>0</td>\n      <td>부산70자1854</td>\n      <td>0</td>\n      <td>9.212774</td>\n    </tr>\n    <tr>\n      <th>...</th>\n      <td>...</td>\n      <td>...</td>\n      <td>...</td>\n      <td>...</td>\n      <td>...</td>\n      <td>...</td>\n      <td>...</td>\n      <td>...</td>\n      <td>...</td>\n      <td>...</td>\n      <td>...</td>\n      <td>...</td>\n      <td>...</td>\n      <td>...</td>\n      <td>...</td>\n      <td>...</td>\n      <td>...</td>\n    </tr>\n    <tr>\n      <th>5948207</th>\n      <td>0</td>\n      <td>331</td>\n      <td>129.158597</td>\n      <td>35.235956</td>\n      <td>22</td>\n      <td>12</td>\n      <td>31</td>\n      <td>21</td>\n      <td>21:03:38</td>\n      <td>0</td>\n      <td>0</td>\n      <td>0</td>\n      <td>0</td>\n      <td>0</td>\n      <td>부산70자1894</td>\n      <td>0</td>\n      <td>9.212774</td>\n    </tr>\n    <tr>\n      <th>5948208</th>\n      <td>0</td>\n      <td>59</td>\n      <td>129.158597</td>\n      <td>35.235956</td>\n      <td>22</td>\n      <td>12</td>\n      <td>31</td>\n      <td>21</td>\n      <td>21:03:39</td>\n      <td>0</td>\n      <td>0</td>\n      <td>0</td>\n      <td>0</td>\n      <td>0</td>\n      <td>부산70자1894</td>\n      <td>0</td>\n      <td>9.212774</td>\n    </tr>\n    <tr>\n      <th>5948209</th>\n      <td>0</td>\n      <td>0</td>\n      <td>129.158597</td>\n      <td>35.235956</td>\n      <td>22</td>\n      <td>12</td>\n      <td>31</td>\n      <td>21</td>\n      <td>21:03:40</td>\n      <td>0</td>\n      <td>0</td>\n      <td>0</td>\n      <td>0</td>\n      <td>0</td>\n      <td>부산70자1894</td>\n      <td>0</td>\n      <td>9.212774</td>\n    </tr>\n    <tr>\n      <th>5948210</th>\n      <td>0</td>\n      <td>0</td>\n      <td>129.158597</td>\n      <td>35.235956</td>\n      <td>22</td>\n      <td>12</td>\n      <td>31</td>\n      <td>21</td>\n      <td>21:03:41</td>\n      <td>0</td>\n      <td>0</td>\n      <td>0</td>\n      <td>0</td>\n      <td>0</td>\n      <td>부산70자1894</td>\n      <td>0</td>\n      <td>9.212774</td>\n    </tr>\n    <tr>\n      <th>5948211</th>\n      <td>0</td>\n      <td>0</td>\n      <td>129.158597</td>\n      <td>35.235956</td>\n      <td>22</td>\n      <td>12</td>\n      <td>31</td>\n      <td>21</td>\n      <td>21:03:42</td>\n      <td>0</td>\n      <td>0</td>\n      <td>0</td>\n      <td>0</td>\n      <td>0</td>\n      <td>부산70자1894</td>\n      <td>0</td>\n      <td>9.212774</td>\n    </tr>\n  </tbody>\n</table>\n<p>5948212 rows × 17 columns</p>\n</div>"
     },
     "execution_count": 9,
     "metadata": {},
     "output_type": "execute_result"
    }
   ],
   "source": [
    "d = list(df['가속도'])\n",
    "d.append(0)\n",
    "df['가속도new'] = d[1:]\n",
    "df['가속도max'] = df['차량속도'].apply(lambda x: -3.007e-10 * x ** 5 + 1.08775e-7 * x ** 4 + -1.46299e-5 * x ** 3 + 0.001332283 * x ** 2 - 0.126973836 * x + 9.212774118)\n",
    "df"
   ],
   "metadata": {
    "collapsed": false,
    "ExecuteTime": {
     "end_time": "2023-05-25T06:54:59.241679900Z",
     "start_time": "2023-05-25T06:54:51.381263500Z"
    }
   }
  },
  {
   "cell_type": "code",
   "execution_count": 18,
   "outputs": [
    {
     "data": {
      "text/plain": "         차량속도  RPM       GPS_X      GPS_Y   년   월  일  시       시분초  가속도  급가속   \n2875300     0  548  129.153709  35.232575  22  12  1  4  04:58:50    0    0  \\\n2875301     0  546  129.153709  35.232575  22  12  1  4  04:58:51    0    0   \n2875302     0  547  129.153709  35.232575  22  12  1  4  04:58:52    0    0   \n2875303     0  548  129.153709  35.232575  22  12  1  4  04:58:53    0    0   \n2875304     0  545  129.153709  35.232575  22  12  1  4  04:58:54    0    0   \n...       ...  ...         ...        ...  ..  .. .. ..       ...  ...  ...   \n2875395    16  545  129.150680  35.230772  22  12  1  5  05:00:25    0    0   \n2875396    16  553  129.150680  35.230772  22  12  1  5  05:00:26    0    0   \n2875397    16  553  129.150680  35.230772  22  12  1  5  05:00:27    0    0   \n2875398    16  550  129.150680  35.230772  22  12  1  5  05:00:28    0    0   \n2875399    16  552  129.150680  35.230772  22  12  1  5  05:00:29    0    0   \n\n         급출발  급감속  급정지       차량번호  가속도new    가속도max  \n2875300    0    0    0  부산70자1893       0  9.212774  \n2875301    0    0    0  부산70자1893       0  9.212774  \n2875302    0    0    0  부산70자1893       0  9.212774  \n2875303    0    0    0  부산70자1893       0  9.212774  \n2875304    0    0    0  부산70자1893       0  9.212774  \n...      ...  ...  ...        ...     ...       ...  \n2875395    0    0    0  부산70자1893       0  7.469146  \n2875396    0    0    0  부산70자1893       0  7.469146  \n2875397    0    0    0  부산70자1893       0  7.469146  \n2875398    0    0    0  부산70자1893       0  7.469146  \n2875399    0    0    0  부산70자1893       0  7.469146  \n\n[100 rows x 17 columns]",
      "text/html": "<div>\n<style scoped>\n    .dataframe tbody tr th:only-of-type {\n        vertical-align: middle;\n    }\n\n    .dataframe tbody tr th {\n        vertical-align: top;\n    }\n\n    .dataframe thead th {\n        text-align: right;\n    }\n</style>\n<table border=\"1\" class=\"dataframe\">\n  <thead>\n    <tr style=\"text-align: right;\">\n      <th></th>\n      <th>차량속도</th>\n      <th>RPM</th>\n      <th>GPS_X</th>\n      <th>GPS_Y</th>\n      <th>년</th>\n      <th>월</th>\n      <th>일</th>\n      <th>시</th>\n      <th>시분초</th>\n      <th>가속도</th>\n      <th>급가속</th>\n      <th>급출발</th>\n      <th>급감속</th>\n      <th>급정지</th>\n      <th>차량번호</th>\n      <th>가속도new</th>\n      <th>가속도max</th>\n    </tr>\n  </thead>\n  <tbody>\n    <tr>\n      <th>2875300</th>\n      <td>0</td>\n      <td>548</td>\n      <td>129.153709</td>\n      <td>35.232575</td>\n      <td>22</td>\n      <td>12</td>\n      <td>1</td>\n      <td>4</td>\n      <td>04:58:50</td>\n      <td>0</td>\n      <td>0</td>\n      <td>0</td>\n      <td>0</td>\n      <td>0</td>\n      <td>부산70자1893</td>\n      <td>0</td>\n      <td>9.212774</td>\n    </tr>\n    <tr>\n      <th>2875301</th>\n      <td>0</td>\n      <td>546</td>\n      <td>129.153709</td>\n      <td>35.232575</td>\n      <td>22</td>\n      <td>12</td>\n      <td>1</td>\n      <td>4</td>\n      <td>04:58:51</td>\n      <td>0</td>\n      <td>0</td>\n      <td>0</td>\n      <td>0</td>\n      <td>0</td>\n      <td>부산70자1893</td>\n      <td>0</td>\n      <td>9.212774</td>\n    </tr>\n    <tr>\n      <th>2875302</th>\n      <td>0</td>\n      <td>547</td>\n      <td>129.153709</td>\n      <td>35.232575</td>\n      <td>22</td>\n      <td>12</td>\n      <td>1</td>\n      <td>4</td>\n      <td>04:58:52</td>\n      <td>0</td>\n      <td>0</td>\n      <td>0</td>\n      <td>0</td>\n      <td>0</td>\n      <td>부산70자1893</td>\n      <td>0</td>\n      <td>9.212774</td>\n    </tr>\n    <tr>\n      <th>2875303</th>\n      <td>0</td>\n      <td>548</td>\n      <td>129.153709</td>\n      <td>35.232575</td>\n      <td>22</td>\n      <td>12</td>\n      <td>1</td>\n      <td>4</td>\n      <td>04:58:53</td>\n      <td>0</td>\n      <td>0</td>\n      <td>0</td>\n      <td>0</td>\n      <td>0</td>\n      <td>부산70자1893</td>\n      <td>0</td>\n      <td>9.212774</td>\n    </tr>\n    <tr>\n      <th>2875304</th>\n      <td>0</td>\n      <td>545</td>\n      <td>129.153709</td>\n      <td>35.232575</td>\n      <td>22</td>\n      <td>12</td>\n      <td>1</td>\n      <td>4</td>\n      <td>04:58:54</td>\n      <td>0</td>\n      <td>0</td>\n      <td>0</td>\n      <td>0</td>\n      <td>0</td>\n      <td>부산70자1893</td>\n      <td>0</td>\n      <td>9.212774</td>\n    </tr>\n    <tr>\n      <th>...</th>\n      <td>...</td>\n      <td>...</td>\n      <td>...</td>\n      <td>...</td>\n      <td>...</td>\n      <td>...</td>\n      <td>...</td>\n      <td>...</td>\n      <td>...</td>\n      <td>...</td>\n      <td>...</td>\n      <td>...</td>\n      <td>...</td>\n      <td>...</td>\n      <td>...</td>\n      <td>...</td>\n      <td>...</td>\n    </tr>\n    <tr>\n      <th>2875395</th>\n      <td>16</td>\n      <td>545</td>\n      <td>129.150680</td>\n      <td>35.230772</td>\n      <td>22</td>\n      <td>12</td>\n      <td>1</td>\n      <td>5</td>\n      <td>05:00:25</td>\n      <td>0</td>\n      <td>0</td>\n      <td>0</td>\n      <td>0</td>\n      <td>0</td>\n      <td>부산70자1893</td>\n      <td>0</td>\n      <td>7.469146</td>\n    </tr>\n    <tr>\n      <th>2875396</th>\n      <td>16</td>\n      <td>553</td>\n      <td>129.150680</td>\n      <td>35.230772</td>\n      <td>22</td>\n      <td>12</td>\n      <td>1</td>\n      <td>5</td>\n      <td>05:00:26</td>\n      <td>0</td>\n      <td>0</td>\n      <td>0</td>\n      <td>0</td>\n      <td>0</td>\n      <td>부산70자1893</td>\n      <td>0</td>\n      <td>7.469146</td>\n    </tr>\n    <tr>\n      <th>2875397</th>\n      <td>16</td>\n      <td>553</td>\n      <td>129.150680</td>\n      <td>35.230772</td>\n      <td>22</td>\n      <td>12</td>\n      <td>1</td>\n      <td>5</td>\n      <td>05:00:27</td>\n      <td>0</td>\n      <td>0</td>\n      <td>0</td>\n      <td>0</td>\n      <td>0</td>\n      <td>부산70자1893</td>\n      <td>0</td>\n      <td>7.469146</td>\n    </tr>\n    <tr>\n      <th>2875398</th>\n      <td>16</td>\n      <td>550</td>\n      <td>129.150680</td>\n      <td>35.230772</td>\n      <td>22</td>\n      <td>12</td>\n      <td>1</td>\n      <td>5</td>\n      <td>05:00:28</td>\n      <td>0</td>\n      <td>0</td>\n      <td>0</td>\n      <td>0</td>\n      <td>0</td>\n      <td>부산70자1893</td>\n      <td>0</td>\n      <td>7.469146</td>\n    </tr>\n    <tr>\n      <th>2875399</th>\n      <td>16</td>\n      <td>552</td>\n      <td>129.150680</td>\n      <td>35.230772</td>\n      <td>22</td>\n      <td>12</td>\n      <td>1</td>\n      <td>5</td>\n      <td>05:00:29</td>\n      <td>0</td>\n      <td>0</td>\n      <td>0</td>\n      <td>0</td>\n      <td>0</td>\n      <td>부산70자1893</td>\n      <td>0</td>\n      <td>7.469146</td>\n    </tr>\n  </tbody>\n</table>\n<p>100 rows × 17 columns</p>\n</div>"
     },
     "execution_count": 18,
     "metadata": {},
     "output_type": "execute_result"
    }
   ],
   "source": [
    "df.iloc[2875300:2875400]"
   ],
   "metadata": {
    "collapsed": false,
    "ExecuteTime": {
     "end_time": "2023-05-25T07:34:04.023715600Z",
     "start_time": "2023-05-25T07:34:04.009214Z"
    }
   }
  },
  {
   "cell_type": "code",
   "execution_count": 20,
   "outputs": [
    {
     "data": {
      "text/plain": "       차량속도  RPM       GPS_X      GPS_Y   년   월  일   시       시분초  가속도  급가속   \n18700     7  563  129.171200  35.161379  22  12  1  13  13:49:30   -5    0  \\\n18701     2  553  129.171235  35.161379  22  12  1  13  13:49:31   -5    0   \n18702     0  549  129.171264  35.161380  22  12  1  13  13:49:32   -2    0   \n18703     0  549  129.171264  35.161380  22  12  1  13  13:49:33    0    0   \n18704     0  548  129.171264  35.161380  22  12  1  13  13:49:34    0    0   \n...     ...  ...         ...        ...  ..  .. ..  ..       ...  ...  ...   \n18895    14  669  129.175523  35.169033  22  12  1  13  13:52:45   -1    0   \n18896    11  586  129.175557  35.169056  22  12  1  13  13:52:46   -3    0   \n18897     9  547  129.175586  35.169075  22  12  1  13  13:52:47   -2    0   \n18898     6  544  129.175613  35.169089  22  12  1  13  13:52:48   -3    0   \n18899     2  552  129.175631  35.169107  22  12  1  13  13:52:49   -4    0   \n\n       급출발  급감속  급정지       차량번호  가속도new    가속도max  \n18700    0    0    0  부산70자1854      -5  8.384477  \n18701    0    0    0  부산70자1854      -2  8.964040  \n18702    0    0    0  부산70자1854       0  9.212774  \n18703    0    0    0  부산70자1854       0  9.212774  \n18704    0    0    0  부산70자1854       0  9.212774  \n...    ...  ...  ...        ...     ...       ...  \n18895    0    0    0  부산70자1854      -3  7.660140  \n18896    0    0    0  부산70자1854      -2  7.959340  \n18897    0    0    0  부산70자1854      -3  8.167955  \n18898    0    0    0  부산70자1854      -4  8.495872  \n18899    0    0    0  부산70자1854      -2  8.964040  \n\n[200 rows x 17 columns]",
      "text/html": "<div>\n<style scoped>\n    .dataframe tbody tr th:only-of-type {\n        vertical-align: middle;\n    }\n\n    .dataframe tbody tr th {\n        vertical-align: top;\n    }\n\n    .dataframe thead th {\n        text-align: right;\n    }\n</style>\n<table border=\"1\" class=\"dataframe\">\n  <thead>\n    <tr style=\"text-align: right;\">\n      <th></th>\n      <th>차량속도</th>\n      <th>RPM</th>\n      <th>GPS_X</th>\n      <th>GPS_Y</th>\n      <th>년</th>\n      <th>월</th>\n      <th>일</th>\n      <th>시</th>\n      <th>시분초</th>\n      <th>가속도</th>\n      <th>급가속</th>\n      <th>급출발</th>\n      <th>급감속</th>\n      <th>급정지</th>\n      <th>차량번호</th>\n      <th>가속도new</th>\n      <th>가속도max</th>\n    </tr>\n  </thead>\n  <tbody>\n    <tr>\n      <th>18700</th>\n      <td>7</td>\n      <td>563</td>\n      <td>129.171200</td>\n      <td>35.161379</td>\n      <td>22</td>\n      <td>12</td>\n      <td>1</td>\n      <td>13</td>\n      <td>13:49:30</td>\n      <td>-5</td>\n      <td>0</td>\n      <td>0</td>\n      <td>0</td>\n      <td>0</td>\n      <td>부산70자1854</td>\n      <td>-5</td>\n      <td>8.384477</td>\n    </tr>\n    <tr>\n      <th>18701</th>\n      <td>2</td>\n      <td>553</td>\n      <td>129.171235</td>\n      <td>35.161379</td>\n      <td>22</td>\n      <td>12</td>\n      <td>1</td>\n      <td>13</td>\n      <td>13:49:31</td>\n      <td>-5</td>\n      <td>0</td>\n      <td>0</td>\n      <td>0</td>\n      <td>0</td>\n      <td>부산70자1854</td>\n      <td>-2</td>\n      <td>8.964040</td>\n    </tr>\n    <tr>\n      <th>18702</th>\n      <td>0</td>\n      <td>549</td>\n      <td>129.171264</td>\n      <td>35.161380</td>\n      <td>22</td>\n      <td>12</td>\n      <td>1</td>\n      <td>13</td>\n      <td>13:49:32</td>\n      <td>-2</td>\n      <td>0</td>\n      <td>0</td>\n      <td>0</td>\n      <td>0</td>\n      <td>부산70자1854</td>\n      <td>0</td>\n      <td>9.212774</td>\n    </tr>\n    <tr>\n      <th>18703</th>\n      <td>0</td>\n      <td>549</td>\n      <td>129.171264</td>\n      <td>35.161380</td>\n      <td>22</td>\n      <td>12</td>\n      <td>1</td>\n      <td>13</td>\n      <td>13:49:33</td>\n      <td>0</td>\n      <td>0</td>\n      <td>0</td>\n      <td>0</td>\n      <td>0</td>\n      <td>부산70자1854</td>\n      <td>0</td>\n      <td>9.212774</td>\n    </tr>\n    <tr>\n      <th>18704</th>\n      <td>0</td>\n      <td>548</td>\n      <td>129.171264</td>\n      <td>35.161380</td>\n      <td>22</td>\n      <td>12</td>\n      <td>1</td>\n      <td>13</td>\n      <td>13:49:34</td>\n      <td>0</td>\n      <td>0</td>\n      <td>0</td>\n      <td>0</td>\n      <td>0</td>\n      <td>부산70자1854</td>\n      <td>0</td>\n      <td>9.212774</td>\n    </tr>\n    <tr>\n      <th>...</th>\n      <td>...</td>\n      <td>...</td>\n      <td>...</td>\n      <td>...</td>\n      <td>...</td>\n      <td>...</td>\n      <td>...</td>\n      <td>...</td>\n      <td>...</td>\n      <td>...</td>\n      <td>...</td>\n      <td>...</td>\n      <td>...</td>\n      <td>...</td>\n      <td>...</td>\n      <td>...</td>\n      <td>...</td>\n    </tr>\n    <tr>\n      <th>18895</th>\n      <td>14</td>\n      <td>669</td>\n      <td>129.175523</td>\n      <td>35.169033</td>\n      <td>22</td>\n      <td>12</td>\n      <td>1</td>\n      <td>13</td>\n      <td>13:52:45</td>\n      <td>-1</td>\n      <td>0</td>\n      <td>0</td>\n      <td>0</td>\n      <td>0</td>\n      <td>부산70자1854</td>\n      <td>-3</td>\n      <td>7.660140</td>\n    </tr>\n    <tr>\n      <th>18896</th>\n      <td>11</td>\n      <td>586</td>\n      <td>129.175557</td>\n      <td>35.169056</td>\n      <td>22</td>\n      <td>12</td>\n      <td>1</td>\n      <td>13</td>\n      <td>13:52:46</td>\n      <td>-3</td>\n      <td>0</td>\n      <td>0</td>\n      <td>0</td>\n      <td>0</td>\n      <td>부산70자1854</td>\n      <td>-2</td>\n      <td>7.959340</td>\n    </tr>\n    <tr>\n      <th>18897</th>\n      <td>9</td>\n      <td>547</td>\n      <td>129.175586</td>\n      <td>35.169075</td>\n      <td>22</td>\n      <td>12</td>\n      <td>1</td>\n      <td>13</td>\n      <td>13:52:47</td>\n      <td>-2</td>\n      <td>0</td>\n      <td>0</td>\n      <td>0</td>\n      <td>0</td>\n      <td>부산70자1854</td>\n      <td>-3</td>\n      <td>8.167955</td>\n    </tr>\n    <tr>\n      <th>18898</th>\n      <td>6</td>\n      <td>544</td>\n      <td>129.175613</td>\n      <td>35.169089</td>\n      <td>22</td>\n      <td>12</td>\n      <td>1</td>\n      <td>13</td>\n      <td>13:52:48</td>\n      <td>-3</td>\n      <td>0</td>\n      <td>0</td>\n      <td>0</td>\n      <td>0</td>\n      <td>부산70자1854</td>\n      <td>-4</td>\n      <td>8.495872</td>\n    </tr>\n    <tr>\n      <th>18899</th>\n      <td>2</td>\n      <td>552</td>\n      <td>129.175631</td>\n      <td>35.169107</td>\n      <td>22</td>\n      <td>12</td>\n      <td>1</td>\n      <td>13</td>\n      <td>13:52:49</td>\n      <td>-4</td>\n      <td>0</td>\n      <td>0</td>\n      <td>0</td>\n      <td>0</td>\n      <td>부산70자1854</td>\n      <td>-2</td>\n      <td>8.964040</td>\n    </tr>\n  </tbody>\n</table>\n<p>200 rows × 17 columns</p>\n</div>"
     },
     "execution_count": 20,
     "metadata": {},
     "output_type": "execute_result"
    }
   ],
   "source": [
    "df.iloc[18700:18900]"
   ],
   "metadata": {
    "collapsed": false,
    "ExecuteTime": {
     "end_time": "2023-05-25T07:39:01.717564500Z",
     "start_time": "2023-05-25T07:39:01.686195500Z"
    }
   }
  }
 ],
 "metadata": {
  "kernelspec": {
   "display_name": "Python 3",
   "language": "python",
   "name": "python3"
  },
  "language_info": {
   "codemirror_mode": {
    "name": "ipython",
    "version": 2
   },
   "file_extension": ".py",
   "mimetype": "text/x-python",
   "name": "python",
   "nbconvert_exporter": "python",
   "pygments_lexer": "ipython2",
   "version": "2.7.6"
  }
 },
 "nbformat": 4,
 "nbformat_minor": 0
}
