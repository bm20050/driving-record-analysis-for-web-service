{
 "cells": [
  {
   "cell_type": "code",
   "execution_count": 1,
   "outputs": [],
   "source": [
    "import pandas as pd\n",
    "import numpy as np\n",
    "import matplotlib.pyplot as plt\n",
    "from sklearn.model_selection import train_test_split\n",
    "\n",
    "import tensorflow as tf\n",
    "from tensorflow import keras\n",
    "from tensorflow.keras import layers"
   ],
   "metadata": {
    "collapsed": false,
    "ExecuteTime": {
     "end_time": "2023-06-09T02:25:28.187101200Z",
     "start_time": "2023-06-09T02:25:25.705508700Z"
    }
   }
  },
  {
   "cell_type": "code",
   "execution_count": 2,
   "outputs": [],
   "source": [
    "df = pd.read_csv('../data/06.05위험운전가속.csv')"
   ],
   "metadata": {
    "collapsed": false,
    "ExecuteTime": {
     "end_time": "2023-06-09T02:25:35.780736100Z",
     "start_time": "2023-06-09T02:25:28.191660100Z"
    }
   }
  },
  {
   "cell_type": "code",
   "execution_count": 3,
   "outputs": [],
   "source": [
    "acc0 = df.query('위험운전가속 == 0')"
   ],
   "metadata": {
    "collapsed": false,
    "ExecuteTime": {
     "end_time": "2023-06-09T02:25:36.098546700Z",
     "start_time": "2023-06-09T02:25:35.784597900Z"
    }
   }
  },
  {
   "cell_type": "code",
   "execution_count": 4,
   "outputs": [],
   "source": [
    "X_train, X_test, y_train, y_test = train_test_split(acc0, acc0, random_state=42, shuffle=True, test_size=0.0056)"
   ],
   "metadata": {
    "collapsed": false,
    "ExecuteTime": {
     "end_time": "2023-06-09T02:25:38.888923800Z",
     "start_time": "2023-06-09T02:25:36.101113Z"
    }
   }
  },
  {
   "cell_type": "code",
   "execution_count": 5,
   "outputs": [],
   "source": [
    "df = df.query('위험운전가속 != 0')"
   ],
   "metadata": {
    "collapsed": false,
    "ExecuteTime": {
     "end_time": "2023-06-09T02:25:39.016266900Z",
     "start_time": "2023-06-09T02:25:38.888923800Z"
    }
   }
  },
  {
   "cell_type": "code",
   "execution_count": 6,
   "outputs": [
    {
     "data": {
      "text/plain": "               날짜        번호판  일일주행거리   누적주행거리          정보발생일시  차량속도   RPM   \n709      20221201  부산70자1854       1    66445  22120105190400    11  1137  \\\n829      20221201  부산70자1854       2    66446  22120105210400    13  1322   \n833      20221201  부산70자1854       2    66446  22120105210800    26  1460   \n1026     20221201  부산70자1854       4    66448  22120105242100     9   991   \n1083     20221201  부산70자1854       4    66448  22120105251800     8   812   \n...           ...        ...     ...      ...             ...   ...   ...   \n1384279  20221230  부산70자1854      21    72162  22123009190600    24   562   \n3490280  20221213  부산70자1894      19  3091803  22121309051800     1   578   \n1003278  20221222  부산70자1854     165    70543  22122220094000    44   915   \n4394920  20221230  부산70자1894     120  3095428  22123016350300    31  1736   \n217268   20221206  부산70자1854     117    67323  22120616481500    24  1362   \n\n         브레이크       GPS_X      GPS_Y  ...   월   일   시   분   초    가속도max   \n709         0  129.147649  35.225609  ...  12   1   5  19   4  7.959340  \\\n829         0  129.138040  35.219831  ...  12   1   5  21   4  7.758123   \n833         0  129.137892  35.219834  ...  12   1   5  21   8  6.601077   \n1026        0  129.125022  35.219140  ...  12   1   5  24  21  8.167955   \n1083        0  129.124679  35.217222  ...  12   1   5  25  18  8.275195   \n...       ...         ...        ...  ...  ..  ..  ..  ..  ..       ...   \n1384279     1  129.166023  35.162066  ...  12  30   9  19   6  6.764248   \n3490280     1  129.174542  35.168420  ...  12  13   9   5  18  9.087118   \n1003278     0  129.132879  35.172475  ...  12  22  20   9  40  5.317101   \n4394920     0  129.140638  35.167250  ...  12  30  16  35   3  6.212917   \n217268      0  129.162597  35.165801  ...  12   6  16  48  15  6.764248   \n\n           가속도min    가속도max2  가속도  위험운전가속  \n709      5.401764  10.516915    6       1  \n829      5.290563  10.225683    6       1  \n833      4.589684   8.612471    5       1  \n1026     5.513215  10.822696    6       1  \n1083     5.568950  10.981439    6       1  \n...           ...        ...  ...     ...  \n1384279  4.693844   8.834652   -1       0  \n3490280  5.955880  12.218356   -2       0  \n1003278  3.745206   6.888995    0       0  \n4394920  4.337265   8.088569    2       0  \n217268   4.693844   8.834652    0       0  \n\n[82459 rows x 24 columns]",
      "text/html": "<div>\n<style scoped>\n    .dataframe tbody tr th:only-of-type {\n        vertical-align: middle;\n    }\n\n    .dataframe tbody tr th {\n        vertical-align: top;\n    }\n\n    .dataframe thead th {\n        text-align: right;\n    }\n</style>\n<table border=\"1\" class=\"dataframe\">\n  <thead>\n    <tr style=\"text-align: right;\">\n      <th></th>\n      <th>날짜</th>\n      <th>번호판</th>\n      <th>일일주행거리</th>\n      <th>누적주행거리</th>\n      <th>정보발생일시</th>\n      <th>차량속도</th>\n      <th>RPM</th>\n      <th>브레이크</th>\n      <th>GPS_X</th>\n      <th>GPS_Y</th>\n      <th>...</th>\n      <th>월</th>\n      <th>일</th>\n      <th>시</th>\n      <th>분</th>\n      <th>초</th>\n      <th>가속도max</th>\n      <th>가속도min</th>\n      <th>가속도max2</th>\n      <th>가속도</th>\n      <th>위험운전가속</th>\n    </tr>\n  </thead>\n  <tbody>\n    <tr>\n      <th>709</th>\n      <td>20221201</td>\n      <td>부산70자1854</td>\n      <td>1</td>\n      <td>66445</td>\n      <td>22120105190400</td>\n      <td>11</td>\n      <td>1137</td>\n      <td>0</td>\n      <td>129.147649</td>\n      <td>35.225609</td>\n      <td>...</td>\n      <td>12</td>\n      <td>1</td>\n      <td>5</td>\n      <td>19</td>\n      <td>4</td>\n      <td>7.959340</td>\n      <td>5.401764</td>\n      <td>10.516915</td>\n      <td>6</td>\n      <td>1</td>\n    </tr>\n    <tr>\n      <th>829</th>\n      <td>20221201</td>\n      <td>부산70자1854</td>\n      <td>2</td>\n      <td>66446</td>\n      <td>22120105210400</td>\n      <td>13</td>\n      <td>1322</td>\n      <td>0</td>\n      <td>129.138040</td>\n      <td>35.219831</td>\n      <td>...</td>\n      <td>12</td>\n      <td>1</td>\n      <td>5</td>\n      <td>21</td>\n      <td>4</td>\n      <td>7.758123</td>\n      <td>5.290563</td>\n      <td>10.225683</td>\n      <td>6</td>\n      <td>1</td>\n    </tr>\n    <tr>\n      <th>833</th>\n      <td>20221201</td>\n      <td>부산70자1854</td>\n      <td>2</td>\n      <td>66446</td>\n      <td>22120105210800</td>\n      <td>26</td>\n      <td>1460</td>\n      <td>0</td>\n      <td>129.137892</td>\n      <td>35.219834</td>\n      <td>...</td>\n      <td>12</td>\n      <td>1</td>\n      <td>5</td>\n      <td>21</td>\n      <td>8</td>\n      <td>6.601077</td>\n      <td>4.589684</td>\n      <td>8.612471</td>\n      <td>5</td>\n      <td>1</td>\n    </tr>\n    <tr>\n      <th>1026</th>\n      <td>20221201</td>\n      <td>부산70자1854</td>\n      <td>4</td>\n      <td>66448</td>\n      <td>22120105242100</td>\n      <td>9</td>\n      <td>991</td>\n      <td>0</td>\n      <td>129.125022</td>\n      <td>35.219140</td>\n      <td>...</td>\n      <td>12</td>\n      <td>1</td>\n      <td>5</td>\n      <td>24</td>\n      <td>21</td>\n      <td>8.167955</td>\n      <td>5.513215</td>\n      <td>10.822696</td>\n      <td>6</td>\n      <td>1</td>\n    </tr>\n    <tr>\n      <th>1083</th>\n      <td>20221201</td>\n      <td>부산70자1854</td>\n      <td>4</td>\n      <td>66448</td>\n      <td>22120105251800</td>\n      <td>8</td>\n      <td>812</td>\n      <td>0</td>\n      <td>129.124679</td>\n      <td>35.217222</td>\n      <td>...</td>\n      <td>12</td>\n      <td>1</td>\n      <td>5</td>\n      <td>25</td>\n      <td>18</td>\n      <td>8.275195</td>\n      <td>5.568950</td>\n      <td>10.981439</td>\n      <td>6</td>\n      <td>1</td>\n    </tr>\n    <tr>\n      <th>...</th>\n      <td>...</td>\n      <td>...</td>\n      <td>...</td>\n      <td>...</td>\n      <td>...</td>\n      <td>...</td>\n      <td>...</td>\n      <td>...</td>\n      <td>...</td>\n      <td>...</td>\n      <td>...</td>\n      <td>...</td>\n      <td>...</td>\n      <td>...</td>\n      <td>...</td>\n      <td>...</td>\n      <td>...</td>\n      <td>...</td>\n      <td>...</td>\n      <td>...</td>\n      <td>...</td>\n    </tr>\n    <tr>\n      <th>1384279</th>\n      <td>20221230</td>\n      <td>부산70자1854</td>\n      <td>21</td>\n      <td>72162</td>\n      <td>22123009190600</td>\n      <td>24</td>\n      <td>562</td>\n      <td>1</td>\n      <td>129.166023</td>\n      <td>35.162066</td>\n      <td>...</td>\n      <td>12</td>\n      <td>30</td>\n      <td>9</td>\n      <td>19</td>\n      <td>6</td>\n      <td>6.764248</td>\n      <td>4.693844</td>\n      <td>8.834652</td>\n      <td>-1</td>\n      <td>0</td>\n    </tr>\n    <tr>\n      <th>3490280</th>\n      <td>20221213</td>\n      <td>부산70자1894</td>\n      <td>19</td>\n      <td>3091803</td>\n      <td>22121309051800</td>\n      <td>1</td>\n      <td>578</td>\n      <td>1</td>\n      <td>129.174542</td>\n      <td>35.168420</td>\n      <td>...</td>\n      <td>12</td>\n      <td>13</td>\n      <td>9</td>\n      <td>5</td>\n      <td>18</td>\n      <td>9.087118</td>\n      <td>5.955880</td>\n      <td>12.218356</td>\n      <td>-2</td>\n      <td>0</td>\n    </tr>\n    <tr>\n      <th>1003278</th>\n      <td>20221222</td>\n      <td>부산70자1854</td>\n      <td>165</td>\n      <td>70543</td>\n      <td>22122220094000</td>\n      <td>44</td>\n      <td>915</td>\n      <td>0</td>\n      <td>129.132879</td>\n      <td>35.172475</td>\n      <td>...</td>\n      <td>12</td>\n      <td>22</td>\n      <td>20</td>\n      <td>9</td>\n      <td>40</td>\n      <td>5.317101</td>\n      <td>3.745206</td>\n      <td>6.888995</td>\n      <td>0</td>\n      <td>0</td>\n    </tr>\n    <tr>\n      <th>4394920</th>\n      <td>20221230</td>\n      <td>부산70자1894</td>\n      <td>120</td>\n      <td>3095428</td>\n      <td>22123016350300</td>\n      <td>31</td>\n      <td>1736</td>\n      <td>0</td>\n      <td>129.140638</td>\n      <td>35.167250</td>\n      <td>...</td>\n      <td>12</td>\n      <td>30</td>\n      <td>16</td>\n      <td>35</td>\n      <td>3</td>\n      <td>6.212917</td>\n      <td>4.337265</td>\n      <td>8.088569</td>\n      <td>2</td>\n      <td>0</td>\n    </tr>\n    <tr>\n      <th>217268</th>\n      <td>20221206</td>\n      <td>부산70자1854</td>\n      <td>117</td>\n      <td>67323</td>\n      <td>22120616481500</td>\n      <td>24</td>\n      <td>1362</td>\n      <td>0</td>\n      <td>129.162597</td>\n      <td>35.165801</td>\n      <td>...</td>\n      <td>12</td>\n      <td>6</td>\n      <td>16</td>\n      <td>48</td>\n      <td>15</td>\n      <td>6.764248</td>\n      <td>4.693844</td>\n      <td>8.834652</td>\n      <td>0</td>\n      <td>0</td>\n    </tr>\n  </tbody>\n</table>\n<p>82459 rows × 24 columns</p>\n</div>"
     },
     "execution_count": 6,
     "metadata": {},
     "output_type": "execute_result"
    }
   ],
   "source": [
    "df = pd.concat([df, X_test], axis=0)\n",
    "df"
   ],
   "metadata": {
    "collapsed": false,
    "ExecuteTime": {
     "end_time": "2023-06-09T02:25:39.063540400Z",
     "start_time": "2023-06-09T02:25:39.016266900Z"
    }
   }
  },
  {
   "cell_type": "code",
   "execution_count": 7,
   "outputs": [],
   "source": [
    "X = df[['시', '분', 'GPS_X', 'GPS_Y']]\n",
    "y = df['위험운전가속']"
   ],
   "metadata": {
    "collapsed": false,
    "ExecuteTime": {
     "end_time": "2023-06-09T02:25:39.079235900Z",
     "start_time": "2023-06-09T02:25:39.063540400Z"
    }
   }
  },
  {
   "cell_type": "code",
   "execution_count": 8,
   "outputs": [],
   "source": [
    "X_train, X_test, y_train, y_test = train_test_split(X, y, random_state=42, shuffle=True, test_size=0.3)"
   ],
   "metadata": {
    "collapsed": false,
    "ExecuteTime": {
     "end_time": "2023-06-09T02:25:39.220480Z",
     "start_time": "2023-06-09T02:25:39.079235900Z"
    }
   }
  },
  {
   "cell_type": "code",
   "execution_count": 9,
   "outputs": [],
   "source": [
    "from tensorflow.keras.utils import to_categorical\n",
    "\n",
    "y_train_categorical = to_categorical(y_train, num_classes=4)\n",
    "y_test_categorical = to_categorical(y_test, num_classes=4)"
   ],
   "metadata": {
    "collapsed": false,
    "ExecuteTime": {
     "end_time": "2023-06-09T02:25:39.236533700Z",
     "start_time": "2023-06-09T02:25:39.220480Z"
    }
   }
  },
  {
   "cell_type": "code",
   "execution_count": 10,
   "outputs": [],
   "source": [
    "features = {\n",
    "    '시': X_train['시'].values,\n",
    "    '분': X_train['분'].values,\n",
    "    'GPS_X': X_train['GPS_X'].values,\n",
    "    'GPS_Y': X_train['GPS_Y'].values,\n",
    "}\n",
    "labels = y_train_categorical"
   ],
   "metadata": {
    "collapsed": false,
    "ExecuteTime": {
     "end_time": "2023-06-09T02:25:39.252619600Z",
     "start_time": "2023-06-09T02:25:39.236533700Z"
    }
   }
  },
  {
   "cell_type": "code",
   "execution_count": 11,
   "outputs": [],
   "source": [
    "predict_features = {\n",
    "    '시': X_train['시'].values,\n",
    "    '분': X_train['분'].values,\n",
    "    'GPS_X': X_train['GPS_X'].values,\n",
    "    'GPS_Y': X_train['GPS_Y'].values,\n",
    "}"
   ],
   "metadata": {
    "collapsed": false,
    "ExecuteTime": {
     "end_time": "2023-06-09T02:25:39.268258700Z",
     "start_time": "2023-06-09T02:25:39.252619600Z"
    }
   }
  },
  {
   "cell_type": "code",
   "execution_count": 12,
   "outputs": [
    {
     "data": {
      "text/plain": "{'시': array([11, 20, 18, ..., 19, 23, 21], dtype=int64),\n '분': array([56,  3,  5, ..., 35,  5, 33], dtype=int64),\n 'GPS_X': array([129.124649, 129.167668, 129.16751 , ..., 129.177271, 129.152031,\n        129.178835]),\n 'GPS_Y': array([35.213512, 35.162029, 35.174219, ..., 35.170273, 35.160333,\n        35.176593])}"
     },
     "execution_count": 12,
     "metadata": {},
     "output_type": "execute_result"
    }
   ],
   "source": [
    "features"
   ],
   "metadata": {
    "collapsed": false,
    "ExecuteTime": {
     "end_time": "2023-06-09T02:25:39.315788700Z",
     "start_time": "2023-06-09T02:25:39.268258700Z"
    }
   }
  },
  {
   "cell_type": "code",
   "execution_count": 13,
   "outputs": [
    {
     "name": "stdout",
     "output_type": "stream",
     "text": [
      "시: 22\n",
      "분: 60\n",
      "GPS_X: 36737\n",
      "GPS_Y: 32869\n"
     ]
    }
   ],
   "source": [
    "colname = ['시', '분', 'GPS_X', 'GPS_Y']\n",
    "unique_values = {}\n",
    "for col in colname:\n",
    "    unique_values[col] = X[col].unique()\n",
    "    print(f\"{col}: {len(unique_values[col])}\")"
   ],
   "metadata": {
    "collapsed": false,
    "ExecuteTime": {
     "end_time": "2023-06-09T02:25:47.608516300Z",
     "start_time": "2023-06-09T02:25:47.592893400Z"
    }
   }
  },
  {
   "cell_type": "code",
   "execution_count": 18,
   "outputs": [
    {
     "data": {
      "text/plain": "35.181028702785625"
     },
     "execution_count": 18,
     "metadata": {},
     "output_type": "execute_result"
    }
   ],
   "source": [
    "df['GPS_Y'].mean()"
   ],
   "metadata": {
    "collapsed": false,
    "ExecuteTime": {
     "end_time": "2023-06-09T02:40:01.864399900Z",
     "start_time": "2023-06-09T02:40:01.840750400Z"
    }
   }
  },
  {
   "cell_type": "code",
   "execution_count": 20,
   "outputs": [
    {
     "name": "stdout",
     "output_type": "stream",
     "text": [
      "Model: \"model\"\n",
      "__________________________________________________________________________________________________\n",
      " Layer (type)                   Output Shape         Param #     Connected to                     \n",
      "==================================================================================================\n",
      " input_19 (InputLayer)          [(None,)]            0           []                               \n",
      "                                                                                                  \n",
      " input_20 (InputLayer)          [(None,)]            0           []                               \n",
      "                                                                                                  \n",
      " input_18 (InputLayer)          [(None,)]            0           []                               \n",
      "                                                                                                  \n",
      " input_17 (InputLayer)          [(None,)]            0           []                               \n",
      "                                                                                                  \n",
      " normalization_12 (Normalizatio  (None,)             0           ['input_19[0][0]']               \n",
      " n)                                                                                               \n",
      "                                                                                                  \n",
      " normalization_13 (Normalizatio  (None,)             0           ['input_20[0][0]']               \n",
      " n)                                                                                               \n",
      "                                                                                                  \n",
      " normalization_11 (Normalizatio  (None,)             0           ['input_18[0][0]']               \n",
      " n)                                                                                               \n",
      "                                                                                                  \n",
      " normalization_10 (Normalizatio  (None,)             0           ['input_17[0][0]']               \n",
      " n)                                                                                               \n",
      "                                                                                                  \n",
      "==================================================================================================\n",
      "Total params: 0\n",
      "Trainable params: 0\n",
      "Non-trainable params: 0\n",
      "__________________________________________________________________________________________________\n"
     ]
    }
   ],
   "source": [
    "\n",
    "inputs = {\n",
    "    '시': tf.keras.Input(shape=(), dtype='int64'),\n",
    "    '분': tf.keras.Input(shape=(), dtype='int64'),\n",
    "    'GPS_X': tf.keras.Input(shape=(), dtype='float64'),\n",
    "    'GPS_Y': tf.keras.Input(shape=(), dtype='float64')\n",
    "}\n",
    "\n",
    "hour_output = tf.keras.layers.Normalization(axis=None, mean=243, variance=22)(inputs['시'])\n",
    "minute_output = tf.keras.layers.Normalization(axis=None, mean=1830, variance=60)(inputs['분'])\n",
    "GPS_X_output = tf.keras.layers.Normalization(axis=None, mean=129.14, variance=36237)(inputs['GPS_X'])\n",
    "GPS_Y_output = tf.keras.layers.Normalization(axis=None, mean=35.18, variance=32869)(inputs['GPS_Y'])\n",
    "\n",
    "outputs = {\n",
    "    '시': hour_output,\n",
    "    '분': minute_output,\n",
    "    'GPS_X': GPS_X_output,\n",
    "    'GPS_Y': GPS_Y_output,\n",
    "}\n",
    "\n",
    "preprocessing_model = tf.keras.Model(inputs, outputs)\n",
    "preprocessing_model.summary()"
   ],
   "metadata": {
    "collapsed": false,
    "ExecuteTime": {
     "end_time": "2023-06-09T02:40:25.632065300Z",
     "start_time": "2023-06-09T02:40:25.540136800Z"
    }
   }
  },
  {
   "cell_type": "code",
   "execution_count": 16,
   "outputs": [
    {
     "data": {
      "text/plain": "({'시': array([11], dtype=int64),\n  '분': array([19], dtype=int64),\n  'GPS_X': array([2011], dtype=int64),\n  'GPS_Y': array([20918], dtype=int64)},\n array([[0., 1., 0., 0.]], dtype=float32))"
     },
     "execution_count": 16,
     "metadata": {},
     "output_type": "execute_result"
    }
   ],
   "source": [
    "# Apply the preprocessing in tf.data.Dataset.map.\n",
    "dataset = tf.data.Dataset.from_tensor_slices((features, labels)).batch(1)\n",
    "dataset = dataset.map(lambda x, y: (preprocessing_model(x), y),\n",
    "                      num_parallel_calls=tf.data.AUTOTUNE)\n",
    "# Display a preprocessed input sample.\n",
    "next(dataset.take(1).as_numpy_iterator())"
   ],
   "metadata": {
    "collapsed": false,
    "ExecuteTime": {
     "end_time": "2023-06-09T01:55:32.252322300Z",
     "start_time": "2023-06-09T01:55:32.118956200Z"
    }
   }
  },
  {
   "cell_type": "code",
   "execution_count": 29,
   "outputs": [
    {
     "ename": "ValueError",
     "evalue": "Exception encountered when calling layer \"tf.expand_dims_21\" (type TFOpLambda).\n\ndim 2 not in the interval [-2, 1]. for '{{node tf.expand_dims_21/ExpandDims}} = ExpandDims[T=DT_DOUBLE, Tdim=DT_INT32](Placeholder, tf.expand_dims_21/ExpandDims/dim)' with input shapes: [?], [] and with computed input tensors: input[1] = <2>.\n\nCall arguments received by layer \"tf.expand_dims_21\" (type TFOpLambda):\n  • input=tf.Tensor(shape=(None,), dtype=float64)\n  • axis=2\n  • name=None",
     "output_type": "error",
     "traceback": [
      "\u001B[1;31m---------------------------------------------------------------------------\u001B[0m",
      "\u001B[1;31mValueError\u001B[0m                                Traceback (most recent call last)",
      "Cell \u001B[1;32mIn[29], line 10\u001B[0m\n\u001B[0;32m      1\u001B[0m inputs \u001B[38;5;241m=\u001B[39m {\n\u001B[0;32m      2\u001B[0m     \u001B[38;5;124m'\u001B[39m\u001B[38;5;124m시\u001B[39m\u001B[38;5;124m'\u001B[39m: tf\u001B[38;5;241m.\u001B[39mkeras\u001B[38;5;241m.\u001B[39mInput(shape\u001B[38;5;241m=\u001B[39m(), dtype\u001B[38;5;241m=\u001B[39m\u001B[38;5;124m'\u001B[39m\u001B[38;5;124mfloat64\u001B[39m\u001B[38;5;124m'\u001B[39m),\n\u001B[0;32m      3\u001B[0m     \u001B[38;5;124m'\u001B[39m\u001B[38;5;124m분\u001B[39m\u001B[38;5;124m'\u001B[39m: tf\u001B[38;5;241m.\u001B[39mkeras\u001B[38;5;241m.\u001B[39mInput(shape\u001B[38;5;241m=\u001B[39m(), dtype\u001B[38;5;241m=\u001B[39m\u001B[38;5;124m'\u001B[39m\u001B[38;5;124mfloat64\u001B[39m\u001B[38;5;124m'\u001B[39m),\n\u001B[0;32m      4\u001B[0m     \u001B[38;5;124m'\u001B[39m\u001B[38;5;124mGPS_X\u001B[39m\u001B[38;5;124m'\u001B[39m: tf\u001B[38;5;241m.\u001B[39mkeras\u001B[38;5;241m.\u001B[39mInput(shape\u001B[38;5;241m=\u001B[39m(), dtype\u001B[38;5;241m=\u001B[39m\u001B[38;5;124m'\u001B[39m\u001B[38;5;124mfloat64\u001B[39m\u001B[38;5;124m'\u001B[39m),\n\u001B[0;32m      5\u001B[0m     \u001B[38;5;124m'\u001B[39m\u001B[38;5;124mGPS_Y\u001B[39m\u001B[38;5;124m'\u001B[39m: tf\u001B[38;5;241m.\u001B[39mkeras\u001B[38;5;241m.\u001B[39mInput(shape\u001B[38;5;241m=\u001B[39m(), dtype\u001B[38;5;241m=\u001B[39m\u001B[38;5;124m'\u001B[39m\u001B[38;5;124mfloat64\u001B[39m\u001B[38;5;124m'\u001B[39m)\n\u001B[0;32m      6\u001B[0m }\n\u001B[0;32m      8\u001B[0m outputs \u001B[38;5;241m=\u001B[39m tf\u001B[38;5;241m.\u001B[39mkeras\u001B[38;5;241m.\u001B[39mlayers\u001B[38;5;241m.\u001B[39mConcatenate()([\n\u001B[0;32m      9\u001B[0m     tf\u001B[38;5;241m.\u001B[39mexpand_dims(inputs[\u001B[38;5;124m'\u001B[39m\u001B[38;5;124m시\u001B[39m\u001B[38;5;124m'\u001B[39m], \u001B[38;5;241m1\u001B[39m),\n\u001B[1;32m---> 10\u001B[0m     \u001B[43mtf\u001B[49m\u001B[38;5;241;43m.\u001B[39;49m\u001B[43mexpand_dims\u001B[49m\u001B[43m(\u001B[49m\u001B[43minputs\u001B[49m\u001B[43m[\u001B[49m\u001B[38;5;124;43m'\u001B[39;49m\u001B[38;5;124;43m분\u001B[39;49m\u001B[38;5;124;43m'\u001B[39;49m\u001B[43m]\u001B[49m\u001B[43m,\u001B[49m\u001B[43m \u001B[49m\u001B[38;5;241;43m2\u001B[39;49m\u001B[43m)\u001B[49m,\n\u001B[0;32m     11\u001B[0m     tf\u001B[38;5;241m.\u001B[39mexpand_dims(inputs[\u001B[38;5;124m'\u001B[39m\u001B[38;5;124mGPS_X\u001B[39m\u001B[38;5;124m'\u001B[39m], \u001B[38;5;241m3\u001B[39m),\n\u001B[0;32m     12\u001B[0m     tf\u001B[38;5;241m.\u001B[39mexpand_dims(inputs[\u001B[38;5;124m'\u001B[39m\u001B[38;5;124mGPS_Y\u001B[39m\u001B[38;5;124m'\u001B[39m], \u001B[38;5;241m4\u001B[39m),\n\u001B[0;32m     13\u001B[0m ])\n\u001B[0;32m     15\u001B[0m \u001B[38;5;28;01mfrom\u001B[39;00m \u001B[38;5;21;01mkeras\u001B[39;00m\u001B[38;5;21;01m.\u001B[39;00m\u001B[38;5;21;01mmodels\u001B[39;00m \u001B[38;5;28;01mimport\u001B[39;00m Sequential, Model\n\u001B[0;32m     16\u001B[0m \u001B[38;5;28;01mfrom\u001B[39;00m \u001B[38;5;21;01mkeras\u001B[39;00m\u001B[38;5;21;01m.\u001B[39;00m\u001B[38;5;21;01mlayers\u001B[39;00m \u001B[38;5;28;01mimport\u001B[39;00m Input, Embedding, Dense, concatenate, Flatten, Conv1D, GlobalMaxPooling1D, LSTM\n",
      "File \u001B[1;32m~\\Desktop\\project\\driving-record-analysis-for-web-service\\flask\\venv\\lib\\site-packages\\tensorflow\\python\\util\\traceback_utils.py:153\u001B[0m, in \u001B[0;36mfilter_traceback.<locals>.error_handler\u001B[1;34m(*args, **kwargs)\u001B[0m\n\u001B[0;32m    151\u001B[0m \u001B[38;5;28;01mexcept\u001B[39;00m \u001B[38;5;167;01mException\u001B[39;00m \u001B[38;5;28;01mas\u001B[39;00m e:\n\u001B[0;32m    152\u001B[0m   filtered_tb \u001B[38;5;241m=\u001B[39m _process_traceback_frames(e\u001B[38;5;241m.\u001B[39m__traceback__)\n\u001B[1;32m--> 153\u001B[0m   \u001B[38;5;28;01mraise\u001B[39;00m e\u001B[38;5;241m.\u001B[39mwith_traceback(filtered_tb) \u001B[38;5;28;01mfrom\u001B[39;00m \u001B[38;5;28;01mNone\u001B[39;00m\n\u001B[0;32m    154\u001B[0m \u001B[38;5;28;01mfinally\u001B[39;00m:\n\u001B[0;32m    155\u001B[0m   \u001B[38;5;28;01mdel\u001B[39;00m filtered_tb\n",
      "File \u001B[1;32m~\\Desktop\\project\\driving-record-analysis-for-web-service\\flask\\venv\\lib\\site-packages\\keras\\layers\\core\\tf_op_layer.py:119\u001B[0m, in \u001B[0;36mKerasOpDispatcher.handle\u001B[1;34m(self, op, args, kwargs)\u001B[0m\n\u001B[0;32m    114\u001B[0m \u001B[38;5;250m\u001B[39m\u001B[38;5;124;03m\"\"\"Handle the specified operation with the specified arguments.\"\"\"\u001B[39;00m\n\u001B[0;32m    115\u001B[0m \u001B[38;5;28;01mif\u001B[39;00m \u001B[38;5;28many\u001B[39m(\n\u001B[0;32m    116\u001B[0m     \u001B[38;5;28misinstance\u001B[39m(x, keras_tensor\u001B[38;5;241m.\u001B[39mKerasTensor)\n\u001B[0;32m    117\u001B[0m     \u001B[38;5;28;01mfor\u001B[39;00m x \u001B[38;5;129;01min\u001B[39;00m tf\u001B[38;5;241m.\u001B[39mnest\u001B[38;5;241m.\u001B[39mflatten([args, kwargs])\n\u001B[0;32m    118\u001B[0m ):\n\u001B[1;32m--> 119\u001B[0m     \u001B[38;5;28;01mreturn\u001B[39;00m TFOpLambda(op)(\u001B[38;5;241m*\u001B[39margs, \u001B[38;5;241m*\u001B[39m\u001B[38;5;241m*\u001B[39mkwargs)\n\u001B[0;32m    120\u001B[0m \u001B[38;5;28;01melse\u001B[39;00m:\n\u001B[0;32m    121\u001B[0m     \u001B[38;5;28;01mreturn\u001B[39;00m \u001B[38;5;28mself\u001B[39m\u001B[38;5;241m.\u001B[39mNOT_SUPPORTED\n",
      "File \u001B[1;32m~\\Desktop\\project\\driving-record-analysis-for-web-service\\flask\\venv\\lib\\site-packages\\keras\\utils\\traceback_utils.py:70\u001B[0m, in \u001B[0;36mfilter_traceback.<locals>.error_handler\u001B[1;34m(*args, **kwargs)\u001B[0m\n\u001B[0;32m     67\u001B[0m     filtered_tb \u001B[38;5;241m=\u001B[39m _process_traceback_frames(e\u001B[38;5;241m.\u001B[39m__traceback__)\n\u001B[0;32m     68\u001B[0m     \u001B[38;5;66;03m# To get the full stack trace, call:\u001B[39;00m\n\u001B[0;32m     69\u001B[0m     \u001B[38;5;66;03m# `tf.debugging.disable_traceback_filtering()`\u001B[39;00m\n\u001B[1;32m---> 70\u001B[0m     \u001B[38;5;28;01mraise\u001B[39;00m e\u001B[38;5;241m.\u001B[39mwith_traceback(filtered_tb) \u001B[38;5;28;01mfrom\u001B[39;00m \u001B[38;5;28;01mNone\u001B[39;00m\n\u001B[0;32m     71\u001B[0m \u001B[38;5;28;01mfinally\u001B[39;00m:\n\u001B[0;32m     72\u001B[0m     \u001B[38;5;28;01mdel\u001B[39;00m filtered_tb\n",
      "\u001B[1;31mValueError\u001B[0m: Exception encountered when calling layer \"tf.expand_dims_21\" (type TFOpLambda).\n\ndim 2 not in the interval [-2, 1]. for '{{node tf.expand_dims_21/ExpandDims}} = ExpandDims[T=DT_DOUBLE, Tdim=DT_INT32](Placeholder, tf.expand_dims_21/ExpandDims/dim)' with input shapes: [?], [] and with computed input tensors: input[1] = <2>.\n\nCall arguments received by layer \"tf.expand_dims_21\" (type TFOpLambda):\n  • input=tf.Tensor(shape=(None,), dtype=float64)\n  • axis=2\n  • name=None"
     ]
    }
   ],
   "source": [
    "inputs = {\n",
    "    '시': tf.keras.Input(shape=(), dtype='float64'),\n",
    "    '분': tf.keras.Input(shape=(), dtype='float64'),\n",
    "    'GPS_X': tf.keras.Input(shape=(), dtype='float64'),\n",
    "    'GPS_Y': tf.keras.Input(shape=(), dtype='float64')\n",
    "}\n",
    "\n",
    "outputs = tf.keras.layers.Concatenate()([\n",
    "    tf.expand_dims(inputs['시'], 1),\n",
    "    tf.expand_dims(inputs['분'], 2),\n",
    "    tf.expand_dims(inputs['GPS_X'], 3),\n",
    "    tf.expand_dims(inputs['GPS_Y'], 4),\n",
    "])\n",
    "\n",
    "from keras.models import Sequential, Model\n",
    "from keras.layers import Input, Embedding, Dense, concatenate, Flatten, Conv1D, GlobalMaxPooling1D, LSTM\n",
    "\n",
    "outputs = tf.expand_dims(outputs, axis=2)\n",
    "\n",
    "# CNN Layer\n",
    "cnn_output = Conv1D(filters=128, kernel_size=1, activation='relu')(outputs)  # kernel_size 수정\n",
    "cnn_output = GlobalMaxPooling1D()(cnn_output)\n",
    "\n",
    "# LSTM Layer\n",
    "lstm_output = LSTM(128)(outputs)\n",
    "\n",
    "# Dense Layer\n",
    "dense_input = concatenate([cnn_output, lstm_output], axis=2)\n",
    "dense_output = Dense(64, activation='relu', name='Dense_output')(dense_input)\n",
    "\n",
    "outputs = Dense(4, activation='softmax', name=\"Prediction_output\")(dense_output)\n",
    "\n",
    "# outputs = tf.keras.layers.Dense(1)(outputs)\n",
    "training_model = tf.keras.Model(inputs, outputs)\n",
    "training_model.summary()"
   ],
   "metadata": {
    "collapsed": false,
    "ExecuteTime": {
     "end_time": "2023-06-09T02:49:46.048467100Z",
     "start_time": "2023-06-09T02:49:46.000919300Z"
    }
   }
  },
  {
   "cell_type": "code",
   "execution_count": 20,
   "outputs": [
    {
     "data": {
      "text/plain": "TensorShape([None, 4])"
     },
     "execution_count": 20,
     "metadata": {},
     "output_type": "execute_result"
    }
   ],
   "source": [
    "outputs.shape"
   ],
   "metadata": {
    "collapsed": false,
    "ExecuteTime": {
     "end_time": "2023-06-09T01:59:07.318769100Z",
     "start_time": "2023-06-09T01:59:07.300611100Z"
    }
   }
  },
  {
   "cell_type": "code",
   "execution_count": 21,
   "outputs": [
    {
     "name": "stdout",
     "output_type": "stream",
     "text": [
      "Epoch 1/10\n",
      "13533/57721 [======>.......................] - ETA: 3:56 - loss: 0.7284 - accuracy: 0.6750"
     ]
    }
   ],
   "source": [
    "training_model.compile(loss=tf.keras.losses.CategoricalCrossentropy(from_logits=False),\n",
    "                       optimizer=tf.keras.optimizers.Adam(),\n",
    "                       metrics=['accuracy'])\n",
    "\n",
    "training_model.fit(dataset, epochs=10, batch_size=32)"
   ],
   "metadata": {
    "collapsed": false,
    "ExecuteTime": {
     "end_time": "2023-06-09T02:21:49.851190200Z",
     "start_time": "2023-06-09T02:00:38.429626900Z"
    }
   }
  },
  {
   "cell_type": "code",
   "execution_count": null,
   "outputs": [],
   "source": [],
   "metadata": {
    "collapsed": false
   }
  }
 ],
 "metadata": {
  "kernelspec": {
   "display_name": "Python 3",
   "language": "python",
   "name": "python3"
  },
  "language_info": {
   "codemirror_mode": {
    "name": "ipython",
    "version": 2
   },
   "file_extension": ".py",
   "mimetype": "text/x-python",
   "name": "python",
   "nbconvert_exporter": "python",
   "pygments_lexer": "ipython2",
   "version": "2.7.6"
  }
 },
 "nbformat": 4,
 "nbformat_minor": 0
}
