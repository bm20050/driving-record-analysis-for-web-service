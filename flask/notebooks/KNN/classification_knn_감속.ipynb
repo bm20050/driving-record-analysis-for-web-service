{
 "cells": [
  {
   "cell_type": "code",
   "execution_count": 1,
   "metadata": {
    "collapsed": true,
    "ExecuteTime": {
     "end_time": "2023-06-09T00:58:19.181976400Z",
     "start_time": "2023-06-09T00:58:18.480955400Z"
    }
   },
   "outputs": [],
   "source": [
    "import pandas as pd\n",
    "import warnings\n",
    "warnings.filterwarnings(\"ignore\")\n",
    "from sklearn.model_selection import train_test_split\n",
    "from sklearn.metrics import accuracy_score\n",
    "from xgboost import XGBClassifier\n",
    "from sklearn.metrics import f1_score\n",
    "from sklearn.neighbors import KNeighborsClassifier"
   ]
  },
  {
   "cell_type": "code",
   "execution_count": 2,
   "outputs": [
    {
     "data": {
      "text/plain": "               날짜        번호판  일일주행거리   누적주행거리          정보발생일시  차량속도  RPM   \n0        20221201  부산70자1854       0    66443  22120105071500     0  193  \\\n1        20221201  부산70자1854       0    66443  22120105071600     0  388   \n2        20221201  부산70자1854       0    66443  22120105071700     0  777   \n3        20221201  부산70자1854       0    66443  22120105071800     0  638   \n4        20221201  부산70자1854       0    66443  22120105071900     0  461   \n...           ...        ...     ...      ...             ...   ...  ...   \n4462382  20221231  부산70자1894     176  3095705  22123121033800     0  331   \n4462383  20221231  부산70자1894     176  3095705  22123121033900     0   59   \n4462384  20221231  부산70자1894     176  3095705  22123121034000     0    0   \n4462385  20221231  부산70자1894     176  3095705  22123121034100     0    0   \n4462386  20221231  부산70자1894     176  3095705  22123121034200     0    0   \n\n         브레이크       GPS_X      GPS_Y  ...     감속min    감속max2  감속  위험운전감속   년   \n0           0  129.158670  35.236021  ... -0.227038  0.019866   0       0  22  \\\n1           0  129.158670  35.236021  ... -0.227038  0.019866   0       0  22   \n2           0  129.158670  35.236021  ... -0.227038  0.019866   0       0  22   \n3           0  129.158670  35.236021  ... -0.227038  0.019866   0       0  22   \n4           0  129.158670  35.236021  ... -0.227038  0.019866   0       0  22   \n...       ...         ...        ...  ...       ...       ...  ..     ...  ..   \n4462382     0  129.158597  35.235956  ... -0.227038  0.019866   0       0  22   \n4462383     0  129.158597  35.235956  ... -0.227038  0.019866   0       0  22   \n4462384     0  129.158597  35.235956  ... -0.227038  0.019866   0       0  22   \n4462385     0  129.158597  35.235956  ... -0.227038  0.019866   0       0  22   \n4462386     0  129.158597  35.235956  ... -0.227038  0.019866   0       0  22   \n\n          월   일   시  분   초  \n0        12   1   5  7  15  \n1        12   1   5  7  16  \n2        12   1   5  7  17  \n3        12   1   5  7  18  \n4        12   1   5  7  19  \n...      ..  ..  .. ..  ..  \n4462382  12  31  21  3  38  \n4462383  12  31  21  3  39  \n4462384  12  31  21  3  40  \n4462385  12  31  21  3  41  \n4462386  12  31  21  3  42  \n\n[4462387 rows x 24 columns]",
      "text/html": "<div>\n<style scoped>\n    .dataframe tbody tr th:only-of-type {\n        vertical-align: middle;\n    }\n\n    .dataframe tbody tr th {\n        vertical-align: top;\n    }\n\n    .dataframe thead th {\n        text-align: right;\n    }\n</style>\n<table border=\"1\" class=\"dataframe\">\n  <thead>\n    <tr style=\"text-align: right;\">\n      <th></th>\n      <th>날짜</th>\n      <th>번호판</th>\n      <th>일일주행거리</th>\n      <th>누적주행거리</th>\n      <th>정보발생일시</th>\n      <th>차량속도</th>\n      <th>RPM</th>\n      <th>브레이크</th>\n      <th>GPS_X</th>\n      <th>GPS_Y</th>\n      <th>...</th>\n      <th>감속min</th>\n      <th>감속max2</th>\n      <th>감속</th>\n      <th>위험운전감속</th>\n      <th>년</th>\n      <th>월</th>\n      <th>일</th>\n      <th>시</th>\n      <th>분</th>\n      <th>초</th>\n    </tr>\n  </thead>\n  <tbody>\n    <tr>\n      <th>0</th>\n      <td>20221201</td>\n      <td>부산70자1854</td>\n      <td>0</td>\n      <td>66443</td>\n      <td>22120105071500</td>\n      <td>0</td>\n      <td>193</td>\n      <td>0</td>\n      <td>129.158670</td>\n      <td>35.236021</td>\n      <td>...</td>\n      <td>-0.227038</td>\n      <td>0.019866</td>\n      <td>0</td>\n      <td>0</td>\n      <td>22</td>\n      <td>12</td>\n      <td>1</td>\n      <td>5</td>\n      <td>7</td>\n      <td>15</td>\n    </tr>\n    <tr>\n      <th>1</th>\n      <td>20221201</td>\n      <td>부산70자1854</td>\n      <td>0</td>\n      <td>66443</td>\n      <td>22120105071600</td>\n      <td>0</td>\n      <td>388</td>\n      <td>0</td>\n      <td>129.158670</td>\n      <td>35.236021</td>\n      <td>...</td>\n      <td>-0.227038</td>\n      <td>0.019866</td>\n      <td>0</td>\n      <td>0</td>\n      <td>22</td>\n      <td>12</td>\n      <td>1</td>\n      <td>5</td>\n      <td>7</td>\n      <td>16</td>\n    </tr>\n    <tr>\n      <th>2</th>\n      <td>20221201</td>\n      <td>부산70자1854</td>\n      <td>0</td>\n      <td>66443</td>\n      <td>22120105071700</td>\n      <td>0</td>\n      <td>777</td>\n      <td>0</td>\n      <td>129.158670</td>\n      <td>35.236021</td>\n      <td>...</td>\n      <td>-0.227038</td>\n      <td>0.019866</td>\n      <td>0</td>\n      <td>0</td>\n      <td>22</td>\n      <td>12</td>\n      <td>1</td>\n      <td>5</td>\n      <td>7</td>\n      <td>17</td>\n    </tr>\n    <tr>\n      <th>3</th>\n      <td>20221201</td>\n      <td>부산70자1854</td>\n      <td>0</td>\n      <td>66443</td>\n      <td>22120105071800</td>\n      <td>0</td>\n      <td>638</td>\n      <td>0</td>\n      <td>129.158670</td>\n      <td>35.236021</td>\n      <td>...</td>\n      <td>-0.227038</td>\n      <td>0.019866</td>\n      <td>0</td>\n      <td>0</td>\n      <td>22</td>\n      <td>12</td>\n      <td>1</td>\n      <td>5</td>\n      <td>7</td>\n      <td>18</td>\n    </tr>\n    <tr>\n      <th>4</th>\n      <td>20221201</td>\n      <td>부산70자1854</td>\n      <td>0</td>\n      <td>66443</td>\n      <td>22120105071900</td>\n      <td>0</td>\n      <td>461</td>\n      <td>0</td>\n      <td>129.158670</td>\n      <td>35.236021</td>\n      <td>...</td>\n      <td>-0.227038</td>\n      <td>0.019866</td>\n      <td>0</td>\n      <td>0</td>\n      <td>22</td>\n      <td>12</td>\n      <td>1</td>\n      <td>5</td>\n      <td>7</td>\n      <td>19</td>\n    </tr>\n    <tr>\n      <th>...</th>\n      <td>...</td>\n      <td>...</td>\n      <td>...</td>\n      <td>...</td>\n      <td>...</td>\n      <td>...</td>\n      <td>...</td>\n      <td>...</td>\n      <td>...</td>\n      <td>...</td>\n      <td>...</td>\n      <td>...</td>\n      <td>...</td>\n      <td>...</td>\n      <td>...</td>\n      <td>...</td>\n      <td>...</td>\n      <td>...</td>\n      <td>...</td>\n      <td>...</td>\n      <td>...</td>\n    </tr>\n    <tr>\n      <th>4462382</th>\n      <td>20221231</td>\n      <td>부산70자1894</td>\n      <td>176</td>\n      <td>3095705</td>\n      <td>22123121033800</td>\n      <td>0</td>\n      <td>331</td>\n      <td>0</td>\n      <td>129.158597</td>\n      <td>35.235956</td>\n      <td>...</td>\n      <td>-0.227038</td>\n      <td>0.019866</td>\n      <td>0</td>\n      <td>0</td>\n      <td>22</td>\n      <td>12</td>\n      <td>31</td>\n      <td>21</td>\n      <td>3</td>\n      <td>38</td>\n    </tr>\n    <tr>\n      <th>4462383</th>\n      <td>20221231</td>\n      <td>부산70자1894</td>\n      <td>176</td>\n      <td>3095705</td>\n      <td>22123121033900</td>\n      <td>0</td>\n      <td>59</td>\n      <td>0</td>\n      <td>129.158597</td>\n      <td>35.235956</td>\n      <td>...</td>\n      <td>-0.227038</td>\n      <td>0.019866</td>\n      <td>0</td>\n      <td>0</td>\n      <td>22</td>\n      <td>12</td>\n      <td>31</td>\n      <td>21</td>\n      <td>3</td>\n      <td>39</td>\n    </tr>\n    <tr>\n      <th>4462384</th>\n      <td>20221231</td>\n      <td>부산70자1894</td>\n      <td>176</td>\n      <td>3095705</td>\n      <td>22123121034000</td>\n      <td>0</td>\n      <td>0</td>\n      <td>0</td>\n      <td>129.158597</td>\n      <td>35.235956</td>\n      <td>...</td>\n      <td>-0.227038</td>\n      <td>0.019866</td>\n      <td>0</td>\n      <td>0</td>\n      <td>22</td>\n      <td>12</td>\n      <td>31</td>\n      <td>21</td>\n      <td>3</td>\n      <td>40</td>\n    </tr>\n    <tr>\n      <th>4462385</th>\n      <td>20221231</td>\n      <td>부산70자1894</td>\n      <td>176</td>\n      <td>3095705</td>\n      <td>22123121034100</td>\n      <td>0</td>\n      <td>0</td>\n      <td>0</td>\n      <td>129.158597</td>\n      <td>35.235956</td>\n      <td>...</td>\n      <td>-0.227038</td>\n      <td>0.019866</td>\n      <td>0</td>\n      <td>0</td>\n      <td>22</td>\n      <td>12</td>\n      <td>31</td>\n      <td>21</td>\n      <td>3</td>\n      <td>41</td>\n    </tr>\n    <tr>\n      <th>4462386</th>\n      <td>20221231</td>\n      <td>부산70자1894</td>\n      <td>176</td>\n      <td>3095705</td>\n      <td>22123121034200</td>\n      <td>0</td>\n      <td>0</td>\n      <td>0</td>\n      <td>129.158597</td>\n      <td>35.235956</td>\n      <td>...</td>\n      <td>-0.227038</td>\n      <td>0.019866</td>\n      <td>0</td>\n      <td>0</td>\n      <td>22</td>\n      <td>12</td>\n      <td>31</td>\n      <td>21</td>\n      <td>3</td>\n      <td>42</td>\n    </tr>\n  </tbody>\n</table>\n<p>4462387 rows × 24 columns</p>\n</div>"
     },
     "execution_count": 2,
     "metadata": {},
     "output_type": "execute_result"
    }
   ],
   "source": [
    "df = pd.read_csv('../data/0608_감속분류.csv')\n",
    "df"
   ],
   "metadata": {
    "collapsed": false,
    "ExecuteTime": {
     "end_time": "2023-06-09T01:06:26.388152900Z",
     "start_time": "2023-06-09T01:06:17.052038700Z"
    }
   }
  },
  {
   "cell_type": "code",
   "execution_count": 3,
   "outputs": [],
   "source": [
    "drop0 = df.query('위험운전감속 == 0')"
   ],
   "metadata": {
    "collapsed": false,
    "ExecuteTime": {
     "end_time": "2023-06-09T01:06:26.719686Z",
     "start_time": "2023-06-09T01:06:26.388152900Z"
    }
   }
  },
  {
   "cell_type": "code",
   "execution_count": 4,
   "outputs": [],
   "source": [
    "X_train, X_test, y_train, y_test = train_test_split(drop0, drop0, random_state=42, shuffle=True, test_size=0.07)"
   ],
   "metadata": {
    "collapsed": false,
    "ExecuteTime": {
     "end_time": "2023-06-09T01:06:33.075371400Z",
     "start_time": "2023-06-09T01:06:30.800067500Z"
    }
   }
  },
  {
   "cell_type": "code",
   "execution_count": 5,
   "outputs": [],
   "source": [
    "df = df.query('위험운전감속 != 0')"
   ],
   "metadata": {
    "collapsed": false,
    "ExecuteTime": {
     "end_time": "2023-06-09T01:06:35.938861300Z",
     "start_time": "2023-06-09T01:06:35.858928Z"
    }
   }
  },
  {
   "cell_type": "code",
   "execution_count": 6,
   "outputs": [
    {
     "data": {
      "text/plain": "               날짜        번호판  일일주행거리   누적주행거리          정보발생일시  차량속도   RPM   \n121      20221201  부산70자1854       0    66443  22120105091600     2   556  \\\n123      20221201  부산70자1854       0    66443  22120105091800     2   556   \n128      20221201  부산70자1854       0    66443  22120105092300     1   550   \n308      20221201  부산70자1854       0    66443  22120105122300     1   551   \n364      20221201  부산70자1854       0    66444  22120105131900     5   562   \n...           ...        ...     ...      ...             ...   ...   ...   \n854912   20221219  부산70자1854     162    69966  22121920402200     0   551   \n4295851  20221228  부산70자1894     100  3095010  22122812424600     0   551   \n3780083  20221218  부산70자1894     117  3092918  22121816132800    16   655   \n969018   20221222  부산70자1854      35    70413  22122209321400    26  1444   \n2974662  20221202  부산70자1894     176  3089619  22120221151900    44  1432   \n\n         브레이크       GPS_X      GPS_Y  ...     감속min     감속max2  감속  위험운전감속   \n121         1  129.158670  35.236021  ...  0.718474   1.187413   1       2  \\\n123         1  129.158670  35.236021  ...  0.718474   1.187413   1       2   \n128         1  129.158625  35.235989  ...  0.255596   0.614132   1       3   \n308         1  129.158453  35.235932  ...  0.255596   0.614132   2       3   \n364         1  129.156478  35.234480  ...  1.994446   2.786676   4       3   \n...       ...         ...        ...  ...       ...        ...  ..     ...   \n854912      0  129.161577  35.165157  ... -0.227038   0.019866   0       0   \n4295851     0  129.144268  35.163253  ... -0.227038   0.019866   0       0   \n3780083     1  129.163619  35.167309  ...  5.435754   7.295224   0       0   \n969018      0  129.130827  35.195940  ...  7.275925   9.920676   0       0   \n2974662     0  129.152540  35.231469  ...  8.716440  12.307479   0       0   \n\n          년   월   일   시   분   초  \n121      22  12   1   5   9  16  \n123      22  12   1   5   9  18  \n128      22  12   1   5   9  23  \n308      22  12   1   5  12  23  \n364      22  12   1   5  13  19  \n...      ..  ..  ..  ..  ..  ..  \n854912   22  12  19  20  40  22  \n4295851  22  12  28  12  42  46  \n3780083  22  12  18  16  13  28  \n969018   22  12  22   9  32  14  \n2974662  22  12   2  21  15  19  \n\n[474697 rows x 24 columns]",
      "text/html": "<div>\n<style scoped>\n    .dataframe tbody tr th:only-of-type {\n        vertical-align: middle;\n    }\n\n    .dataframe tbody tr th {\n        vertical-align: top;\n    }\n\n    .dataframe thead th {\n        text-align: right;\n    }\n</style>\n<table border=\"1\" class=\"dataframe\">\n  <thead>\n    <tr style=\"text-align: right;\">\n      <th></th>\n      <th>날짜</th>\n      <th>번호판</th>\n      <th>일일주행거리</th>\n      <th>누적주행거리</th>\n      <th>정보발생일시</th>\n      <th>차량속도</th>\n      <th>RPM</th>\n      <th>브레이크</th>\n      <th>GPS_X</th>\n      <th>GPS_Y</th>\n      <th>...</th>\n      <th>감속min</th>\n      <th>감속max2</th>\n      <th>감속</th>\n      <th>위험운전감속</th>\n      <th>년</th>\n      <th>월</th>\n      <th>일</th>\n      <th>시</th>\n      <th>분</th>\n      <th>초</th>\n    </tr>\n  </thead>\n  <tbody>\n    <tr>\n      <th>121</th>\n      <td>20221201</td>\n      <td>부산70자1854</td>\n      <td>0</td>\n      <td>66443</td>\n      <td>22120105091600</td>\n      <td>2</td>\n      <td>556</td>\n      <td>1</td>\n      <td>129.158670</td>\n      <td>35.236021</td>\n      <td>...</td>\n      <td>0.718474</td>\n      <td>1.187413</td>\n      <td>1</td>\n      <td>2</td>\n      <td>22</td>\n      <td>12</td>\n      <td>1</td>\n      <td>5</td>\n      <td>9</td>\n      <td>16</td>\n    </tr>\n    <tr>\n      <th>123</th>\n      <td>20221201</td>\n      <td>부산70자1854</td>\n      <td>0</td>\n      <td>66443</td>\n      <td>22120105091800</td>\n      <td>2</td>\n      <td>556</td>\n      <td>1</td>\n      <td>129.158670</td>\n      <td>35.236021</td>\n      <td>...</td>\n      <td>0.718474</td>\n      <td>1.187413</td>\n      <td>1</td>\n      <td>2</td>\n      <td>22</td>\n      <td>12</td>\n      <td>1</td>\n      <td>5</td>\n      <td>9</td>\n      <td>18</td>\n    </tr>\n    <tr>\n      <th>128</th>\n      <td>20221201</td>\n      <td>부산70자1854</td>\n      <td>0</td>\n      <td>66443</td>\n      <td>22120105092300</td>\n      <td>1</td>\n      <td>550</td>\n      <td>1</td>\n      <td>129.158625</td>\n      <td>35.235989</td>\n      <td>...</td>\n      <td>0.255596</td>\n      <td>0.614132</td>\n      <td>1</td>\n      <td>3</td>\n      <td>22</td>\n      <td>12</td>\n      <td>1</td>\n      <td>5</td>\n      <td>9</td>\n      <td>23</td>\n    </tr>\n    <tr>\n      <th>308</th>\n      <td>20221201</td>\n      <td>부산70자1854</td>\n      <td>0</td>\n      <td>66443</td>\n      <td>22120105122300</td>\n      <td>1</td>\n      <td>551</td>\n      <td>1</td>\n      <td>129.158453</td>\n      <td>35.235932</td>\n      <td>...</td>\n      <td>0.255596</td>\n      <td>0.614132</td>\n      <td>2</td>\n      <td>3</td>\n      <td>22</td>\n      <td>12</td>\n      <td>1</td>\n      <td>5</td>\n      <td>12</td>\n      <td>23</td>\n    </tr>\n    <tr>\n      <th>364</th>\n      <td>20221201</td>\n      <td>부산70자1854</td>\n      <td>0</td>\n      <td>66444</td>\n      <td>22120105131900</td>\n      <td>5</td>\n      <td>562</td>\n      <td>1</td>\n      <td>129.156478</td>\n      <td>35.234480</td>\n      <td>...</td>\n      <td>1.994446</td>\n      <td>2.786676</td>\n      <td>4</td>\n      <td>3</td>\n      <td>22</td>\n      <td>12</td>\n      <td>1</td>\n      <td>5</td>\n      <td>13</td>\n      <td>19</td>\n    </tr>\n    <tr>\n      <th>...</th>\n      <td>...</td>\n      <td>...</td>\n      <td>...</td>\n      <td>...</td>\n      <td>...</td>\n      <td>...</td>\n      <td>...</td>\n      <td>...</td>\n      <td>...</td>\n      <td>...</td>\n      <td>...</td>\n      <td>...</td>\n      <td>...</td>\n      <td>...</td>\n      <td>...</td>\n      <td>...</td>\n      <td>...</td>\n      <td>...</td>\n      <td>...</td>\n      <td>...</td>\n      <td>...</td>\n    </tr>\n    <tr>\n      <th>854912</th>\n      <td>20221219</td>\n      <td>부산70자1854</td>\n      <td>162</td>\n      <td>69966</td>\n      <td>22121920402200</td>\n      <td>0</td>\n      <td>551</td>\n      <td>0</td>\n      <td>129.161577</td>\n      <td>35.165157</td>\n      <td>...</td>\n      <td>-0.227038</td>\n      <td>0.019866</td>\n      <td>0</td>\n      <td>0</td>\n      <td>22</td>\n      <td>12</td>\n      <td>19</td>\n      <td>20</td>\n      <td>40</td>\n      <td>22</td>\n    </tr>\n    <tr>\n      <th>4295851</th>\n      <td>20221228</td>\n      <td>부산70자1894</td>\n      <td>100</td>\n      <td>3095010</td>\n      <td>22122812424600</td>\n      <td>0</td>\n      <td>551</td>\n      <td>0</td>\n      <td>129.144268</td>\n      <td>35.163253</td>\n      <td>...</td>\n      <td>-0.227038</td>\n      <td>0.019866</td>\n      <td>0</td>\n      <td>0</td>\n      <td>22</td>\n      <td>12</td>\n      <td>28</td>\n      <td>12</td>\n      <td>42</td>\n      <td>46</td>\n    </tr>\n    <tr>\n      <th>3780083</th>\n      <td>20221218</td>\n      <td>부산70자1894</td>\n      <td>117</td>\n      <td>3092918</td>\n      <td>22121816132800</td>\n      <td>16</td>\n      <td>655</td>\n      <td>1</td>\n      <td>129.163619</td>\n      <td>35.167309</td>\n      <td>...</td>\n      <td>5.435754</td>\n      <td>7.295224</td>\n      <td>0</td>\n      <td>0</td>\n      <td>22</td>\n      <td>12</td>\n      <td>18</td>\n      <td>16</td>\n      <td>13</td>\n      <td>28</td>\n    </tr>\n    <tr>\n      <th>969018</th>\n      <td>20221222</td>\n      <td>부산70자1854</td>\n      <td>35</td>\n      <td>70413</td>\n      <td>22122209321400</td>\n      <td>26</td>\n      <td>1444</td>\n      <td>0</td>\n      <td>129.130827</td>\n      <td>35.195940</td>\n      <td>...</td>\n      <td>7.275925</td>\n      <td>9.920676</td>\n      <td>0</td>\n      <td>0</td>\n      <td>22</td>\n      <td>12</td>\n      <td>22</td>\n      <td>9</td>\n      <td>32</td>\n      <td>14</td>\n    </tr>\n    <tr>\n      <th>2974662</th>\n      <td>20221202</td>\n      <td>부산70자1894</td>\n      <td>176</td>\n      <td>3089619</td>\n      <td>22120221151900</td>\n      <td>44</td>\n      <td>1432</td>\n      <td>0</td>\n      <td>129.152540</td>\n      <td>35.231469</td>\n      <td>...</td>\n      <td>8.716440</td>\n      <td>12.307479</td>\n      <td>0</td>\n      <td>0</td>\n      <td>22</td>\n      <td>12</td>\n      <td>2</td>\n      <td>21</td>\n      <td>15</td>\n      <td>19</td>\n    </tr>\n  </tbody>\n</table>\n<p>474697 rows × 24 columns</p>\n</div>"
     },
     "execution_count": 6,
     "metadata": {},
     "output_type": "execute_result"
    }
   ],
   "source": [
    "df = pd.concat([df, X_test], axis=0)\n",
    "df"
   ],
   "metadata": {
    "collapsed": false,
    "ExecuteTime": {
     "end_time": "2023-06-09T01:06:40.966320400Z",
     "start_time": "2023-06-09T01:06:40.820608500Z"
    }
   }
  },
  {
   "cell_type": "code",
   "execution_count": 7,
   "outputs": [],
   "source": [
    "X = df[['시', '분', 'GPS_X', 'GPS_Y']]\n",
    "y = df['위험운전감속']"
   ],
   "metadata": {
    "collapsed": false,
    "ExecuteTime": {
     "end_time": "2023-06-09T01:06:46.620898700Z",
     "start_time": "2023-06-09T01:06:46.605259600Z"
    }
   }
  },
  {
   "cell_type": "code",
   "execution_count": 8,
   "outputs": [],
   "source": [
    "X_train, X_test, y_train, y_test = train_test_split(X, y, random_state=42, shuffle=True, test_size=0.3)"
   ],
   "metadata": {
    "collapsed": false,
    "ExecuteTime": {
     "end_time": "2023-06-09T01:06:51.501214Z",
     "start_time": "2023-06-09T01:06:51.348515Z"
    }
   }
  },
  {
   "cell_type": "code",
   "execution_count": 9,
   "outputs": [],
   "source": [
    "model = KNeighborsClassifier(weights='distance', n_neighbors=4)"
   ],
   "metadata": {
    "collapsed": false,
    "ExecuteTime": {
     "end_time": "2023-06-09T01:07:09.025104800Z",
     "start_time": "2023-06-09T01:07:08.993738800Z"
    }
   }
  },
  {
   "cell_type": "code",
   "execution_count": 10,
   "outputs": [
    {
     "data": {
      "text/plain": "KNeighborsClassifier(n_neighbors=4, weights='distance')",
      "text/html": "<style>#sk-container-id-1 {color: black;background-color: white;}#sk-container-id-1 pre{padding: 0;}#sk-container-id-1 div.sk-toggleable {background-color: white;}#sk-container-id-1 label.sk-toggleable__label {cursor: pointer;display: block;width: 100%;margin-bottom: 0;padding: 0.3em;box-sizing: border-box;text-align: center;}#sk-container-id-1 label.sk-toggleable__label-arrow:before {content: \"▸\";float: left;margin-right: 0.25em;color: #696969;}#sk-container-id-1 label.sk-toggleable__label-arrow:hover:before {color: black;}#sk-container-id-1 div.sk-estimator:hover label.sk-toggleable__label-arrow:before {color: black;}#sk-container-id-1 div.sk-toggleable__content {max-height: 0;max-width: 0;overflow: hidden;text-align: left;background-color: #f0f8ff;}#sk-container-id-1 div.sk-toggleable__content pre {margin: 0.2em;color: black;border-radius: 0.25em;background-color: #f0f8ff;}#sk-container-id-1 input.sk-toggleable__control:checked~div.sk-toggleable__content {max-height: 200px;max-width: 100%;overflow: auto;}#sk-container-id-1 input.sk-toggleable__control:checked~label.sk-toggleable__label-arrow:before {content: \"▾\";}#sk-container-id-1 div.sk-estimator input.sk-toggleable__control:checked~label.sk-toggleable__label {background-color: #d4ebff;}#sk-container-id-1 div.sk-label input.sk-toggleable__control:checked~label.sk-toggleable__label {background-color: #d4ebff;}#sk-container-id-1 input.sk-hidden--visually {border: 0;clip: rect(1px 1px 1px 1px);clip: rect(1px, 1px, 1px, 1px);height: 1px;margin: -1px;overflow: hidden;padding: 0;position: absolute;width: 1px;}#sk-container-id-1 div.sk-estimator {font-family: monospace;background-color: #f0f8ff;border: 1px dotted black;border-radius: 0.25em;box-sizing: border-box;margin-bottom: 0.5em;}#sk-container-id-1 div.sk-estimator:hover {background-color: #d4ebff;}#sk-container-id-1 div.sk-parallel-item::after {content: \"\";width: 100%;border-bottom: 1px solid gray;flex-grow: 1;}#sk-container-id-1 div.sk-label:hover label.sk-toggleable__label {background-color: #d4ebff;}#sk-container-id-1 div.sk-serial::before {content: \"\";position: absolute;border-left: 1px solid gray;box-sizing: border-box;top: 0;bottom: 0;left: 50%;z-index: 0;}#sk-container-id-1 div.sk-serial {display: flex;flex-direction: column;align-items: center;background-color: white;padding-right: 0.2em;padding-left: 0.2em;position: relative;}#sk-container-id-1 div.sk-item {position: relative;z-index: 1;}#sk-container-id-1 div.sk-parallel {display: flex;align-items: stretch;justify-content: center;background-color: white;position: relative;}#sk-container-id-1 div.sk-item::before, #sk-container-id-1 div.sk-parallel-item::before {content: \"\";position: absolute;border-left: 1px solid gray;box-sizing: border-box;top: 0;bottom: 0;left: 50%;z-index: -1;}#sk-container-id-1 div.sk-parallel-item {display: flex;flex-direction: column;z-index: 1;position: relative;background-color: white;}#sk-container-id-1 div.sk-parallel-item:first-child::after {align-self: flex-end;width: 50%;}#sk-container-id-1 div.sk-parallel-item:last-child::after {align-self: flex-start;width: 50%;}#sk-container-id-1 div.sk-parallel-item:only-child::after {width: 0;}#sk-container-id-1 div.sk-dashed-wrapped {border: 1px dashed gray;margin: 0 0.4em 0.5em 0.4em;box-sizing: border-box;padding-bottom: 0.4em;background-color: white;}#sk-container-id-1 div.sk-label label {font-family: monospace;font-weight: bold;display: inline-block;line-height: 1.2em;}#sk-container-id-1 div.sk-label-container {text-align: center;}#sk-container-id-1 div.sk-container {/* jupyter's `normalize.less` sets `[hidden] { display: none; }` but bootstrap.min.css set `[hidden] { display: none !important; }` so we also need the `!important` here to be able to override the default hidden behavior on the sphinx rendered scikit-learn.org. See: https://github.com/scikit-learn/scikit-learn/issues/21755 */display: inline-block !important;position: relative;}#sk-container-id-1 div.sk-text-repr-fallback {display: none;}</style><div id=\"sk-container-id-1\" class=\"sk-top-container\"><div class=\"sk-text-repr-fallback\"><pre>KNeighborsClassifier(n_neighbors=4, weights=&#x27;distance&#x27;)</pre><b>In a Jupyter environment, please rerun this cell to show the HTML representation or trust the notebook. <br />On GitHub, the HTML representation is unable to render, please try loading this page with nbviewer.org.</b></div><div class=\"sk-container\" hidden><div class=\"sk-item\"><div class=\"sk-estimator sk-toggleable\"><input class=\"sk-toggleable__control sk-hidden--visually\" id=\"sk-estimator-id-1\" type=\"checkbox\" checked><label for=\"sk-estimator-id-1\" class=\"sk-toggleable__label sk-toggleable__label-arrow\">KNeighborsClassifier</label><div class=\"sk-toggleable__content\"><pre>KNeighborsClassifier(n_neighbors=4, weights=&#x27;distance&#x27;)</pre></div></div></div></div></div>"
     },
     "execution_count": 10,
     "metadata": {},
     "output_type": "execute_result"
    }
   ],
   "source": [
    "model.fit(X_train, y_train)"
   ],
   "metadata": {
    "collapsed": false,
    "ExecuteTime": {
     "end_time": "2023-06-09T01:07:17.235090Z",
     "start_time": "2023-06-09T01:07:16.661253100Z"
    }
   }
  },
  {
   "cell_type": "code",
   "execution_count": 11,
   "outputs": [],
   "source": [
    "y_pred = model.predict(X_test)"
   ],
   "metadata": {
    "collapsed": false,
    "ExecuteTime": {
     "end_time": "2023-06-09T01:07:23.092707700Z",
     "start_time": "2023-06-09T01:07:21.286181400Z"
    }
   }
  },
  {
   "cell_type": "code",
   "execution_count": 12,
   "outputs": [
    {
     "data": {
      "text/plain": "0.6126114739133488"
     },
     "execution_count": 12,
     "metadata": {},
     "output_type": "execute_result"
    }
   ],
   "source": [
    "accuracy_score(y_pred, y_test)"
   ],
   "metadata": {
    "collapsed": false,
    "ExecuteTime": {
     "end_time": "2023-06-09T01:07:25.525747400Z",
     "start_time": "2023-06-09T01:07:25.446331300Z"
    }
   }
  },
  {
   "cell_type": "code",
   "execution_count": 13,
   "outputs": [
    {
     "data": {
      "text/plain": "0.6171206740430071"
     },
     "execution_count": 13,
     "metadata": {},
     "output_type": "execute_result"
    }
   ],
   "source": [
    "f1_score(y_pred, y_test, average='weighted')"
   ],
   "metadata": {
    "collapsed": false,
    "ExecuteTime": {
     "end_time": "2023-06-09T01:07:29.925955900Z",
     "start_time": "2023-06-09T01:07:29.862765600Z"
    }
   }
  },
  {
   "cell_type": "code",
   "execution_count": null,
   "outputs": [],
   "source": [],
   "metadata": {
    "collapsed": false
   }
  }
 ],
 "metadata": {
  "kernelspec": {
   "display_name": "Python 3",
   "language": "python",
   "name": "python3"
  },
  "language_info": {
   "codemirror_mode": {
    "name": "ipython",
    "version": 2
   },
   "file_extension": ".py",
   "mimetype": "text/x-python",
   "name": "python",
   "nbconvert_exporter": "python",
   "pygments_lexer": "ipython2",
   "version": "2.7.6"
  }
 },
 "nbformat": 4,
 "nbformat_minor": 0
}
