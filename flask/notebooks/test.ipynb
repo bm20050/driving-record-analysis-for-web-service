{
 "cells": [
  {
   "cell_type": "code",
   "execution_count": 1,
   "outputs": [],
   "source": [
    "import pandas as pd"
   ],
   "metadata": {
    "collapsed": false,
    "ExecuteTime": {
     "end_time": "2023-05-22T08:22:03.343162800Z",
     "start_time": "2023-05-22T08:22:03.332895100Z"
    }
   }
  },
  {
   "cell_type": "code",
   "execution_count": 11,
   "outputs": [
    {
     "data": {
      "text/plain": "               날짜        번호판  브레이크  시각  위험운전분류  차량속도분류  RPM분류  가속도분류   \n0        20221201  부산70자1854     0   5       0       0      0      0  \\\n1        20221201  부산70자1854     0   5       0       0      0      0   \n2        20221201  부산70자1854     0   5       0       0      1      0   \n3        20221201  부산70자1854     0   5       0       0      1      0   \n4        20221201  부산70자1854     0   5       0       0      0      0   \n...           ...        ...   ...  ..     ...     ...    ...    ...   \n5948207  20221231  부산70자1894     0  21       0       0      0      0   \n5948208  20221231  부산70자1894     0  21       0       0      0      0   \n5948209  20221231  부산70자1894     0  21       0       0      0      0   \n5948210  20221231  부산70자1894     0  21       0       0      0      0   \n5948211  20221231  부산70자1894     0  21       0       0      0      0   \n\n         일일주행거리분류  방위각분류  GPS_X분류  GPS_Y분류  \n0               0      0   129.15    35.23  \n1               0      0   129.15    35.23  \n2               0      0   129.15    35.23  \n3               0      0   129.15    35.23  \n4               0      0   129.15    35.23  \n...           ...    ...      ...      ...  \n5948207         8      6   129.15    35.23  \n5948208         8      6   129.15    35.23  \n5948209         8      6   129.15    35.23  \n5948210         8      6   129.15    35.23  \n5948211         8      6   129.15    35.23  \n\n[5948212 rows x 12 columns]",
      "text/html": "<div>\n<style scoped>\n    .dataframe tbody tr th:only-of-type {\n        vertical-align: middle;\n    }\n\n    .dataframe tbody tr th {\n        vertical-align: top;\n    }\n\n    .dataframe thead th {\n        text-align: right;\n    }\n</style>\n<table border=\"1\" class=\"dataframe\">\n  <thead>\n    <tr style=\"text-align: right;\">\n      <th></th>\n      <th>날짜</th>\n      <th>번호판</th>\n      <th>브레이크</th>\n      <th>시각</th>\n      <th>위험운전분류</th>\n      <th>차량속도분류</th>\n      <th>RPM분류</th>\n      <th>가속도분류</th>\n      <th>일일주행거리분류</th>\n      <th>방위각분류</th>\n      <th>GPS_X분류</th>\n      <th>GPS_Y분류</th>\n    </tr>\n  </thead>\n  <tbody>\n    <tr>\n      <th>0</th>\n      <td>20221201</td>\n      <td>부산70자1854</td>\n      <td>0</td>\n      <td>5</td>\n      <td>0</td>\n      <td>0</td>\n      <td>0</td>\n      <td>0</td>\n      <td>0</td>\n      <td>0</td>\n      <td>129.15</td>\n      <td>35.23</td>\n    </tr>\n    <tr>\n      <th>1</th>\n      <td>20221201</td>\n      <td>부산70자1854</td>\n      <td>0</td>\n      <td>5</td>\n      <td>0</td>\n      <td>0</td>\n      <td>0</td>\n      <td>0</td>\n      <td>0</td>\n      <td>0</td>\n      <td>129.15</td>\n      <td>35.23</td>\n    </tr>\n    <tr>\n      <th>2</th>\n      <td>20221201</td>\n      <td>부산70자1854</td>\n      <td>0</td>\n      <td>5</td>\n      <td>0</td>\n      <td>0</td>\n      <td>1</td>\n      <td>0</td>\n      <td>0</td>\n      <td>0</td>\n      <td>129.15</td>\n      <td>35.23</td>\n    </tr>\n    <tr>\n      <th>3</th>\n      <td>20221201</td>\n      <td>부산70자1854</td>\n      <td>0</td>\n      <td>5</td>\n      <td>0</td>\n      <td>0</td>\n      <td>1</td>\n      <td>0</td>\n      <td>0</td>\n      <td>0</td>\n      <td>129.15</td>\n      <td>35.23</td>\n    </tr>\n    <tr>\n      <th>4</th>\n      <td>20221201</td>\n      <td>부산70자1854</td>\n      <td>0</td>\n      <td>5</td>\n      <td>0</td>\n      <td>0</td>\n      <td>0</td>\n      <td>0</td>\n      <td>0</td>\n      <td>0</td>\n      <td>129.15</td>\n      <td>35.23</td>\n    </tr>\n    <tr>\n      <th>...</th>\n      <td>...</td>\n      <td>...</td>\n      <td>...</td>\n      <td>...</td>\n      <td>...</td>\n      <td>...</td>\n      <td>...</td>\n      <td>...</td>\n      <td>...</td>\n      <td>...</td>\n      <td>...</td>\n      <td>...</td>\n    </tr>\n    <tr>\n      <th>5948207</th>\n      <td>20221231</td>\n      <td>부산70자1894</td>\n      <td>0</td>\n      <td>21</td>\n      <td>0</td>\n      <td>0</td>\n      <td>0</td>\n      <td>0</td>\n      <td>8</td>\n      <td>6</td>\n      <td>129.15</td>\n      <td>35.23</td>\n    </tr>\n    <tr>\n      <th>5948208</th>\n      <td>20221231</td>\n      <td>부산70자1894</td>\n      <td>0</td>\n      <td>21</td>\n      <td>0</td>\n      <td>0</td>\n      <td>0</td>\n      <td>0</td>\n      <td>8</td>\n      <td>6</td>\n      <td>129.15</td>\n      <td>35.23</td>\n    </tr>\n    <tr>\n      <th>5948209</th>\n      <td>20221231</td>\n      <td>부산70자1894</td>\n      <td>0</td>\n      <td>21</td>\n      <td>0</td>\n      <td>0</td>\n      <td>0</td>\n      <td>0</td>\n      <td>8</td>\n      <td>6</td>\n      <td>129.15</td>\n      <td>35.23</td>\n    </tr>\n    <tr>\n      <th>5948210</th>\n      <td>20221231</td>\n      <td>부산70자1894</td>\n      <td>0</td>\n      <td>21</td>\n      <td>0</td>\n      <td>0</td>\n      <td>0</td>\n      <td>0</td>\n      <td>8</td>\n      <td>6</td>\n      <td>129.15</td>\n      <td>35.23</td>\n    </tr>\n    <tr>\n      <th>5948211</th>\n      <td>20221231</td>\n      <td>부산70자1894</td>\n      <td>0</td>\n      <td>21</td>\n      <td>0</td>\n      <td>0</td>\n      <td>0</td>\n      <td>0</td>\n      <td>8</td>\n      <td>6</td>\n      <td>129.15</td>\n      <td>35.23</td>\n    </tr>\n  </tbody>\n</table>\n<p>5948212 rows × 12 columns</p>\n</div>"
     },
     "execution_count": 11,
     "metadata": {},
     "output_type": "execute_result"
    }
   ],
   "source": [
    "df = pd.read_csv('../data/분류전처리.csv')\n",
    "df"
   ],
   "metadata": {
    "collapsed": false,
    "ExecuteTime": {
     "end_time": "2023-05-22T08:23:27.530640900Z",
     "start_time": "2023-05-22T08:23:23.377195400Z"
    }
   }
  },
  {
   "cell_type": "code",
   "execution_count": 3,
   "outputs": [],
   "source": [
    "import warnings\n",
    "warnings.filterwarnings(\"ignore\")\n",
    "import optuna\n",
    "import sklearn\n",
    "from sklearn.model_selection import train_test_split\n",
    "from sklearn.preprocessing import StandardScaler\n",
    "from sklearn.decomposition import PCA\n",
    "from sklearn.linear_model import LinearRegression, Ridge, Lasso, ElasticNet\n",
    "from sklearn.ensemble import GradientBoostingRegressor, RandomForestRegressor\n",
    "from sklearn.metrics import r2_score\n",
    "from sklearn.pipeline import Pipeline\n",
    "from xgboost import XGBClassifier\n",
    "import pandas as pd\n",
    "import numpy as np\n",
    "\n",
    "from sklearn.metrics import accuracy_score\n",
    "from sklearn.ensemble import GradientBoostingClassifier\n",
    "\n",
    "from sklearn.model_selection import GridSearchCV\n",
    "from sklearn.metrics import make_scorer\n",
    "\n",
    "from xgboost import XGBClassifier\n",
    "from xgboost import plot_importance\n",
    "\n",
    "import matplotlib.pyplot as plt\n",
    "import seaborn as sns"
   ],
   "metadata": {
    "collapsed": false,
    "ExecuteTime": {
     "end_time": "2023-05-22T08:22:07.846383200Z",
     "start_time": "2023-05-22T08:22:07.223616100Z"
    }
   }
  },
  {
   "cell_type": "code",
   "execution_count": 15,
   "outputs": [
    {
     "data": {
      "text/plain": "               날짜        번호판  브레이크  시각  위험운전분류  차량속도분류  RPM분류  가속도분류   \n4000001  20221225  부산70자1893     1   5       0       1      2      0  \\\n4000002  20221225  부산70자1893     1   5       0       1      2      0   \n4000003  20221225  부산70자1893     1   5       0       1      1      0   \n4000004  20221225  부산70자1893     0   5       0       1      1      0   \n4000005  20221225  부산70자1893     0   5       0       1      1      0   \n...           ...        ...   ...  ..     ...     ...    ...    ...   \n4009995  20221225  부산70자1893     1   9       0       1      1      0   \n4009996  20221225  부산70자1893     1   9       0       1      1      0   \n4009997  20221225  부산70자1893     1   9       0       1      1      0   \n4009998  20221225  부산70자1893     1   9       0       1      1      0   \n4009999  20221225  부산70자1893     1   9       0       1      1      0   \n\n         일일주행거리분류  방위각분류  GPS_X분류  GPS_Y분류  \n4000001         0     13   129.12    35.20  \n4000002         0     13   129.12    35.20  \n4000003         0     13   129.12    35.20  \n4000004         0     12   129.12    35.20  \n4000005         0     12   129.12    35.20  \n...           ...    ...      ...      ...  \n4009995         2     22   129.12    35.17  \n4009996         2     22   129.12    35.17  \n4009997         2     22   129.12    35.17  \n4009998         2     22   129.12    35.17  \n4009999         2     22   129.12    35.17  \n\n[9999 rows x 12 columns]",
      "text/html": "<div>\n<style scoped>\n    .dataframe tbody tr th:only-of-type {\n        vertical-align: middle;\n    }\n\n    .dataframe tbody tr th {\n        vertical-align: top;\n    }\n\n    .dataframe thead th {\n        text-align: right;\n    }\n</style>\n<table border=\"1\" class=\"dataframe\">\n  <thead>\n    <tr style=\"text-align: right;\">\n      <th></th>\n      <th>날짜</th>\n      <th>번호판</th>\n      <th>브레이크</th>\n      <th>시각</th>\n      <th>위험운전분류</th>\n      <th>차량속도분류</th>\n      <th>RPM분류</th>\n      <th>가속도분류</th>\n      <th>일일주행거리분류</th>\n      <th>방위각분류</th>\n      <th>GPS_X분류</th>\n      <th>GPS_Y분류</th>\n    </tr>\n  </thead>\n  <tbody>\n    <tr>\n      <th>4000001</th>\n      <td>20221225</td>\n      <td>부산70자1893</td>\n      <td>1</td>\n      <td>5</td>\n      <td>0</td>\n      <td>1</td>\n      <td>2</td>\n      <td>0</td>\n      <td>0</td>\n      <td>13</td>\n      <td>129.12</td>\n      <td>35.20</td>\n    </tr>\n    <tr>\n      <th>4000002</th>\n      <td>20221225</td>\n      <td>부산70자1893</td>\n      <td>1</td>\n      <td>5</td>\n      <td>0</td>\n      <td>1</td>\n      <td>2</td>\n      <td>0</td>\n      <td>0</td>\n      <td>13</td>\n      <td>129.12</td>\n      <td>35.20</td>\n    </tr>\n    <tr>\n      <th>4000003</th>\n      <td>20221225</td>\n      <td>부산70자1893</td>\n      <td>1</td>\n      <td>5</td>\n      <td>0</td>\n      <td>1</td>\n      <td>1</td>\n      <td>0</td>\n      <td>0</td>\n      <td>13</td>\n      <td>129.12</td>\n      <td>35.20</td>\n    </tr>\n    <tr>\n      <th>4000004</th>\n      <td>20221225</td>\n      <td>부산70자1893</td>\n      <td>0</td>\n      <td>5</td>\n      <td>0</td>\n      <td>1</td>\n      <td>1</td>\n      <td>0</td>\n      <td>0</td>\n      <td>12</td>\n      <td>129.12</td>\n      <td>35.20</td>\n    </tr>\n    <tr>\n      <th>4000005</th>\n      <td>20221225</td>\n      <td>부산70자1893</td>\n      <td>0</td>\n      <td>5</td>\n      <td>0</td>\n      <td>1</td>\n      <td>1</td>\n      <td>0</td>\n      <td>0</td>\n      <td>12</td>\n      <td>129.12</td>\n      <td>35.20</td>\n    </tr>\n    <tr>\n      <th>...</th>\n      <td>...</td>\n      <td>...</td>\n      <td>...</td>\n      <td>...</td>\n      <td>...</td>\n      <td>...</td>\n      <td>...</td>\n      <td>...</td>\n      <td>...</td>\n      <td>...</td>\n      <td>...</td>\n      <td>...</td>\n    </tr>\n    <tr>\n      <th>4009995</th>\n      <td>20221225</td>\n      <td>부산70자1893</td>\n      <td>1</td>\n      <td>9</td>\n      <td>0</td>\n      <td>1</td>\n      <td>1</td>\n      <td>0</td>\n      <td>2</td>\n      <td>22</td>\n      <td>129.12</td>\n      <td>35.17</td>\n    </tr>\n    <tr>\n      <th>4009996</th>\n      <td>20221225</td>\n      <td>부산70자1893</td>\n      <td>1</td>\n      <td>9</td>\n      <td>0</td>\n      <td>1</td>\n      <td>1</td>\n      <td>0</td>\n      <td>2</td>\n      <td>22</td>\n      <td>129.12</td>\n      <td>35.17</td>\n    </tr>\n    <tr>\n      <th>4009997</th>\n      <td>20221225</td>\n      <td>부산70자1893</td>\n      <td>1</td>\n      <td>9</td>\n      <td>0</td>\n      <td>1</td>\n      <td>1</td>\n      <td>0</td>\n      <td>2</td>\n      <td>22</td>\n      <td>129.12</td>\n      <td>35.17</td>\n    </tr>\n    <tr>\n      <th>4009998</th>\n      <td>20221225</td>\n      <td>부산70자1893</td>\n      <td>1</td>\n      <td>9</td>\n      <td>0</td>\n      <td>1</td>\n      <td>1</td>\n      <td>0</td>\n      <td>2</td>\n      <td>22</td>\n      <td>129.12</td>\n      <td>35.17</td>\n    </tr>\n    <tr>\n      <th>4009999</th>\n      <td>20221225</td>\n      <td>부산70자1893</td>\n      <td>1</td>\n      <td>9</td>\n      <td>0</td>\n      <td>1</td>\n      <td>1</td>\n      <td>0</td>\n      <td>2</td>\n      <td>22</td>\n      <td>129.12</td>\n      <td>35.17</td>\n    </tr>\n  </tbody>\n</table>\n<p>9999 rows × 12 columns</p>\n</div>"
     },
     "execution_count": 15,
     "metadata": {},
     "output_type": "execute_result"
    }
   ],
   "source": [
    "df = df.query('4000000 < index < 4010000')\n",
    "df"
   ],
   "metadata": {
    "collapsed": false,
    "ExecuteTime": {
     "end_time": "2023-05-22T08:23:51.677974200Z",
     "start_time": "2023-05-22T08:23:51.646614700Z"
    }
   }
  },
  {
   "cell_type": "code",
   "execution_count": 19,
   "outputs": [
    {
     "data": {
      "text/plain": "날짜          75\n번호판         75\n브레이크        75\n시각          75\n위험운전분류      75\n차량속도분류      75\nRPM분류       75\n가속도분류       75\n일일주행거리분류    75\n방위각분류       75\nGPS_X분류     75\nGPS_Y분류     75\ndtype: int64"
     },
     "execution_count": 19,
     "metadata": {},
     "output_type": "execute_result"
    }
   ],
   "source": [
    "df.query('위험운전분류 == 1').count()"
   ],
   "metadata": {
    "collapsed": false,
    "ExecuteTime": {
     "end_time": "2023-05-22T08:24:06.039519300Z",
     "start_time": "2023-05-22T08:24:06.008195100Z"
    }
   }
  },
  {
   "cell_type": "code",
   "execution_count": 20,
   "outputs": [],
   "source": [
    "X = df[['브레이크', '시각', '차량속도분류', 'RPM분류', '가속도분류', '일일주행거리분류', '방위각분류', 'GPS_X분류', 'GPS_Y분류']]\n",
    "y = df['위험운전분류']"
   ],
   "metadata": {
    "collapsed": false,
    "ExecuteTime": {
     "end_time": "2023-05-22T08:24:07.205147900Z",
     "start_time": "2023-05-22T08:24:07.191882600Z"
    }
   }
  },
  {
   "cell_type": "code",
   "execution_count": 21,
   "outputs": [],
   "source": [
    "X_train, X_test, y_train, y_test = train_test_split(X, y, random_state=42, shuffle=True, test_size=0.3)"
   ],
   "metadata": {
    "collapsed": false,
    "ExecuteTime": {
     "end_time": "2023-05-22T08:24:07.661083Z",
     "start_time": "2023-05-22T08:24:07.648574200Z"
    }
   }
  },
  {
   "cell_type": "code",
   "execution_count": 22,
   "outputs": [],
   "source": [
    "model = XGBClassifier()"
   ],
   "metadata": {
    "collapsed": false,
    "ExecuteTime": {
     "end_time": "2023-05-22T08:24:08.319835600Z",
     "start_time": "2023-05-22T08:24:08.304207100Z"
    }
   }
  },
  {
   "cell_type": "code",
   "execution_count": 23,
   "outputs": [],
   "source": [
    "both_scoring = {'AUC': 'roc_auc', 'Accuracy': make_scorer(accuracy_score), 'Loss': 'neg_log_loss'}\n",
    "params = {'n_estimators': [100, 200, 500, 1000, 1500],\n",
    "          'learning_rate': [0.05, 0.1, 0.2],\n",
    "          'max_depth': [3, 4, 5]}"
   ],
   "metadata": {
    "collapsed": false,
    "ExecuteTime": {
     "end_time": "2023-05-22T08:24:08.804335100Z",
     "start_time": "2023-05-22T08:24:08.788528Z"
    }
   }
  },
  {
   "cell_type": "code",
   "execution_count": 24,
   "outputs": [
    {
     "data": {
      "text/plain": "GridSearchCV(cv=5,\n             estimator=XGBClassifier(base_score=None, booster=None,\n                                     callbacks=None, colsample_bylevel=None,\n                                     colsample_bynode=None,\n                                     colsample_bytree=None,\n                                     early_stopping_rounds=None,\n                                     enable_categorical=False, eval_metric=None,\n                                     feature_types=None, gamma=None,\n                                     gpu_id=None, grow_policy=None,\n                                     importance_type=None,\n                                     interaction_constraints=None,\n                                     learning_rate=None,...\n                                     missing=nan, monotone_constraints=None,\n                                     n_estimators=100, n_jobs=None,\n                                     num_parallel_tree=None, predictor=None,\n                                     random_state=None, ...),\n             param_grid={'learning_rate': [0.05, 0.1, 0.2],\n                         'max_depth': [3, 4, 5],\n                         'n_estimators': [100, 200, 500, 1000, 1500]},\n             refit='AUC', return_train_score=True,\n             scoring={'AUC': 'roc_auc', 'Accuracy': make_scorer(accuracy_score),\n                      'Loss': 'neg_log_loss'})",
      "text/html": "<style>#sk-container-id-1 {color: black;background-color: white;}#sk-container-id-1 pre{padding: 0;}#sk-container-id-1 div.sk-toggleable {background-color: white;}#sk-container-id-1 label.sk-toggleable__label {cursor: pointer;display: block;width: 100%;margin-bottom: 0;padding: 0.3em;box-sizing: border-box;text-align: center;}#sk-container-id-1 label.sk-toggleable__label-arrow:before {content: \"▸\";float: left;margin-right: 0.25em;color: #696969;}#sk-container-id-1 label.sk-toggleable__label-arrow:hover:before {color: black;}#sk-container-id-1 div.sk-estimator:hover label.sk-toggleable__label-arrow:before {color: black;}#sk-container-id-1 div.sk-toggleable__content {max-height: 0;max-width: 0;overflow: hidden;text-align: left;background-color: #f0f8ff;}#sk-container-id-1 div.sk-toggleable__content pre {margin: 0.2em;color: black;border-radius: 0.25em;background-color: #f0f8ff;}#sk-container-id-1 input.sk-toggleable__control:checked~div.sk-toggleable__content {max-height: 200px;max-width: 100%;overflow: auto;}#sk-container-id-1 input.sk-toggleable__control:checked~label.sk-toggleable__label-arrow:before {content: \"▾\";}#sk-container-id-1 div.sk-estimator input.sk-toggleable__control:checked~label.sk-toggleable__label {background-color: #d4ebff;}#sk-container-id-1 div.sk-label input.sk-toggleable__control:checked~label.sk-toggleable__label {background-color: #d4ebff;}#sk-container-id-1 input.sk-hidden--visually {border: 0;clip: rect(1px 1px 1px 1px);clip: rect(1px, 1px, 1px, 1px);height: 1px;margin: -1px;overflow: hidden;padding: 0;position: absolute;width: 1px;}#sk-container-id-1 div.sk-estimator {font-family: monospace;background-color: #f0f8ff;border: 1px dotted black;border-radius: 0.25em;box-sizing: border-box;margin-bottom: 0.5em;}#sk-container-id-1 div.sk-estimator:hover {background-color: #d4ebff;}#sk-container-id-1 div.sk-parallel-item::after {content: \"\";width: 100%;border-bottom: 1px solid gray;flex-grow: 1;}#sk-container-id-1 div.sk-label:hover label.sk-toggleable__label {background-color: #d4ebff;}#sk-container-id-1 div.sk-serial::before {content: \"\";position: absolute;border-left: 1px solid gray;box-sizing: border-box;top: 0;bottom: 0;left: 50%;z-index: 0;}#sk-container-id-1 div.sk-serial {display: flex;flex-direction: column;align-items: center;background-color: white;padding-right: 0.2em;padding-left: 0.2em;position: relative;}#sk-container-id-1 div.sk-item {position: relative;z-index: 1;}#sk-container-id-1 div.sk-parallel {display: flex;align-items: stretch;justify-content: center;background-color: white;position: relative;}#sk-container-id-1 div.sk-item::before, #sk-container-id-1 div.sk-parallel-item::before {content: \"\";position: absolute;border-left: 1px solid gray;box-sizing: border-box;top: 0;bottom: 0;left: 50%;z-index: -1;}#sk-container-id-1 div.sk-parallel-item {display: flex;flex-direction: column;z-index: 1;position: relative;background-color: white;}#sk-container-id-1 div.sk-parallel-item:first-child::after {align-self: flex-end;width: 50%;}#sk-container-id-1 div.sk-parallel-item:last-child::after {align-self: flex-start;width: 50%;}#sk-container-id-1 div.sk-parallel-item:only-child::after {width: 0;}#sk-container-id-1 div.sk-dashed-wrapped {border: 1px dashed gray;margin: 0 0.4em 0.5em 0.4em;box-sizing: border-box;padding-bottom: 0.4em;background-color: white;}#sk-container-id-1 div.sk-label label {font-family: monospace;font-weight: bold;display: inline-block;line-height: 1.2em;}#sk-container-id-1 div.sk-label-container {text-align: center;}#sk-container-id-1 div.sk-container {/* jupyter's `normalize.less` sets `[hidden] { display: none; }` but bootstrap.min.css set `[hidden] { display: none !important; }` so we also need the `!important` here to be able to override the default hidden behavior on the sphinx rendered scikit-learn.org. See: https://github.com/scikit-learn/scikit-learn/issues/21755 */display: inline-block !important;position: relative;}#sk-container-id-1 div.sk-text-repr-fallback {display: none;}</style><div id=\"sk-container-id-1\" class=\"sk-top-container\"><div class=\"sk-text-repr-fallback\"><pre>GridSearchCV(cv=5,\n             estimator=XGBClassifier(base_score=None, booster=None,\n                                     callbacks=None, colsample_bylevel=None,\n                                     colsample_bynode=None,\n                                     colsample_bytree=None,\n                                     early_stopping_rounds=None,\n                                     enable_categorical=False, eval_metric=None,\n                                     feature_types=None, gamma=None,\n                                     gpu_id=None, grow_policy=None,\n                                     importance_type=None,\n                                     interaction_constraints=None,\n                                     learning_rate=None,...\n                                     missing=nan, monotone_constraints=None,\n                                     n_estimators=100, n_jobs=None,\n                                     num_parallel_tree=None, predictor=None,\n                                     random_state=None, ...),\n             param_grid={&#x27;learning_rate&#x27;: [0.05, 0.1, 0.2],\n                         &#x27;max_depth&#x27;: [3, 4, 5],\n                         &#x27;n_estimators&#x27;: [100, 200, 500, 1000, 1500]},\n             refit=&#x27;AUC&#x27;, return_train_score=True,\n             scoring={&#x27;AUC&#x27;: &#x27;roc_auc&#x27;, &#x27;Accuracy&#x27;: make_scorer(accuracy_score),\n                      &#x27;Loss&#x27;: &#x27;neg_log_loss&#x27;})</pre><b>In a Jupyter environment, please rerun this cell to show the HTML representation or trust the notebook. <br />On GitHub, the HTML representation is unable to render, please try loading this page with nbviewer.org.</b></div><div class=\"sk-container\" hidden><div class=\"sk-item sk-dashed-wrapped\"><div class=\"sk-label-container\"><div class=\"sk-label sk-toggleable\"><input class=\"sk-toggleable__control sk-hidden--visually\" id=\"sk-estimator-id-1\" type=\"checkbox\" ><label for=\"sk-estimator-id-1\" class=\"sk-toggleable__label sk-toggleable__label-arrow\">GridSearchCV</label><div class=\"sk-toggleable__content\"><pre>GridSearchCV(cv=5,\n             estimator=XGBClassifier(base_score=None, booster=None,\n                                     callbacks=None, colsample_bylevel=None,\n                                     colsample_bynode=None,\n                                     colsample_bytree=None,\n                                     early_stopping_rounds=None,\n                                     enable_categorical=False, eval_metric=None,\n                                     feature_types=None, gamma=None,\n                                     gpu_id=None, grow_policy=None,\n                                     importance_type=None,\n                                     interaction_constraints=None,\n                                     learning_rate=None,...\n                                     missing=nan, monotone_constraints=None,\n                                     n_estimators=100, n_jobs=None,\n                                     num_parallel_tree=None, predictor=None,\n                                     random_state=None, ...),\n             param_grid={&#x27;learning_rate&#x27;: [0.05, 0.1, 0.2],\n                         &#x27;max_depth&#x27;: [3, 4, 5],\n                         &#x27;n_estimators&#x27;: [100, 200, 500, 1000, 1500]},\n             refit=&#x27;AUC&#x27;, return_train_score=True,\n             scoring={&#x27;AUC&#x27;: &#x27;roc_auc&#x27;, &#x27;Accuracy&#x27;: make_scorer(accuracy_score),\n                      &#x27;Loss&#x27;: &#x27;neg_log_loss&#x27;})</pre></div></div></div><div class=\"sk-parallel\"><div class=\"sk-parallel-item\"><div class=\"sk-item\"><div class=\"sk-label-container\"><div class=\"sk-label sk-toggleable\"><input class=\"sk-toggleable__control sk-hidden--visually\" id=\"sk-estimator-id-2\" type=\"checkbox\" ><label for=\"sk-estimator-id-2\" class=\"sk-toggleable__label sk-toggleable__label-arrow\">estimator: XGBClassifier</label><div class=\"sk-toggleable__content\"><pre>XGBClassifier(base_score=None, booster=None, callbacks=None,\n              colsample_bylevel=None, colsample_bynode=None,\n              colsample_bytree=None, early_stopping_rounds=None,\n              enable_categorical=False, eval_metric=None, feature_types=None,\n              gamma=None, gpu_id=None, grow_policy=None, importance_type=None,\n              interaction_constraints=None, learning_rate=None, max_bin=None,\n              max_cat_threshold=None, max_cat_to_onehot=None,\n              max_delta_step=None, max_depth=None, max_leaves=None,\n              min_child_weight=None, missing=nan, monotone_constraints=None,\n              n_estimators=100, n_jobs=None, num_parallel_tree=None,\n              predictor=None, random_state=None, ...)</pre></div></div></div><div class=\"sk-serial\"><div class=\"sk-item\"><div class=\"sk-estimator sk-toggleable\"><input class=\"sk-toggleable__control sk-hidden--visually\" id=\"sk-estimator-id-3\" type=\"checkbox\" ><label for=\"sk-estimator-id-3\" class=\"sk-toggleable__label sk-toggleable__label-arrow\">XGBClassifier</label><div class=\"sk-toggleable__content\"><pre>XGBClassifier(base_score=None, booster=None, callbacks=None,\n              colsample_bylevel=None, colsample_bynode=None,\n              colsample_bytree=None, early_stopping_rounds=None,\n              enable_categorical=False, eval_metric=None, feature_types=None,\n              gamma=None, gpu_id=None, grow_policy=None, importance_type=None,\n              interaction_constraints=None, learning_rate=None, max_bin=None,\n              max_cat_threshold=None, max_cat_to_onehot=None,\n              max_delta_step=None, max_depth=None, max_leaves=None,\n              min_child_weight=None, missing=nan, monotone_constraints=None,\n              n_estimators=100, n_jobs=None, num_parallel_tree=None,\n              predictor=None, random_state=None, ...)</pre></div></div></div></div></div></div></div></div></div></div>"
     },
     "execution_count": 24,
     "metadata": {},
     "output_type": "execute_result"
    }
   ],
   "source": [
    "clf = GridSearchCV(model, params, cv=5, scoring=both_scoring, refit='AUC', return_train_score=True)\n",
    "clf.fit(X_train[['브레이크', '시각', '차량속도분류', 'RPM분류', '가속도분류', '일일주행거리분류', '방위각분류', 'GPS_X분류', 'GPS_Y분류']], y_train)"
   ],
   "metadata": {
    "collapsed": false,
    "ExecuteTime": {
     "end_time": "2023-05-22T08:40:54.208585800Z",
     "start_time": "2023-05-22T08:24:09.534740800Z"
    }
   }
  },
  {
   "cell_type": "code",
   "execution_count": 25,
   "outputs": [
    {
     "name": "stdout",
     "output_type": "stream",
     "text": [
      "(nan, {'learning_rate': 0.05, 'max_depth': 3, 'n_estimators': 100})\n",
      "==============================\n",
      "Grid scores on training data: \n",
      "AUC Score: nan (+/-nan; Log Loss: 0.0047311734903162555 for {'learning_rate': 0.05, 'max_depth': 3, 'n_estimators': 100}\n",
      "AUC Score: nan (+/-nan; Log Loss: 0.005181766917831923 for {'learning_rate': 0.05, 'max_depth': 3, 'n_estimators': 200}\n",
      "AUC Score: nan (+/-nan; Log Loss: 0.005599320714119568 for {'learning_rate': 0.05, 'max_depth': 3, 'n_estimators': 500}\n",
      "AUC Score: nan (+/-nan; Log Loss: 0.006564524025537612 for {'learning_rate': 0.05, 'max_depth': 3, 'n_estimators': 1000}\n",
      "AUC Score: nan (+/-nan; Log Loss: 0.007047225904548865 for {'learning_rate': 0.05, 'max_depth': 3, 'n_estimators': 1500}\n",
      "AUC Score: nan (+/-nan; Log Loss: 0.00496907751220939 for {'learning_rate': 0.05, 'max_depth': 4, 'n_estimators': 100}\n",
      "AUC Score: nan (+/-nan; Log Loss: 0.006052732134185599 for {'learning_rate': 0.05, 'max_depth': 4, 'n_estimators': 200}\n",
      "AUC Score: nan (+/-nan; Log Loss: 0.006725520915033517 for {'learning_rate': 0.05, 'max_depth': 4, 'n_estimators': 500}\n",
      "AUC Score: nan (+/-nan; Log Loss: 0.005868256664664696 for {'learning_rate': 0.05, 'max_depth': 4, 'n_estimators': 1000}\n",
      "AUC Score: nan (+/-nan; Log Loss: 0.006057160452915718 for {'learning_rate': 0.05, 'max_depth': 4, 'n_estimators': 1500}\n",
      "AUC Score: nan (+/-nan; Log Loss: 0.004979077850837158 for {'learning_rate': 0.05, 'max_depth': 5, 'n_estimators': 100}\n",
      "AUC Score: nan (+/-nan; Log Loss: 0.005931945283868646 for {'learning_rate': 0.05, 'max_depth': 5, 'n_estimators': 200}\n",
      "AUC Score: nan (+/-nan; Log Loss: 0.007239655037319356 for {'learning_rate': 0.05, 'max_depth': 5, 'n_estimators': 500}\n",
      "AUC Score: nan (+/-nan; Log Loss: 0.007337914892867014 for {'learning_rate': 0.05, 'max_depth': 5, 'n_estimators': 1000}\n",
      "AUC Score: nan (+/-nan; Log Loss: 0.0072759555305966965 for {'learning_rate': 0.05, 'max_depth': 5, 'n_estimators': 1500}\n",
      "AUC Score: nan (+/-nan; Log Loss: 0.005093502813067736 for {'learning_rate': 0.1, 'max_depth': 3, 'n_estimators': 100}\n",
      "AUC Score: nan (+/-nan; Log Loss: 0.005918666860394624 for {'learning_rate': 0.1, 'max_depth': 3, 'n_estimators': 200}\n",
      "AUC Score: nan (+/-nan; Log Loss: 0.006554845289672317 for {'learning_rate': 0.1, 'max_depth': 3, 'n_estimators': 500}\n",
      "AUC Score: nan (+/-nan; Log Loss: 0.0073451356903657065 for {'learning_rate': 0.1, 'max_depth': 3, 'n_estimators': 1000}\n",
      "AUC Score: nan (+/-nan; Log Loss: 0.006967782266337526 for {'learning_rate': 0.1, 'max_depth': 3, 'n_estimators': 1500}\n",
      "AUC Score: nan (+/-nan; Log Loss: 0.006023540937532219 for {'learning_rate': 0.1, 'max_depth': 4, 'n_estimators': 100}\n",
      "AUC Score: nan (+/-nan; Log Loss: 0.006103148826125226 for {'learning_rate': 0.1, 'max_depth': 4, 'n_estimators': 200}\n",
      "AUC Score: nan (+/-nan; Log Loss: 0.005868827030917029 for {'learning_rate': 0.1, 'max_depth': 4, 'n_estimators': 500}\n",
      "AUC Score: nan (+/-nan; Log Loss: 0.006071722155155777 for {'learning_rate': 0.1, 'max_depth': 4, 'n_estimators': 1000}\n",
      "AUC Score: nan (+/-nan; Log Loss: 0.006670014928996078 for {'learning_rate': 0.1, 'max_depth': 4, 'n_estimators': 1500}\n",
      "AUC Score: nan (+/-nan; Log Loss: 0.0060439600779585495 for {'learning_rate': 0.1, 'max_depth': 5, 'n_estimators': 100}\n",
      "AUC Score: nan (+/-nan; Log Loss: 0.007304803071460486 for {'learning_rate': 0.1, 'max_depth': 5, 'n_estimators': 200}\n",
      "AUC Score: nan (+/-nan; Log Loss: 0.007439146658870963 for {'learning_rate': 0.1, 'max_depth': 5, 'n_estimators': 500}\n",
      "AUC Score: nan (+/-nan; Log Loss: 0.007394653654215676 for {'learning_rate': 0.1, 'max_depth': 5, 'n_estimators': 1000}\n",
      "AUC Score: nan (+/-nan; Log Loss: 0.0078922957915924 for {'learning_rate': 0.1, 'max_depth': 5, 'n_estimators': 1500}\n",
      "AUC Score: nan (+/-nan; Log Loss: 0.00585627832598557 for {'learning_rate': 0.2, 'max_depth': 3, 'n_estimators': 100}\n",
      "AUC Score: nan (+/-nan; Log Loss: 0.006608254717814723 for {'learning_rate': 0.2, 'max_depth': 3, 'n_estimators': 200}\n",
      "AUC Score: nan (+/-nan; Log Loss: 0.0071917342405770565 for {'learning_rate': 0.2, 'max_depth': 3, 'n_estimators': 500}\n",
      "AUC Score: nan (+/-nan; Log Loss: 0.007385196610922683 for {'learning_rate': 0.2, 'max_depth': 3, 'n_estimators': 1000}\n",
      "AUC Score: nan (+/-nan; Log Loss: 0.007570095865658661 for {'learning_rate': 0.2, 'max_depth': 3, 'n_estimators': 1500}\n",
      "AUC Score: nan (+/-nan; Log Loss: 0.0061884912866203455 for {'learning_rate': 0.2, 'max_depth': 4, 'n_estimators': 100}\n",
      "AUC Score: nan (+/-nan; Log Loss: 0.0061275815229276 for {'learning_rate': 0.2, 'max_depth': 4, 'n_estimators': 200}\n",
      "AUC Score: nan (+/-nan; Log Loss: 0.0059917337477946135 for {'learning_rate': 0.2, 'max_depth': 4, 'n_estimators': 500}\n",
      "AUC Score: nan (+/-nan; Log Loss: 0.007551535660537454 for {'learning_rate': 0.2, 'max_depth': 4, 'n_estimators': 1000}\n",
      "AUC Score: nan (+/-nan; Log Loss: 0.00830288304428754 for {'learning_rate': 0.2, 'max_depth': 4, 'n_estimators': 1500}\n",
      "AUC Score: nan (+/-nan; Log Loss: 0.006957741799007361 for {'learning_rate': 0.2, 'max_depth': 5, 'n_estimators': 100}\n",
      "AUC Score: nan (+/-nan; Log Loss: 0.006852460270567042 for {'learning_rate': 0.2, 'max_depth': 5, 'n_estimators': 200}\n",
      "AUC Score: nan (+/-nan; Log Loss: 0.00719571043417934 for {'learning_rate': 0.2, 'max_depth': 5, 'n_estimators': 500}\n",
      "AUC Score: nan (+/-nan; Log Loss: 0.008154206538809177 for {'learning_rate': 0.2, 'max_depth': 5, 'n_estimators': 1000}\n",
      "AUC Score: nan (+/-nan; Log Loss: 0.008519482620346573 for {'learning_rate': 0.2, 'max_depth': 5, 'n_estimators': 1500}\n"
     ]
    }
   ],
   "source": [
    "print((clf.best_score_, clf.best_params_))\n",
    "print('=' * 30)\n",
    "print('Grid scores on training data: ')\n",
    "means = clf.cv_results_['mean_test_AUC']\n",
    "stds = clf.cv_results_['std_test_AUC']\n",
    "log_losses = clf.cv_results_['std_test_Loss']\n",
    "\n",
    "for mean, std, log_loss, params in zip(means, stds, log_losses, clf.cv_results_['params']):\n",
    "    print(f'AUC Score: {mean} (+/-{std * 2}; Log Loss: {log_loss} for {params}')"
   ],
   "metadata": {
    "collapsed": false,
    "ExecuteTime": {
     "end_time": "2023-05-22T08:41:57.699727500Z",
     "start_time": "2023-05-22T08:41:57.699727500Z"
    }
   }
  },
  {
   "cell_type": "code",
   "execution_count": null,
   "outputs": [],
   "source": [],
   "metadata": {
    "collapsed": false
   }
  }
 ],
 "metadata": {
  "kernelspec": {
   "display_name": "Python 3",
   "language": "python",
   "name": "python3"
  },
  "language_info": {
   "codemirror_mode": {
    "name": "ipython",
    "version": 2
   },
   "file_extension": ".py",
   "mimetype": "text/x-python",
   "name": "python",
   "nbconvert_exporter": "python",
   "pygments_lexer": "ipython2",
   "version": "2.7.6"
  }
 },
 "nbformat": 4,
 "nbformat_minor": 0
}
