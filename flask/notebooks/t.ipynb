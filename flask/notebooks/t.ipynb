{
 "cells": [
  {
   "cell_type": "code",
   "execution_count": 1,
   "metadata": {
    "collapsed": true,
    "ExecuteTime": {
     "end_time": "2023-05-16T07:42:24.500229600Z",
     "start_time": "2023-05-16T07:42:24.007889400Z"
    }
   },
   "outputs": [],
   "source": [
    "import pandas as pd\n",
    "import numpy as np"
   ]
  },
  {
   "cell_type": "code",
   "execution_count": 2,
   "outputs": [],
   "source": [
    "df = pd.read_csv('../data/slice_data_1854.csv')"
   ],
   "metadata": {
    "collapsed": false,
    "ExecuteTime": {
     "end_time": "2023-05-16T07:43:02.735901900Z",
     "start_time": "2023-05-16T07:43:02.686103300Z"
    }
   }
  },
  {
   "cell_type": "code",
   "execution_count": 3,
   "outputs": [
    {
     "data": {
      "text/plain": "             날짜        번호판  일일주행거리  누적주행거리          정보발생일시  차량속도  RPM  브레이크   \n0      20221201  부산70자1854       0   66443  22120105071500     0  193     0  \\\n1      20221201  부산70자1854       0   66443  22120105071600     0  388     0   \n2      20221201  부산70자1854       0   66443  22120105071700     0  777     0   \n3      20221201  부산70자1854       0   66443  22120105071800     0  638     0   \n4      20221201  부산70자1854       0   66443  22120105071900     0  461     0   \n...         ...        ...     ...     ...             ...   ...  ...   ...   \n23941  20221201  부산70자1854     100   66544  22120117510100     0  559     1   \n23942  20221201  부산70자1854     100   66544  22120117510200     0  533     1   \n23943  20221201  부산70자1854     100   66544  22120117510300     0  141     1   \n23944  20221201  부산70자1854     100   66544  22120117510400     0   20     1   \n23945  20221201  부산70자1854     100   66544  22120117510500     0   20     1   \n\n           GPS_X     GPS_Y  방위각  가속도_X  가속도_Y  \n0      129158670  35236021    0   -6.3    0.7  \n1      129158670  35236021    0   -7.9    1.6  \n2      129158670  35236021    0   -8.9    2.2  \n3      129158670  35236021    0   -6.6    0.8  \n4      129158670  35236021    0   -7.1    0.8  \n...          ...       ...  ...    ...    ...  \n23941  129158370  35235965  331   -6.6    0.9  \n23942  129158370  35235965  331   -7.2    1.1  \n23943  129158370  35235965  331   -7.0    1.8  \n23944  129158370  35235965  331   -6.2    0.8  \n23945  129158370  35235965  331   -6.1    0.7  \n\n[23946 rows x 13 columns]",
      "text/html": "<div>\n<style scoped>\n    .dataframe tbody tr th:only-of-type {\n        vertical-align: middle;\n    }\n\n    .dataframe tbody tr th {\n        vertical-align: top;\n    }\n\n    .dataframe thead th {\n        text-align: right;\n    }\n</style>\n<table border=\"1\" class=\"dataframe\">\n  <thead>\n    <tr style=\"text-align: right;\">\n      <th></th>\n      <th>날짜</th>\n      <th>번호판</th>\n      <th>일일주행거리</th>\n      <th>누적주행거리</th>\n      <th>정보발생일시</th>\n      <th>차량속도</th>\n      <th>RPM</th>\n      <th>브레이크</th>\n      <th>GPS_X</th>\n      <th>GPS_Y</th>\n      <th>방위각</th>\n      <th>가속도_X</th>\n      <th>가속도_Y</th>\n    </tr>\n  </thead>\n  <tbody>\n    <tr>\n      <th>0</th>\n      <td>20221201</td>\n      <td>부산70자1854</td>\n      <td>0</td>\n      <td>66443</td>\n      <td>22120105071500</td>\n      <td>0</td>\n      <td>193</td>\n      <td>0</td>\n      <td>129158670</td>\n      <td>35236021</td>\n      <td>0</td>\n      <td>-6.3</td>\n      <td>0.7</td>\n    </tr>\n    <tr>\n      <th>1</th>\n      <td>20221201</td>\n      <td>부산70자1854</td>\n      <td>0</td>\n      <td>66443</td>\n      <td>22120105071600</td>\n      <td>0</td>\n      <td>388</td>\n      <td>0</td>\n      <td>129158670</td>\n      <td>35236021</td>\n      <td>0</td>\n      <td>-7.9</td>\n      <td>1.6</td>\n    </tr>\n    <tr>\n      <th>2</th>\n      <td>20221201</td>\n      <td>부산70자1854</td>\n      <td>0</td>\n      <td>66443</td>\n      <td>22120105071700</td>\n      <td>0</td>\n      <td>777</td>\n      <td>0</td>\n      <td>129158670</td>\n      <td>35236021</td>\n      <td>0</td>\n      <td>-8.9</td>\n      <td>2.2</td>\n    </tr>\n    <tr>\n      <th>3</th>\n      <td>20221201</td>\n      <td>부산70자1854</td>\n      <td>0</td>\n      <td>66443</td>\n      <td>22120105071800</td>\n      <td>0</td>\n      <td>638</td>\n      <td>0</td>\n      <td>129158670</td>\n      <td>35236021</td>\n      <td>0</td>\n      <td>-6.6</td>\n      <td>0.8</td>\n    </tr>\n    <tr>\n      <th>4</th>\n      <td>20221201</td>\n      <td>부산70자1854</td>\n      <td>0</td>\n      <td>66443</td>\n      <td>22120105071900</td>\n      <td>0</td>\n      <td>461</td>\n      <td>0</td>\n      <td>129158670</td>\n      <td>35236021</td>\n      <td>0</td>\n      <td>-7.1</td>\n      <td>0.8</td>\n    </tr>\n    <tr>\n      <th>...</th>\n      <td>...</td>\n      <td>...</td>\n      <td>...</td>\n      <td>...</td>\n      <td>...</td>\n      <td>...</td>\n      <td>...</td>\n      <td>...</td>\n      <td>...</td>\n      <td>...</td>\n      <td>...</td>\n      <td>...</td>\n      <td>...</td>\n    </tr>\n    <tr>\n      <th>23941</th>\n      <td>20221201</td>\n      <td>부산70자1854</td>\n      <td>100</td>\n      <td>66544</td>\n      <td>22120117510100</td>\n      <td>0</td>\n      <td>559</td>\n      <td>1</td>\n      <td>129158370</td>\n      <td>35235965</td>\n      <td>331</td>\n      <td>-6.6</td>\n      <td>0.9</td>\n    </tr>\n    <tr>\n      <th>23942</th>\n      <td>20221201</td>\n      <td>부산70자1854</td>\n      <td>100</td>\n      <td>66544</td>\n      <td>22120117510200</td>\n      <td>0</td>\n      <td>533</td>\n      <td>1</td>\n      <td>129158370</td>\n      <td>35235965</td>\n      <td>331</td>\n      <td>-7.2</td>\n      <td>1.1</td>\n    </tr>\n    <tr>\n      <th>23943</th>\n      <td>20221201</td>\n      <td>부산70자1854</td>\n      <td>100</td>\n      <td>66544</td>\n      <td>22120117510300</td>\n      <td>0</td>\n      <td>141</td>\n      <td>1</td>\n      <td>129158370</td>\n      <td>35235965</td>\n      <td>331</td>\n      <td>-7.0</td>\n      <td>1.8</td>\n    </tr>\n    <tr>\n      <th>23944</th>\n      <td>20221201</td>\n      <td>부산70자1854</td>\n      <td>100</td>\n      <td>66544</td>\n      <td>22120117510400</td>\n      <td>0</td>\n      <td>20</td>\n      <td>1</td>\n      <td>129158370</td>\n      <td>35235965</td>\n      <td>331</td>\n      <td>-6.2</td>\n      <td>0.8</td>\n    </tr>\n    <tr>\n      <th>23945</th>\n      <td>20221201</td>\n      <td>부산70자1854</td>\n      <td>100</td>\n      <td>66544</td>\n      <td>22120117510500</td>\n      <td>0</td>\n      <td>20</td>\n      <td>1</td>\n      <td>129158370</td>\n      <td>35235965</td>\n      <td>331</td>\n      <td>-6.1</td>\n      <td>0.7</td>\n    </tr>\n  </tbody>\n</table>\n<p>23946 rows × 13 columns</p>\n</div>"
     },
     "execution_count": 3,
     "metadata": {},
     "output_type": "execute_result"
    }
   ],
   "source": [
    "df"
   ],
   "metadata": {
    "collapsed": false,
    "ExecuteTime": {
     "end_time": "2023-05-16T07:43:05.047488900Z",
     "start_time": "2023-05-16T07:43:05.000511700Z"
    }
   }
  },
  {
   "cell_type": "code",
   "execution_count": 4,
   "outputs": [],
   "source": [
    "df['GPS_X'] /= 1000000\n",
    "df['GPS_Y'] /= 1000000"
   ],
   "metadata": {
    "collapsed": false,
    "ExecuteTime": {
     "end_time": "2023-05-16T07:44:39.654784800Z",
     "start_time": "2023-05-16T07:44:39.592201400Z"
    }
   }
  },
  {
   "cell_type": "code",
   "execution_count": 5,
   "outputs": [
    {
     "data": {
      "text/plain": "             날짜        번호판  일일주행거리  누적주행거리          정보발생일시  차량속도  RPM  브레이크   \n0      20221201  부산70자1854       0   66443  22120105071500     0  193     0  \\\n1      20221201  부산70자1854       0   66443  22120105071600     0  388     0   \n2      20221201  부산70자1854       0   66443  22120105071700     0  777     0   \n3      20221201  부산70자1854       0   66443  22120105071800     0  638     0   \n4      20221201  부산70자1854       0   66443  22120105071900     0  461     0   \n...         ...        ...     ...     ...             ...   ...  ...   ...   \n23941  20221201  부산70자1854     100   66544  22120117510100     0  559     1   \n23942  20221201  부산70자1854     100   66544  22120117510200     0  533     1   \n23943  20221201  부산70자1854     100   66544  22120117510300     0  141     1   \n23944  20221201  부산70자1854     100   66544  22120117510400     0   20     1   \n23945  20221201  부산70자1854     100   66544  22120117510500     0   20     1   \n\n           GPS_X      GPS_Y  방위각  가속도_X  가속도_Y  \n0      129.15867  35.236021    0   -6.3    0.7  \n1      129.15867  35.236021    0   -7.9    1.6  \n2      129.15867  35.236021    0   -8.9    2.2  \n3      129.15867  35.236021    0   -6.6    0.8  \n4      129.15867  35.236021    0   -7.1    0.8  \n...          ...        ...  ...    ...    ...  \n23941  129.15837  35.235965  331   -6.6    0.9  \n23942  129.15837  35.235965  331   -7.2    1.1  \n23943  129.15837  35.235965  331   -7.0    1.8  \n23944  129.15837  35.235965  331   -6.2    0.8  \n23945  129.15837  35.235965  331   -6.1    0.7  \n\n[23946 rows x 13 columns]",
      "text/html": "<div>\n<style scoped>\n    .dataframe tbody tr th:only-of-type {\n        vertical-align: middle;\n    }\n\n    .dataframe tbody tr th {\n        vertical-align: top;\n    }\n\n    .dataframe thead th {\n        text-align: right;\n    }\n</style>\n<table border=\"1\" class=\"dataframe\">\n  <thead>\n    <tr style=\"text-align: right;\">\n      <th></th>\n      <th>날짜</th>\n      <th>번호판</th>\n      <th>일일주행거리</th>\n      <th>누적주행거리</th>\n      <th>정보발생일시</th>\n      <th>차량속도</th>\n      <th>RPM</th>\n      <th>브레이크</th>\n      <th>GPS_X</th>\n      <th>GPS_Y</th>\n      <th>방위각</th>\n      <th>가속도_X</th>\n      <th>가속도_Y</th>\n    </tr>\n  </thead>\n  <tbody>\n    <tr>\n      <th>0</th>\n      <td>20221201</td>\n      <td>부산70자1854</td>\n      <td>0</td>\n      <td>66443</td>\n      <td>22120105071500</td>\n      <td>0</td>\n      <td>193</td>\n      <td>0</td>\n      <td>129.15867</td>\n      <td>35.236021</td>\n      <td>0</td>\n      <td>-6.3</td>\n      <td>0.7</td>\n    </tr>\n    <tr>\n      <th>1</th>\n      <td>20221201</td>\n      <td>부산70자1854</td>\n      <td>0</td>\n      <td>66443</td>\n      <td>22120105071600</td>\n      <td>0</td>\n      <td>388</td>\n      <td>0</td>\n      <td>129.15867</td>\n      <td>35.236021</td>\n      <td>0</td>\n      <td>-7.9</td>\n      <td>1.6</td>\n    </tr>\n    <tr>\n      <th>2</th>\n      <td>20221201</td>\n      <td>부산70자1854</td>\n      <td>0</td>\n      <td>66443</td>\n      <td>22120105071700</td>\n      <td>0</td>\n      <td>777</td>\n      <td>0</td>\n      <td>129.15867</td>\n      <td>35.236021</td>\n      <td>0</td>\n      <td>-8.9</td>\n      <td>2.2</td>\n    </tr>\n    <tr>\n      <th>3</th>\n      <td>20221201</td>\n      <td>부산70자1854</td>\n      <td>0</td>\n      <td>66443</td>\n      <td>22120105071800</td>\n      <td>0</td>\n      <td>638</td>\n      <td>0</td>\n      <td>129.15867</td>\n      <td>35.236021</td>\n      <td>0</td>\n      <td>-6.6</td>\n      <td>0.8</td>\n    </tr>\n    <tr>\n      <th>4</th>\n      <td>20221201</td>\n      <td>부산70자1854</td>\n      <td>0</td>\n      <td>66443</td>\n      <td>22120105071900</td>\n      <td>0</td>\n      <td>461</td>\n      <td>0</td>\n      <td>129.15867</td>\n      <td>35.236021</td>\n      <td>0</td>\n      <td>-7.1</td>\n      <td>0.8</td>\n    </tr>\n    <tr>\n      <th>...</th>\n      <td>...</td>\n      <td>...</td>\n      <td>...</td>\n      <td>...</td>\n      <td>...</td>\n      <td>...</td>\n      <td>...</td>\n      <td>...</td>\n      <td>...</td>\n      <td>...</td>\n      <td>...</td>\n      <td>...</td>\n      <td>...</td>\n    </tr>\n    <tr>\n      <th>23941</th>\n      <td>20221201</td>\n      <td>부산70자1854</td>\n      <td>100</td>\n      <td>66544</td>\n      <td>22120117510100</td>\n      <td>0</td>\n      <td>559</td>\n      <td>1</td>\n      <td>129.15837</td>\n      <td>35.235965</td>\n      <td>331</td>\n      <td>-6.6</td>\n      <td>0.9</td>\n    </tr>\n    <tr>\n      <th>23942</th>\n      <td>20221201</td>\n      <td>부산70자1854</td>\n      <td>100</td>\n      <td>66544</td>\n      <td>22120117510200</td>\n      <td>0</td>\n      <td>533</td>\n      <td>1</td>\n      <td>129.15837</td>\n      <td>35.235965</td>\n      <td>331</td>\n      <td>-7.2</td>\n      <td>1.1</td>\n    </tr>\n    <tr>\n      <th>23943</th>\n      <td>20221201</td>\n      <td>부산70자1854</td>\n      <td>100</td>\n      <td>66544</td>\n      <td>22120117510300</td>\n      <td>0</td>\n      <td>141</td>\n      <td>1</td>\n      <td>129.15837</td>\n      <td>35.235965</td>\n      <td>331</td>\n      <td>-7.0</td>\n      <td>1.8</td>\n    </tr>\n    <tr>\n      <th>23944</th>\n      <td>20221201</td>\n      <td>부산70자1854</td>\n      <td>100</td>\n      <td>66544</td>\n      <td>22120117510400</td>\n      <td>0</td>\n      <td>20</td>\n      <td>1</td>\n      <td>129.15837</td>\n      <td>35.235965</td>\n      <td>331</td>\n      <td>-6.2</td>\n      <td>0.8</td>\n    </tr>\n    <tr>\n      <th>23945</th>\n      <td>20221201</td>\n      <td>부산70자1854</td>\n      <td>100</td>\n      <td>66544</td>\n      <td>22120117510500</td>\n      <td>0</td>\n      <td>20</td>\n      <td>1</td>\n      <td>129.15837</td>\n      <td>35.235965</td>\n      <td>331</td>\n      <td>-6.1</td>\n      <td>0.7</td>\n    </tr>\n  </tbody>\n</table>\n<p>23946 rows × 13 columns</p>\n</div>"
     },
     "execution_count": 5,
     "metadata": {},
     "output_type": "execute_result"
    }
   ],
   "source": [
    "df"
   ],
   "metadata": {
    "collapsed": false,
    "ExecuteTime": {
     "end_time": "2023-05-16T07:45:01.717589500Z",
     "start_time": "2023-05-16T07:45:01.686242Z"
    }
   }
  },
  {
   "cell_type": "markdown",
   "source": [],
   "metadata": {
    "collapsed": false
   }
  },
  {
   "cell_type": "code",
   "execution_count": 14,
   "outputs": [
    {
     "name": "stdout",
     "output_type": "stream",
     "text": [
      "[665, 22, 47, 12]\n"
     ]
    }
   ],
   "source": [
    "lst = [0] * 4\n",
    "for i in df.index:\n",
    "    if i == 0:\n",
    "        continue\n",
    "\n",
    "    # 급가속\n",
    "    if 6 <= df['차량속도'][i] <= 10 and df['가속도_X'][i] - df['가속도_X'][i - 1] >= 2.2:\n",
    "        lst[0] += 1\n",
    "    elif 10 < df['차량속도'][i] <= 20 and df['가속도_X'][i] - df['가속도_X'][i - 1] >= 1.9:\n",
    "        lst[0] += 1\n",
    "    elif 20 < df['차량속도'][i] and df['가속도_X'][i] - df['가속도_X'][i - 1] >= 1.6:\n",
    "        lst[0] += 1\n",
    "\n",
    "    # 급출발\n",
    "    if 5 >= df['차량속도'][i] and df['가속도_X'][i] - df['가속도_X'][i - 1] >= 2.2:\n",
    "        lst[1] += 1\n",
    "\n",
    "    # 급감속\n",
    "    if 30 >= df['차량속도'][i] and df['가속도_X'][i] - df['가속도_X'][i - 1] < -2.5 and df['차량속도'][i] >= 6 and df['브레이크'][i] == 1:\n",
    "        lst[2] += 1\n",
    "    elif 50 >= df['차량속도'][i] and df['가속도_X'][i] - df['가속도_X'][i - 1] < -2.8 and df['차량속도'][i] >= 6 and df['브레이크'][i] == 1:\n",
    "        lst[2] += 1\n",
    "    elif 50 < df['차량속도'][i] and df['가속도_X'][i] - df['가속도_X'][i - 1] < -3.3 and df['차량속도'][i] >= 6 and df['브레이크'][i] == 1:\n",
    "        lst[2] += 1\n",
    "\n",
    "    # 급정지\n",
    "    if df['가속도_X'][i] - df['가속도_X'][i - 1] < -2.5 and df['차량속도'][i] <= 5 and df['브레이크'][i] == 1:\n",
    "        lst[3] += 1\n",
    "\n",
    "print(lst)\n"
   ],
   "metadata": {
    "collapsed": false,
    "ExecuteTime": {
     "end_time": "2023-05-16T08:10:02.268514100Z",
     "start_time": "2023-05-16T08:10:00.876472500Z"
    }
   }
  },
  {
   "cell_type": "code",
   "execution_count": 77,
   "outputs": [],
   "source": [
    "df = pd.read_csv('../data/slice_data.csv')"
   ],
   "metadata": {
    "collapsed": false,
    "ExecuteTime": {
     "end_time": "2023-05-17T12:06:07.946961900Z",
     "start_time": "2023-05-17T12:06:02.038998300Z"
    }
   }
  },
  {
   "cell_type": "code",
   "execution_count": 78,
   "outputs": [],
   "source": [
    "df = df.query('번호판 == \"부산70자1854\"')"
   ],
   "metadata": {
    "collapsed": false,
    "ExecuteTime": {
     "end_time": "2023-05-17T12:06:09.322184300Z",
     "start_time": "2023-05-17T12:06:09.079824700Z"
    }
   }
  },
  {
   "cell_type": "code",
   "execution_count": 79,
   "outputs": [
    {
     "data": {
      "text/plain": "               날짜        번호판  일일주행거리  누적주행거리          정보발생일시  차량속도  RPM  브레이크   \n0        20221201  부산70자1854       0   66443  22120105071500     0  193     0  \\\n1        20221201  부산70자1854       0   66443  22120105071600     0  388     0   \n2        20221201  부산70자1854       0   66443  22120105071700     0  777     0   \n3        20221201  부산70자1854       0   66443  22120105071800     0  638     0   \n4        20221201  부산70자1854       0   66443  22120105071900     0  461     0   \n...           ...        ...     ...     ...             ...   ...  ...   ...   \n1436754  20221231  부산70자1854      44   72362  22123122521400     0  557     1   \n1436755  20221231  부산70자1854      44   72362  22123122521500     0  223     1   \n1436756  20221231  부산70자1854      44   72362  22123122521600     0   37     1   \n1436757  20221231  부산70자1854      44   72362  22123122521700     0   22     1   \n1436758  20221231  부산70자1854      44   72362  22123122521800     0    0     0   \n\n             GPS_X     GPS_Y  방위각  가속도_X  가속도_Y  \n0        129158670  35236021    0   -6.3    0.7  \n1        129158670  35236021    0   -7.9    1.6  \n2        129158670  35236021    0   -8.9    2.2  \n3        129158670  35236021    0   -6.6    0.8  \n4        129158670  35236021    0   -7.1    0.8  \n...            ...       ...  ...    ...    ...  \n1436754  129158370  35235809  249   -6.7    0.5  \n1436755  129158370  35235809  249   -6.8    0.8  \n1436756  129158370  35235809  249   -6.8    0.7  \n1436757  129158370  35235809  249   -6.2    0.3  \n1436758  129158370  35235809  249   -6.0    0.2  \n\n[1436759 rows x 13 columns]",
      "text/html": "<div>\n<style scoped>\n    .dataframe tbody tr th:only-of-type {\n        vertical-align: middle;\n    }\n\n    .dataframe tbody tr th {\n        vertical-align: top;\n    }\n\n    .dataframe thead th {\n        text-align: right;\n    }\n</style>\n<table border=\"1\" class=\"dataframe\">\n  <thead>\n    <tr style=\"text-align: right;\">\n      <th></th>\n      <th>날짜</th>\n      <th>번호판</th>\n      <th>일일주행거리</th>\n      <th>누적주행거리</th>\n      <th>정보발생일시</th>\n      <th>차량속도</th>\n      <th>RPM</th>\n      <th>브레이크</th>\n      <th>GPS_X</th>\n      <th>GPS_Y</th>\n      <th>방위각</th>\n      <th>가속도_X</th>\n      <th>가속도_Y</th>\n    </tr>\n  </thead>\n  <tbody>\n    <tr>\n      <th>0</th>\n      <td>20221201</td>\n      <td>부산70자1854</td>\n      <td>0</td>\n      <td>66443</td>\n      <td>22120105071500</td>\n      <td>0</td>\n      <td>193</td>\n      <td>0</td>\n      <td>129158670</td>\n      <td>35236021</td>\n      <td>0</td>\n      <td>-6.3</td>\n      <td>0.7</td>\n    </tr>\n    <tr>\n      <th>1</th>\n      <td>20221201</td>\n      <td>부산70자1854</td>\n      <td>0</td>\n      <td>66443</td>\n      <td>22120105071600</td>\n      <td>0</td>\n      <td>388</td>\n      <td>0</td>\n      <td>129158670</td>\n      <td>35236021</td>\n      <td>0</td>\n      <td>-7.9</td>\n      <td>1.6</td>\n    </tr>\n    <tr>\n      <th>2</th>\n      <td>20221201</td>\n      <td>부산70자1854</td>\n      <td>0</td>\n      <td>66443</td>\n      <td>22120105071700</td>\n      <td>0</td>\n      <td>777</td>\n      <td>0</td>\n      <td>129158670</td>\n      <td>35236021</td>\n      <td>0</td>\n      <td>-8.9</td>\n      <td>2.2</td>\n    </tr>\n    <tr>\n      <th>3</th>\n      <td>20221201</td>\n      <td>부산70자1854</td>\n      <td>0</td>\n      <td>66443</td>\n      <td>22120105071800</td>\n      <td>0</td>\n      <td>638</td>\n      <td>0</td>\n      <td>129158670</td>\n      <td>35236021</td>\n      <td>0</td>\n      <td>-6.6</td>\n      <td>0.8</td>\n    </tr>\n    <tr>\n      <th>4</th>\n      <td>20221201</td>\n      <td>부산70자1854</td>\n      <td>0</td>\n      <td>66443</td>\n      <td>22120105071900</td>\n      <td>0</td>\n      <td>461</td>\n      <td>0</td>\n      <td>129158670</td>\n      <td>35236021</td>\n      <td>0</td>\n      <td>-7.1</td>\n      <td>0.8</td>\n    </tr>\n    <tr>\n      <th>...</th>\n      <td>...</td>\n      <td>...</td>\n      <td>...</td>\n      <td>...</td>\n      <td>...</td>\n      <td>...</td>\n      <td>...</td>\n      <td>...</td>\n      <td>...</td>\n      <td>...</td>\n      <td>...</td>\n      <td>...</td>\n      <td>...</td>\n    </tr>\n    <tr>\n      <th>1436754</th>\n      <td>20221231</td>\n      <td>부산70자1854</td>\n      <td>44</td>\n      <td>72362</td>\n      <td>22123122521400</td>\n      <td>0</td>\n      <td>557</td>\n      <td>1</td>\n      <td>129158370</td>\n      <td>35235809</td>\n      <td>249</td>\n      <td>-6.7</td>\n      <td>0.5</td>\n    </tr>\n    <tr>\n      <th>1436755</th>\n      <td>20221231</td>\n      <td>부산70자1854</td>\n      <td>44</td>\n      <td>72362</td>\n      <td>22123122521500</td>\n      <td>0</td>\n      <td>223</td>\n      <td>1</td>\n      <td>129158370</td>\n      <td>35235809</td>\n      <td>249</td>\n      <td>-6.8</td>\n      <td>0.8</td>\n    </tr>\n    <tr>\n      <th>1436756</th>\n      <td>20221231</td>\n      <td>부산70자1854</td>\n      <td>44</td>\n      <td>72362</td>\n      <td>22123122521600</td>\n      <td>0</td>\n      <td>37</td>\n      <td>1</td>\n      <td>129158370</td>\n      <td>35235809</td>\n      <td>249</td>\n      <td>-6.8</td>\n      <td>0.7</td>\n    </tr>\n    <tr>\n      <th>1436757</th>\n      <td>20221231</td>\n      <td>부산70자1854</td>\n      <td>44</td>\n      <td>72362</td>\n      <td>22123122521700</td>\n      <td>0</td>\n      <td>22</td>\n      <td>1</td>\n      <td>129158370</td>\n      <td>35235809</td>\n      <td>249</td>\n      <td>-6.2</td>\n      <td>0.3</td>\n    </tr>\n    <tr>\n      <th>1436758</th>\n      <td>20221231</td>\n      <td>부산70자1854</td>\n      <td>44</td>\n      <td>72362</td>\n      <td>22123122521800</td>\n      <td>0</td>\n      <td>0</td>\n      <td>0</td>\n      <td>129158370</td>\n      <td>35235809</td>\n      <td>249</td>\n      <td>-6.0</td>\n      <td>0.2</td>\n    </tr>\n  </tbody>\n</table>\n<p>1436759 rows × 13 columns</p>\n</div>"
     },
     "execution_count": 79,
     "metadata": {},
     "output_type": "execute_result"
    }
   ],
   "source": [
    "df"
   ],
   "metadata": {
    "collapsed": false,
    "ExecuteTime": {
     "end_time": "2023-05-17T12:06:09.703013700Z",
     "start_time": "2023-05-17T12:06:09.656137100Z"
    }
   }
  },
  {
   "cell_type": "code",
   "execution_count": 80,
   "outputs": [
    {
     "data": {
      "text/plain": "0          20221201\n23946      20221202\n77395      20221203\n129068     20221204\n131446     20221205\n186254     20221206\n231181     20221207\n284862     20221208\n330226     20221209\n387633     20221210\n432019     20221211\n484318     20221212\n539097     20221213\n593870     20221214\n648683     20221215\n687682     20221216\n711382     20221217\n757745     20221218\n810848     20221219\n857718     20221220\n913214     20221221\n958292     20221222\n1015732    20221223\n1070715    20221224\n1124613    20221225\n1177135    20221226\n1222731    20221227\n1277242    20221228\n1323255    20221229\n1378054    20221230\n1422817    20221231\nName: 날짜, dtype: int64"
     },
     "execution_count": 80,
     "metadata": {},
     "output_type": "execute_result"
    }
   ],
   "source": [
    "day = df['날짜'].drop_duplicates()\n",
    "day"
   ],
   "metadata": {
    "collapsed": false,
    "ExecuteTime": {
     "end_time": "2023-05-17T12:06:10.900622900Z",
     "start_time": "2023-05-17T12:06:10.868770700Z"
    }
   }
  },
  {
   "cell_type": "code",
   "execution_count": 81,
   "outputs": [
    {
     "data": {
      "text/plain": "numpy.int64"
     },
     "execution_count": 81,
     "metadata": {},
     "output_type": "execute_result"
    }
   ],
   "source": [
    "type(day[0])"
   ],
   "metadata": {
    "collapsed": false,
    "ExecuteTime": {
     "end_time": "2023-05-17T12:06:11.797780200Z",
     "start_time": "2023-05-17T12:06:11.790370200Z"
    }
   }
  },
  {
   "cell_type": "code",
   "execution_count": 82,
   "outputs": [
    {
     "data": {
      "text/plain": "               날짜  급가속  급출발  급감속  급정지\n0        20221201   19    1   10    5\n23946    20221202   57    1   85   34\n77395    20221203   31    2   51   27\n129068   20221204    0    0    0    0\n131446   20221205   37    3   19   11\n186254   20221206   16    4   17    6\n231181   20221207   28    3   15   10\n284862   20221208   16    1   36   14\n330226   20221209   62   12  115   57\n387633   20221210   29    4   22    8\n432019   20221211   43    5   67   21\n484318   20221212   42    1   32   19\n539097   20221213   33    3    2    2\n593870   20221214   80    5   90   26\n648683   20221215   38    0   20   10\n687682   20221216   17    1   13    9\n711382   20221217   32    3   37   13\n757745   20221218   68   10   25   15\n810848   20221219   54    8   28   10\n857718   20221220   71    6   40   15\n913214   20221221   45    1   18    8\n958292   20221222  170   17   60   30\n1015732  20221223   65    9   45   14\n1070715  20221224   51    5    9    9\n1124613  20221225   52    4   26    7\n1177135  20221226   49    8   28   11\n1222731  20221227   52    1   60   26\n1277242  20221228   52    8   33   14\n1323255  20221229   80    5   54   23\n1378054  20221230   79    3   32   14\n1422817  20221231   15    1    3    2",
      "text/html": "<div>\n<style scoped>\n    .dataframe tbody tr th:only-of-type {\n        vertical-align: middle;\n    }\n\n    .dataframe tbody tr th {\n        vertical-align: top;\n    }\n\n    .dataframe thead th {\n        text-align: right;\n    }\n</style>\n<table border=\"1\" class=\"dataframe\">\n  <thead>\n    <tr style=\"text-align: right;\">\n      <th></th>\n      <th>날짜</th>\n      <th>급가속</th>\n      <th>급출발</th>\n      <th>급감속</th>\n      <th>급정지</th>\n    </tr>\n  </thead>\n  <tbody>\n    <tr>\n      <th>0</th>\n      <td>20221201</td>\n      <td>19</td>\n      <td>1</td>\n      <td>10</td>\n      <td>5</td>\n    </tr>\n    <tr>\n      <th>23946</th>\n      <td>20221202</td>\n      <td>57</td>\n      <td>1</td>\n      <td>85</td>\n      <td>34</td>\n    </tr>\n    <tr>\n      <th>77395</th>\n      <td>20221203</td>\n      <td>31</td>\n      <td>2</td>\n      <td>51</td>\n      <td>27</td>\n    </tr>\n    <tr>\n      <th>129068</th>\n      <td>20221204</td>\n      <td>0</td>\n      <td>0</td>\n      <td>0</td>\n      <td>0</td>\n    </tr>\n    <tr>\n      <th>131446</th>\n      <td>20221205</td>\n      <td>37</td>\n      <td>3</td>\n      <td>19</td>\n      <td>11</td>\n    </tr>\n    <tr>\n      <th>186254</th>\n      <td>20221206</td>\n      <td>16</td>\n      <td>4</td>\n      <td>17</td>\n      <td>6</td>\n    </tr>\n    <tr>\n      <th>231181</th>\n      <td>20221207</td>\n      <td>28</td>\n      <td>3</td>\n      <td>15</td>\n      <td>10</td>\n    </tr>\n    <tr>\n      <th>284862</th>\n      <td>20221208</td>\n      <td>16</td>\n      <td>1</td>\n      <td>36</td>\n      <td>14</td>\n    </tr>\n    <tr>\n      <th>330226</th>\n      <td>20221209</td>\n      <td>62</td>\n      <td>12</td>\n      <td>115</td>\n      <td>57</td>\n    </tr>\n    <tr>\n      <th>387633</th>\n      <td>20221210</td>\n      <td>29</td>\n      <td>4</td>\n      <td>22</td>\n      <td>8</td>\n    </tr>\n    <tr>\n      <th>432019</th>\n      <td>20221211</td>\n      <td>43</td>\n      <td>5</td>\n      <td>67</td>\n      <td>21</td>\n    </tr>\n    <tr>\n      <th>484318</th>\n      <td>20221212</td>\n      <td>42</td>\n      <td>1</td>\n      <td>32</td>\n      <td>19</td>\n    </tr>\n    <tr>\n      <th>539097</th>\n      <td>20221213</td>\n      <td>33</td>\n      <td>3</td>\n      <td>2</td>\n      <td>2</td>\n    </tr>\n    <tr>\n      <th>593870</th>\n      <td>20221214</td>\n      <td>80</td>\n      <td>5</td>\n      <td>90</td>\n      <td>26</td>\n    </tr>\n    <tr>\n      <th>648683</th>\n      <td>20221215</td>\n      <td>38</td>\n      <td>0</td>\n      <td>20</td>\n      <td>10</td>\n    </tr>\n    <tr>\n      <th>687682</th>\n      <td>20221216</td>\n      <td>17</td>\n      <td>1</td>\n      <td>13</td>\n      <td>9</td>\n    </tr>\n    <tr>\n      <th>711382</th>\n      <td>20221217</td>\n      <td>32</td>\n      <td>3</td>\n      <td>37</td>\n      <td>13</td>\n    </tr>\n    <tr>\n      <th>757745</th>\n      <td>20221218</td>\n      <td>68</td>\n      <td>10</td>\n      <td>25</td>\n      <td>15</td>\n    </tr>\n    <tr>\n      <th>810848</th>\n      <td>20221219</td>\n      <td>54</td>\n      <td>8</td>\n      <td>28</td>\n      <td>10</td>\n    </tr>\n    <tr>\n      <th>857718</th>\n      <td>20221220</td>\n      <td>71</td>\n      <td>6</td>\n      <td>40</td>\n      <td>15</td>\n    </tr>\n    <tr>\n      <th>913214</th>\n      <td>20221221</td>\n      <td>45</td>\n      <td>1</td>\n      <td>18</td>\n      <td>8</td>\n    </tr>\n    <tr>\n      <th>958292</th>\n      <td>20221222</td>\n      <td>170</td>\n      <td>17</td>\n      <td>60</td>\n      <td>30</td>\n    </tr>\n    <tr>\n      <th>1015732</th>\n      <td>20221223</td>\n      <td>65</td>\n      <td>9</td>\n      <td>45</td>\n      <td>14</td>\n    </tr>\n    <tr>\n      <th>1070715</th>\n      <td>20221224</td>\n      <td>51</td>\n      <td>5</td>\n      <td>9</td>\n      <td>9</td>\n    </tr>\n    <tr>\n      <th>1124613</th>\n      <td>20221225</td>\n      <td>52</td>\n      <td>4</td>\n      <td>26</td>\n      <td>7</td>\n    </tr>\n    <tr>\n      <th>1177135</th>\n      <td>20221226</td>\n      <td>49</td>\n      <td>8</td>\n      <td>28</td>\n      <td>11</td>\n    </tr>\n    <tr>\n      <th>1222731</th>\n      <td>20221227</td>\n      <td>52</td>\n      <td>1</td>\n      <td>60</td>\n      <td>26</td>\n    </tr>\n    <tr>\n      <th>1277242</th>\n      <td>20221228</td>\n      <td>52</td>\n      <td>8</td>\n      <td>33</td>\n      <td>14</td>\n    </tr>\n    <tr>\n      <th>1323255</th>\n      <td>20221229</td>\n      <td>80</td>\n      <td>5</td>\n      <td>54</td>\n      <td>23</td>\n    </tr>\n    <tr>\n      <th>1378054</th>\n      <td>20221230</td>\n      <td>79</td>\n      <td>3</td>\n      <td>32</td>\n      <td>14</td>\n    </tr>\n    <tr>\n      <th>1422817</th>\n      <td>20221231</td>\n      <td>15</td>\n      <td>1</td>\n      <td>3</td>\n      <td>2</td>\n    </tr>\n  </tbody>\n</table>\n</div>"
     },
     "execution_count": 82,
     "metadata": {},
     "output_type": "execute_result"
    }
   ],
   "source": [
    "d = []\n",
    "l0 = []\n",
    "l1 = []\n",
    "l2 = []\n",
    "l3 = []\n",
    "tempday = 20221201\n",
    "count1 = 0\n",
    "count2 = 0\n",
    "count3 = 0\n",
    "count4 = 0\n",
    "for i in df.index:\n",
    "    if i == 0:\n",
    "        continue\n",
    "\n",
    "    # 급가속\n",
    "    if 6 <= df['차량속도'][i] <= 10 and df['차량속도'][i] - df['차량속도'][i - 1] >= 8:\n",
    "        count1 += 1\n",
    "    elif 10 < df['차량속도'][i] <= 20 and df['차량속도'][i] - df['차량속도'][i - 1] >= 7:\n",
    "        count1 += 1\n",
    "    elif 20 < df['차량속도'][i] and df['차량속도'][i] - df['차량속도'][i - 1] >= 6:\n",
    "        count1 += 1\n",
    "\n",
    "    # 급출발\n",
    "    if 5 >= df['차량속도'][i - 1] and df['차량속도'][i] - df['차량속도'][i - 1] >= 8:\n",
    "        count2 += 1\n",
    "\n",
    "    # 급감속\n",
    "    if 30 >= df['차량속도'][i] and df['차량속도'][i - 1] - df['차량속도'][i] >= 9 and df['차량속도'][i] >= 6 and df['브레이크'][i] == 1:\n",
    "        count3 += 1\n",
    "    elif 50 >= df['차량속도'][i] and df['차량속도'][i - 1] - df['차량속도'][i] >= 10 and df['차량속도'][i] >= 6 and df['브레이크'][i] == 1:\n",
    "        count3 += 1\n",
    "    elif 50 < df['차량속도'][i] and df['차량속도'][i - 1] - df['차량속도'][i] >= 12 and df['차량속도'][i] >= 6 and df['브레이크'][i] == 1:\n",
    "        count3 += 1\n",
    "\n",
    "    # 급정지\n",
    "    if df['차량속도'][i - 1] - df['차량속도'][i] >= 9 and df['차량속도'][i] <= 5 and df['브레이크'][i] == 1:\n",
    "        count4 += 1\n",
    "\n",
    "\n",
    "    if tempday != df['날짜'][i]:\n",
    "        l0.append(count1)\n",
    "        l1.append(count2)\n",
    "        l2.append(count3)\n",
    "        l3.append(count4)\n",
    "        count1 = 0\n",
    "        count2 = 0\n",
    "        count3 = 0\n",
    "        count4 = 0\n",
    "        tempday = df['날짜'][i]\n",
    "\n",
    "l0.append(count1)\n",
    "l1.append(count2)\n",
    "l2.append(count3)\n",
    "l3.append(count4)\n",
    "\n",
    "temp = pd.DataFrame({'날짜': day, '급가속': l0, '급출발': l1, '급감속': l2, '급정지': l3})\n",
    "temp"
   ],
   "metadata": {
    "collapsed": false,
    "ExecuteTime": {
     "end_time": "2023-05-17T12:08:13.660131100Z",
     "start_time": "2023-05-17T12:06:12.672513100Z"
    }
   }
  },
  {
   "cell_type": "code",
   "execution_count": 83,
   "outputs": [],
   "source": [
    "temp.to_csv('../data/count_abnormal.csv', index=False)"
   ],
   "metadata": {
    "collapsed": false,
    "ExecuteTime": {
     "end_time": "2023-05-17T12:12:19.775189300Z",
     "start_time": "2023-05-17T12:12:19.751513600Z"
    }
   }
  },
  {
   "cell_type": "code",
   "execution_count": 69,
   "outputs": [],
   "source": [
    "df = pd.read_csv('../data/slice_data_1854.csv')"
   ],
   "metadata": {
    "collapsed": false,
    "ExecuteTime": {
     "end_time": "2023-05-17T12:03:52.861695500Z",
     "start_time": "2023-05-17T12:03:52.823687800Z"
    }
   }
  },
  {
   "cell_type": "code",
   "execution_count": 70,
   "outputs": [],
   "source": [
    "df['GPS_X'] /= 1000000\n",
    "df['GPS_Y'] /= 1000000"
   ],
   "metadata": {
    "collapsed": false,
    "ExecuteTime": {
     "end_time": "2023-05-17T12:03:53.657240900Z",
     "start_time": "2023-05-17T12:03:53.625994600Z"
    }
   }
  },
  {
   "cell_type": "code",
   "execution_count": 75,
   "outputs": [
    {
     "data": {
      "text/plain": "           GPS_X      GPS_Y  급가속  급출발  급감속  급정지\n0      129.15867  35.236021    0    0    0    0\n1      129.15867  35.236021    0    0    0    0\n2      129.15867  35.236021    0    0    0    0\n3      129.15867  35.236021    0    0    0    0\n4      129.15867  35.236021    0    0    0    0\n...          ...        ...  ...  ...  ...  ...\n23941  129.15837  35.235965    0    0    0    0\n23942  129.15837  35.235965    0    0    0    0\n23943  129.15837  35.235965    0    0    0    0\n23944  129.15837  35.235965    0    0    0    0\n23945  129.15837  35.235965    0    0    0    0\n\n[23946 rows x 6 columns]",
      "text/html": "<div>\n<style scoped>\n    .dataframe tbody tr th:only-of-type {\n        vertical-align: middle;\n    }\n\n    .dataframe tbody tr th {\n        vertical-align: top;\n    }\n\n    .dataframe thead th {\n        text-align: right;\n    }\n</style>\n<table border=\"1\" class=\"dataframe\">\n  <thead>\n    <tr style=\"text-align: right;\">\n      <th></th>\n      <th>GPS_X</th>\n      <th>GPS_Y</th>\n      <th>급가속</th>\n      <th>급출발</th>\n      <th>급감속</th>\n      <th>급정지</th>\n    </tr>\n  </thead>\n  <tbody>\n    <tr>\n      <th>0</th>\n      <td>129.15867</td>\n      <td>35.236021</td>\n      <td>0</td>\n      <td>0</td>\n      <td>0</td>\n      <td>0</td>\n    </tr>\n    <tr>\n      <th>1</th>\n      <td>129.15867</td>\n      <td>35.236021</td>\n      <td>0</td>\n      <td>0</td>\n      <td>0</td>\n      <td>0</td>\n    </tr>\n    <tr>\n      <th>2</th>\n      <td>129.15867</td>\n      <td>35.236021</td>\n      <td>0</td>\n      <td>0</td>\n      <td>0</td>\n      <td>0</td>\n    </tr>\n    <tr>\n      <th>3</th>\n      <td>129.15867</td>\n      <td>35.236021</td>\n      <td>0</td>\n      <td>0</td>\n      <td>0</td>\n      <td>0</td>\n    </tr>\n    <tr>\n      <th>4</th>\n      <td>129.15867</td>\n      <td>35.236021</td>\n      <td>0</td>\n      <td>0</td>\n      <td>0</td>\n      <td>0</td>\n    </tr>\n    <tr>\n      <th>...</th>\n      <td>...</td>\n      <td>...</td>\n      <td>...</td>\n      <td>...</td>\n      <td>...</td>\n      <td>...</td>\n    </tr>\n    <tr>\n      <th>23941</th>\n      <td>129.15837</td>\n      <td>35.235965</td>\n      <td>0</td>\n      <td>0</td>\n      <td>0</td>\n      <td>0</td>\n    </tr>\n    <tr>\n      <th>23942</th>\n      <td>129.15837</td>\n      <td>35.235965</td>\n      <td>0</td>\n      <td>0</td>\n      <td>0</td>\n      <td>0</td>\n    </tr>\n    <tr>\n      <th>23943</th>\n      <td>129.15837</td>\n      <td>35.235965</td>\n      <td>0</td>\n      <td>0</td>\n      <td>0</td>\n      <td>0</td>\n    </tr>\n    <tr>\n      <th>23944</th>\n      <td>129.15837</td>\n      <td>35.235965</td>\n      <td>0</td>\n      <td>0</td>\n      <td>0</td>\n      <td>0</td>\n    </tr>\n    <tr>\n      <th>23945</th>\n      <td>129.15837</td>\n      <td>35.235965</td>\n      <td>0</td>\n      <td>0</td>\n      <td>0</td>\n      <td>0</td>\n    </tr>\n  </tbody>\n</table>\n<p>23946 rows × 6 columns</p>\n</div>"
     },
     "execution_count": 75,
     "metadata": {},
     "output_type": "execute_result"
    }
   ],
   "source": [
    "\n",
    "\n",
    "l1 = []\n",
    "l2 = []\n",
    "l3 = []\n",
    "l4 = []\n",
    "\n",
    "for i in df.index:\n",
    "    if i == 0:\n",
    "        l1.append(0)\n",
    "        l2.append(0)\n",
    "        l3.append(0)\n",
    "        l4.append(0)\n",
    "        continue\n",
    "\n",
    "    # 급가속\n",
    "    if 6 <= df['차량속도'][i] <= 10 and df['차량속도'][i] - df['차량속도'][i - 1] >= 8:\n",
    "        l1.append(1)\n",
    "    elif 10 < df['차량속도'][i] <= 20 and df['차량속도'][i] - df['차량속도'][i - 1] >= 7:\n",
    "        l1.append(1)\n",
    "    elif 20 < df['차량속도'][i] and df['차량속도'][i] - df['차량속도'][i - 1] >= 6:\n",
    "        l1.append(1)\n",
    "    else:\n",
    "        l1.append(0)\n",
    "\n",
    "    # 급출발\n",
    "    if 5 >= df['차량속도'][i - 1] and df['차량속도'][i] - df['차량속도'][i - 1] >= 8:\n",
    "        l2.append(1)\n",
    "    else:\n",
    "        l2.append(0)\n",
    "\n",
    "    # 급감속\n",
    "    if 30 >= df['차량속도'][i] and df['차량속도'][i - 1] - df['차량속도'][i] >= 9 and df['차량속도'][i] >= 6 and df['브레이크'][i] == 1:\n",
    "        l3.append(1)\n",
    "    elif 50 >= df['차량속도'][i] and df['차량속도'][i - 1] - df['차량속도'][i] >= 10 and df['차량속도'][i] >= 6 and df['브레이크'][i] == 1:\n",
    "        l3.append(1)\n",
    "    elif 50 < df['차량속도'][i] and df['차량속도'][i - 1] - df['차량속도'][i] >=12 and df['차량속도'][i] >= 6 and df['브레이크'][i] == 1:\n",
    "        l3.append(1)\n",
    "    else:\n",
    "        l3.append(0)\n",
    "\n",
    "    # 급정지\n",
    "    if df['차량속도'][i - 1] - df['차량속도'][i] >= 9 and df['차량속도'][i] <= 5 and df['브레이크'][i] == 1:\n",
    "        l4.append(1)\n",
    "    else:\n",
    "        l4.append(0)\n",
    "\n",
    "\n",
    "temp = pd.DataFrame({'GPS_X': df['GPS_X'], 'GPS_Y': df['GPS_Y'], '급가속': l1, '급출발': l2, '급감속': l3, '급정지': l4})\n",
    "temp"
   ],
   "metadata": {
    "collapsed": false,
    "ExecuteTime": {
     "end_time": "2023-05-17T12:05:10.045378Z",
     "start_time": "2023-05-17T12:05:08.587652700Z"
    }
   }
  },
  {
   "cell_type": "code",
   "execution_count": 76,
   "outputs": [
    {
     "name": "stdout",
     "output_type": "stream",
     "text": [
      "19\n",
      "1\n",
      "10\n",
      "5\n"
     ]
    }
   ],
   "source": [
    "print(temp['급가속'].sum())\n",
    "print(temp['급출발'].sum())\n",
    "print(temp['급감속'].sum())\n",
    "print(temp['급정지'].sum())"
   ],
   "metadata": {
    "collapsed": false,
    "ExecuteTime": {
     "end_time": "2023-05-17T12:05:11.032954300Z",
     "start_time": "2023-05-17T12:05:11.017278700Z"
    }
   }
  },
  {
   "cell_type": "code",
   "execution_count": 54,
   "outputs": [],
   "source": [
    "temp.to_json('../data/위험운전행동_GPS.json')"
   ],
   "metadata": {
    "collapsed": false,
    "ExecuteTime": {
     "end_time": "2023-05-17T02:54:36.356145900Z",
     "start_time": "2023-05-17T02:54:36.340091200Z"
    }
   }
  },
  {
   "cell_type": "code",
   "execution_count": 56,
   "outputs": [
    {
     "data": {
      "text/plain": "           GPS_X      GPS_Y  급가속  급출발  급감속  급정지  차량속도  RPM  브레이크  가속도_X  가속도_Y\n0      129.15867  35.236021    0    0    0    0     0  193     0   -6.3    0.7\n1      129.15867  35.236021    0    0    0    0     0  388     0   -7.9    1.6\n2      129.15867  35.236021    0    0    0    0     0  777     0   -8.9    2.2\n3      129.15867  35.236021    0    1    0    0     0  638     0   -6.6    0.8\n4      129.15867  35.236021    0    0    0    0     0  461     0   -7.1    0.8\n...          ...        ...  ...  ...  ...  ...   ...  ...   ...    ...    ...\n23941  129.15837  35.235965    0    0    0    0     0  559     1   -6.6    0.9\n23942  129.15837  35.235965    0    0    0    0     0  533     1   -7.2    1.1\n23943  129.15837  35.235965    0    0    0    0     0  141     1   -7.0    1.8\n23944  129.15837  35.235965    0    0    0    0     0   20     1   -6.2    0.8\n23945  129.15837  35.235965    0    0    0    0     0   20     1   -6.1    0.7\n\n[23946 rows x 11 columns]",
      "text/html": "<div>\n<style scoped>\n    .dataframe tbody tr th:only-of-type {\n        vertical-align: middle;\n    }\n\n    .dataframe tbody tr th {\n        vertical-align: top;\n    }\n\n    .dataframe thead th {\n        text-align: right;\n    }\n</style>\n<table border=\"1\" class=\"dataframe\">\n  <thead>\n    <tr style=\"text-align: right;\">\n      <th></th>\n      <th>GPS_X</th>\n      <th>GPS_Y</th>\n      <th>급가속</th>\n      <th>급출발</th>\n      <th>급감속</th>\n      <th>급정지</th>\n      <th>차량속도</th>\n      <th>RPM</th>\n      <th>브레이크</th>\n      <th>가속도_X</th>\n      <th>가속도_Y</th>\n    </tr>\n  </thead>\n  <tbody>\n    <tr>\n      <th>0</th>\n      <td>129.15867</td>\n      <td>35.236021</td>\n      <td>0</td>\n      <td>0</td>\n      <td>0</td>\n      <td>0</td>\n      <td>0</td>\n      <td>193</td>\n      <td>0</td>\n      <td>-6.3</td>\n      <td>0.7</td>\n    </tr>\n    <tr>\n      <th>1</th>\n      <td>129.15867</td>\n      <td>35.236021</td>\n      <td>0</td>\n      <td>0</td>\n      <td>0</td>\n      <td>0</td>\n      <td>0</td>\n      <td>388</td>\n      <td>0</td>\n      <td>-7.9</td>\n      <td>1.6</td>\n    </tr>\n    <tr>\n      <th>2</th>\n      <td>129.15867</td>\n      <td>35.236021</td>\n      <td>0</td>\n      <td>0</td>\n      <td>0</td>\n      <td>0</td>\n      <td>0</td>\n      <td>777</td>\n      <td>0</td>\n      <td>-8.9</td>\n      <td>2.2</td>\n    </tr>\n    <tr>\n      <th>3</th>\n      <td>129.15867</td>\n      <td>35.236021</td>\n      <td>0</td>\n      <td>1</td>\n      <td>0</td>\n      <td>0</td>\n      <td>0</td>\n      <td>638</td>\n      <td>0</td>\n      <td>-6.6</td>\n      <td>0.8</td>\n    </tr>\n    <tr>\n      <th>4</th>\n      <td>129.15867</td>\n      <td>35.236021</td>\n      <td>0</td>\n      <td>0</td>\n      <td>0</td>\n      <td>0</td>\n      <td>0</td>\n      <td>461</td>\n      <td>0</td>\n      <td>-7.1</td>\n      <td>0.8</td>\n    </tr>\n    <tr>\n      <th>...</th>\n      <td>...</td>\n      <td>...</td>\n      <td>...</td>\n      <td>...</td>\n      <td>...</td>\n      <td>...</td>\n      <td>...</td>\n      <td>...</td>\n      <td>...</td>\n      <td>...</td>\n      <td>...</td>\n    </tr>\n    <tr>\n      <th>23941</th>\n      <td>129.15837</td>\n      <td>35.235965</td>\n      <td>0</td>\n      <td>0</td>\n      <td>0</td>\n      <td>0</td>\n      <td>0</td>\n      <td>559</td>\n      <td>1</td>\n      <td>-6.6</td>\n      <td>0.9</td>\n    </tr>\n    <tr>\n      <th>23942</th>\n      <td>129.15837</td>\n      <td>35.235965</td>\n      <td>0</td>\n      <td>0</td>\n      <td>0</td>\n      <td>0</td>\n      <td>0</td>\n      <td>533</td>\n      <td>1</td>\n      <td>-7.2</td>\n      <td>1.1</td>\n    </tr>\n    <tr>\n      <th>23943</th>\n      <td>129.15837</td>\n      <td>35.235965</td>\n      <td>0</td>\n      <td>0</td>\n      <td>0</td>\n      <td>0</td>\n      <td>0</td>\n      <td>141</td>\n      <td>1</td>\n      <td>-7.0</td>\n      <td>1.8</td>\n    </tr>\n    <tr>\n      <th>23944</th>\n      <td>129.15837</td>\n      <td>35.235965</td>\n      <td>0</td>\n      <td>0</td>\n      <td>0</td>\n      <td>0</td>\n      <td>0</td>\n      <td>20</td>\n      <td>1</td>\n      <td>-6.2</td>\n      <td>0.8</td>\n    </tr>\n    <tr>\n      <th>23945</th>\n      <td>129.15837</td>\n      <td>35.235965</td>\n      <td>0</td>\n      <td>0</td>\n      <td>0</td>\n      <td>0</td>\n      <td>0</td>\n      <td>20</td>\n      <td>1</td>\n      <td>-6.1</td>\n      <td>0.7</td>\n    </tr>\n  </tbody>\n</table>\n<p>23946 rows × 11 columns</p>\n</div>"
     },
     "execution_count": 56,
     "metadata": {},
     "output_type": "execute_result"
    }
   ],
   "source": [
    "temp['차량속도'] = df['차량속도']\n",
    "temp['RPM'] = df['RPM']\n",
    "temp['브레이크'] = df['브레이크']\n",
    "temp['가속도_X'] = df['가속도_X']\n",
    "temp['가속도_Y'] = df['가속도_Y']\n",
    "temp"
   ],
   "metadata": {
    "collapsed": false,
    "ExecuteTime": {
     "end_time": "2023-05-17T11:13:00.874787900Z",
     "start_time": "2023-05-17T11:13:00.843427400Z"
    }
   }
  },
  {
   "cell_type": "code",
   "execution_count": 58,
   "outputs": [],
   "source": [
    "temp.to_csv('../data/temp.csv', index=False)"
   ],
   "metadata": {
    "collapsed": false,
    "ExecuteTime": {
     "end_time": "2023-05-17T11:14:14.406487Z",
     "start_time": "2023-05-17T11:14:14.312650600Z"
    }
   }
  },
  {
   "cell_type": "code",
   "execution_count": null,
   "outputs": [],
   "source": [],
   "metadata": {
    "collapsed": false
   }
  }
 ],
 "metadata": {
  "kernelspec": {
   "display_name": "Python 3",
   "language": "python",
   "name": "python3"
  },
  "language_info": {
   "codemirror_mode": {
    "name": "ipython",
    "version": 2
   },
   "file_extension": ".py",
   "mimetype": "text/x-python",
   "name": "python",
   "nbconvert_exporter": "python",
   "pygments_lexer": "ipython2",
   "version": "2.7.6"
  }
 },
 "nbformat": 4,
 "nbformat_minor": 0
}
